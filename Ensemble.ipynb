{
  "cells": [
    {
      "cell_type": "code",
      "source": [
        "# to-do:"
      ],
      "metadata": {
        "id": "GgvNl3CMh9Ow"
      },
      "execution_count": null,
      "outputs": []
    },
    {
      "cell_type": "code",
      "execution_count": null,
      "metadata": {
        "id": "5CtAThT4h8F5"
      },
      "outputs": [],
      "source": [
        "import os\n",
        "import cv2\n",
        "import numpy as np\n",
        "import pandas as pd\n",
        "import matplotlib.pyplot as plt\n",
        "from sklearn.model_selection import train_test_split\n",
        "from sklearn.preprocessing import LabelEncoder\n",
        "\n",
        "import tensorflow as tf\n",
        "from focal_loss import SparseCategoricalFocalLoss\n",
        "\n",
        "from keras.models import Model\n",
        "from keras.layers import Input, Conv2D, MaxPooling2D, UpSampling2D, concatenate, Conv2DTranspose, BatchNormalization, Dropout, Lambda\n",
        "from keras.callbacks import EarlyStopping, ReduceLROnPlateau, ModelCheckpoint\n",
        "from keras.optimizers import Adam\n",
        "from keras.utils import to_categorical, plot_model\n",
        "from keras.applications import Xception"
      ]
    },
    {
      "cell_type": "code",
      "execution_count": null,
      "metadata": {
        "id": "jFCzGGKah8F9"
      },
      "outputs": [],
      "source": [
        "IMG_WIDTH = 256\n",
        "IMG_HEIGHT = 256\n",
        "COLOR_CHANNELS = 3"
      ]
    },
    {
      "cell_type": "code",
      "execution_count": null,
      "metadata": {
        "id": "hQTyiOlFh8F9"
      },
      "outputs": [],
      "source": [
        "labels = {0:[115, 0, 108],\n",
        "          1:[122, 1, 145],\n",
        "          2:[148, 47, 216],\n",
        "          3:[242, 246, 254],\n",
        "          4:[130, 9, 181],\n",
        "          5:[157, 85, 236],\n",
        "          6:[106, 0, 73],\n",
        "          7:[168, 123, 248],\n",
        "          8:[0, 0, 0],\n",
        "          9:[255, 255, 127],\n",
        "          10:[142, 255, 127],\n",
        "          11:[127, 127, 255]}"
      ]
    },
    {
      "cell_type": "code",
      "execution_count": null,
      "metadata": {
        "id": "RWOY9Nfth8F-"
      },
      "outputs": [],
      "source": [
        "def decoded_mask(mask:np.ndarray):\n",
        "  # mask should be mapped with np.argmax() already\n",
        "  row, col = mask.shape[0:2]\n",
        "  b = np.zeros_like(mask)\n",
        "  g = np.zeros_like(mask)\n",
        "  r = np.zeros_like(mask)\n",
        "  b[b == 0] = 8\n",
        "  g[g == 0] = 8\n",
        "  r[r == 0] = 8\n",
        "  for i in range(row):\n",
        "    for j in range(col):\n",
        "      for k, pixel in labels.items():\n",
        "        if mask[i][j] == k:\n",
        "          b[i][j] = pixel[0]\n",
        "          g[i][j] = pixel[1]\n",
        "          r[i][j] = pixel[2]\n",
        "  single_mask = np.zeros((row, col, 3), dtype=np.uint8)\n",
        "  single_mask[:,:,0] = b\n",
        "  single_mask[:,:,1] = g\n",
        "  single_mask[:,:,2] = r\n",
        "\n",
        "  return single_mask"
      ]
    },
    {
      "cell_type": "code",
      "execution_count": null,
      "metadata": {
        "id": "jh8Oeq2th8F-"
      },
      "outputs": [],
      "source": [
        "def dice_coef(y_true, y_pred, smooth=1):\n",
        "    y_true_f = y_true.flatten()\n",
        "    y_pred_f = y_pred.flatten()\n",
        "\n",
        "    true_positives = np.sum(y_true_f * y_pred_f)\n",
        "    false_negatives = np.sum(y_true_f * (1 - y_pred_f))\n",
        "    false_positives = np.sum((1 - y_true_f) * y_pred_f)\n",
        "\n",
        "    dice = (2.0 * true_positives + smooth) / (2.0 * true_positives + false_positives + false_negatives + smooth)\n",
        "\n",
        "    return dice"
      ]
    },
    {
      "cell_type": "code",
      "execution_count": null,
      "metadata": {
        "id": "afshb0uLh8F_"
      },
      "outputs": [],
      "source": [
        "def multi_unet_model(n_classes=12, size=16, kernel_initializer='he_normal',IMG_HEIGHT=IMG_HEIGHT, IMG_WIDTH=IMG_WIDTH, IMG_CHANNELS=3):\n",
        "\n",
        " inputs = Input((IMG_HEIGHT, IMG_WIDTH, IMG_CHANNELS))\n",
        " #s = Lambda(lambda x: x / 255)(inputs)   #No need for this if we normalize our inputs beforehand\n",
        " s = inputs\n",
        "\n",
        " #Contraction path\n",
        " c1 = Conv2D(size * 1, (3, 3), activation='relu', kernel_initializer=kernel_initializer, padding='same')(s)\n",
        " #c1 = Dropout(0.1)(c1)\n",
        " c1 = Conv2D(size * 1, (3, 3), activation='relu', kernel_initializer=kernel_initializer, padding='same')(c1)\n",
        " p1 = MaxPooling2D((2, 2))(c1)\n",
        "\n",
        " c2 = Conv2D(size * 2, (3, 3), activation='relu', kernel_initializer=kernel_initializer, padding='same')(p1)\n",
        " #c2 = Dropout(0.1)(c2)\n",
        " c2 = Conv2D(size * 2, (3, 3), activation='relu', kernel_initializer=kernel_initializer, padding='same')(c2)\n",
        " p2 = MaxPooling2D((2, 2))(c2)\n",
        "\n",
        " c3 = Conv2D(size * 4, (3, 3), activation='relu', kernel_initializer=kernel_initializer, padding='same')(p2)\n",
        "# c3 = Dropout(0.2)(c3)\n",
        " c3 = Conv2D(size * 4, (3, 3), activation='relu', kernel_initializer=kernel_initializer, padding='same')(c3)\n",
        " p3 = MaxPooling2D((2, 2))(c3)\n",
        "\n",
        " c4 = Conv2D(size * 8, (3, 3), activation='relu', kernel_initializer=kernel_initializer, padding='same')(p3)\n",
        " #c4 = Dropout(0.2)(c4)\n",
        " c4 = Conv2D(size * 8, (3, 3), activation='relu', kernel_initializer=kernel_initializer, padding='same')(c4)\n",
        " p4 = MaxPooling2D(pool_size=(2, 2))(c4)\n",
        "\n",
        " c5 = Conv2D(size * 16, (3, 3), activation='relu', kernel_initializer=kernel_initializer, padding='same')(p4)\n",
        " #c5 = Dropout(0.3)(c5)\n",
        " c5 = Conv2D(size * 16, (3, 3), activation='relu', kernel_initializer=kernel_initializer, padding='same')(c5)\n",
        " c5 = Dropout(0.5)(c5)\n",
        "\n",
        " #Expansive path\n",
        " u6 = Conv2DTranspose(size * 8, (2, 2), strides=(2, 2), padding='same')(c5)\n",
        " u6 = concatenate([u6, c4])\n",
        " c6 = Conv2D(size * 8, (3, 3), activation='relu', kernel_initializer=kernel_initializer, padding='same')(u6)\n",
        " #c6 = Dropout(0.2)(c6)\n",
        " c6 = Conv2D(size * 8, (3, 3), activation='relu', kernel_initializer=kernel_initializer, padding='same')(c6)\n",
        "\n",
        " u7 = Conv2DTranspose(size * 4, (2, 2), strides=(2, 2), padding='same')(c6)\n",
        " u7 = concatenate([u7, c3])\n",
        " c7 = Conv2D(size * 4, (3, 3), activation='relu', kernel_initializer=kernel_initializer, padding='same')(u7)\n",
        " #c7 = Dropout(0.2)(c7)\n",
        " c7 = Conv2D(size * 4, (3, 3), activation='relu', kernel_initializer=kernel_initializer, padding='same')(c7)\n",
        "\n",
        " u8 = Conv2DTranspose(size * 2, (2, 2), strides=(2, 2), padding='same')(c7)\n",
        " u8 = concatenate([u8, c2])\n",
        " c8 = Conv2D(size * 2, (3, 3), activation='relu', kernel_initializer='he_normal', padding='same')(u8)\n",
        " #c8 = Dropout(0.1)(c8)\n",
        " c8 = Conv2D(size * 2, (3, 3), activation='relu', kernel_initializer='he_normal', padding='same')(c8)\n",
        "\n",
        " u9 = Conv2DTranspose(size * 1, (2, 2), strides=(2, 2), padding='same')(c8)\n",
        " u9 = concatenate([u9, c1], axis=3)\n",
        " c9 = Conv2D(size * 1, (3, 3), activation='relu', kernel_initializer='he_normal', padding='same')(u9)\n",
        " #c9 = Dropout(0.1)(c9)\n",
        " c9 = Conv2D(size * 1, (3, 3), activation='relu', kernel_initializer='he_normal', padding='same')(c9)\n",
        "\n",
        " outputs = Conv2D(n_classes, (1, 1), activation='softmax')(c9)\n",
        "\n",
        " model = Model(inputs=[inputs], outputs=[outputs])\n",
        "\n",
        " return model\n"
      ]
    },
    {
      "cell_type": "code",
      "execution_count": null,
      "metadata": {
        "id": "sFexqaafh8GA"
      },
      "outputs": [],
      "source": [
        "def multi_unet_model_dropout(n_classes=12, size=16, kernel_initializer='he_normal',IMG_HEIGHT=IMG_HEIGHT, IMG_WIDTH=IMG_WIDTH, IMG_CHANNELS=3):\n",
        "\n",
        " inputs = Input((IMG_HEIGHT, IMG_WIDTH, IMG_CHANNELS))\n",
        " #s = Lambda(lambda x: x / 255)(inputs)   #No need for this if we normalize our inputs beforehand\n",
        " s = inputs\n",
        "\n",
        " #Contraction path\n",
        " c1 = Conv2D(size * 1, (3, 3), activation='relu', kernel_initializer=kernel_initializer, padding='same')(s)\n",
        " c1 = Dropout(0.1)(c1)\n",
        " c1 = Conv2D(size * 1, (3, 3), activation='relu', kernel_initializer=kernel_initializer, padding='same')(c1)\n",
        " p1 = MaxPooling2D((2, 2))(c1)\n",
        "\n",
        " c2 = Conv2D(size * 2, (3, 3), activation='relu', kernel_initializer=kernel_initializer, padding='same')(p1)\n",
        " c2 = Dropout(0.1)(c2)\n",
        " c2 = Conv2D(size * 2, (3, 3), activation='relu', kernel_initializer=kernel_initializer, padding='same')(c2)\n",
        " p2 = MaxPooling2D((2, 2))(c2)\n",
        "\n",
        " c3 = Conv2D(size * 4, (3, 3), activation='relu', kernel_initializer=kernel_initializer, padding='same')(p2)\n",
        " c3 = Dropout(0.2)(c3)\n",
        " c3 = Conv2D(size * 4, (3, 3), activation='relu', kernel_initializer=kernel_initializer, padding='same')(c3)\n",
        " p3 = MaxPooling2D((2, 2))(c3)\n",
        "\n",
        " c4 = Conv2D(size * 8, (3, 3), activation='relu', kernel_initializer=kernel_initializer, padding='same')(p3)\n",
        " c4 = Dropout(0.2)(c4)\n",
        " c4 = Conv2D(size * 8, (3, 3), activation='relu', kernel_initializer=kernel_initializer, padding='same')(c4)\n",
        " p4 = MaxPooling2D(pool_size=(2, 2))(c4)\n",
        "\n",
        " c5 = Conv2D(size * 16, (3, 3), activation='relu', kernel_initializer=kernel_initializer, padding='same')(p4)\n",
        " c5 = Dropout(0.3)(c5)\n",
        " c5 = Conv2D(size * 16, (3, 3), activation='relu', kernel_initializer=kernel_initializer, padding='same')(c5)\n",
        "\n",
        " #Expansive path\n",
        " u6 = Conv2DTranspose(size * 8, (2, 2), strides=(2, 2), padding='same')(c5)\n",
        " u6 = concatenate([u6, c4])\n",
        " c6 = Conv2D(size * 8, (3, 3), activation='relu', kernel_initializer=kernel_initializer, padding='same')(u6)\n",
        " c6 = Dropout(0.2)(c6)\n",
        " c6 = Conv2D(size * 8, (3, 3), activation='relu', kernel_initializer=kernel_initializer, padding='same')(c6)\n",
        "\n",
        " u7 = Conv2DTranspose(size * 4, (2, 2), strides=(2, 2), padding='same')(c6)\n",
        " u7 = concatenate([u7, c3])\n",
        " c7 = Conv2D(size * 4, (3, 3), activation='relu', kernel_initializer=kernel_initializer, padding='same')(u7)\n",
        " c7 = Dropout(0.2)(c7)\n",
        " c7 = Conv2D(size * 4, (3, 3), activation='relu', kernel_initializer=kernel_initializer, padding='same')(c7)\n",
        "\n",
        " u8 = Conv2DTranspose(size * 2, (2, 2), strides=(2, 2), padding='same')(c7)\n",
        " u8 = concatenate([u8, c2])\n",
        " c8 = Conv2D(size * 2, (3, 3), activation='relu', kernel_initializer='he_normal', padding='same')(u8)\n",
        " c8 = Dropout(0.1)(c8)\n",
        " c8 = Conv2D(size * 2, (3, 3), activation='relu', kernel_initializer='he_normal', padding='same')(c8)\n",
        "\n",
        " u9 = Conv2DTranspose(size * 1, (2, 2), strides=(2, 2), padding='same')(c8)\n",
        " u9 = concatenate([u9, c1], axis=3)\n",
        " c9 = Conv2D(size * 1, (3, 3), activation='relu', kernel_initializer='he_normal', padding='same')(u9)\n",
        " c9 = Dropout(0.1)(c9)\n",
        " c9 = Conv2D(size * 1, (3, 3), activation='relu', kernel_initializer='he_normal', padding='same')(c9)\n",
        "\n",
        " outputs = Conv2D(n_classes, (1, 1), activation='softmax')(c9)\n",
        "\n",
        " model = Model(inputs=[inputs], outputs=[outputs])\n",
        "\n",
        " return model\n"
      ]
    },
    {
      "cell_type": "code",
      "execution_count": null,
      "metadata": {
        "id": "Ayl1lDAAh8GB"
      },
      "outputs": [],
      "source": [
        "model = Xception(include_top=False,\n",
        "                 input_shape=(256, 256, 3))\n",
        "\n",
        "for layer in model.layers[86:]:\n",
        "  layer.trainable = False\n",
        "\n",
        "x = model.output\n",
        "x = Flatten()(x)\n",
        "x = Dense(512, activation = 'relu')(x)\n",
        "x = Dropout(0.5)(x)\n",
        "x = Dense(256, activation = 'relu')(x)\n",
        "x = Dense(3, activation = 'softmax')(x)\n",
        "\n",
        "transfer_model = tf.keras.Model(inputs=model.input, outputs=x)"
      ]
    },
    {
      "cell_type": "code",
      "execution_count": null,
      "metadata": {
        "id": "p9EK8wsrh8GC"
      },
      "outputs": [],
      "source": [
        "transfer_model.load_weights('')"
      ]
    },
    {
      "cell_type": "code",
      "execution_count": null,
      "metadata": {
        "id": "bE1D0XZWh8GD"
      },
      "outputs": [],
      "source": [
        "model1 = multi_unet_model(size=64)\n",
        "model2 = multi_unet_model(size=64)\n",
        "model3 = multi_unet_model(size=64)\n",
        "\n",
        "models = [model1, model2, model3]"
      ]
    },
    {
      "cell_type": "code",
      "execution_count": null,
      "metadata": {
        "id": "-_OV8dK9h8GD"
      },
      "outputs": [],
      "source": [
        "model_checkpoints = [\n",
        "    'Kaggle_model\\Model_6-Unet64\\model64_F_clahe_100e-30bs_MC-vl_data_adam_categoricalcrossentropy_accuracy.hdf5',\n",
        "    'Kaggle_model\\Model_6-Unet64\\model64_F_clahe_100e-30bs_data_adam_categoricalcrossentropy_accuracy.hdf5',\n",
        "    'Kaggle_model\\Model_6-Unet64\\model64_F_clahe_100e-20bs_MC-vl_data_adam_sparsecategoricalfocalloss_2b_accuracy.hdf5'\n",
        "]"
      ]
    },
    {
      "cell_type": "code",
      "execution_count": null,
      "metadata": {
        "id": "gSB1WJxRh8GE"
      },
      "outputs": [],
      "source": [
        "X_test = np.load('./Preprocessed-Data (includes Zip)/Data-splits/X_test.npy')\n",
        "y_test = np.load('./Preprocessed-Data (includes Zip)/Data-splits/y_test.npy')"
      ]
    },
    {
      "cell_type": "code",
      "execution_count": null,
      "metadata": {
        "id": "fBBZwQ86h8GE"
      },
      "outputs": [],
      "source": [
        "trained_model = []\n",
        "for i, transfer_model in enumerate(models):\n",
        "    transfer_model.load_weights(model_checkpoints[i])\n",
        "    trained_model.append(transfer_model)"
      ]
    },
    {
      "cell_type": "code",
      "execution_count": null,
      "metadata": {
        "id": "WBHAZMChh8GE"
      },
      "outputs": [],
      "source": [
        "predictions = []\n",
        "for model in trained_model:\n",
        "    prediction = model.predict(X_test)\n",
        "    predictions.append(prediction)\n",
        "    del model"
      ]
    },
    {
      "cell_type": "code",
      "execution_count": null,
      "metadata": {
        "id": "4nk-zJADh8GE"
      },
      "outputs": [],
      "source": [
        "# memory management\n",
        "models = None\n",
        "X_test = None"
      ]
    },
    {
      "cell_type": "code",
      "execution_count": null,
      "metadata": {
        "id": "XbPPECmUh8GE"
      },
      "outputs": [],
      "source": [
        "# ensembling predictions from 3 model into 1\n",
        "ensemble_prediction = np.sum(predictions, axis=0)\n",
        "ensemblePredLabels = np.uint8(ensemble_prediction.argmax(axis=-1))\n",
        "ensemblePredLabels.shape"
      ]
    },
    {
      "cell_type": "code",
      "execution_count": null,
      "metadata": {
        "id": "KYjfOhVNh8GE"
      },
      "outputs": [],
      "source": [
        "np.save('ensembled_predictions.npy', to_categorical(ensemblePredLabels, num_classes=12, dtype=np.uint8))"
      ]
    },
    {
      "cell_type": "code",
      "execution_count": null,
      "metadata": {
        "id": "4SDU_JYUh8GE"
      },
      "outputs": [],
      "source": [
        "y_test = np.load('./Preprocessed-Data (includes Zip)/Data-splits/y_test.npy')\n",
        "ensemblePredLabels = np.load('./ensembled_predictions.npy')"
      ]
    },
    {
      "cell_type": "code",
      "execution_count": null,
      "metadata": {
        "id": "711uiE13h8GE",
        "outputId": "6ed6e363-4536-4768-f334-54df7460fccc"
      },
      "outputs": [
        {
          "data": {
            "text/plain": [
              "((300, 256, 256, 12), (300, 256, 256, 12))"
            ]
          },
          "execution_count": 7,
          "metadata": {},
          "output_type": "execute_result"
        }
      ],
      "source": [
        "y_test.shape, ensemblePredLabels.shape"
      ]
    },
    {
      "cell_type": "code",
      "execution_count": null,
      "metadata": {
        "id": "1BTqniylh8GF",
        "outputId": "cf1d9e96-988d-4e74-d856-975eaaca7ae1"
      },
      "outputs": [
        {
          "data": {
            "text/plain": [
              "0.8852338692923516"
            ]
          },
          "execution_count": 8,
          "metadata": {},
          "output_type": "execute_result"
        }
      ],
      "source": [
        "dice_coef(y_test, ensemblePredLabels)"
      ]
    },
    {
      "cell_type": "code",
      "execution_count": null,
      "metadata": {
        "id": "kq_S_znSh8GF",
        "outputId": "73d4a4ff-788c-4731-9d57-ebfea8de2a58"
      },
      "outputs": [
        {
          "data": {
            "text/plain": [
              "(256, 256, 3)"
            ]
          },
          "execution_count": 9,
          "metadata": {},
          "output_type": "execute_result"
        }
      ],
      "source": [
        "decoded_mask(np.argmax(y_test[0], axis=-1)).shape"
      ]
    },
    {
      "cell_type": "code",
      "execution_count": null,
      "metadata": {
        "id": "AuFiIMq-h8GF",
        "outputId": "20e77742-5bb4-4d79-cd6b-d05e6c4248f0"
      },
      "outputs": [
        {
          "data": {
            "text/plain": [
              "<matplotlib.image.AxesImage at 0x224af2bf670>"
            ]
          },
          "execution_count": 23,
          "metadata": {},
          "output_type": "execute_result"
        },
        {
          "data": {
            "image/png": "[encoded data removed]",
            "text/plain": [
              "<Figure size 432x288 with 1 Axes>"
            ]
          },
          "metadata": {
            "needs_background": "light"
          },
          "output_type": "display_data"
        },
        {
          "data": {
            "image/png": "[encoded data removed]",
            "text/plain": [
              "<Figure size 432x288 with 1 Axes>"
            ]
          },
          "metadata": {
            "needs_background": "light"
          },
          "output_type": "display_data"
        }
      ],
      "source": [
        "index = 102\n",
        "\n",
        "plt.imshow(decoded_mask(np.argmax(y_test[index], axis=-1)))\n",
        "plt.figure()\n",
        "plt.imshow(decoded_mask(np.argmax(ensemblePredLabels[index], axis=-1)))"
      ]
    },
    {
      "cell_type": "code",
      "execution_count": null,
      "metadata": {
        "id": "OkEg0kDIh8GF"
      },
      "outputs": [],
      "source": [
        "transfer_model.predict()"
      ]
    }
  ],
  "metadata": {
    "colab": {
      "provenance": []
    },
    "kernelspec": {
      "display_name": "Python 3",
      "name": "python3"
    },
    "language_info": {
      "codemirror_mode": {
        "name": "ipython",
        "version": 3
      },
      "file_extension": ".py",
      "mimetype": "text/x-python",
      "name": "python",
      "nbconvert_exporter": "python",
      "pygments_lexer": "ipython3",
      "version": "3.10.5"
    }
  },
  "nbformat": 4,
  "nbformat_minor": 0
}