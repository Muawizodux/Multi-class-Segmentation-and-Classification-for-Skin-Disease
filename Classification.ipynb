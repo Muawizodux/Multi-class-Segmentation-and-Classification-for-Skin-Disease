{
  "cells": [
    {
      "cell_type": "code",
      "execution_count": 1,
      "metadata": {
        "colab": {
          "base_uri": "https://localhost:8080/"
        },
        "id": "AZNRVZWY9X_L",
        "outputId": "ce2a8b02-a1fa-4725-a7f1-d629299918e8"
      },
      "outputs": [
        {
          "name": "stdout",
          "output_type": "stream",
          "text": [
            "Mounted at /content/drive\n"
          ]
        }
      ],
      "source": [
        "from google.colab import drive\n",
        "drive.mount('/content/drive')"
      ]
    },
    {
      "cell_type": "code",
      "execution_count": 1,
      "metadata": {
        "collapsed": true,
        "id": "i7fh-fHD85p_"
      },
      "outputs": [],
      "source": [
        "import os\n",
        "import cv2\n",
        "import numpy as np\n",
        "import pandas as pd\n",
        "import matplotlib.pyplot as plt\n",
        "from sklearn.model_selection import train_test_split\n",
        "from sklearn.preprocessing import LabelEncoder\n",
        "from google.colab.patches import cv2_imshow\n",
        "import tensorflow as tf\n",
        "from sklearn.metrics import confusion_matrix, ConfusionMatrixDisplay\n",
        "\n",
        "from keras.models import Model\n",
        "from keras.layers import Input, Conv2D, MaxPooling2D, UpSampling2D, concatenate, Conv2DTranspose, BatchNormalization, Dropout, Lambda, Flatten, Dense\n",
        "from keras.callbacks import EarlyStopping, ReduceLROnPlateau, ModelCheckpoint\n",
        "from keras.optimizers import Adam\n",
        "from keras.utils import to_categorical, plot_model\n",
        "\n",
        "from keras.applications import Xception"
      ]
    },
    {
      "attachments": {},
      "cell_type": "markdown",
      "metadata": {
        "id": "A5WlNCmN85qp"
      },
      "source": [
        "### **Data Pre-processing - Classification**"
      ]
    },
    {
      "cell_type": "code",
      "execution_count": null,
      "metadata": {},
      "outputs": [],
      "source": [
        "!unzip '/content/drive/MyDrive/Queensland Dataset CE42.zip'"
      ]
    },
    {
      "cell_type": "code",
      "execution_count": 2,
      "metadata": {
        "id": "NT1M6QTh8-Vi"
      },
      "outputs": [],
      "source": [
        "root_dir = '/content/Queensland Dataset CE42'\n",
        "ftype = ['/BCC/', '/IEC/', '/SCC/']\n",
        "labels = []\n",
        "mask_paths = []\n",
        "\n",
        "for i, path in enumerate(ftype):\n",
        "  ldir = os.listdir(root_dir + path + 'Masks')\n",
        "  for j, masks in enumerate(ldir):\n",
        "    mask_paths.append(root_dir + path + 'Masks/' + masks)\n",
        "    labels.append(i)"
      ]
    },
    {
      "cell_type": "code",
      "execution_count": 3,
      "metadata": {
        "colab": {
          "base_uri": "https://localhost:8080/"
        },
        "id": "mLxbFYZ6BLEN",
        "outputId": "4775cbcf-dde2-4eae-daa6-e360627cba86"
      },
      "outputs": [
        {
          "data": {
            "text/plain": [
              "(1500, 1500)"
            ]
          },
          "execution_count": 3,
          "metadata": {},
          "output_type": "execute_result"
        }
      ],
      "source": [
        "len(mask_paths), len(labels)"
      ]
    },
    {
      "cell_type": "code",
      "execution_count": 4,
      "metadata": {
        "colab": {
          "base_uri": "https://localhost:8080/",
          "height": 206
        },
        "id": "EP2y3Ax_A3gY",
        "outputId": "0912f166-c36d-46fd-e2c7-c138f8b10939"
      },
      "outputs": [
        {
          "data": {
            "text/html": [
              "\n",
              "  <div id=\"df-d7b256cc-99fa-44c7-8f8a-01a5fd9c3a07\">\n",
              "    <div class=\"colab-df-container\">\n",
              "      <div>\n",
              "<style scoped>\n",
              "    .dataframe tbody tr th:only-of-type {\n",
              "        vertical-align: middle;\n",
              "    }\n",
              "\n",
              "    .dataframe tbody tr th {\n",
              "        vertical-align: top;\n",
              "    }\n",
              "\n",
              "    .dataframe thead th {\n",
              "        text-align: right;\n",
              "    }\n",
              "</style>\n",
              "<table border=\"1\" class=\"dataframe\">\n",
              "  <thead>\n",
              "    <tr style=\"text-align: right;\">\n",
              "      <th></th>\n",
              "      <th>Mask_Path</th>\n",
              "      <th>Label</th>\n",
              "    </tr>\n",
              "  </thead>\n",
              "  <tbody>\n",
              "    <tr>\n",
              "      <th>1495</th>\n",
              "      <td>/content/Queensland Dataset CE42/SCC/Masks/SCC...</td>\n",
              "      <td>2</td>\n",
              "    </tr>\n",
              "    <tr>\n",
              "      <th>1496</th>\n",
              "      <td>/content/Queensland Dataset CE42/SCC/Masks/SCC...</td>\n",
              "      <td>2</td>\n",
              "    </tr>\n",
              "    <tr>\n",
              "      <th>1497</th>\n",
              "      <td>/content/Queensland Dataset CE42/SCC/Masks/SCC...</td>\n",
              "      <td>2</td>\n",
              "    </tr>\n",
              "    <tr>\n",
              "      <th>1498</th>\n",
              "      <td>/content/Queensland Dataset CE42/SCC/Masks/SCC...</td>\n",
              "      <td>2</td>\n",
              "    </tr>\n",
              "    <tr>\n",
              "      <th>1499</th>\n",
              "      <td>/content/Queensland Dataset CE42/SCC/Masks/SCC...</td>\n",
              "      <td>2</td>\n",
              "    </tr>\n",
              "  </tbody>\n",
              "</table>\n",
              "</div>\n",
              "      <button class=\"colab-df-convert\" onclick=\"convertToInteractive('df-d7b256cc-99fa-44c7-8f8a-01a5fd9c3a07')\"\n",
              "              title=\"Convert this dataframe to an interactive table.\"\n",
              "              style=\"display:none;\">\n",
              "        \n",
              "  <svg xmlns=\"http://www.w3.org/2000/svg\" height=\"24px\"viewBox=\"0 0 24 24\"\n",
              "       width=\"24px\">\n",
              "    <path d=\"M0 0h24v24H0V0z\" fill=\"none\"/>\n",
              "    <path d=\"M18.56 5.44l.94 2.06.94-2.06 2.06-.94-2.06-.94-.94-2.06-.94 2.06-2.06.94zm-11 1L8.5 8.5l.94-2.06 2.06-.94-2.06-.94L8.5 2.5l-.94 2.06-2.06.94zm10 10l.94 2.06.94-2.06 2.06-.94-2.06-.94-.94-2.06-.94 2.06-2.06.94z\"/><path d=\"M17.41 7.96l-1.37-1.37c-.4-.4-.92-.59-1.43-.59-.52 0-1.04.2-1.43.59L10.3 9.45l-7.72 7.72c-.78.78-.78 2.05 0 2.83L4 21.41c.39.39.9.59 1.41.59.51 0 1.02-.2 1.41-.59l7.78-7.78 2.81-2.81c.8-.78.8-2.07 0-2.86zM5.41 20L4 18.59l7.72-7.72 1.47 1.35L5.41 20z\"/>\n",
              "  </svg>\n",
              "      </button>\n",
              "      \n",
              "  <style>\n",
              "    .colab-df-container {\n",
              "      display:flex;\n",
              "      flex-wrap:wrap;\n",
              "      gap: 12px;\n",
              "    }\n",
              "\n",
              "    .colab-df-convert {\n",
              "      background-color: #E8F0FE;\n",
              "      border: none;\n",
              "      border-radius: 50%;\n",
              "      cursor: pointer;\n",
              "      display: none;\n",
              "      fill: #1967D2;\n",
              "      height: 32px;\n",
              "      padding: 0 0 0 0;\n",
              "      width: 32px;\n",
              "    }\n",
              "\n",
              "    .colab-df-convert:hover {\n",
              "      background-color: #E2EBFA;\n",
              "      box-shadow: 0px 1px 2px rgba(60, 64, 67, 0.3), 0px 1px 3px 1px rgba(60, 64, 67, 0.15);\n",
              "      fill: #174EA6;\n",
              "    }\n",
              "\n",
              "    [theme=dark] .colab-df-convert {\n",
              "      background-color: #3B4455;\n",
              "      fill: #D2E3FC;\n",
              "    }\n",
              "\n",
              "    [theme=dark] .colab-df-convert:hover {\n",
              "      background-color: #434B5C;\n",
              "      box-shadow: 0px 1px 3px 1px rgba(0, 0, 0, 0.15);\n",
              "      filter: drop-shadow(0px 1px 2px rgba(0, 0, 0, 0.3));\n",
              "      fill: #FFFFFF;\n",
              "    }\n",
              "  </style>\n",
              "\n",
              "      <script>\n",
              "        const buttonEl =\n",
              "          document.querySelector('#df-d7b256cc-99fa-44c7-8f8a-01a5fd9c3a07 button.colab-df-convert');\n",
              "        buttonEl.style.display =\n",
              "          google.colab.kernel.accessAllowed ? 'block' : 'none';\n",
              "\n",
              "        async function convertToInteractive(key) {\n",
              "          const element = document.querySelector('#df-d7b256cc-99fa-44c7-8f8a-01a5fd9c3a07');\n",
              "          const dataTable =\n",
              "            await google.colab.kernel.invokeFunction('convertToInteractive',\n",
              "                                                     [key], {});\n",
              "          if (!dataTable) return;\n",
              "\n",
              "          const docLinkHtml = 'Like what you see? Visit the ' +\n",
              "            '<a target=\"_blank\" href=https://colab.research.google.com/notebooks/data_table.ipynb>data table notebook</a>'\n",
              "            + ' to learn more about interactive tables.';\n",
              "          element.innerHTML = '';\n",
              "          dataTable['output_type'] = 'display_data';\n",
              "          await google.colab.output.renderOutput(dataTable, element);\n",
              "          const docLink = document.createElement('div');\n",
              "          docLink.innerHTML = docLinkHtml;\n",
              "          element.appendChild(docLink);\n",
              "        }\n",
              "      </script>\n",
              "    </div>\n",
              "  </div>\n",
              "  "
            ],
            "text/plain": [
              "                                              Mask_Path  Label\n",
              "1495  /content/Queensland Dataset CE42/SCC/Masks/SCC...      2\n",
              "1496  /content/Queensland Dataset CE42/SCC/Masks/SCC...      2\n",
              "1497  /content/Queensland Dataset CE42/SCC/Masks/SCC...      2\n",
              "1498  /content/Queensland Dataset CE42/SCC/Masks/SCC...      2\n",
              "1499  /content/Queensland Dataset CE42/SCC/Masks/SCC...      2"
            ]
          },
          "execution_count": 4,
          "metadata": {},
          "output_type": "execute_result"
        }
      ],
      "source": [
        "df = pd.DataFrame(mask_paths, columns=['Mask_Path'])\n",
        "df = df.assign(Label=labels)\n",
        "df = df.astype({'Label': np.int8})\n",
        "df.tail()"
      ]
    },
    {
      "cell_type": "code",
      "execution_count": 5,
      "metadata": {
        "colab": {
          "base_uri": "https://localhost:8080/"
        },
        "id": "5ug5ainYCsrZ",
        "outputId": "33effb01-f9eb-4957-c59a-90d13c1e8c95"
      },
      "outputs": [
        {
          "name": "stdout",
          "output_type": "stream",
          "text": [
            "<class 'pandas.core.frame.DataFrame'>\n",
            "RangeIndex: 1500 entries, 0 to 1499\n",
            "Data columns (total 2 columns):\n",
            " #   Column     Non-Null Count  Dtype \n",
            "---  ------     --------------  ----- \n",
            " 0   Mask_Path  1500 non-null   object\n",
            " 1   Label      1500 non-null   int8  \n",
            "dtypes: int8(1), object(1)\n",
            "memory usage: 13.3+ KB\n"
          ]
        }
      ],
      "source": [
        "df.info()"
      ]
    },
    {
      "cell_type": "code",
      "execution_count": 6,
      "metadata": {
        "colab": {
          "base_uri": "https://localhost:8080/",
          "height": 206
        },
        "id": "F5ejANqcCzUe",
        "outputId": "65cc0301-ff15-4f73-ae57-68e6363df827"
      },
      "outputs": [
        {
          "data": {
            "text/html": [
              "\n",
              "  <div id=\"df-79657aaa-e7c9-4f86-9761-af11c3e40a38\">\n",
              "    <div class=\"colab-df-container\">\n",
              "      <div>\n",
              "<style scoped>\n",
              "    .dataframe tbody tr th:only-of-type {\n",
              "        vertical-align: middle;\n",
              "    }\n",
              "\n",
              "    .dataframe tbody tr th {\n",
              "        vertical-align: top;\n",
              "    }\n",
              "\n",
              "    .dataframe thead th {\n",
              "        text-align: right;\n",
              "    }\n",
              "</style>\n",
              "<table border=\"1\" class=\"dataframe\">\n",
              "  <thead>\n",
              "    <tr style=\"text-align: right;\">\n",
              "      <th></th>\n",
              "      <th>Mask_Path</th>\n",
              "      <th>Label</th>\n",
              "    </tr>\n",
              "  </thead>\n",
              "  <tbody>\n",
              "    <tr>\n",
              "      <th>0</th>\n",
              "      <td>/content/Queensland Dataset CE42/SCC/Masks/SCC...</td>\n",
              "      <td>2</td>\n",
              "    </tr>\n",
              "    <tr>\n",
              "      <th>1</th>\n",
              "      <td>/content/Queensland Dataset CE42/SCC/Masks/SCC...</td>\n",
              "      <td>2</td>\n",
              "    </tr>\n",
              "    <tr>\n",
              "      <th>2</th>\n",
              "      <td>/content/Queensland Dataset CE42/BCC/Masks/BCC...</td>\n",
              "      <td>0</td>\n",
              "    </tr>\n",
              "    <tr>\n",
              "      <th>3</th>\n",
              "      <td>/content/Queensland Dataset CE42/BCC/Masks/BCC...</td>\n",
              "      <td>0</td>\n",
              "    </tr>\n",
              "    <tr>\n",
              "      <th>4</th>\n",
              "      <td>/content/Queensland Dataset CE42/BCC/Masks/BCC...</td>\n",
              "      <td>0</td>\n",
              "    </tr>\n",
              "  </tbody>\n",
              "</table>\n",
              "</div>\n",
              "      <button class=\"colab-df-convert\" onclick=\"convertToInteractive('df-79657aaa-e7c9-4f86-9761-af11c3e40a38')\"\n",
              "              title=\"Convert this dataframe to an interactive table.\"\n",
              "              style=\"display:none;\">\n",
              "        \n",
              "  <svg xmlns=\"http://www.w3.org/2000/svg\" height=\"24px\"viewBox=\"0 0 24 24\"\n",
              "       width=\"24px\">\n",
              "    <path d=\"M0 0h24v24H0V0z\" fill=\"none\"/>\n",
              "    <path d=\"M18.56 5.44l.94 2.06.94-2.06 2.06-.94-2.06-.94-.94-2.06-.94 2.06-2.06.94zm-11 1L8.5 8.5l.94-2.06 2.06-.94-2.06-.94L8.5 2.5l-.94 2.06-2.06.94zm10 10l.94 2.06.94-2.06 2.06-.94-2.06-.94-.94-2.06-.94 2.06-2.06.94z\"/><path d=\"M17.41 7.96l-1.37-1.37c-.4-.4-.92-.59-1.43-.59-.52 0-1.04.2-1.43.59L10.3 9.45l-7.72 7.72c-.78.78-.78 2.05 0 2.83L4 21.41c.39.39.9.59 1.41.59.51 0 1.02-.2 1.41-.59l7.78-7.78 2.81-2.81c.8-.78.8-2.07 0-2.86zM5.41 20L4 18.59l7.72-7.72 1.47 1.35L5.41 20z\"/>\n",
              "  </svg>\n",
              "      </button>\n",
              "      \n",
              "  <style>\n",
              "    .colab-df-container {\n",
              "      display:flex;\n",
              "      flex-wrap:wrap;\n",
              "      gap: 12px;\n",
              "    }\n",
              "\n",
              "    .colab-df-convert {\n",
              "      background-color: #E8F0FE;\n",
              "      border: none;\n",
              "      border-radius: 50%;\n",
              "      cursor: pointer;\n",
              "      display: none;\n",
              "      fill: #1967D2;\n",
              "      height: 32px;\n",
              "      padding: 0 0 0 0;\n",
              "      width: 32px;\n",
              "    }\n",
              "\n",
              "    .colab-df-convert:hover {\n",
              "      background-color: #E2EBFA;\n",
              "      box-shadow: 0px 1px 2px rgba(60, 64, 67, 0.3), 0px 1px 3px 1px rgba(60, 64, 67, 0.15);\n",
              "      fill: #174EA6;\n",
              "    }\n",
              "\n",
              "    [theme=dark] .colab-df-convert {\n",
              "      background-color: #3B4455;\n",
              "      fill: #D2E3FC;\n",
              "    }\n",
              "\n",
              "    [theme=dark] .colab-df-convert:hover {\n",
              "      background-color: #434B5C;\n",
              "      box-shadow: 0px 1px 3px 1px rgba(0, 0, 0, 0.15);\n",
              "      filter: drop-shadow(0px 1px 2px rgba(0, 0, 0, 0.3));\n",
              "      fill: #FFFFFF;\n",
              "    }\n",
              "  </style>\n",
              "\n",
              "      <script>\n",
              "        const buttonEl =\n",
              "          document.querySelector('#df-79657aaa-e7c9-4f86-9761-af11c3e40a38 button.colab-df-convert');\n",
              "        buttonEl.style.display =\n",
              "          google.colab.kernel.accessAllowed ? 'block' : 'none';\n",
              "\n",
              "        async function convertToInteractive(key) {\n",
              "          const element = document.querySelector('#df-79657aaa-e7c9-4f86-9761-af11c3e40a38');\n",
              "          const dataTable =\n",
              "            await google.colab.kernel.invokeFunction('convertToInteractive',\n",
              "                                                     [key], {});\n",
              "          if (!dataTable) return;\n",
              "\n",
              "          const docLinkHtml = 'Like what you see? Visit the ' +\n",
              "            '<a target=\"_blank\" href=https://colab.research.google.com/notebooks/data_table.ipynb>data table notebook</a>'\n",
              "            + ' to learn more about interactive tables.';\n",
              "          element.innerHTML = '';\n",
              "          dataTable['output_type'] = 'display_data';\n",
              "          await google.colab.output.renderOutput(dataTable, element);\n",
              "          const docLink = document.createElement('div');\n",
              "          docLink.innerHTML = docLinkHtml;\n",
              "          element.appendChild(docLink);\n",
              "        }\n",
              "      </script>\n",
              "    </div>\n",
              "  </div>\n",
              "  "
            ],
            "text/plain": [
              "                                           Mask_Path  Label\n",
              "0  /content/Queensland Dataset CE42/SCC/Masks/SCC...      2\n",
              "1  /content/Queensland Dataset CE42/SCC/Masks/SCC...      2\n",
              "2  /content/Queensland Dataset CE42/BCC/Masks/BCC...      0\n",
              "3  /content/Queensland Dataset CE42/BCC/Masks/BCC...      0\n",
              "4  /content/Queensland Dataset CE42/BCC/Masks/BCC...      0"
            ]
          },
          "execution_count": 6,
          "metadata": {},
          "output_type": "execute_result"
        }
      ],
      "source": [
        "np.random.seed(42)\n",
        "\n",
        "shuffled_df = pd.DataFrame.sample(df, \n",
        "                                  n=len(df['Mask_Path']), \n",
        "                                  ignore_index=True)\n",
        "shuffled_df.head()"
      ]
    },
    {
      "cell_type": "code",
      "execution_count": 7,
      "metadata": {
        "colab": {
          "base_uri": "https://localhost:8080/",
          "height": 273
        },
        "id": "wH48Zot6CzQY",
        "outputId": "c3ff6dd6-bb3e-4993-8fb3-a8faecaa79f6"
      },
      "outputs": [
        {
          "data": {
            "image/png": "[encoded data removed]",
            "text/plain": [
              "<PIL.PngImagePlugin.PngImageFile image mode=RGB size=256x256 at 0x7FCB949F71F0>"
            ]
          },
          "execution_count": 7,
          "metadata": {},
          "output_type": "execute_result"
        }
      ],
      "source": [
        "# testing...\n",
        "mask = tf.keras.preprocessing.image.load_img(shuffled_df.loc[0].at['Mask_Path'], \n",
        "                                             color_mode='rgb',\n",
        "                                             target_size=(256, 256))\n",
        "mask"
      ]
    },
    {
      "attachments": {},
      "cell_type": "markdown",
      "metadata": {
        "id": "HBNnF4KfP_1w"
      },
      "source": [
        "### **Actual Work**"
      ]
    },
    {
      "cell_type": "code",
      "execution_count": 8,
      "metadata": {
        "id": "P1AyGZt3CzOX"
      },
      "outputs": [],
      "source": [
        "mask_data = []\n",
        "label_data = []\n",
        "\n",
        "for index, rows in shuffled_df.iterrows():\n",
        "  mask = tf.keras.preprocessing.image.load_img(shuffled_df.loc[index].at['Mask_Path'],\n",
        "                                                color_mode='rgb',\n",
        "                                                target_size=(256, 256))\n",
        "  mask_data.append(np.array(mask))\n",
        "  label_data.append(shuffled_df.loc[index].at['Label'])"
      ]
    },
    {
      "cell_type": "code",
      "execution_count": 9,
      "metadata": {
        "colab": {
          "base_uri": "https://localhost:8080/"
        },
        "id": "WWj3O_1fCzIN",
        "outputId": "d183baef-36d6-453b-bc72-f5a611a01ff3"
      },
      "outputs": [
        {
          "data": {
            "text/plain": [
              "(1500, 1500)"
            ]
          },
          "execution_count": 9,
          "metadata": {},
          "output_type": "execute_result"
        }
      ],
      "source": [
        "len(mask_data), len(label_data)"
      ]
    },
    {
      "cell_type": "code",
      "execution_count": 10,
      "metadata": {
        "colab": {
          "base_uri": "https://localhost:8080/"
        },
        "id": "y_oxnkTyCzE4",
        "outputId": "8e9a308a-6aa4-4af4-8b5f-69d9db294a96"
      },
      "outputs": [
        {
          "data": {
            "text/plain": [
              "((1200, 256, 256, 3), (1200,), (300, 256, 256, 3), (300,))"
            ]
          },
          "execution_count": 10,
          "metadata": {},
          "output_type": "execute_result"
        }
      ],
      "source": [
        "X_train, X_test, y_train, y_test = train_test_split(mask_data, label_data, test_size=0.2, random_state=42)\n",
        "np.shape(X_train), np.shape(y_train), np.shape(X_test), np.shape(y_test)"
      ]
    },
    {
      "cell_type": "code",
      "execution_count": 11,
      "metadata": {
        "colab": {
          "base_uri": "https://localhost:8080/",
          "height": 273
        },
        "id": "W-jD2ytlFZMA",
        "outputId": "ada6e48e-9113-42ca-d0e6-eec66cfa9dc6"
      },
      "outputs": [
        {
          "data": {
            "image/png": "[encoded data removed]",
            "text/plain": [
              "<PIL.Image.Image image mode=RGB size=256x256 at 0x7FCB948C3EB0>"
            ]
          },
          "metadata": {},
          "output_type": "display_data"
        }
      ],
      "source": [
        "cv2_imshow(X_train[0])"
      ]
    },
    {
      "cell_type": "code",
      "execution_count": 12,
      "metadata": {
        "colab": {
          "base_uri": "https://localhost:8080/"
        },
        "id": "KrJ6F7tnCzCa",
        "outputId": "54a42f26-8d93-470d-8bb6-1414b34eaefe"
      },
      "outputs": [
        {
          "data": {
            "text/plain": [
              "((1200, 256, 256, 3), (300, 256, 256, 3))"
            ]
          },
          "execution_count": 12,
          "metadata": {},
          "output_type": "execute_result"
        }
      ],
      "source": [
        "# Preprocessing Masks\n",
        "X_train = np.divide(X_train, 255.0, dtype=np.float64)\n",
        "X_test = np.divide(X_test, 255.0, dtype=np.float64)\n",
        "X_train.shape, X_test.shape"
      ]
    },
    {
      "cell_type": "code",
      "execution_count": 13,
      "metadata": {
        "colab": {
          "base_uri": "https://localhost:8080/"
        },
        "id": "QC3SAyXXCy_s",
        "outputId": "5e8e1690-ca9d-4546-8604-c51ae8d1021b"
      },
      "outputs": [
        {
          "data": {
            "text/plain": [
              "(TensorShape([1200, 3]), TensorShape([300, 3]))"
            ]
          },
          "execution_count": 13,
          "metadata": {},
          "output_type": "execute_result"
        }
      ],
      "source": [
        "# Label one hot encoding - Didn't run - going for SparseCategoricalCrossentropy concept\n",
        "y_train = tf.one_hot(y_train, depth=3)\n",
        "y_test = tf.one_hot(y_test, depth=3)\n",
        "np.shape(y_train), np.shape(y_test)"
      ]
    },
    {
      "attachments": {},
      "cell_type": "markdown",
      "metadata": {
        "id": "xtPB5p4485qp"
      },
      "source": [
        "### **Model Implementation - Classification**"
      ]
    },
    {
      "cell_type": "code",
      "execution_count": 14,
      "metadata": {
        "colab": {
          "base_uri": "https://localhost:8080/"
        },
        "collapsed": true,
        "id": "iQdMsgfL4mN7",
        "outputId": "2ec35cb2-eb7f-4f24-8712-1714b40032c3"
      },
      "outputs": [
        {
          "name": "stdout",
          "output_type": "stream",
          "text": [
            "Model: \"xception\"\n",
            "__________________________________________________________________________________________________\n",
            " Layer (type)                   Output Shape         Param #     Connected to                     \n",
            "==================================================================================================\n",
            " input_1 (InputLayer)           [(None, 256, 256, 3  0           []                               \n",
            "                                )]                                                                \n",
            "                                                                                                  \n",
            " block1_conv1 (Conv2D)          (None, 127, 127, 32  864         ['input_1[0][0]']                \n",
            "                                )                                                                 \n",
            "                                                                                                  \n",
            " block1_conv1_bn (BatchNormaliz  (None, 127, 127, 32  128        ['block1_conv1[0][0]']           \n",
            " ation)                         )                                                                 \n",
            "                                                                                                  \n",
            " block1_conv1_act (Activation)  (None, 127, 127, 32  0           ['block1_conv1_bn[0][0]']        \n",
            "                                )                                                                 \n",
            "                                                                                                  \n",
            " block1_conv2 (Conv2D)          (None, 125, 125, 64  18432       ['block1_conv1_act[0][0]']       \n",
            "                                )                                                                 \n",
            "                                                                                                  \n",
            " block1_conv2_bn (BatchNormaliz  (None, 125, 125, 64  256        ['block1_conv2[0][0]']           \n",
            " ation)                         )                                                                 \n",
            "                                                                                                  \n",
            " block1_conv2_act (Activation)  (None, 125, 125, 64  0           ['block1_conv2_bn[0][0]']        \n",
            "                                )                                                                 \n",
            "                                                                                                  \n",
            " block2_sepconv1 (SeparableConv  (None, 125, 125, 12  8768       ['block1_conv2_act[0][0]']       \n",
            " 2D)                            8)                                                                \n",
            "                                                                                                  \n",
            " block2_sepconv1_bn (BatchNorma  (None, 125, 125, 12  512        ['block2_sepconv1[0][0]']        \n",
            " lization)                      8)                                                                \n",
            "                                                                                                  \n",
            " block2_sepconv2_act (Activatio  (None, 125, 125, 12  0          ['block2_sepconv1_bn[0][0]']     \n",
            " n)                             8)                                                                \n",
            "                                                                                                  \n",
            " block2_sepconv2 (SeparableConv  (None, 125, 125, 12  17536      ['block2_sepconv2_act[0][0]']    \n",
            " 2D)                            8)                                                                \n",
            "                                                                                                  \n",
            " block2_sepconv2_bn (BatchNorma  (None, 125, 125, 12  512        ['block2_sepconv2[0][0]']        \n",
            " lization)                      8)                                                                \n",
            "                                                                                                  \n",
            " conv2d (Conv2D)                (None, 63, 63, 128)  8192        ['block1_conv2_act[0][0]']       \n",
            "                                                                                                  \n",
            " block2_pool (MaxPooling2D)     (None, 63, 63, 128)  0           ['block2_sepconv2_bn[0][0]']     \n",
            "                                                                                                  \n",
            " batch_normalization (BatchNorm  (None, 63, 63, 128)  512        ['conv2d[0][0]']                 \n",
            " alization)                                                                                       \n",
            "                                                                                                  \n",
            " add (Add)                      (None, 63, 63, 128)  0           ['block2_pool[0][0]',            \n",
            "                                                                  'batch_normalization[0][0]']    \n",
            "                                                                                                  \n",
            " block3_sepconv1_act (Activatio  (None, 63, 63, 128)  0          ['add[0][0]']                    \n",
            " n)                                                                                               \n",
            "                                                                                                  \n",
            " block3_sepconv1 (SeparableConv  (None, 63, 63, 256)  33920      ['block3_sepconv1_act[0][0]']    \n",
            " 2D)                                                                                              \n",
            "                                                                                                  \n",
            " block3_sepconv1_bn (BatchNorma  (None, 63, 63, 256)  1024       ['block3_sepconv1[0][0]']        \n",
            " lization)                                                                                        \n",
            "                                                                                                  \n",
            " block3_sepconv2_act (Activatio  (None, 63, 63, 256)  0          ['block3_sepconv1_bn[0][0]']     \n",
            " n)                                                                                               \n",
            "                                                                                                  \n",
            " block3_sepconv2 (SeparableConv  (None, 63, 63, 256)  67840      ['block3_sepconv2_act[0][0]']    \n",
            " 2D)                                                                                              \n",
            "                                                                                                  \n",
            " block3_sepconv2_bn (BatchNorma  (None, 63, 63, 256)  1024       ['block3_sepconv2[0][0]']        \n",
            " lization)                                                                                        \n",
            "                                                                                                  \n",
            " conv2d_1 (Conv2D)              (None, 32, 32, 256)  32768       ['add[0][0]']                    \n",
            "                                                                                                  \n",
            " block3_pool (MaxPooling2D)     (None, 32, 32, 256)  0           ['block3_sepconv2_bn[0][0]']     \n",
            "                                                                                                  \n",
            " batch_normalization_1 (BatchNo  (None, 32, 32, 256)  1024       ['conv2d_1[0][0]']               \n",
            " rmalization)                                                                                     \n",
            "                                                                                                  \n",
            " add_1 (Add)                    (None, 32, 32, 256)  0           ['block3_pool[0][0]',            \n",
            "                                                                  'batch_normalization_1[0][0]']  \n",
            "                                                                                                  \n",
            " block4_sepconv1_act (Activatio  (None, 32, 32, 256)  0          ['add_1[0][0]']                  \n",
            " n)                                                                                               \n",
            "                                                                                                  \n",
            " block4_sepconv1 (SeparableConv  (None, 32, 32, 728)  188672     ['block4_sepconv1_act[0][0]']    \n",
            " 2D)                                                                                              \n",
            "                                                                                                  \n",
            " block4_sepconv1_bn (BatchNorma  (None, 32, 32, 728)  2912       ['block4_sepconv1[0][0]']        \n",
            " lization)                                                                                        \n",
            "                                                                                                  \n",
            " block4_sepconv2_act (Activatio  (None, 32, 32, 728)  0          ['block4_sepconv1_bn[0][0]']     \n",
            " n)                                                                                               \n",
            "                                                                                                  \n",
            " block4_sepconv2 (SeparableConv  (None, 32, 32, 728)  536536     ['block4_sepconv2_act[0][0]']    \n",
            " 2D)                                                                                              \n",
            "                                                                                                  \n",
            " block4_sepconv2_bn (BatchNorma  (None, 32, 32, 728)  2912       ['block4_sepconv2[0][0]']        \n",
            " lization)                                                                                        \n",
            "                                                                                                  \n",
            " conv2d_2 (Conv2D)              (None, 16, 16, 728)  186368      ['add_1[0][0]']                  \n",
            "                                                                                                  \n",
            " block4_pool (MaxPooling2D)     (None, 16, 16, 728)  0           ['block4_sepconv2_bn[0][0]']     \n",
            "                                                                                                  \n",
            " batch_normalization_2 (BatchNo  (None, 16, 16, 728)  2912       ['conv2d_2[0][0]']               \n",
            " rmalization)                                                                                     \n",
            "                                                                                                  \n",
            " add_2 (Add)                    (None, 16, 16, 728)  0           ['block4_pool[0][0]',            \n",
            "                                                                  'batch_normalization_2[0][0]']  \n",
            "                                                                                                  \n",
            " block5_sepconv1_act (Activatio  (None, 16, 16, 728)  0          ['add_2[0][0]']                  \n",
            " n)                                                                                               \n",
            "                                                                                                  \n",
            " block5_sepconv1 (SeparableConv  (None, 16, 16, 728)  536536     ['block5_sepconv1_act[0][0]']    \n",
            " 2D)                                                                                              \n",
            "                                                                                                  \n",
            " block5_sepconv1_bn (BatchNorma  (None, 16, 16, 728)  2912       ['block5_sepconv1[0][0]']        \n",
            " lization)                                                                                        \n",
            "                                                                                                  \n",
            " block5_sepconv2_act (Activatio  (None, 16, 16, 728)  0          ['block5_sepconv1_bn[0][0]']     \n",
            " n)                                                                                               \n",
            "                                                                                                  \n",
            " block5_sepconv2 (SeparableConv  (None, 16, 16, 728)  536536     ['block5_sepconv2_act[0][0]']    \n",
            " 2D)                                                                                              \n",
            "                                                                                                  \n",
            " block5_sepconv2_bn (BatchNorma  (None, 16, 16, 728)  2912       ['block5_sepconv2[0][0]']        \n",
            " lization)                                                                                        \n",
            "                                                                                                  \n",
            " block5_sepconv3_act (Activatio  (None, 16, 16, 728)  0          ['block5_sepconv2_bn[0][0]']     \n",
            " n)                                                                                               \n",
            "                                                                                                  \n",
            " block5_sepconv3 (SeparableConv  (None, 16, 16, 728)  536536     ['block5_sepconv3_act[0][0]']    \n",
            " 2D)                                                                                              \n",
            "                                                                                                  \n",
            " block5_sepconv3_bn (BatchNorma  (None, 16, 16, 728)  2912       ['block5_sepconv3[0][0]']        \n",
            " lization)                                                                                        \n",
            "                                                                                                  \n",
            " add_3 (Add)                    (None, 16, 16, 728)  0           ['block5_sepconv3_bn[0][0]',     \n",
            "                                                                  'add_2[0][0]']                  \n",
            "                                                                                                  \n",
            " block6_sepconv1_act (Activatio  (None, 16, 16, 728)  0          ['add_3[0][0]']                  \n",
            " n)                                                                                               \n",
            "                                                                                                  \n",
            " block6_sepconv1 (SeparableConv  (None, 16, 16, 728)  536536     ['block6_sepconv1_act[0][0]']    \n",
            " 2D)                                                                                              \n",
            "                                                                                                  \n",
            " block6_sepconv1_bn (BatchNorma  (None, 16, 16, 728)  2912       ['block6_sepconv1[0][0]']        \n",
            " lization)                                                                                        \n",
            "                                                                                                  \n",
            " block6_sepconv2_act (Activatio  (None, 16, 16, 728)  0          ['block6_sepconv1_bn[0][0]']     \n",
            " n)                                                                                               \n",
            "                                                                                                  \n",
            " block6_sepconv2 (SeparableConv  (None, 16, 16, 728)  536536     ['block6_sepconv2_act[0][0]']    \n",
            " 2D)                                                                                              \n",
            "                                                                                                  \n",
            " block6_sepconv2_bn (BatchNorma  (None, 16, 16, 728)  2912       ['block6_sepconv2[0][0]']        \n",
            " lization)                                                                                        \n",
            "                                                                                                  \n",
            " block6_sepconv3_act (Activatio  (None, 16, 16, 728)  0          ['block6_sepconv2_bn[0][0]']     \n",
            " n)                                                                                               \n",
            "                                                                                                  \n",
            " block6_sepconv3 (SeparableConv  (None, 16, 16, 728)  536536     ['block6_sepconv3_act[0][0]']    \n",
            " 2D)                                                                                              \n",
            "                                                                                                  \n",
            " block6_sepconv3_bn (BatchNorma  (None, 16, 16, 728)  2912       ['block6_sepconv3[0][0]']        \n",
            " lization)                                                                                        \n",
            "                                                                                                  \n",
            " add_4 (Add)                    (None, 16, 16, 728)  0           ['block6_sepconv3_bn[0][0]',     \n",
            "                                                                  'add_3[0][0]']                  \n",
            "                                                                                                  \n",
            " block7_sepconv1_act (Activatio  (None, 16, 16, 728)  0          ['add_4[0][0]']                  \n",
            " n)                                                                                               \n",
            "                                                                                                  \n",
            " block7_sepconv1 (SeparableConv  (None, 16, 16, 728)  536536     ['block7_sepconv1_act[0][0]']    \n",
            " 2D)                                                                                              \n",
            "                                                                                                  \n",
            " block7_sepconv1_bn (BatchNorma  (None, 16, 16, 728)  2912       ['block7_sepconv1[0][0]']        \n",
            " lization)                                                                                        \n",
            "                                                                                                  \n",
            " block7_sepconv2_act (Activatio  (None, 16, 16, 728)  0          ['block7_sepconv1_bn[0][0]']     \n",
            " n)                                                                                               \n",
            "                                                                                                  \n",
            " block7_sepconv2 (SeparableConv  (None, 16, 16, 728)  536536     ['block7_sepconv2_act[0][0]']    \n",
            " 2D)                                                                                              \n",
            "                                                                                                  \n",
            " block7_sepconv2_bn (BatchNorma  (None, 16, 16, 728)  2912       ['block7_sepconv2[0][0]']        \n",
            " lization)                                                                                        \n",
            "                                                                                                  \n",
            " block7_sepconv3_act (Activatio  (None, 16, 16, 728)  0          ['block7_sepconv2_bn[0][0]']     \n",
            " n)                                                                                               \n",
            "                                                                                                  \n",
            " block7_sepconv3 (SeparableConv  (None, 16, 16, 728)  536536     ['block7_sepconv3_act[0][0]']    \n",
            " 2D)                                                                                              \n",
            "                                                                                                  \n",
            " block7_sepconv3_bn (BatchNorma  (None, 16, 16, 728)  2912       ['block7_sepconv3[0][0]']        \n",
            " lization)                                                                                        \n",
            "                                                                                                  \n",
            " add_5 (Add)                    (None, 16, 16, 728)  0           ['block7_sepconv3_bn[0][0]',     \n",
            "                                                                  'add_4[0][0]']                  \n",
            "                                                                                                  \n",
            " block8_sepconv1_act (Activatio  (None, 16, 16, 728)  0          ['add_5[0][0]']                  \n",
            " n)                                                                                               \n",
            "                                                                                                  \n",
            " block8_sepconv1 (SeparableConv  (None, 16, 16, 728)  536536     ['block8_sepconv1_act[0][0]']    \n",
            " 2D)                                                                                              \n",
            "                                                                                                  \n",
            " block8_sepconv1_bn (BatchNorma  (None, 16, 16, 728)  2912       ['block8_sepconv1[0][0]']        \n",
            " lization)                                                                                        \n",
            "                                                                                                  \n",
            " block8_sepconv2_act (Activatio  (None, 16, 16, 728)  0          ['block8_sepconv1_bn[0][0]']     \n",
            " n)                                                                                               \n",
            "                                                                                                  \n",
            " block8_sepconv2 (SeparableConv  (None, 16, 16, 728)  536536     ['block8_sepconv2_act[0][0]']    \n",
            " 2D)                                                                                              \n",
            "                                                                                                  \n",
            " block8_sepconv2_bn (BatchNorma  (None, 16, 16, 728)  2912       ['block8_sepconv2[0][0]']        \n",
            " lization)                                                                                        \n",
            "                                                                                                  \n",
            " block8_sepconv3_act (Activatio  (None, 16, 16, 728)  0          ['block8_sepconv2_bn[0][0]']     \n",
            " n)                                                                                               \n",
            "                                                                                                  \n",
            " block8_sepconv3 (SeparableConv  (None, 16, 16, 728)  536536     ['block8_sepconv3_act[0][0]']    \n",
            " 2D)                                                                                              \n",
            "                                                                                                  \n",
            " block8_sepconv3_bn (BatchNorma  (None, 16, 16, 728)  2912       ['block8_sepconv3[0][0]']        \n",
            " lization)                                                                                        \n",
            "                                                                                                  \n",
            " add_6 (Add)                    (None, 16, 16, 728)  0           ['block8_sepconv3_bn[0][0]',     \n",
            "                                                                  'add_5[0][0]']                  \n",
            "                                                                                                  \n",
            " block9_sepconv1_act (Activatio  (None, 16, 16, 728)  0          ['add_6[0][0]']                  \n",
            " n)                                                                                               \n",
            "                                                                                                  \n",
            " block9_sepconv1 (SeparableConv  (None, 16, 16, 728)  536536     ['block9_sepconv1_act[0][0]']    \n",
            " 2D)                                                                                              \n",
            "                                                                                                  \n",
            " block9_sepconv1_bn (BatchNorma  (None, 16, 16, 728)  2912       ['block9_sepconv1[0][0]']        \n",
            " lization)                                                                                        \n",
            "                                                                                                  \n",
            " block9_sepconv2_act (Activatio  (None, 16, 16, 728)  0          ['block9_sepconv1_bn[0][0]']     \n",
            " n)                                                                                               \n",
            "                                                                                                  \n",
            " block9_sepconv2 (SeparableConv  (None, 16, 16, 728)  536536     ['block9_sepconv2_act[0][0]']    \n",
            " 2D)                                                                                              \n",
            "                                                                                                  \n",
            " block9_sepconv2_bn (BatchNorma  (None, 16, 16, 728)  2912       ['block9_sepconv2[0][0]']        \n",
            " lization)                                                                                        \n",
            "                                                                                                  \n",
            " block9_sepconv3_act (Activatio  (None, 16, 16, 728)  0          ['block9_sepconv2_bn[0][0]']     \n",
            " n)                                                                                               \n",
            "                                                                                                  \n",
            " block9_sepconv3 (SeparableConv  (None, 16, 16, 728)  536536     ['block9_sepconv3_act[0][0]']    \n",
            " 2D)                                                                                              \n",
            "                                                                                                  \n",
            " block9_sepconv3_bn (BatchNorma  (None, 16, 16, 728)  2912       ['block9_sepconv3[0][0]']        \n",
            " lization)                                                                                        \n",
            "                                                                                                  \n",
            " add_7 (Add)                    (None, 16, 16, 728)  0           ['block9_sepconv3_bn[0][0]',     \n",
            "                                                                  'add_6[0][0]']                  \n",
            "                                                                                                  \n",
            " block10_sepconv1_act (Activati  (None, 16, 16, 728)  0          ['add_7[0][0]']                  \n",
            " on)                                                                                              \n",
            "                                                                                                  \n",
            " block10_sepconv1 (SeparableCon  (None, 16, 16, 728)  536536     ['block10_sepconv1_act[0][0]']   \n",
            " v2D)                                                                                             \n",
            "                                                                                                  \n",
            " block10_sepconv1_bn (BatchNorm  (None, 16, 16, 728)  2912       ['block10_sepconv1[0][0]']       \n",
            " alization)                                                                                       \n",
            "                                                                                                  \n",
            " block10_sepconv2_act (Activati  (None, 16, 16, 728)  0          ['block10_sepconv1_bn[0][0]']    \n",
            " on)                                                                                              \n",
            "                                                                                                  \n",
            " block10_sepconv2 (SeparableCon  (None, 16, 16, 728)  536536     ['block10_sepconv2_act[0][0]']   \n",
            " v2D)                                                                                             \n",
            "                                                                                                  \n",
            " block10_sepconv2_bn (BatchNorm  (None, 16, 16, 728)  2912       ['block10_sepconv2[0][0]']       \n",
            " alization)                                                                                       \n",
            "                                                                                                  \n",
            " block10_sepconv3_act (Activati  (None, 16, 16, 728)  0          ['block10_sepconv2_bn[0][0]']    \n",
            " on)                                                                                              \n",
            "                                                                                                  \n",
            " block10_sepconv3 (SeparableCon  (None, 16, 16, 728)  536536     ['block10_sepconv3_act[0][0]']   \n",
            " v2D)                                                                                             \n",
            "                                                                                                  \n",
            " block10_sepconv3_bn (BatchNorm  (None, 16, 16, 728)  2912       ['block10_sepconv3[0][0]']       \n",
            " alization)                                                                                       \n",
            "                                                                                                  \n",
            " add_8 (Add)                    (None, 16, 16, 728)  0           ['block10_sepconv3_bn[0][0]',    \n",
            "                                                                  'add_7[0][0]']                  \n",
            "                                                                                                  \n",
            " block11_sepconv1_act (Activati  (None, 16, 16, 728)  0          ['add_8[0][0]']                  \n",
            " on)                                                                                              \n",
            "                                                                                                  \n",
            " block11_sepconv1 (SeparableCon  (None, 16, 16, 728)  536536     ['block11_sepconv1_act[0][0]']   \n",
            " v2D)                                                                                             \n",
            "                                                                                                  \n",
            " block11_sepconv1_bn (BatchNorm  (None, 16, 16, 728)  2912       ['block11_sepconv1[0][0]']       \n",
            " alization)                                                                                       \n",
            "                                                                                                  \n",
            " block11_sepconv2_act (Activati  (None, 16, 16, 728)  0          ['block11_sepconv1_bn[0][0]']    \n",
            " on)                                                                                              \n",
            "                                                                                                  \n",
            " block11_sepconv2 (SeparableCon  (None, 16, 16, 728)  536536     ['block11_sepconv2_act[0][0]']   \n",
            " v2D)                                                                                             \n",
            "                                                                                                  \n",
            " block11_sepconv2_bn (BatchNorm  (None, 16, 16, 728)  2912       ['block11_sepconv2[0][0]']       \n",
            " alization)                                                                                       \n",
            "                                                                                                  \n",
            " block11_sepconv3_act (Activati  (None, 16, 16, 728)  0          ['block11_sepconv2_bn[0][0]']    \n",
            " on)                                                                                              \n",
            "                                                                                                  \n",
            " block11_sepconv3 (SeparableCon  (None, 16, 16, 728)  536536     ['block11_sepconv3_act[0][0]']   \n",
            " v2D)                                                                                             \n",
            "                                                                                                  \n",
            " block11_sepconv3_bn (BatchNorm  (None, 16, 16, 728)  2912       ['block11_sepconv3[0][0]']       \n",
            " alization)                                                                                       \n",
            "                                                                                                  \n",
            " add_9 (Add)                    (None, 16, 16, 728)  0           ['block11_sepconv3_bn[0][0]',    \n",
            "                                                                  'add_8[0][0]']                  \n",
            "                                                                                                  \n",
            " block12_sepconv1_act (Activati  (None, 16, 16, 728)  0          ['add_9[0][0]']                  \n",
            " on)                                                                                              \n",
            "                                                                                                  \n",
            " block12_sepconv1 (SeparableCon  (None, 16, 16, 728)  536536     ['block12_sepconv1_act[0][0]']   \n",
            " v2D)                                                                                             \n",
            "                                                                                                  \n",
            " block12_sepconv1_bn (BatchNorm  (None, 16, 16, 728)  2912       ['block12_sepconv1[0][0]']       \n",
            " alization)                                                                                       \n",
            "                                                                                                  \n",
            " block12_sepconv2_act (Activati  (None, 16, 16, 728)  0          ['block12_sepconv1_bn[0][0]']    \n",
            " on)                                                                                              \n",
            "                                                                                                  \n",
            " block12_sepconv2 (SeparableCon  (None, 16, 16, 728)  536536     ['block12_sepconv2_act[0][0]']   \n",
            " v2D)                                                                                             \n",
            "                                                                                                  \n",
            " block12_sepconv2_bn (BatchNorm  (None, 16, 16, 728)  2912       ['block12_sepconv2[0][0]']       \n",
            " alization)                                                                                       \n",
            "                                                                                                  \n",
            " block12_sepconv3_act (Activati  (None, 16, 16, 728)  0          ['block12_sepconv2_bn[0][0]']    \n",
            " on)                                                                                              \n",
            "                                                                                                  \n",
            " block12_sepconv3 (SeparableCon  (None, 16, 16, 728)  536536     ['block12_sepconv3_act[0][0]']   \n",
            " v2D)                                                                                             \n",
            "                                                                                                  \n",
            " block12_sepconv3_bn (BatchNorm  (None, 16, 16, 728)  2912       ['block12_sepconv3[0][0]']       \n",
            " alization)                                                                                       \n",
            "                                                                                                  \n",
            " add_10 (Add)                   (None, 16, 16, 728)  0           ['block12_sepconv3_bn[0][0]',    \n",
            "                                                                  'add_9[0][0]']                  \n",
            "                                                                                                  \n",
            " block13_sepconv1_act (Activati  (None, 16, 16, 728)  0          ['add_10[0][0]']                 \n",
            " on)                                                                                              \n",
            "                                                                                                  \n",
            " block13_sepconv1 (SeparableCon  (None, 16, 16, 728)  536536     ['block13_sepconv1_act[0][0]']   \n",
            " v2D)                                                                                             \n",
            "                                                                                                  \n",
            " block13_sepconv1_bn (BatchNorm  (None, 16, 16, 728)  2912       ['block13_sepconv1[0][0]']       \n",
            " alization)                                                                                       \n",
            "                                                                                                  \n",
            " block13_sepconv2_act (Activati  (None, 16, 16, 728)  0          ['block13_sepconv1_bn[0][0]']    \n",
            " on)                                                                                              \n",
            "                                                                                                  \n",
            " block13_sepconv2 (SeparableCon  (None, 16, 16, 1024  752024     ['block13_sepconv2_act[0][0]']   \n",
            " v2D)                           )                                                                 \n",
            "                                                                                                  \n",
            " block13_sepconv2_bn (BatchNorm  (None, 16, 16, 1024  4096       ['block13_sepconv2[0][0]']       \n",
            " alization)                     )                                                                 \n",
            "                                                                                                  \n",
            " conv2d_3 (Conv2D)              (None, 8, 8, 1024)   745472      ['add_10[0][0]']                 \n",
            "                                                                                                  \n",
            " block13_pool (MaxPooling2D)    (None, 8, 8, 1024)   0           ['block13_sepconv2_bn[0][0]']    \n",
            "                                                                                                  \n",
            " batch_normalization_3 (BatchNo  (None, 8, 8, 1024)  4096        ['conv2d_3[0][0]']               \n",
            " rmalization)                                                                                     \n",
            "                                                                                                  \n",
            " add_11 (Add)                   (None, 8, 8, 1024)   0           ['block13_pool[0][0]',           \n",
            "                                                                  'batch_normalization_3[0][0]']  \n",
            "                                                                                                  \n",
            " block14_sepconv1 (SeparableCon  (None, 8, 8, 1536)  1582080     ['add_11[0][0]']                 \n",
            " v2D)                                                                                             \n",
            "                                                                                                  \n",
            " block14_sepconv1_bn (BatchNorm  (None, 8, 8, 1536)  6144        ['block14_sepconv1[0][0]']       \n",
            " alization)                                                                                       \n",
            "                                                                                                  \n",
            " block14_sepconv1_act (Activati  (None, 8, 8, 1536)  0           ['block14_sepconv1_bn[0][0]']    \n",
            " on)                                                                                              \n",
            "                                                                                                  \n",
            " block14_sepconv2 (SeparableCon  (None, 8, 8, 2048)  3159552     ['block14_sepconv1_act[0][0]']   \n",
            " v2D)                                                                                             \n",
            "                                                                                                  \n",
            " block14_sepconv2_bn (BatchNorm  (None, 8, 8, 2048)  8192        ['block14_sepconv2[0][0]']       \n",
            " alization)                                                                                       \n",
            "                                                                                                  \n",
            " block14_sepconv2_act (Activati  (None, 8, 8, 2048)  0           ['block14_sepconv2_bn[0][0]']    \n",
            " on)                                                                                              \n",
            "                                                                                                  \n",
            "==================================================================================================\n",
            "Total params: 20,861,480\n",
            "Trainable params: 20,806,952\n",
            "Non-trainable params: 54,528\n",
            "__________________________________________________________________________________________________\n"
          ]
        }
      ],
      "source": [
        "model = Xception(include_top=False,\n",
        "                 input_shape=(256, 256, 3))\n",
        "model.summary()"
      ]
    },
    {
      "cell_type": "code",
      "execution_count": 15,
      "metadata": {
        "colab": {
          "base_uri": "https://localhost:8080/"
        },
        "collapsed": true,
        "id": "zeW_ZWRm4mI_",
        "outputId": "271290b2-71ca-4aec-b9a1-f1ba8059c347"
      },
      "outputs": [
        {
          "name": "stdout",
          "output_type": "stream",
          "text": [
            "0 input_1 True\n",
            "1 block1_conv1 True\n",
            "2 block1_conv1_bn True\n",
            "3 block1_conv1_act True\n",
            "4 block1_conv2 True\n",
            "5 block1_conv2_bn True\n",
            "6 block1_conv2_act True\n",
            "7 block2_sepconv1 True\n",
            "8 block2_sepconv1_bn True\n",
            "9 block2_sepconv2_act True\n",
            "10 block2_sepconv2 True\n",
            "11 block2_sepconv2_bn True\n",
            "12 conv2d True\n",
            "13 block2_pool True\n",
            "14 batch_normalization True\n",
            "15 add True\n",
            "16 block3_sepconv1_act True\n",
            "17 block3_sepconv1 True\n",
            "18 block3_sepconv1_bn True\n",
            "19 block3_sepconv2_act True\n",
            "20 block3_sepconv2 True\n",
            "21 block3_sepconv2_bn True\n",
            "22 conv2d_1 True\n",
            "23 block3_pool True\n",
            "24 batch_normalization_1 True\n",
            "25 add_1 True\n",
            "26 block4_sepconv1_act True\n",
            "27 block4_sepconv1 True\n",
            "28 block4_sepconv1_bn True\n",
            "29 block4_sepconv2_act True\n",
            "30 block4_sepconv2 True\n",
            "31 block4_sepconv2_bn True\n",
            "32 conv2d_2 True\n",
            "33 block4_pool True\n",
            "34 batch_normalization_2 True\n",
            "35 add_2 True\n",
            "36 block5_sepconv1_act True\n",
            "37 block5_sepconv1 True\n",
            "38 block5_sepconv1_bn True\n",
            "39 block5_sepconv2_act True\n",
            "40 block5_sepconv2 True\n",
            "41 block5_sepconv2_bn True\n",
            "42 block5_sepconv3_act True\n",
            "43 block5_sepconv3 True\n",
            "44 block5_sepconv3_bn True\n",
            "45 add_3 True\n",
            "46 block6_sepconv1_act True\n",
            "47 block6_sepconv1 True\n",
            "48 block6_sepconv1_bn True\n",
            "49 block6_sepconv2_act True\n",
            "50 block6_sepconv2 True\n",
            "51 block6_sepconv2_bn True\n",
            "52 block6_sepconv3_act True\n",
            "53 block6_sepconv3 True\n",
            "54 block6_sepconv3_bn True\n",
            "55 add_4 True\n",
            "56 block7_sepconv1_act True\n",
            "57 block7_sepconv1 True\n",
            "58 block7_sepconv1_bn True\n",
            "59 block7_sepconv2_act True\n",
            "60 block7_sepconv2 True\n",
            "61 block7_sepconv2_bn True\n",
            "62 block7_sepconv3_act True\n",
            "63 block7_sepconv3 True\n",
            "64 block7_sepconv3_bn True\n",
            "65 add_5 True\n",
            "66 block8_sepconv1_act True\n",
            "67 block8_sepconv1 True\n",
            "68 block8_sepconv1_bn True\n",
            "69 block8_sepconv2_act True\n",
            "70 block8_sepconv2 True\n",
            "71 block8_sepconv2_bn True\n",
            "72 block8_sepconv3_act True\n",
            "73 block8_sepconv3 True\n",
            "74 block8_sepconv3_bn True\n",
            "75 add_6 True\n",
            "76 block9_sepconv1_act True\n",
            "77 block9_sepconv1 True\n",
            "78 block9_sepconv1_bn True\n",
            "79 block9_sepconv2_act True\n",
            "80 block9_sepconv2 True\n",
            "81 block9_sepconv2_bn True\n",
            "82 block9_sepconv3_act True\n",
            "83 block9_sepconv3 True\n",
            "84 block9_sepconv3_bn True\n",
            "85 add_7 True\n",
            "86 block10_sepconv1_act False\n",
            "87 block10_sepconv1 False\n",
            "88 block10_sepconv1_bn False\n",
            "89 block10_sepconv2_act False\n",
            "90 block10_sepconv2 False\n",
            "91 block10_sepconv2_bn False\n",
            "92 block10_sepconv3_act False\n",
            "93 block10_sepconv3 False\n",
            "94 block10_sepconv3_bn False\n",
            "95 add_8 False\n",
            "96 block11_sepconv1_act False\n",
            "97 block11_sepconv1 False\n",
            "98 block11_sepconv1_bn False\n",
            "99 block11_sepconv2_act False\n",
            "100 block11_sepconv2 False\n",
            "101 block11_sepconv2_bn False\n",
            "102 block11_sepconv3_act False\n",
            "103 block11_sepconv3 False\n",
            "104 block11_sepconv3_bn False\n",
            "105 add_9 False\n",
            "106 block12_sepconv1_act False\n",
            "107 block12_sepconv1 False\n",
            "108 block12_sepconv1_bn False\n",
            "109 block12_sepconv2_act False\n",
            "110 block12_sepconv2 False\n",
            "111 block12_sepconv2_bn False\n",
            "112 block12_sepconv3_act False\n",
            "113 block12_sepconv3 False\n",
            "114 block12_sepconv3_bn False\n",
            "115 add_10 False\n",
            "116 block13_sepconv1_act False\n",
            "117 block13_sepconv1 False\n",
            "118 block13_sepconv1_bn False\n",
            "119 block13_sepconv2_act False\n",
            "120 block13_sepconv2 False\n",
            "121 block13_sepconv2_bn False\n",
            "122 conv2d_3 False\n",
            "123 block13_pool False\n",
            "124 batch_normalization_3 False\n",
            "125 add_11 False\n",
            "126 block14_sepconv1 False\n",
            "127 block14_sepconv1_bn False\n",
            "128 block14_sepconv1_act False\n",
            "129 block14_sepconv2 False\n",
            "130 block14_sepconv2_bn False\n",
            "131 block14_sepconv2_act False\n"
          ]
        }
      ],
      "source": [
        "for layer in model.layers[86:]:\n",
        "  layer.trainable = False\n",
        "\n",
        "for i, layer in enumerate(model.layers):\n",
        "  print(i, layer.name, layer.trainable)"
      ]
    },
    {
      "cell_type": "code",
      "execution_count": 16,
      "metadata": {
        "id": "Doekw5r74mDQ"
      },
      "outputs": [],
      "source": [
        "# Creating our model head\n",
        "x = model.output\n",
        "x = Flatten()(x)\n",
        "x = Dense(512, activation = 'relu')(x)\n",
        "x = Dropout(0.5)(x)\n",
        "x = Dense(256, activation = 'relu')(x)\n",
        "x = Dense(3, activation = 'softmax')(x)\n",
        "\n",
        "transfer_model = tf.keras.Model(inputs=model.input, outputs=x)"
      ]
    },
    {
      "cell_type": "code",
      "execution_count": null,
      "metadata": {},
      "outputs": [],
      "source": [
        "plot_model(model, show_shapes=True)"
      ]
    },
    {
      "cell_type": "code",
      "execution_count": 19,
      "metadata": {
        "id": "GijTyw2W4l1p"
      },
      "outputs": [],
      "source": [
        "# defining callbacks\n",
        "checkpoint = ModelCheckpoint('/content/drive/MyDrive/classification-ESP-DIP/Xception_1_layers(86_false), bs-15_adam(3).hdf5', # /content/drive/MyDrive/classification-ESP-DIP\n",
        "                             monitor='val_accuracy',\n",
        "                             mode='max', save_best_only=True, verbose=1)\n",
        "earlystopping_val_acc = EarlyStopping(monitor='val_accuracy', patience=12, \n",
        "                                      restore_best_weights=True)\n",
        "earlystopping_val_loss = EarlyStopping(monitor='val_loss', patience=12, \n",
        "                                       restore_best_weights=True)"
      ]
    },
    {
      "cell_type": "code",
      "execution_count": 20,
      "metadata": {
        "id": "xWQo4Mr94lxR"
      },
      "outputs": [],
      "source": [
        "transfer_model.compile(loss='categorical_crossentropy', \n",
        "                       optimizer= 'adam',\n",
        "                       metrics=['accuracy'])"
      ]
    },
    {
      "cell_type": "code",
      "execution_count": 21,
      "metadata": {
        "colab": {
          "base_uri": "https://localhost:8080/"
        },
        "id": "vdQQSXsuM0tb",
        "outputId": "643b4536-66a1-44fa-b9bb-80cd4a5f6c99"
      },
      "outputs": [
        {
          "data": {
            "text/plain": [
              "((1200, 256, 256, 3), (300, 256, 256, 3), (1200, 3), (300, 3))"
            ]
          },
          "execution_count": 21,
          "metadata": {},
          "output_type": "execute_result"
        }
      ],
      "source": [
        "X_train.shape, X_test.shape, np.array(y_train).shape, np.array(y_test).shape"
      ]
    },
    {
      "cell_type": "code",
      "execution_count": 22,
      "metadata": {
        "colab": {
          "base_uri": "https://localhost:8080/"
        },
        "id": "2Xx0JUHP4lse",
        "outputId": "b47fdd53-ecc8-4018-bd97-4e3c3d3f1638"
      },
      "outputs": [
        {
          "name": "stdout",
          "output_type": "stream",
          "text": [
            "Epoch 1/100\n",
            "80/80 [==============================] - ETA: 0s - loss: 2.0818 - accuracy: 0.3508\n",
            "Epoch 1: val_accuracy improved from -inf to 0.30000, saving model to /content/drive/MyDrive/classification-ESP-DIP/Xception_1_layers(86_false), bs-15_adam(3).hdf5\n",
            "80/80 [==============================] - 74s 597ms/step - loss: 2.0818 - accuracy: 0.3508 - val_loss: 1.1449 - val_accuracy: 0.3000\n",
            "Epoch 2/100\n",
            "80/80 [==============================] - ETA: 0s - loss: 1.0209 - accuracy: 0.5125\n",
            "Epoch 2: val_accuracy improved from 0.30000 to 0.42667, saving model to /content/drive/MyDrive/classification-ESP-DIP/Xception_1_layers(86_false), bs-15_adam(3).hdf5\n",
            "80/80 [==============================] - 43s 546ms/step - loss: 1.0209 - accuracy: 0.5125 - val_loss: 1.2086 - val_accuracy: 0.4267\n",
            "Epoch 3/100\n",
            "80/80 [==============================] - ETA: 0s - loss: 0.8642 - accuracy: 0.5608\n",
            "Epoch 3: val_accuracy improved from 0.42667 to 0.57333, saving model to /content/drive/MyDrive/classification-ESP-DIP/Xception_1_layers(86_false), bs-15_adam(3).hdf5\n",
            "80/80 [==============================] - 56s 703ms/step - loss: 0.8642 - accuracy: 0.5608 - val_loss: 0.8203 - val_accuracy: 0.5733\n",
            "Epoch 4/100\n",
            "80/80 [==============================] - ETA: 0s - loss: 0.9885 - accuracy: 0.5567\n",
            "Epoch 4: val_accuracy did not improve from 0.57333\n",
            "80/80 [==============================] - 23s 293ms/step - loss: 0.9885 - accuracy: 0.5567 - val_loss: 1.1090 - val_accuracy: 0.3833\n",
            "Epoch 5/100\n",
            "80/80 [==============================] - ETA: 0s - loss: 0.9062 - accuracy: 0.6175\n",
            "Epoch 5: val_accuracy did not improve from 0.57333\n",
            "80/80 [==============================] - 23s 293ms/step - loss: 0.9062 - accuracy: 0.6175 - val_loss: 1.0599 - val_accuracy: 0.4100\n",
            "Epoch 6/100\n",
            "80/80 [==============================] - ETA: 0s - loss: 0.8904 - accuracy: 0.5850\n",
            "Epoch 6: val_accuracy did not improve from 0.57333\n",
            "80/80 [==============================] - 22s 281ms/step - loss: 0.8904 - accuracy: 0.5850 - val_loss: 1.1165 - val_accuracy: 0.4800\n",
            "Epoch 7/100\n",
            "80/80 [==============================] - ETA: 0s - loss: 0.7265 - accuracy: 0.6733\n",
            "Epoch 7: val_accuracy improved from 0.57333 to 0.68000, saving model to /content/drive/MyDrive/classification-ESP-DIP/Xception_1_layers(86_false), bs-15_adam(3).hdf5\n",
            "80/80 [==============================] - 58s 725ms/step - loss: 0.7265 - accuracy: 0.6733 - val_loss: 0.7653 - val_accuracy: 0.6800\n",
            "Epoch 8/100\n",
            "80/80 [==============================] - ETA: 0s - loss: 0.6803 - accuracy: 0.6883\n",
            "Epoch 8: val_accuracy did not improve from 0.68000\n",
            "80/80 [==============================] - 24s 304ms/step - loss: 0.6803 - accuracy: 0.6883 - val_loss: 0.7922 - val_accuracy: 0.6767\n",
            "Epoch 9/100\n",
            "80/80 [==============================] - ETA: 0s - loss: 0.7055 - accuracy: 0.6858\n",
            "Epoch 9: val_accuracy did not improve from 0.68000\n",
            "80/80 [==============================] - 24s 307ms/step - loss: 0.7055 - accuracy: 0.6858 - val_loss: 0.8114 - val_accuracy: 0.6367\n",
            "Epoch 10/100\n",
            "80/80 [==============================] - ETA: 0s - loss: 0.6641 - accuracy: 0.7017\n",
            "Epoch 10: val_accuracy did not improve from 0.68000\n",
            "80/80 [==============================] - 22s 281ms/step - loss: 0.6641 - accuracy: 0.7017 - val_loss: 0.9051 - val_accuracy: 0.6300\n",
            "Epoch 11/100\n",
            "80/80 [==============================] - ETA: 0s - loss: 0.6612 - accuracy: 0.7108\n",
            "Epoch 11: val_accuracy did not improve from 0.68000\n",
            "80/80 [==============================] - 23s 290ms/step - loss: 0.6612 - accuracy: 0.7108 - val_loss: 0.7335 - val_accuracy: 0.6500\n",
            "Epoch 12/100\n",
            "80/80 [==============================] - ETA: 0s - loss: 0.6438 - accuracy: 0.7183\n",
            "Epoch 12: val_accuracy improved from 0.68000 to 0.71667, saving model to /content/drive/MyDrive/classification-ESP-DIP/Xception_1_layers(86_false), bs-15_adam(3).hdf5\n",
            "80/80 [==============================] - 54s 677ms/step - loss: 0.6438 - accuracy: 0.7183 - val_loss: 0.8761 - val_accuracy: 0.7167\n",
            "Epoch 13/100\n",
            "80/80 [==============================] - ETA: 0s - loss: 0.9364 - accuracy: 0.5875\n",
            "Epoch 13: val_accuracy did not improve from 0.71667\n",
            "80/80 [==============================] - 23s 288ms/step - loss: 0.9364 - accuracy: 0.5875 - val_loss: 1.4296 - val_accuracy: 0.4100\n",
            "Epoch 14/100\n",
            "80/80 [==============================] - ETA: 0s - loss: 0.7992 - accuracy: 0.6450\n",
            "Epoch 14: val_accuracy did not improve from 0.71667\n",
            "80/80 [==============================] - 23s 293ms/step - loss: 0.7992 - accuracy: 0.6450 - val_loss: 0.7903 - val_accuracy: 0.6200\n",
            "Epoch 15/100\n",
            "80/80 [==============================] - ETA: 0s - loss: 0.7511 - accuracy: 0.6792\n",
            "Epoch 15: val_accuracy did not improve from 0.71667\n",
            "80/80 [==============================] - 23s 282ms/step - loss: 0.7511 - accuracy: 0.6792 - val_loss: 1.3792 - val_accuracy: 0.3500\n",
            "Epoch 16/100\n",
            "80/80 [==============================] - ETA: 0s - loss: 0.7011 - accuracy: 0.6917\n",
            "Epoch 16: val_accuracy did not improve from 0.71667\n",
            "80/80 [==============================] - 22s 280ms/step - loss: 0.7011 - accuracy: 0.6917 - val_loss: 0.7497 - val_accuracy: 0.6333\n",
            "Epoch 17/100\n",
            "80/80 [==============================] - ETA: 0s - loss: 0.6023 - accuracy: 0.7400\n",
            "Epoch 17: val_accuracy did not improve from 0.71667\n",
            "80/80 [==============================] - 23s 284ms/step - loss: 0.6023 - accuracy: 0.7400 - val_loss: 0.7768 - val_accuracy: 0.6833\n",
            "Epoch 18/100\n",
            "80/80 [==============================] - ETA: 0s - loss: 0.5966 - accuracy: 0.7458\n",
            "Epoch 18: val_accuracy did not improve from 0.71667\n",
            "80/80 [==============================] - 23s 291ms/step - loss: 0.5966 - accuracy: 0.7458 - val_loss: 0.6868 - val_accuracy: 0.7100\n",
            "Epoch 19/100\n",
            "80/80 [==============================] - ETA: 0s - loss: 0.5529 - accuracy: 0.7700\n",
            "Epoch 19: val_accuracy did not improve from 0.71667\n",
            "80/80 [==============================] - 24s 296ms/step - loss: 0.5529 - accuracy: 0.7700 - val_loss: 0.6875 - val_accuracy: 0.7033\n",
            "Epoch 20/100\n",
            "80/80 [==============================] - ETA: 0s - loss: 0.5093 - accuracy: 0.7842\n",
            "Epoch 20: val_accuracy did not improve from 0.71667\n",
            "80/80 [==============================] - 23s 282ms/step - loss: 0.5093 - accuracy: 0.7842 - val_loss: 0.6971 - val_accuracy: 0.6967\n",
            "Epoch 21/100\n",
            "80/80 [==============================] - ETA: 0s - loss: 0.4651 - accuracy: 0.8100\n",
            "Epoch 21: val_accuracy did not improve from 0.71667\n",
            "80/80 [==============================] - 24s 299ms/step - loss: 0.4651 - accuracy: 0.8100 - val_loss: 0.7016 - val_accuracy: 0.6900\n",
            "Epoch 22/100\n",
            "80/80 [==============================] - ETA: 0s - loss: 0.4655 - accuracy: 0.8200\n",
            "Epoch 22: val_accuracy did not improve from 0.71667\n",
            "80/80 [==============================] - 23s 284ms/step - loss: 0.4655 - accuracy: 0.8200 - val_loss: 0.7987 - val_accuracy: 0.6700\n",
            "Epoch 23/100\n",
            "80/80 [==============================] - ETA: 0s - loss: 0.4226 - accuracy: 0.8333\n",
            "Epoch 23: val_accuracy did not improve from 0.71667\n",
            "80/80 [==============================] - 24s 296ms/step - loss: 0.4226 - accuracy: 0.8333 - val_loss: 1.6375 - val_accuracy: 0.5767\n",
            "Epoch 24/100\n",
            "80/80 [==============================] - ETA: 0s - loss: 0.4063 - accuracy: 0.8325\n",
            "Epoch 24: val_accuracy did not improve from 0.71667\n",
            "80/80 [==============================] - 23s 289ms/step - loss: 0.4063 - accuracy: 0.8325 - val_loss: 0.7032 - val_accuracy: 0.6767\n"
          ]
        }
      ],
      "source": [
        "history = transfer_model.fit(X_train, np.array(y_train),\n",
        "                             batch_size=15,\n",
        "                             epochs=100,\n",
        "                             shuffle=True,\n",
        "                             validation_data=(X_test, np.array(y_test)),\n",
        "                             callbacks=[earlystopping_val_acc,\n",
        "                                        earlystopping_val_loss,\n",
        "                                        checkpoint])"
      ]
    },
    {
      "cell_type": "code",
      "execution_count": 19,
      "metadata": {
        "id": "_11ajDHSFSlR"
      },
      "outputs": [],
      "source": [
        "transfer_model.load_weights('/content/drive/MyDrive/classification-ESP-DIP/Xception_1_layers(86_false), bs-20_adam.hdf5')"
      ]
    },
    {
      "cell_type": "code",
      "execution_count": 23,
      "metadata": {
        "colab": {
          "base_uri": "https://localhost:8080/"
        },
        "id": "S1iRuVaA4A_o",
        "outputId": "4c7d6bfa-be82-4ae1-9126-de091be0212d"
      },
      "outputs": [
        {
          "name": "stdout",
          "output_type": "stream",
          "text": [
            "10/10 [==============================] - 6s 257ms/step\n"
          ]
        }
      ],
      "source": [
        "y_preds = transfer_model.predict(X_test)"
      ]
    },
    {
      "cell_type": "code",
      "execution_count": 24,
      "metadata": {
        "id": "u5M9eEddDKFi"
      },
      "outputs": [],
      "source": [
        "# memory management\n",
        "X_train = None\n",
        "y_train = None"
      ]
    },
    {
      "cell_type": "code",
      "execution_count": null,
      "metadata": {},
      "outputs": [],
      "source": [
        "y_pred_c = np.argmax(y_preds, axis=1)\n",
        "y_test_c = np.argmax(y_test, axis=1)"
      ]
    },
    {
      "cell_type": "code",
      "execution_count": 29,
      "metadata": {
        "colab": {
          "base_uri": "https://localhost:8080/"
        },
        "id": "fMXzQs0Q41_o",
        "outputId": "8837e1d1-c3b6-48a7-9dd1-6c09698703ab"
      },
      "outputs": [
        {
          "data": {
            "text/plain": [
              "((300, 3), (300, 3))"
            ]
          },
          "execution_count": 29,
          "metadata": {},
          "output_type": "execute_result"
        }
      ],
      "source": [
        "np.array(y_test).shape, y_preds.shape"
      ]
    },
    {
      "cell_type": "code",
      "execution_count": 31,
      "metadata": {
        "colab": {
          "base_uri": "https://localhost:8080/"
        },
        "id": "75vQ78Qh4xaU",
        "outputId": "3fd962d8-10b4-4c6f-c3f2-d8f5d257ee4c"
      },
      "outputs": [
        {
          "data": {
            "text/plain": [
              "array([[79, 24,  4],\n",
              "       [16, 81,  4],\n",
              "       [12, 25, 55]])"
            ]
          },
          "execution_count": 31,
          "metadata": {},
          "output_type": "execute_result"
        }
      ],
      "source": [
        "cm = confusion_matrix(y_test_c, y_pred_c)\n",
        "cm"
      ]
    },
    {
      "cell_type": "code",
      "execution_count": 32,
      "metadata": {
        "colab": {
          "base_uri": "https://localhost:8080/",
          "height": 450
        },
        "id": "pGFsb5208tsj",
        "outputId": "0540dd5a-d7ac-4a34-8ddc-efb7b5310077"
      },
      "outputs": [
        {
          "data": {
            "image/png": "[encoded data removed]",
            "text/plain": [
              "<Figure size 640x480 with 2 Axes>"
            ]
          },
          "metadata": {},
          "output_type": "display_data"
        }
      ],
      "source": [
        "disp_cm = ConfusionMatrixDisplay(confusion_matrix(y_test_c, y_pred_c) ,display_labels=['BCC','IEC','SCC'])\n",
        "disp_cm.plot()\n",
        "plt.show()"
      ]
    },
    {
      "cell_type": "code",
      "execution_count": 30,
      "metadata": {
        "id": "S8cLlI_uD9vc"
      },
      "outputs": [],
      "source": []
    }
  ],
  "metadata": {
    "accelerator": "GPU",
    "colab": {
      "collapsed_sections": [
        "pC4kOJgOHGMh",
        "_xK_XkgbySUR",
        "QISrJ3qJAixc"
      ],
      "gpuType": "T4",
      "provenance": []
    },
    "kernelspec": {
      "display_name": "Python 3",
      "name": "python3"
    },
    "language_info": {
      "codemirror_mode": {
        "name": "ipython",
        "version": 3
      },
      "file_extension": ".py",
      "mimetype": "text/x-python",
      "name": "python",
      "nbconvert_exporter": "python",
      "pygments_lexer": "ipython3",
      "version": "3.10.5"
    },
    "vscode": {
      "interpreter": {
        "hash": "a9cff5a362bc38ef45d817ae74b1af54d6a076e3d773891282bce078b815ba34"
      }
    }
  },
  "nbformat": 4,
  "nbformat_minor": 0
}
