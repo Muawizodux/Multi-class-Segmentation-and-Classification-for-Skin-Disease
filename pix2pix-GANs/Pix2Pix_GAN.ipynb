{
  "nbformat": 4,
  "nbformat_minor": 0,
  "metadata": {
    "colab": {
      "provenance": [],
      "gpuType": "T4",
      "collapsed_sections": [
        "ZztitR2qq56D",
        "txjYYIAfWfcz"
      ],
      "mount_file_id": "1pPuDbbMsu9MsCMxjP8-mQCCvP3impQjc",
      "authorship_tag": "ABX9TyPhV1EioAFW/6CMP6EZ+vPy",
      "include_colab_link": true
    },
    "kernelspec": {
      "name": "python3",
      "display_name": "Python 3"
    },
    "language_info": {
      "name": "python"
    }
  },
  "cells": [
    {
      "cell_type": "markdown",
      "metadata": {
        "id": "view-in-github",
        "colab_type": "text"
      },
      "source": [
        "<a href=\"https://colab.research.google.com/github/Muawizodux/Multi-class-Segmentation-and-Classification-for-Skin-Disease/blob/main/pix2pix-GANs/Pix2Pix_GAN.ipynb\" target=\"_parent\"><img src=\"https://colab.research.google.com/assets/colab-badge.svg\" alt=\"Open In Colab\"/></a>"
      ]
    },
    {
      "cell_type": "code",
      "source": [
        "from google.colab import drive\n",
        "drive.mount('/content/drive')"
      ],
      "metadata": {
        "colab": {
          "base_uri": "https://localhost:8080/"
        },
        "id": "FD_KEh72Lm51",
        "outputId": "178a19d1-fe79-4b78-f261-595c9ad09a85"
      },
      "execution_count": null,
      "outputs": [
        {
          "output_type": "stream",
          "name": "stdout",
          "text": [
            "Drive already mounted at /content/drive; to attempt to forcibly remount, call drive.mount(\"/content/drive\", force_remount=True).\n"
          ]
        }
      ]
    },
    {
      "cell_type": "code",
      "execution_count": null,
      "metadata": {
        "id": "ureCw2yXJaUB"
      },
      "outputs": [],
      "source": [
        "import os\n",
        "from PIL import Image\n",
        "import numpy as np\n",
        "import matplotlib.pyplot as plt\n",
        "import torch\n",
        "import torch.nn as nn\n",
        "import torch.optim as optim\n",
        "from torch.utils.data import Dataset, DataLoader\n",
        "from torchvision.utils import make_grid\n",
        "from tqdm import tqdm\n",
        "import config # upload manually\n",
        "import utils # upload manually\n",
        "from google.colab.patches import cv2_imshow"
      ]
    },
    {
      "cell_type": "code",
      "source": [
        "import torch.nn.functional as F"
      ],
      "metadata": {
        "id": "oVPmfrFOgopm"
      },
      "execution_count": null,
      "outputs": []
    },
    {
      "cell_type": "code",
      "source": [
        "def show_tensor(tensor, channel=1, size=(28, 28), num=25):\n",
        "  img_data = tensor.detach().cpu().view(-1, channel, *size)\n",
        "  grid = make_grid(img_data[:num] * 0.5 + 0.5, nrows=4).permute(1, 2, 0)\n",
        "  plt.imshow(grid)\n",
        "  plt.show()"
      ],
      "metadata": {
        "id": "ggNKmZVt1Xkq"
      },
      "execution_count": null,
      "outputs": []
    },
    {
      "cell_type": "markdown",
      "source": [
        "### **Pix2Pix Generative Adversarial Network (Pix2pix GAN)**\n",
        "\n",
        "* `Discriminator: ` Patch-GAN\n",
        "* `Generator: ` U-net"
      ],
      "metadata": {
        "id": "ZztitR2qq56D"
      }
    },
    {
      "cell_type": "code",
      "source": [
        "# Discriminator\n",
        "class CNN_BLOCK(nn.Module):\n",
        "  def __init__(self, in_channels, out_channels, stride=2):\n",
        "    super().__init__()\n",
        "    self.conv = nn.Sequential(\n",
        "        nn.Conv2d(in_channels, out_channels, 4, stride, bias=False, padding_mode='reflect'),\n",
        "        nn.BatchNorm2d(out_channels),\n",
        "        nn.LeakyReLU(0.2)\n",
        "    )\n",
        "\n",
        "  def forward(self, x):\n",
        "    return self.conv(x)\n",
        "\n",
        "class Discriminator(nn.Module):\n",
        "  def __init__(self, in_features=3, out_features=[64, 128, 256, 512]):\n",
        "    super(Discriminator, self).__init__()\n",
        "\n",
        "    # Patch-GAN: Using patches of images with a stride 2\n",
        "    self.initial = nn.Sequential(\n",
        "        nn.Conv2d(in_features*2, out_features[0], 4, stride=2, padding=1, padding_mode='reflect'),\n",
        "        nn.LeakyReLU(0.2)\n",
        "    )\n",
        "\n",
        "    layers = []\n",
        "    in_channels= out_features[0]\n",
        "    for features in out_features[1:]:\n",
        "      layers.append(\n",
        "          CNN_BLOCK(in_channels, features, stride = 1 if features == out_features[-1] else 2)\n",
        "      )\n",
        "      in_channels = features\n",
        "\n",
        "    layers.append(\n",
        "        nn.Conv2d(in_channels, 1, 4, stride=1, padding=1, padding_mode='reflect')\n",
        "    )\n",
        "    self.model = nn.Sequential(*layers)\n",
        "\n",
        "  def forward(self, x, y):\n",
        "    x = torch.cat([x, y], dim=1) # across channels\n",
        "    x = self.initial(x)\n",
        "    return self.model(x)"
      ],
      "metadata": {
        "id": "p7F4urBlUVWK"
      },
      "execution_count": null,
      "outputs": []
    },
    {
      "cell_type": "code",
      "source": [
        "# Testing\n",
        "x = torch.rand(5, 3, 286, 286)\n",
        "y = torch.rand(5, 3, 286, 286)\n",
        "model = Discriminator()\n",
        "test_var = model(x, y)\n",
        "test_var.shape"
      ],
      "metadata": {
        "colab": {
          "base_uri": "https://localhost:8080/"
        },
        "id": "bKQNqkhzXdFr",
        "outputId": "d20e0190-5681-4c6b-b301-910d67b3d02a"
      },
      "execution_count": null,
      "outputs": [
        {
          "output_type": "execute_result",
          "data": {
            "text/plain": [
              "torch.Size([5, 1, 30, 30])"
            ]
          },
          "metadata": {},
          "execution_count": 6
        }
      ]
    },
    {
      "cell_type": "code",
      "source": [
        "model"
      ],
      "metadata": {
        "colab": {
          "base_uri": "https://localhost:8080/"
        },
        "collapsed": true,
        "id": "Kuiy_6b102oN",
        "outputId": "8e4b7ce5-4043-47b2-cb8e-dffd4bc5fa18"
      },
      "execution_count": null,
      "outputs": [
        {
          "output_type": "execute_result",
          "data": {
            "text/plain": [
              "Discriminator(\n",
              "  (initial): Sequential(\n",
              "    (0): Conv2d(6, 64, kernel_size=(4, 4), stride=(2, 2), padding=(1, 1), padding_mode=reflect)\n",
              "    (1): LeakyReLU(negative_slope=0.2)\n",
              "  )\n",
              "  (model): Sequential(\n",
              "    (0): CNN_BLOCK(\n",
              "      (conv): Sequential(\n",
              "        (0): Conv2d(64, 128, kernel_size=(4, 4), stride=(2, 2), bias=False, padding_mode=reflect)\n",
              "        (1): BatchNorm2d(128, eps=1e-05, momentum=0.1, affine=True, track_running_stats=True)\n",
              "        (2): LeakyReLU(negative_slope=0.2)\n",
              "      )\n",
              "    )\n",
              "    (1): CNN_BLOCK(\n",
              "      (conv): Sequential(\n",
              "        (0): Conv2d(128, 256, kernel_size=(4, 4), stride=(2, 2), bias=False, padding_mode=reflect)\n",
              "        (1): BatchNorm2d(256, eps=1e-05, momentum=0.1, affine=True, track_running_stats=True)\n",
              "        (2): LeakyReLU(negative_slope=0.2)\n",
              "      )\n",
              "    )\n",
              "    (2): CNN_BLOCK(\n",
              "      (conv): Sequential(\n",
              "        (0): Conv2d(256, 512, kernel_size=(4, 4), stride=(1, 1), bias=False, padding_mode=reflect)\n",
              "        (1): BatchNorm2d(512, eps=1e-05, momentum=0.1, affine=True, track_running_stats=True)\n",
              "        (2): LeakyReLU(negative_slope=0.2)\n",
              "      )\n",
              "    )\n",
              "    (3): Conv2d(512, 1, kernel_size=(4, 4), stride=(1, 1), padding=(1, 1), padding_mode=reflect)\n",
              "  )\n",
              ")"
            ]
          },
          "metadata": {},
          "execution_count": 7
        }
      ]
    },
    {
      "cell_type": "code",
      "source": [
        "# Generator\n",
        "class Block(nn.Module):\n",
        "  def __init__(self, in_channels, out_channels, down=True, act=\"relu\", use_dropout=False):\n",
        "    super().__init__()\n",
        "    self.conv = nn.Sequential(\n",
        "        nn.Conv2d(in_channels, out_channels, 4, 2, 1, bias=False, padding_mode='reflect') if down\n",
        "        else\n",
        "        nn.ConvTranspose2d(in_channels, out_channels, 4, 2, 1, bias=False),\n",
        "        nn.BatchNorm2d(out_channels),\n",
        "        nn.ReLU() if act==\"relu\" else nn.LeakyReLU(0.2)\n",
        "    )\n",
        "    self.use_dropout = use_dropout\n",
        "    self.dropout = nn.Dropout(0.5)\n",
        "\n",
        "  def forward(self, x):\n",
        "    x = self.conv(x)\n",
        "    return self.dropout(x) if self.use_dropout else x\n",
        "\n",
        "class Generator(nn.Module):\n",
        "  def __init__(self, in_channels = 3, features = 64):\n",
        "    super().__init__()\n",
        "    # U-net Downward Contraction path:\n",
        "    self.initial = nn.Sequential(\n",
        "        nn.Conv2d(in_channels, features, 4, 2, 1, padding_mode='reflect'),\n",
        "        nn.LeakyReLU(0.2)\n",
        "    )\n",
        "    self.down1 = Block(features, features*2, act=\"leaky\")\n",
        "    self.down2 = Block(features*2, features*4, act=\"leaky\")\n",
        "    self.down3 = Block(features*4, features*8, act=\"leaky\")\n",
        "    self.down4 = Block(features*8, features*8, act=\"leaky\")\n",
        "    self.down5 = Block(features*8, features*8, act=\"leaky\")\n",
        "    self.down6 = Block(features*8, features*8, act=\"leaky\")\n",
        "    self.bottleneck = nn.Sequential(\n",
        "        nn.Conv2d(features*8, features*8, 4, 2, 1, padding_mode='reflect'),\n",
        "        nn.ReLU()\n",
        "    )\n",
        "\n",
        "    # U-net Upward Expansion path:\n",
        "    self.up1 = Block(features*8, features*8, down=False, use_dropout=True)\n",
        "    self.up2 = Block(features*8*2, features*8, down=False, use_dropout=True)\n",
        "    self.up3 = Block(features*8*2, features*8, down=False, use_dropout=True)\n",
        "    self.up4 = Block(features*8*2, features*8, down=False, use_dropout=True)\n",
        "    self.up5 = Block(features*8*2, features*4, down=False, use_dropout=True)\n",
        "    self.up6 = Block(features*4*2, features*2, down=False, use_dropout=True)\n",
        "    self.up7 = Block(features*2*2, features, down=False, use_dropout=True)\n",
        "    self.final_up = nn.Sequential(\n",
        "        nn.ConvTranspose2d(features*2, in_channels, 4, 2, 1),\n",
        "        nn.Tanh()\n",
        "    )\n",
        "\n",
        "  def forward(self, x):\n",
        "    d1 = self.initial(x)\n",
        "    d2 = self.down1(d1)\n",
        "    d3 = self.down2(d2)\n",
        "    d4 = self.down3(d3)\n",
        "    d5 = self.down4(d4)\n",
        "    d6 = self.down5(d5)\n",
        "    d7 = self.down6(d6)\n",
        "    bottleneck = self.bottleneck(d7)\n",
        "    up1 = self.up1(bottleneck)\n",
        "    up2 = self.up2(torch.cat([up1, d7], dim=1))\n",
        "    up3 = self.up3(torch.cat([up2, d6], dim=1))\n",
        "    up4 = self.up4(torch.cat([up3, d5], dim=1))\n",
        "    up5 = self.up5(torch.cat([up4, d4], dim=1))\n",
        "    up6 = self.up6(torch.cat([up5, d3], dim=1))\n",
        "    up7 = self.up7(torch.cat([up6, d2], dim=1))\n",
        "    return self.final_up(torch.cat([up7, d1], dim=1))"
      ],
      "metadata": {
        "id": "4p0Tb6dAYlSq"
      },
      "execution_count": null,
      "outputs": []
    },
    {
      "cell_type": "code",
      "source": [
        "# Testing\n",
        "x = torch.randn(5, 3, 256, 256)\n",
        "model = Generator()\n",
        "test_var = model(x)\n",
        "test_var.shape"
      ],
      "metadata": {
        "colab": {
          "base_uri": "https://localhost:8080/"
        },
        "id": "B6cDObxNZbQZ",
        "outputId": "9d90ddc6-d407-4dd3-fd8c-741f5997f846"
      },
      "execution_count": null,
      "outputs": [
        {
          "output_type": "execute_result",
          "data": {
            "text/plain": [
              "torch.Size([5, 3, 256, 256])"
            ]
          },
          "metadata": {},
          "execution_count": 9
        }
      ]
    },
    {
      "cell_type": "code",
      "source": [
        "model"
      ],
      "metadata": {
        "colab": {
          "base_uri": "https://localhost:8080/"
        },
        "id": "nuJVdAbLqEPw",
        "outputId": "c70c0198-d67e-4372-f79d-2001c3a1a0df",
        "collapsed": true
      },
      "execution_count": null,
      "outputs": [
        {
          "output_type": "execute_result",
          "data": {
            "text/plain": [
              "Generator(\n",
              "  (initial): Sequential(\n",
              "    (0): Conv2d(3, 64, kernel_size=(4, 4), stride=(2, 2), padding=(1, 1), padding_mode=reflect)\n",
              "    (1): LeakyReLU(negative_slope=0.2)\n",
              "  )\n",
              "  (down1): Block(\n",
              "    (conv): Sequential(\n",
              "      (0): Conv2d(64, 128, kernel_size=(4, 4), stride=(2, 2), padding=(1, 1), bias=False, padding_mode=reflect)\n",
              "      (1): BatchNorm2d(128, eps=1e-05, momentum=0.1, affine=True, track_running_stats=True)\n",
              "      (2): LeakyReLU(negative_slope=0.2)\n",
              "    )\n",
              "    (dropout): Dropout(p=0.5, inplace=False)\n",
              "  )\n",
              "  (down2): Block(\n",
              "    (conv): Sequential(\n",
              "      (0): Conv2d(128, 256, kernel_size=(4, 4), stride=(2, 2), padding=(1, 1), bias=False, padding_mode=reflect)\n",
              "      (1): BatchNorm2d(256, eps=1e-05, momentum=0.1, affine=True, track_running_stats=True)\n",
              "      (2): LeakyReLU(negative_slope=0.2)\n",
              "    )\n",
              "    (dropout): Dropout(p=0.5, inplace=False)\n",
              "  )\n",
              "  (down3): Block(\n",
              "    (conv): Sequential(\n",
              "      (0): Conv2d(256, 512, kernel_size=(4, 4), stride=(2, 2), padding=(1, 1), bias=False, padding_mode=reflect)\n",
              "      (1): BatchNorm2d(512, eps=1e-05, momentum=0.1, affine=True, track_running_stats=True)\n",
              "      (2): LeakyReLU(negative_slope=0.2)\n",
              "    )\n",
              "    (dropout): Dropout(p=0.5, inplace=False)\n",
              "  )\n",
              "  (down4): Block(\n",
              "    (conv): Sequential(\n",
              "      (0): Conv2d(512, 512, kernel_size=(4, 4), stride=(2, 2), padding=(1, 1), bias=False, padding_mode=reflect)\n",
              "      (1): BatchNorm2d(512, eps=1e-05, momentum=0.1, affine=True, track_running_stats=True)\n",
              "      (2): LeakyReLU(negative_slope=0.2)\n",
              "    )\n",
              "    (dropout): Dropout(p=0.5, inplace=False)\n",
              "  )\n",
              "  (down5): Block(\n",
              "    (conv): Sequential(\n",
              "      (0): Conv2d(512, 512, kernel_size=(4, 4), stride=(2, 2), padding=(1, 1), bias=False, padding_mode=reflect)\n",
              "      (1): BatchNorm2d(512, eps=1e-05, momentum=0.1, affine=True, track_running_stats=True)\n",
              "      (2): LeakyReLU(negative_slope=0.2)\n",
              "    )\n",
              "    (dropout): Dropout(p=0.5, inplace=False)\n",
              "  )\n",
              "  (down6): Block(\n",
              "    (conv): Sequential(\n",
              "      (0): Conv2d(512, 512, kernel_size=(4, 4), stride=(2, 2), padding=(1, 1), bias=False, padding_mode=reflect)\n",
              "      (1): BatchNorm2d(512, eps=1e-05, momentum=0.1, affine=True, track_running_stats=True)\n",
              "      (2): LeakyReLU(negative_slope=0.2)\n",
              "    )\n",
              "    (dropout): Dropout(p=0.5, inplace=False)\n",
              "  )\n",
              "  (bottleneck): Sequential(\n",
              "    (0): Conv2d(512, 512, kernel_size=(4, 4), stride=(2, 2), padding=(1, 1), padding_mode=reflect)\n",
              "    (1): ReLU()\n",
              "  )\n",
              "  (up1): Block(\n",
              "    (conv): Sequential(\n",
              "      (0): ConvTranspose2d(512, 512, kernel_size=(4, 4), stride=(2, 2), padding=(1, 1), bias=False)\n",
              "      (1): BatchNorm2d(512, eps=1e-05, momentum=0.1, affine=True, track_running_stats=True)\n",
              "      (2): ReLU()\n",
              "    )\n",
              "    (dropout): Dropout(p=0.5, inplace=False)\n",
              "  )\n",
              "  (up2): Block(\n",
              "    (conv): Sequential(\n",
              "      (0): ConvTranspose2d(1024, 512, kernel_size=(4, 4), stride=(2, 2), padding=(1, 1), bias=False)\n",
              "      (1): BatchNorm2d(512, eps=1e-05, momentum=0.1, affine=True, track_running_stats=True)\n",
              "      (2): ReLU()\n",
              "    )\n",
              "    (dropout): Dropout(p=0.5, inplace=False)\n",
              "  )\n",
              "  (up3): Block(\n",
              "    (conv): Sequential(\n",
              "      (0): ConvTranspose2d(1024, 512, kernel_size=(4, 4), stride=(2, 2), padding=(1, 1), bias=False)\n",
              "      (1): BatchNorm2d(512, eps=1e-05, momentum=0.1, affine=True, track_running_stats=True)\n",
              "      (2): ReLU()\n",
              "    )\n",
              "    (dropout): Dropout(p=0.5, inplace=False)\n",
              "  )\n",
              "  (up4): Block(\n",
              "    (conv): Sequential(\n",
              "      (0): ConvTranspose2d(1024, 512, kernel_size=(4, 4), stride=(2, 2), padding=(1, 1), bias=False)\n",
              "      (1): BatchNorm2d(512, eps=1e-05, momentum=0.1, affine=True, track_running_stats=True)\n",
              "      (2): ReLU()\n",
              "    )\n",
              "    (dropout): Dropout(p=0.5, inplace=False)\n",
              "  )\n",
              "  (up5): Block(\n",
              "    (conv): Sequential(\n",
              "      (0): ConvTranspose2d(1024, 256, kernel_size=(4, 4), stride=(2, 2), padding=(1, 1), bias=False)\n",
              "      (1): BatchNorm2d(256, eps=1e-05, momentum=0.1, affine=True, track_running_stats=True)\n",
              "      (2): ReLU()\n",
              "    )\n",
              "    (dropout): Dropout(p=0.5, inplace=False)\n",
              "  )\n",
              "  (up6): Block(\n",
              "    (conv): Sequential(\n",
              "      (0): ConvTranspose2d(512, 128, kernel_size=(4, 4), stride=(2, 2), padding=(1, 1), bias=False)\n",
              "      (1): BatchNorm2d(128, eps=1e-05, momentum=0.1, affine=True, track_running_stats=True)\n",
              "      (2): ReLU()\n",
              "    )\n",
              "    (dropout): Dropout(p=0.5, inplace=False)\n",
              "  )\n",
              "  (up7): Block(\n",
              "    (conv): Sequential(\n",
              "      (0): ConvTranspose2d(256, 64, kernel_size=(4, 4), stride=(2, 2), padding=(1, 1), bias=False)\n",
              "      (1): BatchNorm2d(64, eps=1e-05, momentum=0.1, affine=True, track_running_stats=True)\n",
              "      (2): ReLU()\n",
              "    )\n",
              "    (dropout): Dropout(p=0.5, inplace=False)\n",
              "  )\n",
              "  (final_up): Sequential(\n",
              "    (0): ConvTranspose2d(128, 3, kernel_size=(4, 4), stride=(2, 2), padding=(1, 1))\n",
              "    (1): Tanh()\n",
              "  )\n",
              ")"
            ]
          },
          "metadata": {},
          "execution_count": 10
        }
      ]
    },
    {
      "cell_type": "markdown",
      "source": [
        "#### **Dataset Prepration**\n",
        "`Non_Melanoma Skin Cancer`"
      ],
      "metadata": {
        "id": "txjYYIAfWfcz"
      }
    },
    {
      "cell_type": "code",
      "source": [
        "non_melanoma_data = np.load('/content/drive/MyDrive/pix2pix/Preprocessed_data_v2.npy')"
      ],
      "metadata": {
        "id": "dNe6w99pHvQe"
      },
      "execution_count": null,
      "outputs": []
    },
    {
      "cell_type": "code",
      "source": [
        "# Dataset\n",
        "class MapDataset(nn.Module):\n",
        "  def __init__(self, data: np.ndarray):\n",
        "    self.data = data\n",
        "\n",
        "  def __len__(self):\n",
        "    return len(self.data)\n",
        "\n",
        "  def __getitem__(self, index):\n",
        "    # image = np.array(Image.open(image_path)) # so we can actually apply albumentations\n",
        "    image = self.data[index]\n",
        "\n",
        "    # Dont have dataset images this way: --> BGR to RGB conversion because opencv was used for loading images\n",
        "    input_image = image[:, :256, :][:, :, [2, 1, 0]]\n",
        "    target_image = image[:, 256:, :][:, :, [2, 1, 0]]\n",
        "    # --------------------------------------\n",
        "\n",
        "    augmentations = config.both_transforms(image=input_image, image0=target_image)\n",
        "    input_image, target_image = augmentations['image'], augmentations['image0']\n",
        "\n",
        "    input_image = config.transform_only_input(image=input_image)[\"image\"]\n",
        "    target_image = config.transform_only_mask(image=target_image)[\"image\"]\n",
        "\n",
        "    return input_image, target_image"
      ],
      "metadata": {
        "id": "OxGxYn6XrE2d"
      },
      "execution_count": null,
      "outputs": []
    },
    {
      "cell_type": "code",
      "source": [
        "train_dataset = MapDataset(non_melanoma_data[:1300, :, :, :])\n",
        "train_loader = DataLoader(train_dataset, batch_size=16, shuffle=True, num_workers=config.NUM_WORKERS)"
      ],
      "metadata": {
        "id": "V4Ujnl9gJhTa"
      },
      "execution_count": null,
      "outputs": []
    },
    {
      "cell_type": "code",
      "source": [
        "image, label = next(iter(train_loader))\n",
        "image.shape, label.shape"
      ],
      "metadata": {
        "colab": {
          "base_uri": "https://localhost:8080/"
        },
        "collapsed": true,
        "id": "aa8hVgmRLhdc",
        "outputId": "39c31e5b-c255-4fba-daae-d8cd263ce694"
      },
      "execution_count": null,
      "outputs": [
        {
          "output_type": "execute_result",
          "data": {
            "text/plain": [
              "(torch.Size([16, 3, 256, 256]), torch.Size([16, 3, 256, 256]))"
            ]
          },
          "metadata": {},
          "execution_count": 52
        }
      ]
    },
    {
      "cell_type": "code",
      "source": [
        "for idx, (real, label) in enumerate(train_loader):\n",
        "  if idx == 1:\n",
        "    show_tensor(real, channel=3, size=(256, 256), num=16)\n",
        "    show_tensor(label, channel=3, size=(256, 256), num=16)"
      ],
      "metadata": {
        "colab": {
          "base_uri": "https://localhost:8080/",
          "height": 363
        },
        "id": "5K99l82ZLyoK",
        "outputId": "a658ac9b-2c52-4e79-aab7-1314828eedcd"
      },
      "execution_count": null,
      "outputs": [
        {
          "output_type": "display_data",
          "data": {
            "text/plain": [
              "<Figure size 640x480 with 1 Axes>"
            ],
            "image/png": "[encoded data removed]"
          },
          "metadata": {}
        },
        {
          "output_type": "display_data",
          "data": {
            "text/plain": [
              "<Figure size 640x480 with 1 Axes>"
            ],
            "image/png": "[encoded data removed]"
          },
          "metadata": {}
        }
      ]
    },
    {
      "cell_type": "markdown",
      "source": [
        "#### **Training**"
      ],
      "metadata": {
        "id": "djmWcCZRMmhX"
      }
    },
    {
      "cell_type": "code",
      "source": [
        "def train(gen, disc, opt_gen, opt_disc, loader, bce, l1, g_scaler, d_scaler):\n",
        "  loop = tqdm(loader, leave=True)\n",
        "  for batch_idx, (x, y) in enumerate(loop):\n",
        "    x, y = x.to(config.DEVICE), y.to(config.DEVICE)\n",
        "\n",
        "    # Traing Discriminator\n",
        "    with torch.cuda.amp.autocast():\n",
        "      y_fake = gen(x)\n",
        "      D_real = disc(x, y)\n",
        "      D_fake = disc(x, y_fake.detach())\n",
        "      lossD_real = bce(D_real, torch.ones_like(D_real))\n",
        "      lossD_fake = bce(D_fake, torch.zeros_like(D_fake))\n",
        "      lossD = (lossD_real + lossD_fake) / 2\n",
        "\n",
        "    disc.zero_grad()\n",
        "    d_scaler.scale(lossD).backward()\n",
        "    d_scaler.step(opt_disc)\n",
        "    d_scaler.update()\n",
        "\n",
        "    # Train Generator\n",
        "    with torch.cuda.amp.autocast():\n",
        "      output = disc(x, y_fake)\n",
        "      main_gen_loss = bce(output, torch.ones_like(output))\n",
        "      l1_loss = l1(y_fake, y) * config.L1_LAMBDA\n",
        "      lossG = main_gen_loss + l1_loss\n",
        "\n",
        "    gen.zero_grad()\n",
        "    g_scaler.scale(lossG).backward()\n",
        "    g_scaler.step(opt_gen)\n",
        "    g_scaler.update()\n",
        "\n",
        "\n",
        "def main():\n",
        "  disc = Discriminator().to(config.DEVICE)\n",
        "  gen = Generator().to(config.DEVICE)\n",
        "  opt_disc = optim.Adam(disc.parameters(), lr=config.LEARNING_RATE, betas=(0.5, 0.999))\n",
        "  opt_gen = optim.Adam(gen.parameters(), lr=config.LEARNING_RATE, betas=(0.5, 0.999))\n",
        "  BCE = nn.BCEWithLogitsLoss()\n",
        "  L1_LOSS = nn.L1Loss()\n",
        "\n",
        "  if config.LOAD_MODEL:\n",
        "    utils.load_checkpoints(config.CHECKPOINT_DISC, disc, opt_disc, config.LEARNING_RATE)\n",
        "    utils.load_checkpoints(config.CHECKPOINT_GEN, gen, opt_gen, config.LEARNING_RATE)\n",
        "\n",
        "  train_dataset = MapDataset(non_melanoma_data[:1300, :, :, :])\n",
        "  train_loader = DataLoader(train_dataset, batch_size=16, shuffle=True, num_workers=config.NUM_WORKERS)\n",
        "  val_dataset = MapDataset(non_melanoma_data[1300:, :, :, :])\n",
        "  val_loader = DataLoader(val_dataset, batch_size=1, shuffle=False)\n",
        "\n",
        "  # Mixed Precision Training:\n",
        "  g_scaler = torch.cuda.amp.GradScaler()\n",
        "  d_scaler = torch.cuda.amp.GradScaler()\n",
        "\n",
        "  for epoch in range(200):\n",
        "    print(f\"--> Epoch {epoch}:\")\n",
        "    train(gen, disc, opt_gen, opt_disc, train_loader, BCE, L1_LOSS, g_scaler, d_scaler)\n",
        "\n",
        "    if config.SAVE_MODEL and epoch % 150 == 0 and epoch > 0:\n",
        "      utils.save_checkpoint(gen, opt_gen, filename=config.CHECKPOINT_GEN)\n",
        "      utils.save_checkpoint(disc, opt_disc, filename=config.CHECKPOINT_DISC)\n",
        "\n",
        "    utils.save_some_examples(gen, val_loader, epoch, folder=\"/content/drive/MyDrive/pix2pix/evaluation_pix2pix/\")"
      ],
      "metadata": {
        "id": "gDZZB-XPG6mX"
      },
      "execution_count": null,
      "outputs": []
    },
    {
      "cell_type": "code",
      "source": [
        "main()"
      ],
      "metadata": {
        "id": "VC9AtKyqBSQN",
        "colab": {
          "base_uri": "https://localhost:8080/"
        },
        "outputId": "1877d89c-03de-4d92-c6aa-2f745f5ae165"
      },
      "execution_count": null,
      "outputs": [
        {
          "metadata": {
            "tags": null
          },
          "name": "stdout",
          "output_type": "stream",
          "text": [
            "--> Epoch 0:\n"
          ]
        },
        {
          "metadata": {
            "tags": null
          },
          "name": "stderr",
          "output_type": "stream",
          "text": [
            "100%|██████████| 82/82 [00:15<00:00,  5.31it/s]\n"
          ]
        },
        {
          "metadata": {
            "tags": null
          },
          "name": "stdout",
          "output_type": "stream",
          "text": [
            "--> Epoch 1:\n"
          ]
        },
        {
          "metadata": {
            "tags": null
          },
          "name": "stderr",
          "output_type": "stream",
          "text": [
            "100%|██████████| 82/82 [00:15<00:00,  5.26it/s]\n"
          ]
        },
        {
          "metadata": {
            "tags": null
          },
          "name": "stdout",
          "output_type": "stream",
          "text": [
            "--> Epoch 2:\n"
          ]
        },
        {
          "metadata": {
            "tags": null
          },
          "name": "stderr",
          "output_type": "stream",
          "text": [
            "100%|██████████| 82/82 [00:15<00:00,  5.41it/s]\n"
          ]
        },
        {
          "metadata": {
            "tags": null
          },
          "name": "stdout",
          "output_type": "stream",
          "text": [
            "--> Epoch 3:\n"
          ]
        },
        {
          "metadata": {
            "tags": null
          },
          "name": "stderr",
          "output_type": "stream",
          "text": [
            "100%|██████████| 82/82 [00:15<00:00,  5.44it/s]\n"
          ]
        },
        {
          "metadata": {
            "tags": null
          },
          "name": "stdout",
          "output_type": "stream",
          "text": [
            "--> Epoch 4:\n"
          ]
        },
        {
          "metadata": {
            "tags": null
          },
          "name": "stderr",
          "output_type": "stream",
          "text": [
            "100%|██████████| 82/82 [00:15<00:00,  5.44it/s]\n"
          ]
        },
        {
          "metadata": {
            "tags": null
          },
          "name": "stdout",
          "output_type": "stream",
          "text": [
            "--> Epoch 5:\n"
          ]
        },
        {
          "metadata": {
            "tags": null
          },
          "name": "stderr",
          "output_type": "stream",
          "text": [
            "100%|██████████| 82/82 [00:15<00:00,  5.42it/s]\n"
          ]
        },
        {
          "metadata": {
            "tags": null
          },
          "name": "stdout",
          "output_type": "stream",
          "text": [
            "--> Epoch 6:\n"
          ]
        },
        {
          "metadata": {
            "tags": null
          },
          "name": "stderr",
          "output_type": "stream",
          "text": [
            "100%|██████████| 82/82 [00:15<00:00,  5.43it/s]\n"
          ]
        },
        {
          "metadata": {
            "tags": null
          },
          "name": "stdout",
          "output_type": "stream",
          "text": [
            "--> Epoch 7:\n"
          ]
        },
        {
          "metadata": {
            "tags": null
          },
          "name": "stderr",
          "output_type": "stream",
          "text": [
            "100%|██████████| 82/82 [00:15<00:00,  5.42it/s]\n"
          ]
        },
        {
          "metadata": {
            "tags": null
          },
          "name": "stdout",
          "output_type": "stream",
          "text": [
            "--> Epoch 8:\n"
          ]
        },
        {
          "metadata": {
            "tags": null
          },
          "name": "stderr",
          "output_type": "stream",
          "text": [
            "100%|██████████| 82/82 [00:15<00:00,  5.43it/s]\n"
          ]
        },
        {
          "metadata": {
            "tags": null
          },
          "name": "stdout",
          "output_type": "stream",
          "text": [
            "--> Epoch 9:\n"
          ]
        },
        {
          "metadata": {
            "tags": null
          },
          "name": "stderr",
          "output_type": "stream",
          "text": [
            "100%|██████████| 82/82 [00:15<00:00,  5.40it/s]\n"
          ]
        },
        {
          "metadata": {
            "tags": null
          },
          "name": "stdout",
          "output_type": "stream",
          "text": [
            "--> Epoch 10:\n"
          ]
        },
        {
          "metadata": {
            "tags": null
          },
          "name": "stderr",
          "output_type": "stream",
          "text": [
            "100%|██████████| 82/82 [00:15<00:00,  5.44it/s]\n"
          ]
        },
        {
          "metadata": {
            "tags": null
          },
          "name": "stdout",
          "output_type": "stream",
          "text": [
            "--> Epoch 11:\n"
          ]
        },
        {
          "metadata": {
            "tags": null
          },
          "name": "stderr",
          "output_type": "stream",
          "text": [
            "100%|██████████| 82/82 [00:15<00:00,  5.42it/s]\n"
          ]
        },
        {
          "metadata": {
            "tags": null
          },
          "name": "stdout",
          "output_type": "stream",
          "text": [
            "--> Epoch 12:\n"
          ]
        },
        {
          "metadata": {
            "tags": null
          },
          "name": "stderr",
          "output_type": "stream",
          "text": [
            "100%|██████████| 82/82 [00:14<00:00,  5.47it/s]\n"
          ]
        },
        {
          "metadata": {
            "tags": null
          },
          "name": "stdout",
          "output_type": "stream",
          "text": [
            "--> Epoch 13:\n"
          ]
        },
        {
          "metadata": {
            "tags": null
          },
          "name": "stderr",
          "output_type": "stream",
          "text": [
            "100%|██████████| 82/82 [00:15<00:00,  5.43it/s]\n"
          ]
        },
        {
          "metadata": {
            "tags": null
          },
          "name": "stdout",
          "output_type": "stream",
          "text": [
            "--> Epoch 14:\n"
          ]
        },
        {
          "metadata": {
            "tags": null
          },
          "name": "stderr",
          "output_type": "stream",
          "text": [
            "100%|██████████| 82/82 [00:15<00:00,  5.44it/s]\n"
          ]
        },
        {
          "metadata": {
            "tags": null
          },
          "name": "stdout",
          "output_type": "stream",
          "text": [
            "--> Epoch 15:\n"
          ]
        },
        {
          "metadata": {
            "tags": null
          },
          "name": "stderr",
          "output_type": "stream",
          "text": [
            "100%|██████████| 82/82 [00:15<00:00,  5.45it/s]\n"
          ]
        },
        {
          "metadata": {
            "tags": null
          },
          "name": "stdout",
          "output_type": "stream",
          "text": [
            "--> Epoch 16:\n"
          ]
        },
        {
          "metadata": {
            "tags": null
          },
          "name": "stderr",
          "output_type": "stream",
          "text": [
            "100%|██████████| 82/82 [00:15<00:00,  5.44it/s]\n"
          ]
        },
        {
          "metadata": {
            "tags": null
          },
          "name": "stdout",
          "output_type": "stream",
          "text": [
            "--> Epoch 17:\n"
          ]
        },
        {
          "metadata": {
            "tags": null
          },
          "name": "stderr",
          "output_type": "stream",
          "text": [
            "100%|██████████| 82/82 [00:15<00:00,  5.43it/s]\n"
          ]
        },
        {
          "metadata": {
            "tags": null
          },
          "name": "stdout",
          "output_type": "stream",
          "text": [
            "--> Epoch 18:\n"
          ]
        },
        {
          "metadata": {
            "tags": null
          },
          "name": "stderr",
          "output_type": "stream",
          "text": [
            "100%|██████████| 82/82 [00:15<00:00,  5.45it/s]\n"
          ]
        },
        {
          "metadata": {
            "tags": null
          },
          "name": "stdout",
          "output_type": "stream",
          "text": [
            "--> Epoch 19:\n"
          ]
        },
        {
          "metadata": {
            "tags": null
          },
          "name": "stderr",
          "output_type": "stream",
          "text": [
            "100%|██████████| 82/82 [00:15<00:00,  5.43it/s]\n"
          ]
        },
        {
          "metadata": {
            "tags": null
          },
          "name": "stdout",
          "output_type": "stream",
          "text": [
            "--> Epoch 20:\n"
          ]
        },
        {
          "metadata": {
            "tags": null
          },
          "name": "stderr",
          "output_type": "stream",
          "text": [
            "100%|██████████| 82/82 [00:15<00:00,  5.41it/s]\n"
          ]
        },
        {
          "metadata": {
            "tags": null
          },
          "name": "stdout",
          "output_type": "stream",
          "text": [
            "--> Epoch 21:\n"
          ]
        },
        {
          "metadata": {
            "tags": null
          },
          "name": "stderr",
          "output_type": "stream",
          "text": [
            "100%|██████████| 82/82 [00:15<00:00,  5.43it/s]\n"
          ]
        },
        {
          "metadata": {
            "tags": null
          },
          "name": "stdout",
          "output_type": "stream",
          "text": [
            "--> Epoch 22:\n"
          ]
        },
        {
          "metadata": {
            "tags": null
          },
          "name": "stderr",
          "output_type": "stream",
          "text": [
            "100%|██████████| 82/82 [00:15<00:00,  5.44it/s]\n"
          ]
        },
        {
          "metadata": {
            "tags": null
          },
          "name": "stdout",
          "output_type": "stream",
          "text": [
            "--> Epoch 23:\n"
          ]
        },
        {
          "metadata": {
            "tags": null
          },
          "name": "stderr",
          "output_type": "stream",
          "text": [
            "100%|██████████| 82/82 [00:15<00:00,  5.43it/s]\n"
          ]
        },
        {
          "metadata": {
            "tags": null
          },
          "name": "stdout",
          "output_type": "stream",
          "text": [
            "--> Epoch 24:\n"
          ]
        },
        {
          "metadata": {
            "tags": null
          },
          "name": "stderr",
          "output_type": "stream",
          "text": [
            "100%|██████████| 82/82 [00:15<00:00,  5.47it/s]\n"
          ]
        },
        {
          "metadata": {
            "tags": null
          },
          "name": "stdout",
          "output_type": "stream",
          "text": [
            "--> Epoch 25:\n"
          ]
        },
        {
          "metadata": {
            "tags": null
          },
          "name": "stderr",
          "output_type": "stream",
          "text": [
            "100%|██████████| 82/82 [00:15<00:00,  5.45it/s]\n"
          ]
        },
        {
          "metadata": {
            "tags": null
          },
          "name": "stdout",
          "output_type": "stream",
          "text": [
            "--> Epoch 26:\n"
          ]
        },
        {
          "metadata": {
            "tags": null
          },
          "name": "stderr",
          "output_type": "stream",
          "text": [
            "100%|██████████| 82/82 [00:14<00:00,  5.47it/s]\n"
          ]
        },
        {
          "metadata": {
            "tags": null
          },
          "name": "stdout",
          "output_type": "stream",
          "text": [
            "--> Epoch 27:\n"
          ]
        },
        {
          "metadata": {
            "tags": null
          },
          "name": "stderr",
          "output_type": "stream",
          "text": [
            "100%|██████████| 82/82 [00:15<00:00,  5.45it/s]\n"
          ]
        },
        {
          "metadata": {
            "tags": null
          },
          "name": "stdout",
          "output_type": "stream",
          "text": [
            "--> Epoch 28:\n"
          ]
        },
        {
          "metadata": {
            "tags": null
          },
          "name": "stderr",
          "output_type": "stream",
          "text": [
            "100%|██████████| 82/82 [00:15<00:00,  5.44it/s]\n"
          ]
        },
        {
          "metadata": {
            "tags": null
          },
          "name": "stdout",
          "output_type": "stream",
          "text": [
            "--> Epoch 29:\n"
          ]
        },
        {
          "metadata": {
            "tags": null
          },
          "name": "stderr",
          "output_type": "stream",
          "text": [
            "100%|██████████| 82/82 [00:15<00:00,  5.43it/s]\n"
          ]
        },
        {
          "metadata": {
            "tags": null
          },
          "name": "stdout",
          "output_type": "stream",
          "text": [
            "--> Epoch 30:\n"
          ]
        },
        {
          "metadata": {
            "tags": null
          },
          "name": "stderr",
          "output_type": "stream",
          "text": [
            "100%|██████████| 82/82 [00:15<00:00,  5.43it/s]\n"
          ]
        },
        {
          "metadata": {
            "tags": null
          },
          "name": "stdout",
          "output_type": "stream",
          "text": [
            "--> Epoch 31:\n"
          ]
        },
        {
          "metadata": {
            "tags": null
          },
          "name": "stderr",
          "output_type": "stream",
          "text": [
            "100%|██████████| 82/82 [00:15<00:00,  5.46it/s]\n"
          ]
        },
        {
          "metadata": {
            "tags": null
          },
          "name": "stdout",
          "output_type": "stream",
          "text": [
            "--> Epoch 32:\n"
          ]
        },
        {
          "metadata": {
            "tags": null
          },
          "name": "stderr",
          "output_type": "stream",
          "text": [
            "100%|██████████| 82/82 [00:15<00:00,  5.46it/s]\n"
          ]
        },
        {
          "metadata": {
            "tags": null
          },
          "name": "stdout",
          "output_type": "stream",
          "text": [
            "--> Epoch 33:\n"
          ]
        },
        {
          "metadata": {
            "tags": null
          },
          "name": "stderr",
          "output_type": "stream",
          "text": [
            "100%|██████████| 82/82 [00:15<00:00,  5.44it/s]\n"
          ]
        },
        {
          "metadata": {
            "tags": null
          },
          "name": "stdout",
          "output_type": "stream",
          "text": [
            "--> Epoch 34:\n"
          ]
        },
        {
          "metadata": {
            "tags": null
          },
          "name": "stderr",
          "output_type": "stream",
          "text": [
            "100%|██████████| 82/82 [00:14<00:00,  5.48it/s]\n"
          ]
        },
        {
          "metadata": {
            "tags": null
          },
          "name": "stdout",
          "output_type": "stream",
          "text": [
            "--> Epoch 35:\n"
          ]
        },
        {
          "metadata": {
            "tags": null
          },
          "name": "stderr",
          "output_type": "stream",
          "text": [
            "100%|██████████| 82/82 [00:15<00:00,  5.43it/s]\n"
          ]
        },
        {
          "metadata": {
            "tags": null
          },
          "name": "stdout",
          "output_type": "stream",
          "text": [
            "--> Epoch 36:\n"
          ]
        },
        {
          "metadata": {
            "tags": null
          },
          "name": "stderr",
          "output_type": "stream",
          "text": [
            "100%|██████████| 82/82 [00:14<00:00,  5.50it/s]\n"
          ]
        },
        {
          "metadata": {
            "tags": null
          },
          "name": "stdout",
          "output_type": "stream",
          "text": [
            "--> Epoch 37:\n"
          ]
        },
        {
          "metadata": {
            "tags": null
          },
          "name": "stderr",
          "output_type": "stream",
          "text": [
            "100%|██████████| 82/82 [00:15<00:00,  5.43it/s]\n"
          ]
        },
        {
          "metadata": {
            "tags": null
          },
          "name": "stdout",
          "output_type": "stream",
          "text": [
            "--> Epoch 38:\n"
          ]
        },
        {
          "metadata": {
            "tags": null
          },
          "name": "stderr",
          "output_type": "stream",
          "text": [
            "100%|██████████| 82/82 [00:15<00:00,  5.44it/s]\n"
          ]
        },
        {
          "metadata": {
            "tags": null
          },
          "name": "stdout",
          "output_type": "stream",
          "text": [
            "--> Epoch 39:\n"
          ]
        },
        {
          "metadata": {
            "tags": null
          },
          "name": "stderr",
          "output_type": "stream",
          "text": [
            "100%|██████████| 82/82 [00:15<00:00,  5.42it/s]\n"
          ]
        },
        {
          "metadata": {
            "tags": null
          },
          "name": "stdout",
          "output_type": "stream",
          "text": [
            "--> Epoch 40:\n"
          ]
        },
        {
          "metadata": {
            "tags": null
          },
          "name": "stderr",
          "output_type": "stream",
          "text": [
            "100%|██████████| 82/82 [00:14<00:00,  5.47it/s]\n"
          ]
        },
        {
          "metadata": {
            "tags": null
          },
          "name": "stdout",
          "output_type": "stream",
          "text": [
            "--> Epoch 41:\n"
          ]
        },
        {
          "metadata": {
            "tags": null
          },
          "name": "stderr",
          "output_type": "stream",
          "text": [
            "100%|██████████| 82/82 [00:15<00:00,  5.45it/s]\n"
          ]
        },
        {
          "metadata": {
            "tags": null
          },
          "name": "stdout",
          "output_type": "stream",
          "text": [
            "--> Epoch 42:\n"
          ]
        },
        {
          "metadata": {
            "tags": null
          },
          "name": "stderr",
          "output_type": "stream",
          "text": [
            "100%|██████████| 82/82 [00:15<00:00,  5.45it/s]\n"
          ]
        },
        {
          "metadata": {
            "tags": null
          },
          "name": "stdout",
          "output_type": "stream",
          "text": [
            "--> Epoch 43:\n"
          ]
        },
        {
          "metadata": {
            "tags": null
          },
          "name": "stderr",
          "output_type": "stream",
          "text": [
            "100%|██████████| 82/82 [00:15<00:00,  5.44it/s]\n"
          ]
        },
        {
          "metadata": {
            "tags": null
          },
          "name": "stdout",
          "output_type": "stream",
          "text": [
            "--> Epoch 44:\n"
          ]
        },
        {
          "metadata": {
            "tags": null
          },
          "name": "stderr",
          "output_type": "stream",
          "text": [
            "100%|██████████| 82/82 [00:15<00:00,  5.46it/s]\n"
          ]
        },
        {
          "metadata": {
            "tags": null
          },
          "name": "stdout",
          "output_type": "stream",
          "text": [
            "--> Epoch 45:\n"
          ]
        },
        {
          "metadata": {
            "tags": null
          },
          "name": "stderr",
          "output_type": "stream",
          "text": [
            "100%|██████████| 82/82 [00:15<00:00,  5.45it/s]\n"
          ]
        },
        {
          "metadata": {
            "tags": null
          },
          "name": "stdout",
          "output_type": "stream",
          "text": [
            "--> Epoch 46:\n"
          ]
        },
        {
          "metadata": {
            "tags": null
          },
          "name": "stderr",
          "output_type": "stream",
          "text": [
            "100%|██████████| 82/82 [00:15<00:00,  5.43it/s]\n"
          ]
        },
        {
          "metadata": {
            "tags": null
          },
          "name": "stdout",
          "output_type": "stream",
          "text": [
            "--> Epoch 47:\n"
          ]
        },
        {
          "metadata": {
            "tags": null
          },
          "name": "stderr",
          "output_type": "stream",
          "text": [
            "100%|██████████| 82/82 [00:15<00:00,  5.43it/s]\n"
          ]
        },
        {
          "metadata": {
            "tags": null
          },
          "name": "stdout",
          "output_type": "stream",
          "text": [
            "--> Epoch 48:\n"
          ]
        },
        {
          "metadata": {
            "tags": null
          },
          "name": "stderr",
          "output_type": "stream",
          "text": [
            "100%|██████████| 82/82 [00:15<00:00,  5.43it/s]\n"
          ]
        },
        {
          "metadata": {
            "tags": null
          },
          "name": "stdout",
          "output_type": "stream",
          "text": [
            "--> Epoch 49:\n"
          ]
        },
        {
          "metadata": {
            "tags": null
          },
          "name": "stderr",
          "output_type": "stream",
          "text": [
            "100%|██████████| 82/82 [00:15<00:00,  5.43it/s]\n"
          ]
        },
        {
          "metadata": {
            "tags": null
          },
          "name": "stdout",
          "output_type": "stream",
          "text": [
            "--> Epoch 50:\n"
          ]
        },
        {
          "metadata": {
            "tags": null
          },
          "name": "stderr",
          "output_type": "stream",
          "text": [
            "100%|██████████| 82/82 [00:14<00:00,  5.50it/s]\n"
          ]
        },
        {
          "metadata": {
            "tags": null
          },
          "name": "stdout",
          "output_type": "stream",
          "text": [
            "--> Epoch 51:\n"
          ]
        },
        {
          "metadata": {
            "tags": null
          },
          "name": "stderr",
          "output_type": "stream",
          "text": [
            "100%|██████████| 82/82 [00:15<00:00,  5.44it/s]\n"
          ]
        },
        {
          "metadata": {
            "tags": null
          },
          "name": "stdout",
          "output_type": "stream",
          "text": [
            "--> Epoch 52:\n"
          ]
        },
        {
          "metadata": {
            "tags": null
          },
          "name": "stderr",
          "output_type": "stream",
          "text": [
            "100%|██████████| 82/82 [00:14<00:00,  5.48it/s]\n"
          ]
        },
        {
          "metadata": {
            "tags": null
          },
          "name": "stdout",
          "output_type": "stream",
          "text": [
            "--> Epoch 53:\n"
          ]
        },
        {
          "metadata": {
            "tags": null
          },
          "name": "stderr",
          "output_type": "stream",
          "text": [
            "100%|██████████| 82/82 [00:15<00:00,  5.45it/s]\n"
          ]
        },
        {
          "metadata": {
            "tags": null
          },
          "name": "stdout",
          "output_type": "stream",
          "text": [
            "--> Epoch 54:\n"
          ]
        },
        {
          "metadata": {
            "tags": null
          },
          "name": "stderr",
          "output_type": "stream",
          "text": [
            "100%|██████████| 82/82 [00:14<00:00,  5.47it/s]\n"
          ]
        },
        {
          "metadata": {
            "tags": null
          },
          "name": "stdout",
          "output_type": "stream",
          "text": [
            "--> Epoch 55:\n"
          ]
        },
        {
          "metadata": {
            "tags": null
          },
          "name": "stderr",
          "output_type": "stream",
          "text": [
            "100%|██████████| 82/82 [00:15<00:00,  5.45it/s]\n"
          ]
        },
        {
          "metadata": {
            "tags": null
          },
          "name": "stdout",
          "output_type": "stream",
          "text": [
            "--> Epoch 56:\n"
          ]
        },
        {
          "metadata": {
            "tags": null
          },
          "name": "stderr",
          "output_type": "stream",
          "text": [
            "100%|██████████| 82/82 [00:14<00:00,  5.47it/s]\n"
          ]
        },
        {
          "metadata": {
            "tags": null
          },
          "name": "stdout",
          "output_type": "stream",
          "text": [
            "--> Epoch 57:\n"
          ]
        },
        {
          "metadata": {
            "tags": null
          },
          "name": "stderr",
          "output_type": "stream",
          "text": [
            "100%|██████████| 82/82 [00:15<00:00,  5.44it/s]\n"
          ]
        },
        {
          "metadata": {
            "tags": null
          },
          "name": "stdout",
          "output_type": "stream",
          "text": [
            "--> Epoch 58:\n"
          ]
        },
        {
          "metadata": {
            "tags": null
          },
          "name": "stderr",
          "output_type": "stream",
          "text": [
            "100%|██████████| 82/82 [00:15<00:00,  5.44it/s]\n"
          ]
        },
        {
          "metadata": {
            "tags": null
          },
          "name": "stdout",
          "output_type": "stream",
          "text": [
            "--> Epoch 59:\n"
          ]
        },
        {
          "metadata": {
            "tags": null
          },
          "name": "stderr",
          "output_type": "stream",
          "text": [
            "100%|██████████| 82/82 [00:15<00:00,  5.45it/s]\n"
          ]
        },
        {
          "metadata": {
            "tags": null
          },
          "name": "stdout",
          "output_type": "stream",
          "text": [
            "--> Epoch 60:\n"
          ]
        },
        {
          "metadata": {
            "tags": null
          },
          "name": "stderr",
          "output_type": "stream",
          "text": [
            "100%|██████████| 82/82 [00:14<00:00,  5.49it/s]\n"
          ]
        },
        {
          "metadata": {
            "tags": null
          },
          "name": "stdout",
          "output_type": "stream",
          "text": [
            "--> Epoch 61:\n"
          ]
        },
        {
          "metadata": {
            "tags": null
          },
          "name": "stderr",
          "output_type": "stream",
          "text": [
            "100%|██████████| 82/82 [00:15<00:00,  5.43it/s]\n"
          ]
        },
        {
          "metadata": {
            "tags": null
          },
          "name": "stdout",
          "output_type": "stream",
          "text": [
            "--> Epoch 62:\n"
          ]
        },
        {
          "metadata": {
            "tags": null
          },
          "name": "stderr",
          "output_type": "stream",
          "text": [
            "100%|██████████| 82/82 [00:14<00:00,  5.49it/s]\n"
          ]
        },
        {
          "metadata": {
            "tags": null
          },
          "name": "stdout",
          "output_type": "stream",
          "text": [
            "--> Epoch 63:\n"
          ]
        },
        {
          "metadata": {
            "tags": null
          },
          "name": "stderr",
          "output_type": "stream",
          "text": [
            "100%|██████████| 82/82 [00:15<00:00,  5.45it/s]\n"
          ]
        },
        {
          "metadata": {
            "tags": null
          },
          "name": "stdout",
          "output_type": "stream",
          "text": [
            "--> Epoch 64:\n"
          ]
        },
        {
          "metadata": {
            "tags": null
          },
          "name": "stderr",
          "output_type": "stream",
          "text": [
            "100%|██████████| 82/82 [00:15<00:00,  5.45it/s]\n"
          ]
        },
        {
          "metadata": {
            "tags": null
          },
          "name": "stdout",
          "output_type": "stream",
          "text": [
            "--> Epoch 65:\n"
          ]
        },
        {
          "metadata": {
            "tags": null
          },
          "name": "stderr",
          "output_type": "stream",
          "text": [
            "100%|██████████| 82/82 [00:15<00:00,  5.43it/s]\n"
          ]
        },
        {
          "metadata": {
            "tags": null
          },
          "name": "stdout",
          "output_type": "stream",
          "text": [
            "--> Epoch 66:\n"
          ]
        },
        {
          "metadata": {
            "tags": null
          },
          "name": "stderr",
          "output_type": "stream",
          "text": [
            "100%|██████████| 82/82 [00:15<00:00,  5.45it/s]\n"
          ]
        },
        {
          "metadata": {
            "tags": null
          },
          "name": "stdout",
          "output_type": "stream",
          "text": [
            "--> Epoch 67:\n"
          ]
        },
        {
          "metadata": {
            "tags": null
          },
          "name": "stderr",
          "output_type": "stream",
          "text": [
            "100%|██████████| 82/82 [00:15<00:00,  5.44it/s]\n"
          ]
        },
        {
          "metadata": {
            "tags": null
          },
          "name": "stdout",
          "output_type": "stream",
          "text": [
            "--> Epoch 68:\n"
          ]
        },
        {
          "metadata": {
            "tags": null
          },
          "name": "stderr",
          "output_type": "stream",
          "text": [
            "100%|██████████| 82/82 [00:15<00:00,  5.46it/s]\n"
          ]
        },
        {
          "metadata": {
            "tags": null
          },
          "name": "stdout",
          "output_type": "stream",
          "text": [
            "--> Epoch 69:\n"
          ]
        },
        {
          "metadata": {
            "tags": null
          },
          "name": "stderr",
          "output_type": "stream",
          "text": [
            "100%|██████████| 82/82 [00:15<00:00,  5.44it/s]\n"
          ]
        },
        {
          "metadata": {
            "tags": null
          },
          "name": "stdout",
          "output_type": "stream",
          "text": [
            "--> Epoch 70:\n"
          ]
        },
        {
          "metadata": {
            "tags": null
          },
          "name": "stderr",
          "output_type": "stream",
          "text": [
            "100%|██████████| 82/82 [00:15<00:00,  5.44it/s]\n"
          ]
        },
        {
          "metadata": {
            "tags": null
          },
          "name": "stdout",
          "output_type": "stream",
          "text": [
            "--> Epoch 71:\n"
          ]
        },
        {
          "metadata": {
            "tags": null
          },
          "name": "stderr",
          "output_type": "stream",
          "text": [
            "100%|██████████| 82/82 [00:15<00:00,  5.41it/s]\n"
          ]
        },
        {
          "metadata": {
            "tags": null
          },
          "name": "stdout",
          "output_type": "stream",
          "text": [
            "--> Epoch 72:\n"
          ]
        },
        {
          "metadata": {
            "tags": null
          },
          "name": "stderr",
          "output_type": "stream",
          "text": [
            "100%|██████████| 82/82 [00:15<00:00,  5.42it/s]\n"
          ]
        },
        {
          "metadata": {
            "tags": null
          },
          "name": "stdout",
          "output_type": "stream",
          "text": [
            "--> Epoch 73:\n"
          ]
        },
        {
          "metadata": {
            "tags": null
          },
          "name": "stderr",
          "output_type": "stream",
          "text": [
            "100%|██████████| 82/82 [00:15<00:00,  5.41it/s]\n"
          ]
        },
        {
          "metadata": {
            "tags": null
          },
          "name": "stdout",
          "output_type": "stream",
          "text": [
            "--> Epoch 74:\n"
          ]
        },
        {
          "metadata": {
            "tags": null
          },
          "name": "stderr",
          "output_type": "stream",
          "text": [
            "100%|██████████| 82/82 [00:15<00:00,  5.44it/s]\n"
          ]
        },
        {
          "metadata": {
            "tags": null
          },
          "name": "stdout",
          "output_type": "stream",
          "text": [
            "--> Epoch 75:\n"
          ]
        },
        {
          "metadata": {
            "tags": null
          },
          "name": "stderr",
          "output_type": "stream",
          "text": [
            "100%|██████████| 82/82 [00:15<00:00,  5.45it/s]\n"
          ]
        },
        {
          "metadata": {
            "tags": null
          },
          "name": "stdout",
          "output_type": "stream",
          "text": [
            "--> Epoch 76:\n"
          ]
        },
        {
          "metadata": {
            "tags": null
          },
          "name": "stderr",
          "output_type": "stream",
          "text": [
            "100%|██████████| 82/82 [00:14<00:00,  5.47it/s]\n"
          ]
        },
        {
          "metadata": {
            "tags": null
          },
          "name": "stdout",
          "output_type": "stream",
          "text": [
            "--> Epoch 77:\n"
          ]
        },
        {
          "metadata": {
            "tags": null
          },
          "name": "stderr",
          "output_type": "stream",
          "text": [
            "100%|██████████| 82/82 [00:15<00:00,  5.40it/s]\n"
          ]
        },
        {
          "metadata": {
            "tags": null
          },
          "name": "stdout",
          "output_type": "stream",
          "text": [
            "--> Epoch 78:\n"
          ]
        },
        {
          "metadata": {
            "tags": null
          },
          "name": "stderr",
          "output_type": "stream",
          "text": [
            "100%|██████████| 82/82 [00:15<00:00,  5.44it/s]\n"
          ]
        },
        {
          "metadata": {
            "tags": null
          },
          "name": "stdout",
          "output_type": "stream",
          "text": [
            "--> Epoch 79:\n"
          ]
        },
        {
          "metadata": {
            "tags": null
          },
          "name": "stderr",
          "output_type": "stream",
          "text": [
            "100%|██████████| 82/82 [00:15<00:00,  5.45it/s]\n"
          ]
        },
        {
          "metadata": {
            "tags": null
          },
          "name": "stdout",
          "output_type": "stream",
          "text": [
            "--> Epoch 80:\n"
          ]
        },
        {
          "metadata": {
            "tags": null
          },
          "name": "stderr",
          "output_type": "stream",
          "text": [
            "100%|██████████| 82/82 [00:15<00:00,  5.47it/s]\n"
          ]
        },
        {
          "metadata": {
            "tags": null
          },
          "name": "stdout",
          "output_type": "stream",
          "text": [
            "--> Epoch 81:\n"
          ]
        },
        {
          "metadata": {
            "tags": null
          },
          "name": "stderr",
          "output_type": "stream",
          "text": [
            "100%|██████████| 82/82 [00:15<00:00,  5.47it/s]\n"
          ]
        },
        {
          "metadata": {
            "tags": null
          },
          "name": "stdout",
          "output_type": "stream",
          "text": [
            "--> Epoch 82:\n"
          ]
        },
        {
          "metadata": {
            "tags": null
          },
          "name": "stderr",
          "output_type": "stream",
          "text": [
            "100%|██████████| 82/82 [00:14<00:00,  5.48it/s]\n"
          ]
        },
        {
          "metadata": {
            "tags": null
          },
          "name": "stdout",
          "output_type": "stream",
          "text": [
            "--> Epoch 83:\n"
          ]
        },
        {
          "metadata": {
            "tags": null
          },
          "name": "stderr",
          "output_type": "stream",
          "text": [
            "100%|██████████| 82/82 [00:14<00:00,  5.47it/s]\n"
          ]
        },
        {
          "metadata": {
            "tags": null
          },
          "name": "stdout",
          "output_type": "stream",
          "text": [
            "--> Epoch 84:\n"
          ]
        },
        {
          "metadata": {
            "tags": null
          },
          "name": "stderr",
          "output_type": "stream",
          "text": [
            "100%|██████████| 82/82 [00:15<00:00,  5.45it/s]\n"
          ]
        },
        {
          "metadata": {
            "tags": null
          },
          "name": "stdout",
          "output_type": "stream",
          "text": [
            "--> Epoch 85:\n"
          ]
        },
        {
          "metadata": {
            "tags": null
          },
          "name": "stderr",
          "output_type": "stream",
          "text": [
            "100%|██████████| 82/82 [00:15<00:00,  5.44it/s]\n"
          ]
        },
        {
          "metadata": {
            "tags": null
          },
          "name": "stdout",
          "output_type": "stream",
          "text": [
            "--> Epoch 86:\n"
          ]
        },
        {
          "metadata": {
            "tags": null
          },
          "name": "stderr",
          "output_type": "stream",
          "text": [
            "100%|██████████| 82/82 [00:15<00:00,  5.47it/s]\n"
          ]
        },
        {
          "metadata": {
            "tags": null
          },
          "name": "stdout",
          "output_type": "stream",
          "text": [
            "--> Epoch 87:\n"
          ]
        },
        {
          "metadata": {
            "tags": null
          },
          "name": "stderr",
          "output_type": "stream",
          "text": [
            "100%|██████████| 82/82 [00:15<00:00,  5.41it/s]\n"
          ]
        },
        {
          "metadata": {
            "tags": null
          },
          "name": "stdout",
          "output_type": "stream",
          "text": [
            "--> Epoch 88:\n"
          ]
        },
        {
          "metadata": {
            "tags": null
          },
          "name": "stderr",
          "output_type": "stream",
          "text": [
            "100%|██████████| 82/82 [00:15<00:00,  5.47it/s]\n"
          ]
        },
        {
          "metadata": {
            "tags": null
          },
          "name": "stdout",
          "output_type": "stream",
          "text": [
            "--> Epoch 89:\n"
          ]
        },
        {
          "metadata": {
            "tags": null
          },
          "name": "stderr",
          "output_type": "stream",
          "text": [
            "100%|██████████| 82/82 [00:15<00:00,  5.44it/s]\n"
          ]
        },
        {
          "metadata": {
            "tags": null
          },
          "name": "stdout",
          "output_type": "stream",
          "text": [
            "--> Epoch 90:\n"
          ]
        },
        {
          "metadata": {
            "tags": null
          },
          "name": "stderr",
          "output_type": "stream",
          "text": [
            "100%|██████████| 82/82 [00:15<00:00,  5.42it/s]\n"
          ]
        },
        {
          "metadata": {
            "tags": null
          },
          "name": "stdout",
          "output_type": "stream",
          "text": [
            "--> Epoch 91:\n"
          ]
        },
        {
          "metadata": {
            "tags": null
          },
          "name": "stderr",
          "output_type": "stream",
          "text": [
            "100%|██████████| 82/82 [00:15<00:00,  5.46it/s]\n"
          ]
        },
        {
          "metadata": {
            "tags": null
          },
          "name": "stdout",
          "output_type": "stream",
          "text": [
            "--> Epoch 92:\n"
          ]
        },
        {
          "metadata": {
            "tags": null
          },
          "name": "stderr",
          "output_type": "stream",
          "text": [
            "100%|██████████| 82/82 [00:15<00:00,  5.44it/s]\n"
          ]
        },
        {
          "metadata": {
            "tags": null
          },
          "name": "stdout",
          "output_type": "stream",
          "text": [
            "--> Epoch 93:\n"
          ]
        },
        {
          "metadata": {
            "tags": null
          },
          "name": "stderr",
          "output_type": "stream",
          "text": [
            "100%|██████████| 82/82 [00:15<00:00,  5.41it/s]\n"
          ]
        },
        {
          "metadata": {
            "tags": null
          },
          "name": "stdout",
          "output_type": "stream",
          "text": [
            "--> Epoch 94:\n"
          ]
        },
        {
          "metadata": {
            "tags": null
          },
          "name": "stderr",
          "output_type": "stream",
          "text": [
            "100%|██████████| 82/82 [00:15<00:00,  5.45it/s]\n"
          ]
        },
        {
          "metadata": {
            "tags": null
          },
          "name": "stdout",
          "output_type": "stream",
          "text": [
            "--> Epoch 95:\n"
          ]
        },
        {
          "metadata": {
            "tags": null
          },
          "name": "stderr",
          "output_type": "stream",
          "text": [
            "100%|██████████| 82/82 [00:15<00:00,  5.46it/s]\n"
          ]
        },
        {
          "metadata": {
            "tags": null
          },
          "name": "stdout",
          "output_type": "stream",
          "text": [
            "--> Epoch 96:\n"
          ]
        },
        {
          "metadata": {
            "tags": null
          },
          "name": "stderr",
          "output_type": "stream",
          "text": [
            "100%|██████████| 82/82 [00:15<00:00,  5.45it/s]\n"
          ]
        },
        {
          "metadata": {
            "tags": null
          },
          "name": "stdout",
          "output_type": "stream",
          "text": [
            "--> Epoch 97:\n"
          ]
        },
        {
          "metadata": {
            "tags": null
          },
          "name": "stderr",
          "output_type": "stream",
          "text": [
            "100%|██████████| 82/82 [00:14<00:00,  5.47it/s]\n"
          ]
        },
        {
          "metadata": {
            "tags": null
          },
          "name": "stdout",
          "output_type": "stream",
          "text": [
            "--> Epoch 98:\n"
          ]
        },
        {
          "metadata": {
            "tags": null
          },
          "name": "stderr",
          "output_type": "stream",
          "text": [
            "100%|██████████| 82/82 [00:15<00:00,  5.45it/s]\n"
          ]
        },
        {
          "metadata": {
            "tags": null
          },
          "name": "stdout",
          "output_type": "stream",
          "text": [
            "--> Epoch 99:\n"
          ]
        },
        {
          "metadata": {
            "tags": null
          },
          "name": "stderr",
          "output_type": "stream",
          "text": [
            "100%|██████████| 82/82 [00:15<00:00,  5.46it/s]\n"
          ]
        },
        {
          "metadata": {
            "tags": null
          },
          "name": "stdout",
          "output_type": "stream",
          "text": [
            "--> Epoch 100:\n"
          ]
        },
        {
          "metadata": {
            "tags": null
          },
          "name": "stderr",
          "output_type": "stream",
          "text": [
            "100%|██████████| 82/82 [00:15<00:00,  5.44it/s]\n"
          ]
        },
        {
          "metadata": {
            "tags": null
          },
          "name": "stdout",
          "output_type": "stream",
          "text": [
            "--> Epoch 101:\n"
          ]
        },
        {
          "metadata": {
            "tags": null
          },
          "name": "stderr",
          "output_type": "stream",
          "text": [
            "100%|██████████| 82/82 [00:15<00:00,  5.46it/s]\n"
          ]
        },
        {
          "metadata": {
            "tags": null
          },
          "name": "stdout",
          "output_type": "stream",
          "text": [
            "--> Epoch 102:\n"
          ]
        },
        {
          "metadata": {
            "tags": null
          },
          "name": "stderr",
          "output_type": "stream",
          "text": [
            "100%|██████████| 82/82 [00:15<00:00,  5.44it/s]\n"
          ]
        },
        {
          "metadata": {
            "tags": null
          },
          "name": "stdout",
          "output_type": "stream",
          "text": [
            "--> Epoch 103:\n"
          ]
        },
        {
          "metadata": {
            "tags": null
          },
          "name": "stderr",
          "output_type": "stream",
          "text": [
            "100%|██████████| 82/82 [00:15<00:00,  5.44it/s]\n"
          ]
        },
        {
          "metadata": {
            "tags": null
          },
          "name": "stdout",
          "output_type": "stream",
          "text": [
            "--> Epoch 104:\n"
          ]
        },
        {
          "metadata": {
            "tags": null
          },
          "name": "stderr",
          "output_type": "stream",
          "text": [
            "100%|██████████| 82/82 [00:15<00:00,  5.44it/s]\n"
          ]
        },
        {
          "metadata": {
            "tags": null
          },
          "name": "stdout",
          "output_type": "stream",
          "text": [
            "--> Epoch 105:\n"
          ]
        },
        {
          "metadata": {
            "tags": null
          },
          "name": "stderr",
          "output_type": "stream",
          "text": [
            "100%|██████████| 82/82 [00:15<00:00,  5.42it/s]\n"
          ]
        },
        {
          "metadata": {
            "tags": null
          },
          "name": "stdout",
          "output_type": "stream",
          "text": [
            "--> Epoch 106:\n"
          ]
        },
        {
          "metadata": {
            "tags": null
          },
          "name": "stderr",
          "output_type": "stream",
          "text": [
            "100%|██████████| 82/82 [00:15<00:00,  5.41it/s]\n"
          ]
        },
        {
          "metadata": {
            "tags": null
          },
          "name": "stdout",
          "output_type": "stream",
          "text": [
            "--> Epoch 107:\n"
          ]
        },
        {
          "metadata": {
            "tags": null
          },
          "name": "stderr",
          "output_type": "stream",
          "text": [
            "100%|██████████| 82/82 [00:15<00:00,  5.46it/s]\n"
          ]
        },
        {
          "metadata": {
            "tags": null
          },
          "name": "stdout",
          "output_type": "stream",
          "text": [
            "--> Epoch 108:\n"
          ]
        },
        {
          "metadata": {
            "tags": null
          },
          "name": "stderr",
          "output_type": "stream",
          "text": [
            "100%|██████████| 82/82 [00:15<00:00,  5.47it/s]\n"
          ]
        },
        {
          "metadata": {
            "tags": null
          },
          "name": "stdout",
          "output_type": "stream",
          "text": [
            "--> Epoch 109:\n"
          ]
        },
        {
          "metadata": {
            "tags": null
          },
          "name": "stderr",
          "output_type": "stream",
          "text": [
            "100%|██████████| 82/82 [00:15<00:00,  5.46it/s]\n"
          ]
        },
        {
          "metadata": {
            "tags": null
          },
          "name": "stdout",
          "output_type": "stream",
          "text": [
            "--> Epoch 110:\n"
          ]
        },
        {
          "metadata": {
            "tags": null
          },
          "name": "stderr",
          "output_type": "stream",
          "text": [
            "100%|██████████| 82/82 [00:15<00:00,  5.45it/s]\n"
          ]
        },
        {
          "metadata": {
            "tags": null
          },
          "name": "stdout",
          "output_type": "stream",
          "text": [
            "--> Epoch 111:\n"
          ]
        },
        {
          "metadata": {
            "tags": null
          },
          "name": "stderr",
          "output_type": "stream",
          "text": [
            "100%|██████████| 82/82 [00:15<00:00,  5.45it/s]\n"
          ]
        },
        {
          "metadata": {
            "tags": null
          },
          "name": "stdout",
          "output_type": "stream",
          "text": [
            "--> Epoch 112:\n"
          ]
        },
        {
          "metadata": {
            "tags": null
          },
          "name": "stderr",
          "output_type": "stream",
          "text": [
            "100%|██████████| 82/82 [00:15<00:00,  5.43it/s]\n"
          ]
        },
        {
          "metadata": {
            "tags": null
          },
          "name": "stdout",
          "output_type": "stream",
          "text": [
            "--> Epoch 113:\n"
          ]
        },
        {
          "metadata": {
            "tags": null
          },
          "name": "stderr",
          "output_type": "stream",
          "text": [
            "100%|██████████| 82/82 [00:15<00:00,  5.44it/s]\n"
          ]
        },
        {
          "metadata": {
            "tags": null
          },
          "name": "stdout",
          "output_type": "stream",
          "text": [
            "--> Epoch 114:\n"
          ]
        },
        {
          "metadata": {
            "tags": null
          },
          "name": "stderr",
          "output_type": "stream",
          "text": [
            "100%|██████████| 82/82 [00:15<00:00,  5.45it/s]\n"
          ]
        },
        {
          "metadata": {
            "tags": null
          },
          "name": "stdout",
          "output_type": "stream",
          "text": [
            "--> Epoch 115:\n"
          ]
        },
        {
          "metadata": {
            "tags": null
          },
          "name": "stderr",
          "output_type": "stream",
          "text": [
            "100%|██████████| 82/82 [00:15<00:00,  5.43it/s]\n"
          ]
        },
        {
          "metadata": {
            "tags": null
          },
          "name": "stdout",
          "output_type": "stream",
          "text": [
            "--> Epoch 116:\n"
          ]
        },
        {
          "metadata": {
            "tags": null
          },
          "name": "stderr",
          "output_type": "stream",
          "text": [
            "100%|██████████| 82/82 [00:15<00:00,  5.47it/s]\n"
          ]
        },
        {
          "metadata": {
            "tags": null
          },
          "name": "stdout",
          "output_type": "stream",
          "text": [
            "--> Epoch 117:\n"
          ]
        },
        {
          "metadata": {
            "tags": null
          },
          "name": "stderr",
          "output_type": "stream",
          "text": [
            "100%|██████████| 82/82 [00:15<00:00,  5.47it/s]\n"
          ]
        },
        {
          "metadata": {
            "tags": null
          },
          "name": "stdout",
          "output_type": "stream",
          "text": [
            "--> Epoch 118:\n"
          ]
        },
        {
          "metadata": {
            "tags": null
          },
          "name": "stderr",
          "output_type": "stream",
          "text": [
            "100%|██████████| 82/82 [00:15<00:00,  5.46it/s]\n"
          ]
        },
        {
          "metadata": {
            "tags": null
          },
          "name": "stdout",
          "output_type": "stream",
          "text": [
            "--> Epoch 119:\n"
          ]
        },
        {
          "metadata": {
            "tags": null
          },
          "name": "stderr",
          "output_type": "stream",
          "text": [
            "100%|██████████| 82/82 [00:15<00:00,  5.46it/s]\n"
          ]
        },
        {
          "metadata": {
            "tags": null
          },
          "name": "stdout",
          "output_type": "stream",
          "text": [
            "--> Epoch 120:\n"
          ]
        },
        {
          "metadata": {
            "tags": null
          },
          "name": "stderr",
          "output_type": "stream",
          "text": [
            "100%|██████████| 82/82 [00:15<00:00,  5.46it/s]\n"
          ]
        },
        {
          "metadata": {
            "tags": null
          },
          "name": "stdout",
          "output_type": "stream",
          "text": [
            "--> Epoch 121:\n"
          ]
        },
        {
          "metadata": {
            "tags": null
          },
          "name": "stderr",
          "output_type": "stream",
          "text": [
            "100%|██████████| 82/82 [00:15<00:00,  5.44it/s]\n"
          ]
        },
        {
          "metadata": {
            "tags": null
          },
          "name": "stdout",
          "output_type": "stream",
          "text": [
            "--> Epoch 122:\n"
          ]
        },
        {
          "metadata": {
            "tags": null
          },
          "name": "stderr",
          "output_type": "stream",
          "text": [
            "100%|██████████| 82/82 [00:15<00:00,  5.44it/s]\n"
          ]
        },
        {
          "metadata": {
            "tags": null
          },
          "name": "stdout",
          "output_type": "stream",
          "text": [
            "--> Epoch 123:\n"
          ]
        },
        {
          "metadata": {
            "tags": null
          },
          "name": "stderr",
          "output_type": "stream",
          "text": [
            "100%|██████████| 82/82 [00:15<00:00,  5.42it/s]\n"
          ]
        },
        {
          "metadata": {
            "tags": null
          },
          "name": "stdout",
          "output_type": "stream",
          "text": [
            "--> Epoch 124:\n"
          ]
        },
        {
          "metadata": {
            "tags": null
          },
          "name": "stderr",
          "output_type": "stream",
          "text": [
            "100%|██████████| 82/82 [00:15<00:00,  5.43it/s]\n"
          ]
        },
        {
          "metadata": {
            "tags": null
          },
          "name": "stdout",
          "output_type": "stream",
          "text": [
            "--> Epoch 125:\n"
          ]
        },
        {
          "metadata": {
            "tags": null
          },
          "name": "stderr",
          "output_type": "stream",
          "text": [
            "100%|██████████| 82/82 [00:15<00:00,  5.45it/s]\n"
          ]
        },
        {
          "metadata": {
            "tags": null
          },
          "name": "stdout",
          "output_type": "stream",
          "text": [
            "--> Epoch 126:\n"
          ]
        },
        {
          "metadata": {
            "tags": null
          },
          "name": "stderr",
          "output_type": "stream",
          "text": [
            "100%|██████████| 82/82 [00:15<00:00,  5.45it/s]\n"
          ]
        },
        {
          "metadata": {
            "tags": null
          },
          "name": "stdout",
          "output_type": "stream",
          "text": [
            "--> Epoch 127:\n"
          ]
        },
        {
          "metadata": {
            "tags": null
          },
          "name": "stderr",
          "output_type": "stream",
          "text": [
            "100%|██████████| 82/82 [00:15<00:00,  5.42it/s]\n"
          ]
        },
        {
          "metadata": {
            "tags": null
          },
          "name": "stdout",
          "output_type": "stream",
          "text": [
            "--> Epoch 128:\n"
          ]
        },
        {
          "metadata": {
            "tags": null
          },
          "name": "stderr",
          "output_type": "stream",
          "text": [
            "100%|██████████| 82/82 [00:15<00:00,  5.42it/s]\n"
          ]
        },
        {
          "metadata": {
            "tags": null
          },
          "name": "stdout",
          "output_type": "stream",
          "text": [
            "--> Epoch 129:\n"
          ]
        },
        {
          "metadata": {
            "tags": null
          },
          "name": "stderr",
          "output_type": "stream",
          "text": [
            "100%|██████████| 82/82 [00:15<00:00,  5.43it/s]\n"
          ]
        },
        {
          "metadata": {
            "tags": null
          },
          "name": "stdout",
          "output_type": "stream",
          "text": [
            "--> Epoch 130:\n"
          ]
        },
        {
          "metadata": {
            "tags": null
          },
          "name": "stderr",
          "output_type": "stream",
          "text": [
            "100%|██████████| 82/82 [00:15<00:00,  5.42it/s]\n"
          ]
        },
        {
          "metadata": {
            "tags": null
          },
          "name": "stdout",
          "output_type": "stream",
          "text": [
            "--> Epoch 131:\n"
          ]
        },
        {
          "metadata": {
            "tags": null
          },
          "name": "stderr",
          "output_type": "stream",
          "text": [
            "100%|██████████| 82/82 [00:15<00:00,  5.46it/s]\n"
          ]
        },
        {
          "metadata": {
            "tags": null
          },
          "name": "stdout",
          "output_type": "stream",
          "text": [
            "--> Epoch 132:\n"
          ]
        },
        {
          "metadata": {
            "tags": null
          },
          "name": "stderr",
          "output_type": "stream",
          "text": [
            "100%|██████████| 82/82 [00:14<00:00,  5.51it/s]\n"
          ]
        },
        {
          "metadata": {
            "tags": null
          },
          "name": "stdout",
          "output_type": "stream",
          "text": [
            "--> Epoch 133:\n"
          ]
        },
        {
          "metadata": {
            "tags": null
          },
          "name": "stderr",
          "output_type": "stream",
          "text": [
            "100%|██████████| 82/82 [00:14<00:00,  5.47it/s]\n"
          ]
        },
        {
          "metadata": {
            "tags": null
          },
          "name": "stdout",
          "output_type": "stream",
          "text": [
            "--> Epoch 134:\n"
          ]
        },
        {
          "metadata": {
            "tags": null
          },
          "name": "stderr",
          "output_type": "stream",
          "text": [
            "100%|██████████| 82/82 [00:15<00:00,  5.45it/s]\n"
          ]
        },
        {
          "metadata": {
            "tags": null
          },
          "name": "stdout",
          "output_type": "stream",
          "text": [
            "--> Epoch 135:\n"
          ]
        },
        {
          "metadata": {
            "tags": null
          },
          "name": "stderr",
          "output_type": "stream",
          "text": [
            "100%|██████████| 82/82 [00:15<00:00,  5.45it/s]\n"
          ]
        },
        {
          "metadata": {
            "tags": null
          },
          "name": "stdout",
          "output_type": "stream",
          "text": [
            "--> Epoch 136:\n"
          ]
        },
        {
          "metadata": {
            "tags": null
          },
          "name": "stderr",
          "output_type": "stream",
          "text": [
            "100%|██████████| 82/82 [00:15<00:00,  5.45it/s]\n"
          ]
        },
        {
          "metadata": {
            "tags": null
          },
          "name": "stdout",
          "output_type": "stream",
          "text": [
            "--> Epoch 137:\n"
          ]
        },
        {
          "metadata": {
            "tags": null
          },
          "name": "stderr",
          "output_type": "stream",
          "text": [
            "100%|██████████| 82/82 [00:14<00:00,  5.48it/s]\n"
          ]
        },
        {
          "metadata": {
            "tags": null
          },
          "name": "stdout",
          "output_type": "stream",
          "text": [
            "--> Epoch 138:\n"
          ]
        },
        {
          "metadata": {
            "tags": null
          },
          "name": "stderr",
          "output_type": "stream",
          "text": [
            "100%|██████████| 82/82 [00:15<00:00,  5.45it/s]\n"
          ]
        },
        {
          "metadata": {
            "tags": null
          },
          "name": "stdout",
          "output_type": "stream",
          "text": [
            "--> Epoch 139:\n"
          ]
        },
        {
          "metadata": {
            "tags": null
          },
          "name": "stderr",
          "output_type": "stream",
          "text": [
            "100%|██████████| 82/82 [00:14<00:00,  5.47it/s]\n"
          ]
        },
        {
          "metadata": {
            "tags": null
          },
          "name": "stdout",
          "output_type": "stream",
          "text": [
            "--> Epoch 140:\n"
          ]
        },
        {
          "metadata": {
            "tags": null
          },
          "name": "stderr",
          "output_type": "stream",
          "text": [
            "100%|██████████| 82/82 [00:15<00:00,  5.43it/s]\n"
          ]
        },
        {
          "metadata": {
            "tags": null
          },
          "name": "stdout",
          "output_type": "stream",
          "text": [
            "--> Epoch 141:\n"
          ]
        },
        {
          "metadata": {
            "tags": null
          },
          "name": "stderr",
          "output_type": "stream",
          "text": [
            "100%|██████████| 82/82 [00:14<00:00,  5.47it/s]\n"
          ]
        },
        {
          "metadata": {
            "tags": null
          },
          "name": "stdout",
          "output_type": "stream",
          "text": [
            "--> Epoch 142:\n"
          ]
        },
        {
          "metadata": {
            "tags": null
          },
          "name": "stderr",
          "output_type": "stream",
          "text": [
            "100%|██████████| 82/82 [00:15<00:00,  5.47it/s]\n"
          ]
        },
        {
          "metadata": {
            "tags": null
          },
          "name": "stdout",
          "output_type": "stream",
          "text": [
            "--> Epoch 143:\n"
          ]
        },
        {
          "metadata": {
            "tags": null
          },
          "name": "stderr",
          "output_type": "stream",
          "text": [
            "100%|██████████| 82/82 [00:14<00:00,  5.47it/s]\n"
          ]
        },
        {
          "metadata": {
            "tags": null
          },
          "name": "stdout",
          "output_type": "stream",
          "text": [
            "--> Epoch 144:\n"
          ]
        },
        {
          "metadata": {
            "tags": null
          },
          "name": "stderr",
          "output_type": "stream",
          "text": [
            "100%|██████████| 82/82 [00:14<00:00,  5.48it/s]\n"
          ]
        },
        {
          "metadata": {
            "tags": null
          },
          "name": "stdout",
          "output_type": "stream",
          "text": [
            "--> Epoch 145:\n"
          ]
        },
        {
          "metadata": {
            "tags": null
          },
          "name": "stderr",
          "output_type": "stream",
          "text": [
            "100%|██████████| 82/82 [00:14<00:00,  5.54it/s]\n"
          ]
        },
        {
          "metadata": {
            "tags": null
          },
          "name": "stdout",
          "output_type": "stream",
          "text": [
            "--> Epoch 146:\n"
          ]
        },
        {
          "metadata": {
            "tags": null
          },
          "name": "stderr",
          "output_type": "stream",
          "text": [
            "100%|██████████| 82/82 [00:14<00:00,  5.55it/s]\n"
          ]
        },
        {
          "metadata": {
            "tags": null
          },
          "name": "stdout",
          "output_type": "stream",
          "text": [
            "--> Epoch 147:\n"
          ]
        },
        {
          "metadata": {
            "tags": null
          },
          "name": "stderr",
          "output_type": "stream",
          "text": [
            "100%|██████████| 82/82 [00:14<00:00,  5.56it/s]\n"
          ]
        },
        {
          "metadata": {
            "tags": null
          },
          "name": "stdout",
          "output_type": "stream",
          "text": [
            "--> Epoch 148:\n"
          ]
        },
        {
          "metadata": {
            "tags": null
          },
          "name": "stderr",
          "output_type": "stream",
          "text": [
            "100%|██████████| 82/82 [00:14<00:00,  5.55it/s]\n"
          ]
        },
        {
          "metadata": {
            "tags": null
          },
          "name": "stdout",
          "output_type": "stream",
          "text": [
            "--> Epoch 149:\n"
          ]
        },
        {
          "metadata": {
            "tags": null
          },
          "name": "stderr",
          "output_type": "stream",
          "text": [
            "100%|██████████| 82/82 [00:14<00:00,  5.55it/s]\n"
          ]
        },
        {
          "metadata": {
            "tags": null
          },
          "name": "stdout",
          "output_type": "stream",
          "text": [
            "--> Epoch 150:\n"
          ]
        },
        {
          "metadata": {
            "tags": null
          },
          "name": "stderr",
          "output_type": "stream",
          "text": [
            "100%|██████████| 82/82 [00:14<00:00,  5.56it/s]\n"
          ]
        },
        {
          "metadata": {
            "tags": null
          },
          "name": "stdout",
          "output_type": "stream",
          "text": [
            "=> Saving checkpoints\n",
            "=> Saving checkpoints\n",
            "--> Epoch 151:\n"
          ]
        },
        {
          "metadata": {
            "tags": null
          },
          "name": "stderr",
          "output_type": "stream",
          "text": [
            "100%|██████████| 82/82 [00:15<00:00,  5.47it/s]\n"
          ]
        },
        {
          "metadata": {
            "tags": null
          },
          "name": "stdout",
          "output_type": "stream",
          "text": [
            "--> Epoch 152:\n"
          ]
        },
        {
          "metadata": {
            "tags": null
          },
          "name": "stderr",
          "output_type": "stream",
          "text": [
            "100%|██████████| 82/82 [00:14<00:00,  5.55it/s]\n"
          ]
        },
        {
          "metadata": {
            "tags": null
          },
          "name": "stdout",
          "output_type": "stream",
          "text": [
            "--> Epoch 153:\n"
          ]
        },
        {
          "metadata": {
            "tags": null
          },
          "name": "stderr",
          "output_type": "stream",
          "text": [
            "100%|██████████| 82/82 [00:14<00:00,  5.57it/s]\n"
          ]
        },
        {
          "metadata": {
            "tags": null
          },
          "name": "stdout",
          "output_type": "stream",
          "text": [
            "--> Epoch 154:\n"
          ]
        },
        {
          "metadata": {
            "tags": null
          },
          "name": "stderr",
          "output_type": "stream",
          "text": [
            "100%|██████████| 82/82 [00:14<00:00,  5.59it/s]\n"
          ]
        },
        {
          "metadata": {
            "tags": null
          },
          "name": "stdout",
          "output_type": "stream",
          "text": [
            "--> Epoch 155:\n"
          ]
        },
        {
          "metadata": {
            "tags": null
          },
          "name": "stderr",
          "output_type": "stream",
          "text": [
            "100%|██████████| 82/82 [00:14<00:00,  5.59it/s]\n"
          ]
        },
        {
          "metadata": {
            "tags": null
          },
          "name": "stdout",
          "output_type": "stream",
          "text": [
            "--> Epoch 156:\n"
          ]
        },
        {
          "metadata": {
            "tags": null
          },
          "name": "stderr",
          "output_type": "stream",
          "text": [
            "100%|██████████| 82/82 [00:14<00:00,  5.58it/s]\n"
          ]
        },
        {
          "metadata": {
            "tags": null
          },
          "name": "stdout",
          "output_type": "stream",
          "text": [
            "--> Epoch 157:\n"
          ]
        },
        {
          "metadata": {
            "tags": null
          },
          "name": "stderr",
          "output_type": "stream",
          "text": [
            "100%|██████████| 82/82 [00:14<00:00,  5.60it/s]\n"
          ]
        },
        {
          "metadata": {
            "tags": null
          },
          "name": "stdout",
          "output_type": "stream",
          "text": [
            "--> Epoch 158:\n"
          ]
        },
        {
          "output_type": "stream",
          "name": "stderr",
          "text": [
            "100%|██████████| 82/82 [00:14<00:00,  5.56it/s]\n"
          ]
        },
        {
          "output_type": "stream",
          "name": "stdout",
          "text": [
            "--> Epoch 159:\n"
          ]
        },
        {
          "output_type": "stream",
          "name": "stderr",
          "text": [
            "100%|██████████| 82/82 [00:14<00:00,  5.57it/s]\n"
          ]
        },
        {
          "output_type": "stream",
          "name": "stdout",
          "text": [
            "--> Epoch 160:\n"
          ]
        },
        {
          "output_type": "stream",
          "name": "stderr",
          "text": [
            "100%|██████████| 82/82 [00:14<00:00,  5.57it/s]\n"
          ]
        },
        {
          "output_type": "stream",
          "name": "stdout",
          "text": [
            "--> Epoch 161:\n"
          ]
        },
        {
          "output_type": "stream",
          "name": "stderr",
          "text": [
            "100%|██████████| 82/82 [00:14<00:00,  5.56it/s]\n"
          ]
        },
        {
          "output_type": "stream",
          "name": "stdout",
          "text": [
            "--> Epoch 162:\n"
          ]
        },
        {
          "output_type": "stream",
          "name": "stderr",
          "text": [
            "100%|██████████| 82/82 [00:14<00:00,  5.54it/s]\n"
          ]
        },
        {
          "output_type": "stream",
          "name": "stdout",
          "text": [
            "--> Epoch 163:\n"
          ]
        },
        {
          "output_type": "stream",
          "name": "stderr",
          "text": [
            "100%|██████████| 82/82 [00:14<00:00,  5.54it/s]\n"
          ]
        },
        {
          "output_type": "stream",
          "name": "stdout",
          "text": [
            "--> Epoch 164:\n"
          ]
        },
        {
          "output_type": "stream",
          "name": "stderr",
          "text": [
            "100%|██████████| 82/82 [00:14<00:00,  5.52it/s]\n"
          ]
        },
        {
          "output_type": "stream",
          "name": "stdout",
          "text": [
            "--> Epoch 165:\n"
          ]
        },
        {
          "output_type": "stream",
          "name": "stderr",
          "text": [
            "100%|██████████| 82/82 [00:15<00:00,  5.46it/s]\n"
          ]
        },
        {
          "output_type": "stream",
          "name": "stdout",
          "text": [
            "--> Epoch 166:\n"
          ]
        },
        {
          "output_type": "stream",
          "name": "stderr",
          "text": [
            "100%|██████████| 82/82 [00:15<00:00,  5.46it/s]\n"
          ]
        },
        {
          "output_type": "stream",
          "name": "stdout",
          "text": [
            "--> Epoch 167:\n"
          ]
        },
        {
          "output_type": "stream",
          "name": "stderr",
          "text": [
            "100%|██████████| 82/82 [00:14<00:00,  5.53it/s]\n"
          ]
        },
        {
          "output_type": "stream",
          "name": "stdout",
          "text": [
            "--> Epoch 168:\n"
          ]
        },
        {
          "output_type": "stream",
          "name": "stderr",
          "text": [
            "100%|██████████| 82/82 [00:14<00:00,  5.54it/s]\n"
          ]
        },
        {
          "output_type": "stream",
          "name": "stdout",
          "text": [
            "--> Epoch 169:\n"
          ]
        },
        {
          "output_type": "stream",
          "name": "stderr",
          "text": [
            "100%|██████████| 82/82 [00:14<00:00,  5.54it/s]\n"
          ]
        },
        {
          "output_type": "stream",
          "name": "stdout",
          "text": [
            "--> Epoch 170:\n"
          ]
        },
        {
          "output_type": "stream",
          "name": "stderr",
          "text": [
            "100%|██████████| 82/82 [00:14<00:00,  5.55it/s]\n"
          ]
        },
        {
          "output_type": "stream",
          "name": "stdout",
          "text": [
            "--> Epoch 171:\n"
          ]
        },
        {
          "output_type": "stream",
          "name": "stderr",
          "text": [
            "100%|██████████| 82/82 [00:14<00:00,  5.55it/s]\n"
          ]
        },
        {
          "output_type": "stream",
          "name": "stdout",
          "text": [
            "--> Epoch 172:\n"
          ]
        },
        {
          "output_type": "stream",
          "name": "stderr",
          "text": [
            "100%|██████████| 82/82 [00:14<00:00,  5.57it/s]\n"
          ]
        },
        {
          "output_type": "stream",
          "name": "stdout",
          "text": [
            "--> Epoch 173:\n"
          ]
        },
        {
          "output_type": "stream",
          "name": "stderr",
          "text": [
            "100%|██████████| 82/82 [00:14<00:00,  5.53it/s]\n"
          ]
        },
        {
          "output_type": "stream",
          "name": "stdout",
          "text": [
            "--> Epoch 174:\n"
          ]
        },
        {
          "output_type": "stream",
          "name": "stderr",
          "text": [
            "100%|██████████| 82/82 [00:14<00:00,  5.53it/s]\n"
          ]
        },
        {
          "output_type": "stream",
          "name": "stdout",
          "text": [
            "--> Epoch 175:\n"
          ]
        },
        {
          "output_type": "stream",
          "name": "stderr",
          "text": [
            "100%|██████████| 82/82 [00:14<00:00,  5.53it/s]\n"
          ]
        },
        {
          "output_type": "stream",
          "name": "stdout",
          "text": [
            "--> Epoch 176:\n"
          ]
        },
        {
          "output_type": "stream",
          "name": "stderr",
          "text": [
            "100%|██████████| 82/82 [00:14<00:00,  5.56it/s]\n"
          ]
        },
        {
          "output_type": "stream",
          "name": "stdout",
          "text": [
            "--> Epoch 177:\n"
          ]
        },
        {
          "output_type": "stream",
          "name": "stderr",
          "text": [
            "100%|██████████| 82/82 [00:14<00:00,  5.54it/s]\n"
          ]
        },
        {
          "output_type": "stream",
          "name": "stdout",
          "text": [
            "--> Epoch 178:\n"
          ]
        },
        {
          "output_type": "stream",
          "name": "stderr",
          "text": [
            "100%|██████████| 82/82 [00:14<00:00,  5.53it/s]\n"
          ]
        },
        {
          "output_type": "stream",
          "name": "stdout",
          "text": [
            "--> Epoch 179:\n"
          ]
        },
        {
          "output_type": "stream",
          "name": "stderr",
          "text": [
            "100%|██████████| 82/82 [00:14<00:00,  5.48it/s]\n"
          ]
        },
        {
          "output_type": "stream",
          "name": "stdout",
          "text": [
            "--> Epoch 180:\n"
          ]
        },
        {
          "output_type": "stream",
          "name": "stderr",
          "text": [
            "100%|██████████| 82/82 [00:14<00:00,  5.47it/s]\n"
          ]
        },
        {
          "output_type": "stream",
          "name": "stdout",
          "text": [
            "--> Epoch 181:\n"
          ]
        },
        {
          "output_type": "stream",
          "name": "stderr",
          "text": [
            "100%|██████████| 82/82 [00:14<00:00,  5.50it/s]\n"
          ]
        },
        {
          "output_type": "stream",
          "name": "stdout",
          "text": [
            "--> Epoch 182:\n"
          ]
        },
        {
          "output_type": "stream",
          "name": "stderr",
          "text": [
            "100%|██████████| 82/82 [00:14<00:00,  5.54it/s]\n"
          ]
        },
        {
          "output_type": "stream",
          "name": "stdout",
          "text": [
            "--> Epoch 183:\n"
          ]
        },
        {
          "output_type": "stream",
          "name": "stderr",
          "text": [
            "100%|██████████| 82/82 [00:14<00:00,  5.56it/s]\n"
          ]
        },
        {
          "output_type": "stream",
          "name": "stdout",
          "text": [
            "--> Epoch 184:\n"
          ]
        },
        {
          "output_type": "stream",
          "name": "stderr",
          "text": [
            "100%|██████████| 82/82 [00:14<00:00,  5.56it/s]\n"
          ]
        },
        {
          "output_type": "stream",
          "name": "stdout",
          "text": [
            "--> Epoch 185:\n"
          ]
        },
        {
          "output_type": "stream",
          "name": "stderr",
          "text": [
            "100%|██████████| 82/82 [00:14<00:00,  5.56it/s]\n"
          ]
        },
        {
          "output_type": "stream",
          "name": "stdout",
          "text": [
            "--> Epoch 186:\n"
          ]
        },
        {
          "output_type": "stream",
          "name": "stderr",
          "text": [
            "100%|██████████| 82/82 [00:14<00:00,  5.54it/s]\n"
          ]
        },
        {
          "output_type": "stream",
          "name": "stdout",
          "text": [
            "--> Epoch 187:\n"
          ]
        },
        {
          "output_type": "stream",
          "name": "stderr",
          "text": [
            "100%|██████████| 82/82 [00:14<00:00,  5.54it/s]\n"
          ]
        },
        {
          "output_type": "stream",
          "name": "stdout",
          "text": [
            "--> Epoch 188:\n"
          ]
        },
        {
          "output_type": "stream",
          "name": "stderr",
          "text": [
            "100%|██████████| 82/82 [00:14<00:00,  5.55it/s]\n"
          ]
        },
        {
          "output_type": "stream",
          "name": "stdout",
          "text": [
            "--> Epoch 189:\n"
          ]
        },
        {
          "output_type": "stream",
          "name": "stderr",
          "text": [
            "100%|██████████| 82/82 [00:14<00:00,  5.53it/s]\n"
          ]
        },
        {
          "output_type": "stream",
          "name": "stdout",
          "text": [
            "--> Epoch 190:\n"
          ]
        },
        {
          "output_type": "stream",
          "name": "stderr",
          "text": [
            "100%|██████████| 82/82 [00:14<00:00,  5.52it/s]\n"
          ]
        },
        {
          "output_type": "stream",
          "name": "stdout",
          "text": [
            "--> Epoch 191:\n"
          ]
        },
        {
          "output_type": "stream",
          "name": "stderr",
          "text": [
            "100%|██████████| 82/82 [00:14<00:00,  5.54it/s]\n"
          ]
        },
        {
          "output_type": "stream",
          "name": "stdout",
          "text": [
            "--> Epoch 192:\n"
          ]
        },
        {
          "output_type": "stream",
          "name": "stderr",
          "text": [
            "100%|██████████| 82/82 [00:14<00:00,  5.48it/s]\n"
          ]
        },
        {
          "output_type": "stream",
          "name": "stdout",
          "text": [
            "--> Epoch 193:\n"
          ]
        },
        {
          "output_type": "stream",
          "name": "stderr",
          "text": [
            "100%|██████████| 82/82 [00:15<00:00,  5.46it/s]\n"
          ]
        },
        {
          "output_type": "stream",
          "name": "stdout",
          "text": [
            "--> Epoch 194:\n"
          ]
        },
        {
          "output_type": "stream",
          "name": "stderr",
          "text": [
            "100%|██████████| 82/82 [00:14<00:00,  5.51it/s]\n"
          ]
        },
        {
          "output_type": "stream",
          "name": "stdout",
          "text": [
            "--> Epoch 195:\n"
          ]
        },
        {
          "output_type": "stream",
          "name": "stderr",
          "text": [
            "100%|██████████| 82/82 [00:14<00:00,  5.56it/s]\n"
          ]
        },
        {
          "output_type": "stream",
          "name": "stdout",
          "text": [
            "--> Epoch 196:\n"
          ]
        },
        {
          "output_type": "stream",
          "name": "stderr",
          "text": [
            "100%|██████████| 82/82 [00:14<00:00,  5.55it/s]\n"
          ]
        },
        {
          "output_type": "stream",
          "name": "stdout",
          "text": [
            "--> Epoch 197:\n"
          ]
        },
        {
          "output_type": "stream",
          "name": "stderr",
          "text": [
            "100%|██████████| 82/82 [00:14<00:00,  5.57it/s]\n"
          ]
        },
        {
          "output_type": "stream",
          "name": "stdout",
          "text": [
            "--> Epoch 198:\n"
          ]
        },
        {
          "output_type": "stream",
          "name": "stderr",
          "text": [
            "100%|██████████| 82/82 [00:14<00:00,  5.55it/s]\n"
          ]
        },
        {
          "output_type": "stream",
          "name": "stdout",
          "text": [
            "--> Epoch 199:\n"
          ]
        },
        {
          "output_type": "stream",
          "name": "stderr",
          "text": [
            "100%|██████████| 82/82 [00:14<00:00,  5.53it/s]\n"
          ]
        }
      ]
    },
    {
      "cell_type": "markdown",
      "source": [
        "### **Pix2Pix Generative Adversarial Network (Pix2pix GAN)**\n",
        "\n",
        "* `Discriminator: ` Patch-GAN\n",
        "* `Generator: ` Attention U-net"
      ],
      "metadata": {
        "id": "iGR5KbFlScR_"
      }
    },
    {
      "cell_type": "markdown",
      "source": [
        "![Attention_gate.png](data:image/png;base64,iVBORw0KGgoAAAANSUhEUgAABJUAAADkCAYAAAAhBRWpAAAAAXNSR0IArs4c6QAAAARnQU1BAACxjwv8YQUAAAAJcEhZcwAAEnQAABJ0Ad5mH3gAAP+lSURBVHhe7F0FYFXHEj3P4wkEggV3d7e2QKFe6u5G3d29vy2l7kZbKtSQUrw4xd3dCYEkxPP0z9l9N3kJgQIVKnvCsPeuzurdmbdiCwlgcMzA4rfZbOG3A98NDAwMDAwMDAwMDAwMDAwM/o6wh02DYwSj0zMwMDAwMDAwMDAwMDAwMPgnwiiV/kJQgUQKBoPqnSbJKJYMDoS0lYi/A0E7TQf3Y2BgYGBgYGBgYGBgYGDw58EolY4BrO1tdrtdkcF/HSUKIgt8ssmf1+eFz+87iMoohFAooIi+S8dwEFieDsuzgYGBgYGBgYGBgYGBgcHBYc5U+gsRWdSWYsmyi3w3Zyr991DSMqT+5U+BC9rCOseQPNvseoWbsmSAyGZCJ74fTtOJ7PHKv2VxOIENDAwMDAwMDAwMDAwMDDSMUsnA4FghQjHEtUbWq8OykIc5k1cB9hA6H9cMgUABHHa6urVHBvCFKVqIiNQLRTzTqxV/pBetjQprpEISd2lHAwMDAwMDAwMDAwMDA4ODwuy9MjA4lqCmRxCpy1FWVBQJhn/6PUZ9PVa920NcoUTljzhQ6eQH/vfkW3jovmeV3wMUQuG4NXjqUrCUlT6HySKjTTIwMDAwMDAwMDAwMDA4MhilkoHBsYC1QJC6HHlkR3QKcR2SUu+EnROjExDnSlQONqdHPLqUMkmRBGrcuCFatmpTohsqiwg7ng8f2eH1NjumKHHSxeiVDAwMDAwMDAwMDAwMDI4ARqlkYHAMEAralMInY5cX+3eKRR6wfu5+bFycCRRoP0TIZ4cnGAfkABsW7MaauVuUX6UHEpzUvx/69TlZ64aUAqmsZkm/h3w2uOx2BCSe9Qv2YdPCfdi2LAPbVu9BQbZX+TEwMDAwMDAwMDAwMDAwOBKYM5UMDI4B/EUAFx598NJYrJi/EckJFbBp/VrkFeaiXee2uOXOixBdE3j6uo9RmGlDXLIbC1fNhMvpRNs2bXH3Y1cACcCbT3yJBfNX4aNRT+qIeaJ3pK7YJt2bW+XsNmRuBJ5/6jXs2rILLnhQVOSFz5WJ6+66GH1O76H9GxgYGBgYGBgYGBgYGBgcJsxKJQODvxCWBlfpfgSJUSnYuGo7mjdtgQ+/ewxPPPIMfp20FLOmrlfuIZsd69evR936dfDNT2/i5pvvFrdl2LA0W7k7bVFIiKmgnhFk7ELcxmaRvPM+Of4b9sFo5Gf5MPSz5/D+O4+jZpUG6N29D/qc0qP4DCcDAwMDAwMDAwMDAwMDg8OFUSoZGPwFCKt7FBFK3yPI3r8PDRrXwMA7Wqob3Br3caNRw8ZYsXilcs/Ly0bTVvVx/o3dgDigQdOaSIxPxsaN25W7z++XThyOlb2ZK5MUaGrNlY32PiA3Kwe166UC8s/eGHAlBhFw5IcPcrLCGRgYGBgYGBgYGBgYGBgcHoxSycDgLwLVNhYpqBcfbHavevbxJG0xGzaoh03rNygvdkcInjgH4AGCAcAVBcTGxCMvt1C520I22IsjLIFlRTPAVUguoH6tuli2YDlmfL8VP747F4tWzETL9g2VP9i4R87AwMDAwMDAwMDAwMDA4PBhlEoGBn8pSmuAuGLJqa52A1xqSRGwdesmJFdOUs8Otx0+aoX8VDBp/0G/X0LotU4OhuGh32UQaeNwy3+5QNrO3Whetx3mjF2GxbOX46GH7sNxJ3fV2iqHGQoMDAwMDAwMDAwMDAwMjgxGkjQw+ItARY8N6oQjDXlwu6ORtjMTy0enyQuweU4OFi2biy49Oygvhb482FzBEi1RSP7ZiuB0a+WUzSYxFm9d8yNI7RMCxWZImYICIGNfFmKjY9Gta1f07NYTLptLEhA3aqvMUGBgYGBgYGBgYGBgYGBwhDCSpIHBXwCtUCJRARRCKKwk4kHcPp8dH30wHPdf8ioefuQJdOzZBl2Pa6ndnV5kF+4r7qkhWwA5RXtR4M9R73mFOcgvylXPQfkLhRVJNmXyTCWxC4hZEWjeqg1++XUCvp8wFD+M+QbvvvMxnnxgMHJ35qvwBgYGBgYGBgYGBgYGBgZHAltIEH42MDD406Hu94ev0KbOR3r76Z+xYfkOPPvsNRg7cR6qVE9E5+MaqTOUeA7SmkVb4PMG0KJzPeqi1MqiOdPWom69mkhpGI2183ajqMCPlr1SGflB4d8K3HjZy7jlrhvQ8rRYZRfcAJx14ZV4+Nnb0aFva2WnE7GWRRkYGBgYGBgYGBgYGBgYHBz/+pVKhYWF2Lt3L9LS0rBnzx6kp6crk3Y+nw9Gp2bw14PX/GsUhQqRG8qAux5w+nUd0fnURuqWN9UzfUE0bltbK5QI6no8QOf+jZRCiQuRGnWsqhRK3gxg+9Ii7F4Wwp6lwJ4lQLqYaYtC2L8SWLeiEJlZ2UjbkYFscctaAPwyaR3iEuNRpUaKjl+tbDL9wcDAwMDAwMDAwMDAwODw8K9cqRQMBuH3+7FmzRp88cUXWLBgAXJycpCZmanc4uPjUbt2bdx3333o0qWL8ut0OsOhDQz+TOhb1nxeB1xu4NX/fYW1q1fhzY+eQFF+HhDywuN0AC6X9E5ujfPD7nDBoU7bFkhvLfAG4bTb4ZImmy9hYmJjMX/Gajz70GuIdsVL3NKe7U44HU54vUXIzctFz97HoVu37nj/nfeEhSBsthDs7iBue/AatOndQEeslErUXJldsQYGBgYGBgYGBgYGBga/jX/t9reNGzfitttuw5IlS3DGGWcgOTkZixYtwqRJk5CSkoJbbrkFp59+ulIuEUapZPDngt3MUtxQr+OE3Qbk54qN34f4Ci6xFHe7X3qlkHRLHumtz16yyx8P03aEY7AptQ+dQiEqiOwI+gBvgXJU9lZSQTEZbVyCvHvEOk/eC8WPeHJEix1JIRygOGYDAwMDAwMDAwMDAwMDg0PjX6VUYlZ4GxZXHg0dOhQvvfQSzj33XFx33XVKqbR+/Xo88sgj2LJlC4YMGYIePXqoLXAulwt2u1mdYfBnwlLa0AwhEHJI77Mj4OOqIxvs1PKwCYZ42LYvfKMbj/WmaolKHv7PPyqW9JMFqwPTVFGUeWaq9F0YKILb5lCrmOgQDPLA8CAc0vZ5yLdd+bLIwMDAwMDAwMDAwMDAwODQ+FdqUgKBABYuXIjs7Gx06tQJNWrUgNvtRmpqqlqZxK1wPFOJoBLKKJQM/mrYwPVGUEqdkF3e5IVKUaqUgja7/E/lEdulNtWqJWUeCBWPUgv55S+g/vRbUD3xRji+uRzi0843n7z7YHNQoaRXP5WsfSIZGBgYGBgYGBgYGBgYGPw2/rXaFJ6dRIVRdLTe30PFEVckeb1eJbx7PB5lRz8G/zSUVa3w/e9ORGRbo5qIiiXtHrSFELAFlXJJd8sS4uokUglKx02FEoNp31xxRApEEN+pnmJc9Cmk/jF8IGwTti+F0ukYIhkYGBgYGBgYGBgYGBhY+Fduf6NC6dtvv8Vjjz2GXr164d5770WlSpXU6qW7774bsbGx6gDvmjVrmkO6/0EIBkJStzzo2trQZeEf1ITVtjbmIwib3S7tT0wHFUYHV1qorXECtm2ru1rKUJtd7HhwUjH0sz6LSUMlqSB+lb30E7HjI5VJIRanUjtFBDoEP/9thMtIyt+MGwYGBgYGBgYGBgYG/3X8aw/qHjt2rDqoOyMjAw0aNFBnKvEspaioKDz55JPo06eP2hJnKaIMDAwMjgocQc0QYmBgYGBgYGBgYGDwH8S/cqVSYWEhrrrqKsydOxeXX3450tPTkZmZqVYmDRgwQK1eslYoGaXS3xusH1VHdjsWL12B5StWwuVyIuD3cY1N2BdX2Viw7KROQyWbuqxmbpk8pPqYQC0bUkuDFHT7I/8H8mPxWrZ96jDa7ve0XSt+DeFBLWNSpaVsCDuvqBPoZMReHiJXQf1elF5lpVGar/Lxp/XZcLTW6i6+lnCj3xxOuzqbrUOHdnDaeOC62P9J7BgYGBgYGBgYGBgYGPyd8a9UKuXl5altbpMnT1bKpapVq6KgoABxcXHquVq1aqhXr546b8kKY/D3RMDvR1DqiOdhXXLldZgxaza6dOuOrMxMOByWIiRSqWSB9mGlUkQLP5LmfiTt4nDiVfEpZkr80u5gYctTuJQFt78dLg4dX7i8yuS5JH7Nt/7/j8efVS9HA10S5SAYRHSMG+vXrUJq9Wr4+qsv1cpHaaDSBP9cngwMDAwMDAwMDAwMDP6O+FcqlXw+H3744QfcddddaoUSb3+z3HhANxVK55xzDs4991y1Be7PFlINjgZafaHrTR9Sfdk1g9CoWQvceudN2JtRBLtD6o5/v9GCI2uXVX24Lf5ImsXhxHmkzeyPjvNo4ossL5p8jLQ70jz9Ufiz0mW05UVNu4A/iIqJdgz/+hv8PHoEvhr2hXY0SiUDAwMDAwMDAwMDg/8o/pVKpR07duDOO+/E4sWLcf3116Nt27ZwOBwIBAKYM2cOhg4dioSEBLzzzjto3bp1ODQFVSMY/n3AZmk1Tb0S6dJrbkSj5i0x6NZB2LO3EHanhyql31QqEWVb+WEsAjoiPcGxiI84ljweDL93RDmcbviXKJXK5CMY8CE5yYWvv/gc40ePwI/ffq0LjP7+iIIzMDAwMDAwMDAwMDD4h6G8fUP/eKSlpWHp0qXo0KGD2v52/PHHq3OUaN54441o3749cnNzsXXrVqWIssjg7wQt3ut60XVDpZ/d7oTfB/i8PgR8XjGLhGha5BMKhMlfTH6fJq42IYUCQa1lOQQx6cOl8sKXpfLCHYzKC18elRf2YFRe+LJUXjh1616Yyr4HpRx5I59Farti4PcR4zgUqXQCfw75hXw0/eW7ibWQTRWXglFEGxgYGBgYGBgYGBj8h/GvVCrx7CSel7Ry5Up8+eWXmD59OhYsWICpU6fi9ddfV+9169ZFy5Yt4fV6lbLCrFL6O0LXSTDoVyYP5nbYHXBKq3XY7HCKjdvhgMsZQXx32MMkfsuQw24rIUcJcaGJofIpsnxsoVApN7vUReR7ZJkeCUXGwXouj4rdwjzQPBwqFXc57uVSOL0S4hhhVzokm7RBcRUyMDAwMDAwMDAwMDD4b+NfqVSqVasWzj//fBFWHXj66afV6iTSTTfdhE8//RQdO3bELbfcohRLvAHOKJX+zgghGNK3pQVDARH2qRgAHEql5JBnEfR5y5tF6o/KB01KGWDXVBY8uNoig6MED0ovl2RoKaby3EtIV688h0krbw4ky035k3Bl3Q9GkWmV5x5JdiEqLGlG8qTSZhwWpBFar5HWBgYGBgYGBgYGBgYG/yXYQv/SfV+87W3VqlVYsWIFMrOykJ+Xpw7pbtCgATp07IhqVasiGAyKIKklQqNU+nsiFPIjEPTD6YjCJVdfhxatuuDaG67CnnQfnC6tEPwtsIHzBrlIHE6zP5I2cbjxUbl1uEqsP4fHyDgPDHukPGqI34OyoR0Y76HjPNz0wvGVoyQ8GOiVxcTs/1a2qLCMjDkUVmhy7VIg4FdnKn3zxZcYN+YH/PjdV3DY7apcj6Qe/jgcbpkZ/DtxLNqcgYGBgYGBgYGBQWn8a5VKh4PIrB8bodDgtxCpVLr4qmuVUum6QVcfkVKJoFKpvIZ+qOZfSnHxG73kcLrR4fAaqdA5kjgtv4dKQ/vRK79KVuKUxpH3A4mTq3b0k4qRRGUMzyGy2e1wud3gOVYsTiphmD0mY2WvWHETkd/SCigrZo1DKZTsdn1ToN/nU3lhnA4ntz3apR0FS6VRHlTMlpeIZGjF85wqJXkwnEqln37Aj99/JekdK6XSofNh8F/AX93mDAwMDAwMDAwMDA4EJcsyoLBCIe+fTFrgCgX88HsLS1HQ71P2CIrAK8KsRQfGYUjE6IMQ3f4ZQq2lf+A2OJH/oXUpwrsQlRN2h/2gFHn+ktNZcv4Pn+08B6gUlR9HaSovXGmibqLkvbw4ypLFkz1M+r0kjhK+HeKfpkv8sRwOFl95xLKKpGKUI9eyeFlmMTFRcLudSmkUCEi/E5OrAyFmSPpfiGdlhbc0iqMyqUzSCiWLiHAi2qMyIqnEb0idvyXZQGysS+XX6XSodHnItqVQogLoYCT/6UZDCr+XxK4hPsNPxwKRnBj898C2Z5GBgYGBgYGBgYHBsUc5K5WoNBArCnyUPIXUL/G0K/ZpTWr/5sJN2awdChQgDQRWvYaJGoLieg7XuzpEhitCxFRamnJAL38ADrZSKS1ipdLBkqICw+/3K0UKV5QQKjfhAAc0fUI56jiVTkH+6Itbn4gQgmqlj8vlFnf2DSrYxL7UypryUUoZwxQsRmiEg9OP1+tTFi7JX4hKmHLAoAziECYdsEte2W8lz+yr1KoUQ6fDXJBXmvTrcLrFWsLxFrwIlOYxAgfNnsW4lY4YUlY2WwBjx43B0uUrcNHFF6N69RqSF3FTYwmh+SF/LEenw6meGZuK0WLDqg+VpXBYKZMAlcLKUuzEpAKJKCwoxISJE7B50yZcdtnlqo14oqPVCiZ9U1355VkWSsEUBsuEKQe5UinRheHDvsa4n77Hj99/+deuVJKCUeeKkR95JqnSYYGRD3oRS6tNGvx9oersiCBjmLRzNvmAdHUZ0sKVHyYDAwMDAwMDAwODY4RI6TMMzlDF2u6RRxE8IYKtzaWeYbdI3u0iBCrzb0wO4fVwqbzw/0my6pVlwjYQJRQdJj6LnbhRIaGX/oSbTFn6CxDWN5QLyvhcueNyUfklrTi8YoXgqiUFSzKPJC2aK2cEqSQRvxIuNtqF6CgnPG6HIiq7bNBKGkUsioOQpZijgoik2Ja0dFjtzGcWp0uKP8rDtKT8qeC1Cc/Fir0DiTfabdu6Gc8+9SReGzwYabt2qVvwgtx6Jj4sUNnAG/EWzZ+HZ598EtOnTkHAH4BanSTloVcxybOEUvyUTeqgUDkQPzo1Zjfa40T67t345IMPsGnDesRExyg/VIYwLY/LjdiYKMmnW9yi1bsqevqRAuOWOWUqop04ibs+jJ3+eAtg+HY/3sSmVh1Kafn9qp737E7Dp598ioULF0r+9HY4jTCvVjqHScwb/3RYwjL/YkiyIclvkZRykfAVkDKwnn3i5hcKSBkHJc+HSwFDx4aknZKCh0kBGct80pSLpI69bAts1hzOdMcxMDAwMDAwMDAwOGYo90wlnx8oFApQdtIylYIW6DTMXPbfhXAVF4PvSrmgX0tMeeAv5U4qP1zSDmgXpkiUfT9aUHkTCgVgt3vUQd3N1Uqlq5C21x9eqRROv0x79HObo0hdEyeMxzfffIPTTz9TkbWihKuNrNU91iomKhBox7ZthxPOsD0VO15vPmbNmoax48ehabPmOOfc8xETHYtggKtUwqtEDpXp8AoZelHnOwkphYXY0LRLBnx+r6QxEz/9NAannXYKOnfuBIeDeeRqGBVcgXlQ5wNJ2NhoD5YsWoz77rpbKW+eeeEFNGzWFD6vV61sYDgG5bZPyR1G/vAd3nj1VVwhZXnBpVcgKsqj/LBYgmVWW/GN/Fq2h8yfODIep+TDLvX106gf8NJL/8Od9z6AAaedIfVBJZdeRUNl0PLlS/Hhhx+gTu26uPyyK5GUVBE2sWdaOr3SifGNi6i83kLk5+fi408+xto1azFo0I1o3rSZOoTf55M8Sp2tXbsWd951F1q0bIlnn39OZU6Xn5jcXicvR7yySLyrM5XUSqVvMO6n7/7ylUo+aUIuaTKjpq/E1Gnz4HEnqPOiuOWPZ0hJzpQ/8mJnYR0Gyta5wV8Dq3ZoHk5NyQiIoGpjQv4iXHPhKWhUN1E6i9TfX9D2DAwMDAwMDAwMDA6GCKUSDRv8YuQUAO98PBw79+aI0GJtweHkNezV4F+HSAUSUXI9v/yF3bjlgnqW/fvT0bdvd5zZvyuKxF6rRkqHt+x+Lw5QKrUO3/4WoVQiVPrh5hkIBJGdnYnPP/8U33zzFXZt3YKbbrsbt9xyp1rJEghwaxnPChKhOkAlKrdr6VU0FMyVgiBkR8AbgtttQ35hLt58cwhG/zQC27bvwMCzzsbDDz+G+LgkJZT/llJJWUeULxURxUK/2HMHGvMYCBTh22+/wauvvoI777wTF154Mfy+ACj3U0HkcApP4pkHYHuiooTvoDq7KD8nG7uEL7fThUpVq8ITF6eitjMcz1hy8uBqKnyAkd8NxztvvYnLr7oOZ5x7gVqdxO7NbWFRUVyZo5WGLBfWNUcHEnmgIu5gCEmNcyhxSaJ52Rl46/XXMGnyJLzx9odo1LwJ8vJ96qwjKkCm/DIJgwe/jI1r1qBztx548omnUbdufeFV6oZKHxWjVVoaLC62v3Xr1+KVIYMxedIktT3w5ZdeQY9u3REreaZihePV7l278NwLzyMjKwtDhgxBfEICYyiu+6MCy+UYbn9jqRRJ8XukIAYPnYgdOzNx/PEnSjvfr8pVmoeqO/JyJIqi4uHf4JiAreZQLSc8IiEAabs2Hjjvws8jf8Tl5xyPft0bhn0ZGBgYGBgYGBgYHDuUUirxib+G7s4G7n50MNp26YUa1aogUJinhM9I8eOv+GXe4K+DUgJFVLBWJwnCdmpjlAi18bGxmDZ1ElJSYnHrtWegQNyVskk8ig/tWcCnP6KFHIlSyVfkg8fjwubNW3HHHbdIYD9q107FuPHjcNWV1+P22+6Vdqy3QxX5ilBUVACXy6WUMepAarsdBYUFyMvPh8flQVJCItL27MYjjzyAxYsXoGvXzliwaBF69uyNBx98FFFRMarPHKhUKilIrZwrAbfj5eTkIDNrP1ySrtvtQUxMnOJ1377dGDNmBD755CNceeXVGDDgVHGLR6y4x8RGY+/edEkzCjaHE3vS90leoxEd5UJMlBsOYcQhfFApHFKrV6Q+5D0vvwA5ufngodgJEseksT/hzdeH4NpBt+D0s8+XOKIUX1xJlCU8sZK5tYwUH58Ap/R7KrFYNlafL+76NMNZZd4Li/yIj3Fi88YNuOXGm5CUlIyXhryJuApJqpxycrPxwXvv4KefRqFy5WTk5+WhSkpVPPfM80ipWk1txfMHDlQqUZHmcdkxceJEvPXWG8jOzkJqag1s2rwJTz7+JDp36gy31Be3ulEB7vV5MfSzz/DRJx/j8ccfR//+A+Dz+eFyuySfJXVzRBB2jrVSiRsuXfL8ymcTlSLygvP7Ii9X+p80aXXpnbCg9P9HANaLwbEFW45FB4D1Iw6q2cogze2xrw35HgNP6ohe7WpKO+DB9GJpYGBgYGBgYGBgcIwQoVTiddsyexXhaGcO8MjzH+LcSy5H43pOePMgwmV4fltm5vsny1IGfxFYjZFVWbZa1WolEVgTYoHhX81GMJSL6y/rp5RKXAFTVqlElI3jaHA4SiW2YPJXVFiIuLgozJ+/GA/cf4+i2FgPrr76Slx80ZW4866HlOLC6QaWL1+FN998DbHR0bjz9jtRvXpVJbhPnDQRH338CS688EKcevIpWLp0qYrnmmuvQsOGDXDHnXehS7duePCBR+F2x4SVCQxJJriuQOfbMpW1GNxWR68+nxcvv/wSJkychJRKVRATG4c7br8DjRs3wD1334EFC2djz56dqFo1FZWSqyM1tTYefuhh+AM+PPfc06hVqzZatWmHIa+9IW41cc3VVyC1WgreeHUIKlaoiKuvux6VUqqoLXbbtm3DS4OHYOmyFYiPjUGPrp1RuUI8vhr2Oa6+/kacdf7FUq5OxMU4MH/BCrzz9tvYnbYbhYUFSEpMwCUXXYy+/fpJ+UruQkEU5Beoc5GouNFbB61ccpmMQx2IHRfjwoL5s3HrTbfirIHn4ba77gU33rk9NmzetBVvSZlXrZKC3r174rXXX0MoEMILz7+IajzIW+JijKRw6Smo9CW9z4YOxezZM3HllZdh0eKF+OKLz/HkE0+id8/eImy7hTeHOow7KsqFCZMm44ZB1+OGGwbhvnvvRG6+tKHwSqjimHVChwcJdGyVSlLmwoRDaMin4yQ/edKmz0JhgdSJuKjGxdVs0r6PhJfi4d/gmMAqfdZYpFK/LEJ2N3h+v9sFvPnaVxh4Shf07lhHwrM9/7ltz8DAwMDAwMDAwOBQ4AKVUlDzWvnPwxluQS58uSII5/lQlBeANz8Eb4EI73kh+PIBf6G4yfufRUzrcKm88IdL5cV3MCov/L+BmLeiCCqU+lXE54IQCuRZ5Ffk064oB8GgOi5WC0MHoT8bxTvIuGVKhGNuh/L5QmjUqCE++uhjnHBCH+0WEHE8vD+IetMiP1CnXh3UrFkD338+FGN+GoVgwI+tmzfi86GfSl5zxa2mUlI0aNgAH3zwIU4//QylgFFKCRuXhVB454Hd7DFaUcHDt7nljKuT7CFxV6uU6BJCwO+DU1j44P13MH7czxh0/XV48IH7cdKA/liyeBFysrNxxx134swzByIpqQJOO+10PPTQI7jt1tuQkpKC7P1Z2LVzB77++iuMHPEj7rv3Xtx0001o0ay52ra3ceMGbNiwDn5fEXzeImyU5yeefBTrxbz9jjvw2GOPIzc3Fx9//AmyMrPUCi0qH7hyavq0OXj4wQeQEB8n5oN44vHH0bRxYwx55WV8//23cLnd2Lh5MwYPeUXSvBG33XYrBg26HjfeeANuve02DLrxJtx55z3Yvm2XKqO03Wkq/kqVklnkcDptql4qVqyA22+/XcLegOTkZLVdTdVLGKWVIbpcSQzP7XlnnXUWnnvuObRt21bVqz5rSpsqhPjhs9cbRHxcHBIT4iWvmdJeQ0rJJkFUjFzMQ/OfBKrbtMqNz2z7Nr3tTawc0k5dDhdcYlLxC27xO0yiUs/QX09W2Vsmz2bj2HIg8aZDMXlGXFBI6XIDSnlKGIWSgYGBgYGBgYHBsUaJRBeGTHOV1OWUJ7c8uCgUiqTCs1JITtqJ6eA2GfHzZ5IrgsiPRZH2FpUX/nApMp4/M50/nlgHQqou/oD6EAm1mFjHqp4DmuxB2OVdbbMBD7PWV+xTpLHoLwG1QhGgToerZwheG08lQ0xMLOrWTUVMNLeB6evnSepwbvHqF+EsKsqNc845C52P64Wvv/oCCxfMwYgfv8PsWTNxxeVXoH379uIPiIlNRK06dSUNl7rqnzemaR5019EKJosnmhYRJSbP88nKysSsmTPQuGF9DOjfDx07tsMZp5+Kk07qj0rJldG8eRO0atkasbGxaNqkKXr06IbmLZsiOsatVqBwmyEPue7csRNOOeUEdOjQBsnJSdJfQ/C43UpBpJQPNhsmThyPuXN+xZVXXYnzLzgN3bp3wLXXXStpNFflxXxw21/art14683XlVLtkYcfRO/e7dC3T0dcdeVlSEqKxfjxY7EnPR2169TDpZddgbvvvR933XMP7nvgQdz34EO497778dBDj+KOO+9GteqpKCryYdu2HWq7WeXKlbl4RvLOuoHaule9Rg2JN0HVhdPFzVysQzXqlEZEEXJrHrctVqyYhGrVUlQ9U9FVSgkV8UghPCEhHhUrJGFv+h7k5eVKGlL35aXzDwWzq7MsdR4qIR4wH/n+W0Tl59+TyFtZKs/fX03l8VWWygtnkfZjlT3EZB1q4phCirSz7PX2XELXvW7L1o2WBgYGBgYGBgYGBscKepaqoEWUEouwAHYIOYzC4F9F8l8xHcy9PPsjJfnvL0nn8IjJlWdvUdhdhOgD3Y6CGE9ZKikOgYgylgwTIcvQSTn/6YhorgJhD5ZewVIw0PQH/MjL9cKnFlNxhQq3DklexAv5dLtd6tydOrXr4PzzzhW/+/H8c09j3NgxGDBgALp374X8Ah8Ki3zwBYDcgoCEE0HQWhlTvERKG7rvaMFPwyoRkk3CiQBpd6oy5Ba1ZcuWYfLkierQaafLgapVqyp/+/ZkIzsrWzIWRFFRETIyspCfV6RW+XBlSkFBHpo1aYKzBg5Ebo4fucpNVwRXrNiFyB8PAefKpWpVq6Bxo0bIywOysgpQu1Zt9O3bB0lJSfB6vYiOsiEnez+2bd2ClMrJ2LBxPSZOmoVffpmDHTu2oHJyEvak7cSOnTuQnByFps0aoPdxbdCzd1sxOwl1RI8ebdCrVwuhpoiNcQs/AeTkUIkTUodnE5IdVS8874orLAoLvUrZxzxZhVgiG4udVYwCtkGelUSlEg/ZZlmwrHle1KEQza14cbFSh4VKGagiZd3JU2RN/T5o3v8K6HVKkVzrZ5vkRimIVK40SYkdAR2gWj5qilSElOd+ZPTn8nr0VB5fZam8cBaV9mfVmSZ5p5JJKZs0sW614snyY2BgYGBgYGBgYPD3wgGzVCUmUV6hlCrQgrgWaEIiBP4lpBk4Ijoq/srEcTik0wmXSymKiPcPIcYZDJvWezlpRQoskfZ/FFl5ltxTicNioIKg1CoRhbLvfyQi4z4wHUvHY4EKBx40bUG3aZ0PevX7/Kogo6NjcNxxvdChQyssnDUFWfuzcOKJ/ZGaWgW+opIDcLnKyNryVjZ9rQyxBL7ySG/d4nllsbEJOO3UM1G7Zl08+8yzuOSSi/DT6BEoLMwTnrxwudySFrel2eGWZ4/bo3jgDW9UiAT9AbWtLCEhEU6HU/mx8UwfScWqH67ioRJl967dSE6uiNgYHiYeUuH8fr9StkQiPy8fu3btwsKFC/Hww4/gySefxKOPPoJnnnkGa9asQYMGDREXG4v9mT6sXrkRs2asxOyZKzFr5hJ5XorZs5ZhxrRlmPPresmHXym0CgsLFX9RUR4pHyrIvGq1ERVgSikn+StWAlqrLyLqSw09SgFEv/IscfAMJ4eDW75021PxsC7YIcJmSRzMrwMejxtF3iIV1ungyhApH6uwSEcNzXuJ+UfiYAzq9nsgdP5Lh9J2R0ZWez0UHTpcpMIk0r78cGXpcMKU9RNJ5fn/M6ksytYZ/ZTlzUJpv7q9k8QPG3wE6TovHQe9Fiu2I+IxMDAwMDAwMDAwOBbgbPUAUE4O8U9mu9Zclybt/2yypshl0ytrT7MUCY+R/n+LGIZgDrmKRdtbk3gtpGl77abfhaRMSuzLUtjP7yIeu0tifHqFjX6nm5WG5ceyF1L5/y1/tLfcDkUH+rHagC43ERtFSNdPfzZ0ffwWuHBFKbv4LEwpXhXPbOL613+ecUQHruqwKyURsD87E/sy07m0RZ1fkrU/RymKPB4PoqN4hbcECUp5ULEhYUu2UKmIlOxnFQLDKSUT34X4TGcGlNRht7vQpUt3vP/+x7j+ukGoVqUKXhn8El783zPYn5Wh0uQKJcWh3SlhnCoexsHtalRscWuX1+/XSTANmsxWWACl8oqKJbfbrVYjMU+WEtBS5DAvymTcUo/k7tTTzlBnR7337vt4910x3/sYn33+NR579Ak0btgA69etwvCvPsMLzz2JF59/Gv979mk8//QTynzqiUfw2pCXsGvHFricUrYOrhbzKWUOhd/I9KkM4m1uPENGrfwiEwIqnwhyqLgUfwyvVBQMy5yqfNJJ+6XyUK/QYQjGJU+sr5Affr9P0uF2Rb9KV/tV0SpYQjn5IUqE9EMh0o88kxnr+UgR5kOZFhHK1C9qDFZPRIlKqbR3+TuK5A+EFWtk7JEoz64EVijWzMFiODQiQ0WaVoyHwm+5Hw1YqBZZYDoWTyQecGSRZXcwfq2wpf2XjNDipr63JaO0ItqFv8M6jIXy0jAwMDAwMDAwMDD460GJrBjWtJewprfFdocldP11UHwJS8WkrY8CzJclmIahIittr+NXqaqnkufy3i2734MIfhQYpyWQhOOPTKb4mQ/lCTeMz6LfguWH4a04IsNZLeOvQmTav5GuYjkIv5fb33xqVZJSPPAwXHkPeSW2gNI8wOcvwtjxY7Fg8WKcd8HFaNS4Ob799jusWLFOmrsW4nkVv7coH0VChd5CpaQJBgLyXgCvtwh+HgIu0XGRjNsDOF3y7JA05F0pOKQauErGL2Fiop1IqZKstoWdc865+OiDj9CyRQt8OWwY9qTvgSeKKVIB4tC8B/zgbXE2seZ5KiptyR8VToSlJFLKJL6LHyq9XMJIUlJFZO/Phq9IePZJXH4vnE4nMjMzwwoqCSPBeTZRbFy84q9KlapISamKqlWqo0rVGqhbvx6q16ii0qhfrw5uvmkQXh0yGIMHv4zXX38Nb77+Jl579VW89+67+N8LzyO1ZnVVplVSKivF0v79maqsqOSywBVLXEmlFVvSiqSAioRHkt+nb8ijoofDjcfNfEq9SR3Qngd7FxbmqzSoLOJWOppUnvn8eosblVRc0ZSdk4V9mRlIqpCkztiigsovft1um7zb1NXsRHEZhpVbh4blxzJ12HAUAtofBilFVoRZbB82/NK/2K7kRauD6aB7HcF6U6aQUsyFn38LAakLlhXL3yJLwahREgtvXGTb80qbp4LucFKwfBwOL5FgffukbjVvRcr0+YoUDyVjWQkFg/RbqPywbegUjzTVQ6EkPrZP8kayFJAa2g+t/DK28HB4Teyz9GuVa2RcEDf6RZik/Uqd0J1VauOWNypHVc2r2Iv/IuMpMYnIZwMDAwMDAwMDA4O/HpzFFqPUVJVCJx+UAKMFHD3lPXJSE+bDIMsvOYl8t4iItI9k2LI/XFLh5T+ugYi0p/ir4pK4tT/LnfnXZUB3TWFhoNS7JsvvERPTVWSXd6eY4W07pfwFy7ETEjse5qzcJX2H1CHzUxKn5IVUNlwklfITkWcJb+VTXzFlCU1/BSTxw4VIbm6nE5UqxqBKJReSkyqwFBHniULVim5UTgKiXUCUy4m5c2fh8y+GoWfvPrj51jtx3HF9sHLlSowY+QNy87Lh81OhE0KFirGoXDkBFSskgjeRRUV7UDklGcnJHkRHS2kHQ9i/PwtLli7CipVLwSv5AwFuBZOiUoUn9SIvmzZvF/fVYmdDrZpVUaN6NVRIqqiURFQIudw8zDoa3kIqTwoRFx+NhKRo6YsiVkqZ+5VihEIoW1iJepFtVNWLvPGd+pG2bdup85lWLFuG5ApSDhWisWzZUnz99XB15hFXMhUVhSRfKejatRumTJmKGTOmIzbWhegYBzxRdixZsgpz5iwW3h2SzzjEJ1aQsqiM5EopSK5cDckpVRVVTKmCBCpvYqOVAik2Nk4p0tLT9yhlj90hrUjqhWWXkBCFKlVihVIknSi1TY3b9KpUiUGspKtv6rNhx44dUj9zkZWVAYeT4YPqTKakpBhUqlQBcXExqmyZpq6bqGIFkcPhFIHdh8ysTMVLrPihG7cZ8jyr5UtXIy+vQPml8otKqNIKAwtl7eRdJUF7i4hI80iJ/Shck+RB2oZN2i9XkOkeqf3oHqfzRzva8rVkBCoLK26S+BIvMVK+ycluKT+XlBlv55O6jrYUfvRfQjwYPjFJ+kvlKNUmrLI9EKXDqYEi4l3/WVxoioRSIErbT0wkX55iqiD1yXovCWXlJSDtQPp3pSjx41HPJbGWjb0sDuYeaV/ajyoH4Y3Ec72oxNOgKSOL3YW4GOFdxoLkiqQo8Su8q/qzci3/c0yVvlGB+ZRxSPVJMePiPOJKvzy8m8XHcmbcVr0yvEUWyr5bZfNnUmR6BgYGBgYGBgYGBiVwPP7Y449bMomaNorwkFMEzJg9H02aNhOhNwZBn19PktWE98igQohAqK77lkduQomNtSFOKCbapg4L9rhsIoTbRDinZ0J8irBBQcYlAh/9UfALBvWtVZHnrxCM98g5YxJ6osxzYLgdR61iiIbwROE+vPJEsk3etF8RgESo4K/7XEkRGyNCmYfbqij0SmEKX+rwYZXXo+UqMgzT1TYxIuRTAPS4RcCXNHmjFn/kZpkxSfJDk4dTu11OyYfwJG70w6pjHDq3vwX6DEMpj9SD/pP697iBVSvXqG1hHdo0BtcJqLSVr9+LshyWcE1h7vuRo5FSpSY6dGyDvHypA2GCebbS5aoVtq/MjAzMnPkrVq7cqBQlM6dOE0GvgvAcjW3b9sLljkJO7n68PPglbNq8Ffc/8AiaNWuNatVSsWPHTowb/zMaNKiPevXqYl/GXixdsgQLFy3GkiWLMG3qVJUusW3bbknNgfj4WKSn78ITTzyMqVN/QZfOXRAXHy8+KEiyffBwcDvWrV+PYcO+wPYd27BvbwamTZku/M1Et+490X/AKYiNi0Z+bhEWL16EnJwcFBQVYd++DKTWrIE9aWn49rtvkZBQAeecfR5swgNrh2WfKX5+Gj1KncHUp29/RMfGi8CdhK2bN2HO3DkoKgpi69YdGD1qtFq5tDc9HR07d0WzFq2krYggXKEifp09G/PmzZd2H4vNm7Zj/vzFGDFyJAoKCtCxYwcEpe7Zltge2Q+5QosrNEg8QFv+qdVOLukw2fszMWniBFSvVh2t27WX8o6WNmhHXm4+li9fieXL1mDhwnmY/MtE5GTnICYmDuvXbZPcOFGxUrL4t2Ho0M9wz713o1XLlkJNwMO9N27ahAULFinF37SpU7Bi+XJUTqmMtN3pUv77Ub1GqrQWKilsWLl6Bcb8/DM6deqGnj16qvFj9eqVeObpJ7Fo0UK0adMWFStW1P2LDYj/6aYWAatlCajYC/qlHzqxctkybFi3Ghecf65WGip/DMwaofkbpLQH8qhMdmAhOtkdoK5r/dZchOxuNQ5Rvcu1doyZowpVKLMXrVfKxdatmsDv0yMN20H50Glysdiunbsxd+4iLJPyX7lyPdat26rqMl7aKsvM8suti1wJtHbNOixdulKtkIuJiVFKEc14+bBcypqM1XqhYdnTxSNjGbFo0VKp2yVYu3YTVq1ajy1btqNy5UoyBnukjph7QkrAHkJGZrq01QXYuWuX5MuBKA+VhhwLSn8XDkRJyqVxoH0oyHPZaAJrVvmwfXsmoqLdUs4y7oi9Wi3I76FkbuN6r/Sf9di0cb/0nTxkZ9mRmOCBU75rVDjzO+aRNi3FioULMmUc2SNhcqXNZ0n/cqBKikf1LTWW6SjJgfq/BORRWoN4mDd3CZo2SkWdGslip1cd/vnQ6RsYGBgYGBgYGBiUxcGVSrNKlEoBS6l0FJNKrqkgUTBwOZzIy88TgXMqZs9aKBPsFVi0cDm2b0tDxeRK8ERFqUk8J8lKkAgFsGHDRpmwz8fmzduRkJggE/topTygYon86vNWjgBhzzSs26cYn9vjwJq16zHmp/EiSK1WNPvXBSK0eFC1aiUlOGtQscRVD/lKIbBo0TLk5OShQmKSWtER4jkySrhh3EfEWQSYf65e0MociRKTJ23H3F/TsHRJJhbM34FtIuRUqVJJKZeYDb1Z0YaiQpsIvEWYOWMTdmzPRVRUDKJjWXdEWUGlPETwXPyo+aAZ5QZWr1ijBKs/QqlEjkqHs3gssdX1TKXST0ipkor2B1Eqcaub2+3Ezp278MWXX2LO3HnyvBONGjeGy+PG4iVLsHtPGmrWqSXh87F02QpceMHFOP2008Fby+ITElGlalXkixsF2gYNGyA9fS++/OprTJ8+Hbt370LNmjVVX1gjAveWLdvkvTbq16+NjIx9+PzzoeoQ7YFnniV+XEJOxbfaWiWM1kytBq/wSEXX3DnzsH3HDrRv3wk33ngzKqdURF5BCNWqVhN/qSJYSxtcshTZ2fvRsWNHlc99GRlo2bKNhOks7V9qhHmXqIMirWbsy0Dt2nWkbDpLP4qWfpuE1q1aqRU/s+fMxqqVq9CzRw9cduklqr03l3jq1m+o+GrerBbatu0kQu56LFu2HKtXr5Z+uRCdO3fB5ZdfoRSu3FandMpWgbONq+cwsfwlXt4AFxcTi9GjR6qtdv36n4So2HjxwtvrijDixxGYPHkS1q9fi8QkKr+SRRjfgmVLlyM5OQWtWjcWf36MGTNaeF6BMweeibp160t/sGH+vPlqe+JKsWdaqVJOmVlZWC55o/Kte/cecDgdUsZF+Omn0ZKfDbjoostRu049pRxetXIZvvpqGBo1aoRTTjlN2rBL8U3BX53/VEopoTIZJhpUKgUQE+XCSimjDevW4LzzzlFrSqgQoDIzKH2WSqqDkVIwiP+QlCfbBCkgYfzSdwO+oPDuwvJ1OXj9oxHYuTcHfrt0Npcb0TFOCWeDX+JwSQRzlmyEzx9EGykrKpEZZ3lKJSrCXS47CgrzMHPmdAwd+jFGjfoRy5cvlfJfgxUrlqt2XrduPSkLxZkqB7fHhSlTJuG+++/Fp6+/jAIp+/bt2oMH2zPOskoMKtnZptgOuDqSriTWkfLPwSIcxHLjN4Hj6PbtOzFy1CgM/ewzGUsXYe3atVggbS9N+mmLFi0RH5egwul4oFabvffeO3jwpkEYN+UXNGzYCPXqNZT4WBPsE4xdCoopSBh1fhfLXQJrNyp6goo3vpeM1QTDUSmpz1LLzgK+/Xodnnv6E8yaNQutWtWTfpog7uSdW1SB8eOWY9gXo7FowXLhfSOmTF6CcT8vgMediCZNUiQtKpb1GD5qxEa8/ebH8k3bgm1bMzBh/K8SfjoqVWogfTde+IUaz3lbpfwvZPHF0iJnOq75c5egWaNU1C5WKjEPfzZ02RkYGBgYGBgYGBiUhU0m3pyvCvRqA5mhYud+4LmX3sEZZ52DenUqwZtfCJcIPDKV1l4PE3oKqlf1cMacnp6Ob74ZjqlTpynB3BPlRmFBAVqK8Hv9DYNQqXJlEe6DapLMX+l3bN+F5555DqO/+goN2rbDI48+ih49uinBnH7IrqVUotDL7UHqQN5iwYLJUqGlBQX6VVlULgIqulwOde04V6N8/fXXWL1qFVKED/rjaoArrrwK/fr2kTQ5eacApRUX06b9gttuuxn70zNwxXU34sYbb1Ln2HDbE5UJFAAkUSU4UlAjSoQYzUOg2D68wkmBv8bbJQ4RIkVo2bcXmDZ1Jb4cNlyttuHtXdk5+9CwUVVce/35UmbcckTBVjgW4S9D/P/vuZEY+f2PaNa6Pu578HJ075mqVhsoWUWhuATKgeUm8amVSpITiZdiM08DT4wFvhs+UvgL4vorzoSwqFZP/D6xxqoVXVeKA6sO5V0JZiLlXXrVzZKnTrh20GXYs9cPp0uEbfGm/BOKXS2sl4DvWoB0cFuRqgMqAMRJAhYW+lRZ6zOL2H4kL/LOeMkLV8Yxd9pd0nSKKQKpXyR8m82pDtem3wkTxkn7fBBXXH4lrrvuBni9AfHrCpcdiXnT7Y3g+UC8IY1CL+ufq1DU2eGSB1sooNJl/rSAKXxI2txKFuWOUflgdSsXqVeP8OTjIS3iN8RI1IqSkF5pIXFxVRPjozLDSQFX+Le7PAjZpZ2yvCUubk0rKtLnxvDWNL+fvEr71VUgaet46H4wsJ3HeFzIytyLp598Agvmz8db732ARs2aS7/Wfli+FOqDQd52Z5MycKsyEiulnOGZVFu27sD999+LihUT8cADD6B2nZrIz2d5ucBzppgnbnFU29ak3EgBVR+6nPdlpOOxxx5VSsCXX3od1arVRGyMDR988A7eefdd3P/AQ7jwwnOwJ71A1R/bFuuD/bYEjMuC5Fn6QkA6ZKWkaAz/4iuMHzMaI374POx+9NC1q8Fam7MOePHdn+EN8GyqaNSrWRkdWjZE0/rxqBwHuMXP4I/HyZjlxWWXnob8XN33VF0zEoGuIipUfDJeuDF79iy88L/nEZ+QgNtvvx2NGzdBlOSbh777vNymqfPNc8TYRrlK6cmnnsSoUSNVXCeddIrUx4OoWIFKDI6vurfr8obUI5/1OUHWqiK2E7dbxlzJVKFlz2JUf/Io9chzvj748EO1Iu6SSy7Baaedrs6/ckm753itzxuy0glIG/Fh/oK5ePzxR5G+N019kx566HGcNOAMqTuXakOaJd0WOC4qJY3Yq/bHchF3bmnlqlTmjTyXgPmXcULCbdsSkvqdhc+HTobLUQEp1QrxxDMXo2Fjnhcm44AjSrXXoZ+MQ2x0ZQw8q52Kb+N64OUXR8j4tBLPPn8jWrRKVGmuXBbAbTe9iM7dmuK2289AzVRgxXLgwQfelLrMlfq5C/UaOtXqWGurq65ZzTaHEY6DLmHundc/w1knd0HPzg3FQTIg49Dhg7FZUIVVDsIFVQp8P5h/AwMDAwMDAwOD/zL0rLU8lJo/0tuRTSitKSiJgvj27dvw7LPPYML4cbju2mvw4Qfv46thn+Gbb77Bgw8+hAoVKqiVJnoLmUz2i4KYOmUS5s37FRVq1lRCiVotFWbDmhqr27gkgNtjR4UkF2LjHMqOco9MzeFyO5GYKPax3M4ggoaE0XzxcFivTOgLMGPGFLz44nNKmHjt1SH49NNP8eknn2DYsM/Rr08fFIlUZCmvyNu+vXvwxRefSJwiEHt4fkuREmKoMNBbRDQoqNJ/YoJThDgnghSIg5JHsaNyinYJ8SJISPkwbiXgM2ciUPiKgPTdwGefjMVHH3yOc885Fa+9five++BafD7sfjz0yBVIEaGTQhSLgFKHRIkpk7dhzep0VKnWHN5CXunOc0DIDYU9PqiXwwYVDiqEJEK+mRb5tG7rUkoQ60GdDcO1SzQPk0Ii7ZFxiY+5V8pCUkBiZZSsXjEIuxKe6K6sy4Wyl0KnAkSbDrio+BGhk43CT0GaqxfCEbjdLlVnrD917by0P96yxu0vaguMwyP16hZ7p9o2Z7PxbBWeBRSlrsyXqLF61QZ89NFn6HPCAJx11nniR1+nz3ZPHiye7E6HpC+5FguHSOIBlpykXXx+mYDt1iZ2XFllY7vgeUs2l/DmQUx0vFIoKb+60FVdeP0BRMe4pQ9EiQ1Li+Wob3VzCu/kxy3SKvlneu5onkfEbZxcWROSYg6iyCvtUnhyS7qM3+liWYkwLmXFd64A0ulKwgch8s2b6eLiE9DvxP6SlhOzZv4Kn5crQ/ThxdTbMG43yxJsnzZIEhJeykX42b8/Tyl3/RLP1Vdfq7a05eZ5JW1p34ov1oOEg/RzVUdiz2YkzDGMx2PDnj17sXbNWrRs2Qq1a9dUdjNmzMbPYyfgzDPPxkkDTkFOTkDVPRVnBBVKavVXMQlLyknlOgxhUsGBwoIAtm/NxbLlaZi7OA2zl6ZjxrI9iqYvTcPMsDlt8W5MXbQLU4QmL9qJiQt3YPyCbULblTlhwRZMWLgZE+duw5QleZi7PB3ZvijkIhnr9zgx7tdd+Pi7BRj2w3wsXLEHeZI6y5EthtxYHEVyGYn0Pekyzn6pVlPedPNtaNS0pbQ/FwpkfKUywhMVI+VOxSbbDBWvDvw0ZgwWLVqMiy66BM2bt1DxsKwI+iHIg1S3Onds6tQZ+P6HUdi6dbOMhTyHzIbc3FyMGTMOP/88Ueq/UPknsY7VOCd+Vq1YgTGjR6JXz27Sb85UCj41tkgHZ33qfin1LPVLc+/evRg+/FskJVbA+eddIP6jlV81ZkQUAOMmm7t27cKIEaMwafJk5GRn63E3EFCr5L7/YQRWrFit/JWElXDyf8Y+GXeHfoevvxqJc84+Fz17dRE/PqXU5bjBkg+w90r7uOLq/jj/4naIosIvGmjQCGjdpiV27d6DxUtXSr8CeKHjrFnLJGwseh/XAwkVgJwCoFoNoF+/E5Cb7cXKlWsVH1T0qfpQ3BwMkjAHQUId7m35PlwirGcrPM2ycZW1MzAwMDAwMDAwMDgQMhsPP/1J4ASft+HMnz8Xc+f8iksvvVSE7xMoY6OwsEhtVVHCpggQXLlB+7gYYNvWTZg4YTzat2+L/v1PFGGAQolM52WOS6UDoYQrib+goFAEhc0YNXIS5s9dKkJMkVIguUVA2rhhHb75ZgQ2bdwhQqj2b4ErFPJys9WWEOogrrn6StSoUR35+XnCW6EIjkKFBVo5IGGpWIoSoXvKL5OweeN6nHfuWailbrzyKmGsLCio8or4GdPnYeyYsdi7Zw94oxVXBHDVA8/nmThhuqRXIO9+yRDFZlaIDZR1V63IxvSpC3DySQNw0sntlQCUnRuCFJsSbvhLOQURCtNRHmDzJm6Tm4UmjRuhS5eu4iZlyhVm4odldVQIFxeVfTwzR4pBrRDgGTkKErdWTpCZcogS4SGJSiiJVOJftyUTMxZtQ1qO5EmKMyR2Ph8ZCKdF/yLMsYQOBbYTrmihAMuzf4q8XMWmlS8U2JgpXW70WxJGk6TAVT3KnooLCevX5wdxtQNvb5KoFSs+xks7iahpk2Y495wLUCEpWbUlrUhh+2c70+mopAU0fRKeyiXmiPKhatfyzmpi3dLdS30b7VQou9R3SPLiU3mgX1UyEjn9UHj1SXpsh9wio5u5TfGgeJW4mAfpaVIOWqlGYVwL4FRe6fplGbHMuL1K9TdxD4iplLeM8xBEZQzjYHzNmrdUN8lNnDgJ+zMz4Xa5VD/y+Xn7FVep8OYrnQ7DcCUUlVsF0t94xs9ZZ52NRo0aS1vnQd8OxR/rgisZFUlYr8TF8IyHvNIsKAhKf5uBnJx89OzRW8rQB7ebZeNHp85dcfoZZwkfPBxZxgfpiywHgrwfGnRnJcmT5I+38ynl1dr1WLlqtdAarFotz2vWY9XaDcW0Zt1GrCaFn9eu34T1G7diwyYhMTcKbd6wHRs3bcfajduwJzMPQUcsvIhCyBkPhydRyiSAdWs3yhi2CUWsYyrA1J+FcMOKgFV32dnZwuMatG7ZEh3atUfFJA8SEz3qgGiuXGPZU1HH/sLD23fv2o0RI0aiVq3a6Nqlm4yPVGOxXerVnozXglqFKeE2bFiPRx95WJ0XRsU6V6Bt2rQBL7/8IoYP/0bFrVYdybhHZRgVOzybasH8ecjPy0Wvnj2QmpqkzibjQe7x8bq/s93q/sN248OixYsxb948nHX2uYiJSVB9kUpFXTelwXDcas30eY7W2jUrtRLMV4AffvhW/cCxfv061TasFVEEw3F1U5s2LXDX3TfisiuaiGWBtA9pnbw1EmwzTE/StrGveFHo8yKvoEh41H3aE+1BfILe8snSkqatttZyVeS8eSsUt4kJ8v2TcXzRkoWIlfw2aFgjnA2G4IMug7Kgq1KoQiv5QiG9KpY8lSIqW8uScpN+JN8FbdKeYwztw+ORPAcsNyamoBgzMDAwMDAwMDgK6NmLpmOJY53+vxvlz1z/AFhCDU0KhXPmzBFBJhZdu3ZBzepuJCYlyETbg4S4aARFYFDTdKlr6may9xfhxx++x+7dO3HRRReqVR8aWlimAChzXg2mw4AiGLz+6hDce/dd2LJxvdomsGvHDrz6yit4dcgQEZZ2ygRaCw9UGlDB5Ha5sVEEooUL5qFt29Zo374lKleOF2E4DhUrxohwxM0mTIJCOA9otWHN6tX45quv0K1LV3QVIVX9+u4rVL+CF6/qUWG0koICEX/1v//++zD8m6+RnZWphK4ZM6bi5ptvxMRJ44V1v1IG6F/c2eCpzADmzVktAngAJ/TpLkIXUDEZqJRsQ1w8t21QucJfy0WSkSeRHTF6lAjTuRk47YzuUr4UDOgmPAlTOt4jB0NFEhf8+KSs8/MLlUKEAj5XxAREaNECf4TgT6LSQAn+qooOIAqYwpyKa8XGDHw8fCqGjliGcXMysHmvuEv50QvhcEh+bD5V97wRjbDKuyy4DVKTPEsrV6YUBO002D6tXEVCt9uSZ5af9qufhRifREp/hYVBNG/eGA8/8iDatG0Jl9uhhEhyppQmPq2IUzyEk2Ycmh9NkdB5s9IQi/C7FK/ybCk/+L9FSl8oD6pPCDF+C8U8K6IDH/QqJvUspJuGLhu9fVSTcpP/pSWrv/BL+USIyfDMc6Xkyhh0w43o0aOHUuhwixS3k1IRoeO2ytQqV64Uc6ozfq699lpceOF56jww2hVnjP+LP4s0+yXvTieVuF7UqlUHd9xxJ7p376mU1YWFQLdu3XDnnXehRYtmTFn1S6kelfeydVA+NA9knQrruPgYNGlaB337dsfJJ/XG6Sf1wBkndcOZJ3fDwFO64YyTuyrzzFPl/dTuGHhaD5x1ag+ce3oPXDCwOy46q5tQd1wysKcQ7bqK2QQn9K4DtwwmoaJcxDgKULNCEAO618fVF52Ek/t3RpwUh1Kisf6sclcPFjFP0p+k0VEJtH3bVuTlZKNhvboY+vEHePG5V/DCsy/irdfflvHlV0S5HHBKQ2M/ZNn98OMIGSvTcP5556N69Wq6nMsB7TmGchvdaaeejHZt22DUyBH4dfYs7N65Gx+8/57EV4jLLr9MjbNqpadqVxJfKKDO11qzepU6LJ1nbw0e/A5eeOE5vPTSYLz99sfIyspCVDTHl4DqB7t37cIXX3yBtm3a46STTpW2EStcUMl1IH+sU25PbdSwAS677HIZE7Px3gdvY/v2LViwYC7G/DwGnTp2lLbZM1z/bI8afE9IBE45vQkGnlNbxhwqmfhjhIzJAWqH2QrEVOUv/UXaJ9uYIjZVaVOZGVnqh4mq1SqFlVZAx4510bBRPYz4YQY++XALfhoJvPnaYimvOTi+T2sZOxIlbf0Di+rPqr0Ruk5LTIlP0nV6mH/xJazQJ9twKRL2DqCyfix/4Wd+wyyy7Jgqz1QzMDAwMDAw+KeB32+LNEq/HSmOJuShwhw9J0cOK62/Ms3/FhyPC8LPuphl0q9vf5snQlPz8EHdAZk0y+yzeKL727AEPcoQ3Gb22dChSqkUFxePcRNmY+KEiZg+XQSQXbvRvBkFPf3rKG9dW7hgIV599RX06dsHp59+OqZOmYItW7bgxP79UbN2DbWKQ6Wh/nRaNWpUQm52HiaMH4vYaDfat2uLXyZNxGeffYaLLroYAwacpIROjZAIRDw7xoHFixZg8qRxIqy0xaZN2zFixGhMmTITU6dOR0JCPBo14nkuRWHhwoF33nkLK5YvxQ2DrkdycgW1HaNO7bo4rtfxwnu05EE3Vm6/8oswzfNpeH368qVLsGjRfDRr1hhVq1TCs88+qw4Zvv22O1C3Xn0pIx9cij+Gt4P6oNEj1yM7OwP1G1SVslqOiRPn49dZW7B1SxFSU6sKf3YRzkKIi3UKT7kiyA1Dz57tcfqZ9YT/ZdiyaQf6iSCaWitKhEwlSofjP1Q9RrgppQtNljNvnLNLfoBlKzbA7nShS9tGYurDedk+uIKiPKLgRcVieWRziNRldyql0tq98ZixeCu2pvuwYdte7EjLEm6jERMThXgRMH/86WckVU5B+04dpE7YJqmI0ywqhNktDVpaDtqzEmwVDlYWtLMoAvJKGypYVNum1CUmhWtlq5LRYehundVUisffAd2fSKzHCEi/4TlQTJ9pkcLN8DBBBkuoNL/WSynLg0Ip7tRYAdSuXRudu3ZBbFycEvKVYioMlZKKMpJRnQcqf/3s5FZmyks7bB3pyrJxuVxo2rS+UHPayDsVDywPrjjzawWftGOrfFiFJSsyyoHlJnFTIRYbbceq5Suwds1SXHrxuYiWdildXR1gH+UCooV4yz1JPZNk7IiSd4t4i79H0nVLOF5+RtMu6UjU2LUXmDd3IWqmuNGjTXX061wXJ3athlpVPPB5A5KGHXMWb1KKpTatGsq4wVwGw8pGTVx5oxRLkt9lSxdj7NgxKp/eokLkZO9H5r59ksYc/PrrbNSqWVPdLsgbI9esWYMPPvgAzZs3x3nnnYf94veXX35B5UqV0KvXcWp8Y7mxnAnV5qRAo2XQrpCYiBnTp2PTxg3Yuzcd48aPw2kydp97znnglk0FCczLGvgjQFbGPhl3x2PlqlVq2+bevfvU4fncJj3syy+Ql5eLNm3bS9/3gJci/DjiBxkDqYi/BSkpVbB82XIsW7ZUHc7OFW0WT2FDKWZ4zhZXnu7avVOlxZvmJkycoBRaN99yKxrUbyhlpftUMeSRbUStOpIm6C0E5vy6Cel7d6Jnr/ZIqRKrFb6qD0aECzkkb8C6NcDQT0eiUmUXzjm3N+LiuQ0WSK4I1KvTBFmZbgz74keMHTNP6mYNzjv/ZFxzbV94pB3x+6RXlEq8UkYlfGmTIzi3yi5ctFbiSZPyysWylRuxYu12rF6/A6vWbQ/TNiG+7wybpd1WFz+X2K9ctxUr12/FivXbsHLDDqwQt9Ubd0leHUhKiFNjmYGBgYGBwT8JnML9c79ekZPTw89FZCiG419k+Mg3yy/fI58jUWLP+QmJNpGxEAcLTWi/3Nivjv1Qb+XFcXSwUiYY28HfDywLgz8WnBn/KeCEmMI2BRwqjniL1abNG7F+/XpkZGQooWfLpk14+qmn8fJLL6szL6iwyMrKVzdHJSUlqfMsKBg5lEKHjYCNuTRUYxGJqbAohJNOOgm9e/bAT6N+xBuvDcZnQz9C82ZN0L9/f4nbo36J56RdzdVtFDJDyM7JVkLQ2nXrsGHDBhFgCkWg8GLkyB/wwIN3Y8bMX2VizQl+EAvnz8EkEU769u2LNq3bSPggXE43nDLxtsB86TRsSqGUn5ePunVq4uKLL5TnbLz/3tuS5yexauVKXH7J5SL8NlOrBKiUoaKLKygok1NYzMrMQfqe/Zg7dynS07NFqHSqK6v/9+zX+PjDSdi1UxIMOtRhvaNHj0dsrAOnn3G8WoHB8uLZPwi59S/fIVa1lNZR9iWu1KLwLXItHJ5YbEvLwsRF6Rg9bSN+nrUVP83cgtEzNmPktE0YOb00jZi6Ed9PXotvJ63B8ImrS9F3E5eL2yp8O3UP5izdCJ8jEV5bAtKynZixaBeG/jgL7wybiOlLd2N/gR92KW82A7U6TVAyWBwNyhaGFVtkrKqxhElcxKCrNawqRYly1sKprv+S8KxLkmpzfwiYRvixDJgG3SLdrfeDhTmYfWmoDOrH34A6y0oEbh6crM9YCqiVbVxZxrZdvNJKFUj58XKFjXWo+iFRDu8s+7w8n/TjIvXOPko7KuLU9lqJOzLPh1QoHQDtORSSdmjj4e9MIyDx+uFyhNSWVd7O5pK+wrWVLvHulDGQdlQcKZJnjhbyqEzmkGTtnk2tCJzcoxauPrMNLju5EXq2rIBE6l2lUzslDRXmgHIhXyUZ0Xl1qHi5YqmQh/pImLvvuQevDB6M1199DXfccbuMe3vw1ttvYJ+Mf7k5Ofj6y2Hg2UmXXX4pkiokyRikVzqyjKxVniVtW29j47lxUW4q8dvhgvPPw6xZM/D2O2+qlZ88fJtjLsc2SxFKxR6VyTyku6AwX9wL0LVrV7zwwot4443BePnlwTjzzDPw1VefyVg7RkL4sHLVUnz/3XAcd1xvtG/fDtExPDtMj+NqZY+ikvwTuow4lrpw/vkXoEXLZnj99cGYM2eWUpi1bNFCtcWy4QiO97yIwNKF6dpifNb3xzItSDxiJcWJYV+Mx/YdG3HueaegZq14dgWlpOKB4GvWyEBty0f3ns1knD4OtWpXxZrV6zFj+jrIp0L8ME9MizxZfOm61hOhsIvw5/UXSb0WCmtib3dK/5J2bQubbONS5uqsNov4rgYikoQR07JT9vyGqRWMNonOBb8tCms3p2P5mi0o1EsvDQwMDAwM/jGwvqT6a2p9U//+KM0zv79iWpbaoVgGUVD2/I+r2HmQhA5l+SntjyT/hec+xVbqzXrm/4yrdBx6TwnnhWGeimH5tCjsZgUUWC5EZMhiRFhawayYyvUvsPyUEHOvS0CbJW4W5yJaq3Dlzf0Mfj84gy0flJ7DE9mjgVVhPFybAgkpLzcX3Xt0x5NP3I+nn7pfzCfQrm1bfDnsS6xetVL94j958gTMmzdXBIHzULtWbSWQREfxsGEqNXxhAb00X5yIU3hKSEzEoEE3ICbao5Q3PFD7yiuvQM2atZRyS/uVCbZqUppHnnkUEr4qV66MGwYNwmOPPY5nnn4U99x7N3bu3Kau4c7OzkJWVga+GPYZKiUnY+DAs1ChYjK4Pc4SVBkv2bK299AknC6XpBFQ2/7OPWcgli1ZhM8/+1SdcXLOOeciSh2uzLB6a4h1ADaVSvv2ZYmg4UPPnt1wx52n4JHHzsDjj5+DXr1OxeiRszB/7lZVgZMm7MPcOctx+pmnoGEjqVSxdDpj1HYNv9+h3otF2KPoR+SJZcUmwVIMCJ/5IiXt2ZuBdKGMrBxkZecJ5SI7Nw/ZOaUpJy8fBUV+FHkDQn7kF3oVFRSJ8C92eQVeZIm/Ir8IclKmVIpxlYFdeM6TsPlcLiDtiFVoC0k5CQ+WkEUcOkvat6bfwsH8hu2omJNCoLKElc10db3LM5Vu4bqzwC5gjVviRdHvhRVHqbiVcFzybpmHA4uvSPpdkLRZHlx1yBrk6j7Fj5Qdt42x/DR/TKgsHQEOkUeu+OD5QOSjNJi2tGPpm1b/LAvL7WB+yDsVrDxjx/pM2WVs4jlpJG7nU9fzi0nis7IXhkma8Ujip49h5VGQWgm46LTW6NgkCYnuIrhs0vblM0glMRVFBFeDlUDHE8mr1SZdUgZcOZmQmIT2HTsqnxkZmSgoLES9enXRrFlTZGbsQ25OtjrfaOrUX9DnhOPVOXYuqbf4+BjphzxgPaCU8mXL01KeF+QXIi42Dm3atBY+7fBmpCExMQHVq1UTHlwyBrFcdFhrFVtMTIzyW7tWLdStW0edfZWZ5RV3h4xvPWU8rogVK5YgLW0Hfv75J0RFu5ViPjEpHrGxUeqd5cut0VFRUt/U3JULG+rWqYeUlBSEsjNkPPWiSdOm6jB5jv26/CKhy1PVLaNU0fK/CDsxQ6pOWAY8Z0/Gwzxg2OdLMG36VJwxsBt6H99U8i7u0kx47trkyen46KP3pPmn4bpBJ+D+h9vjksv6Im3Pbrzz1leYNSND/OqyYb4s5WtZUCfE86U6dWqP0/t1xRn9u2HgSZ1w9kkdhTpoc4C8C52l7MI0QNufdVJn8d9FmWfxvZg6izvtu+Gsvh1wxoA2aNuxG1xRcaovGxgYGBgY/NOgv17Wd530J+MPSqIkGj5xvllavtCrhqw8UV3Cq2ypMtFrgTibsIjT0ZIIlRQn75pEWoVd5ok2zuckTruQFbd+F3dlMl6LD1I4nvJIxW3xJ77llS47coAFWwuQRydyST8qOvmP23PCP14SFrvFbJeFOFj55CmTds7FJRW9Foqk38k/3ckB/2dJcebHcyYN/niwPg4CFjgrXb8dDShIUIiLjhYBwuVC4yZNUK9uPXUA8b6MQnBrVPfu3dUEesuWTdi0cSu++vJL1K9fX22bSEqMVVsrKExxGwuVSxTqDga19aVZM3iio+DN3qPsuJUjKSlW8cGrqhncioIrJ2JFuOESqWrVqyOpQjLyC4qQnp6H1q1bi5DUSm2x4NXkc379FXPnzMFVV12NLl3aSWgbPO4ovbVD+Gf+qAwpAQU7rkBwqbeqVSqjSaOGIsRlIJi7VwSpupLP6kpppFYohYUt/au7XrnAc0OSKsSiSZMU2CWavRmSlCTXuXNLZO/Px7o16Wq10qhRM1G/QUsMHNiGuhckxEk8gSiJ0yM8ekSA0/EV1+lRwCo3nuHh9RWgWpWK6Hd8Y5zavwMGnNBcqBlO6tPiADq5r6ZTTmyG0/o3wxkntcDAk1vhrFNa4exTWuLsk1vLe2tccGpd9OrcFPZAHtyhPCRHedGxcWVcfnYv3HjFqejZvDISKEgG9LX/fzyssim/jKjE0raWUqSkHdG+9LksurQsGVyNl2JlhTtaHCwOplOe/e9N72jAvJLU1ih5Z59QN9HJi1IKCrOWErYEkc9/HJhG6XRKo6zSqDwlUnlg/dIrP7XkXdd3BJikRb8J3a4sr4yRzVytkpHxUR1iptqWTqM46nCSxe9CFh/MszqQXjpKpcqVFa9Z+/fLeCJjqYe3BHoU8SB7r8+L3NwczJ07G1vXrcW4cWMxaNAg3HjjIDz44P1Yu24V5s2bjQceuA+TJ09W8ZdAPtchm9qemrZnD74YNoyJo07LNli+fCmWLF0kbcEvfvREQR+2LuObUHx8nFqNui9jn1Ic8yB39muHU+eV24F5iDi3xU2cOFEdqj1kyGBcc82VuO66qzF06CfYuXUb3n//fTz55HPivkWlEQkq1Lh6c/78+ViwYBFqNW8n36JYTJo4CXuEX3Vel/apDVV8VmnSLmyv3lm+3FZo2XNqol24UnT410vw0Udf4sT+PXDH3aeqm924SovNj9n/5uuRiIp24NY7LkDbDomIjgcuvqwmbrttEPbt9WPsz9PU+UtqpVI5Spxwdet6Z4WGJ1+5hV4UCiucThYKW4VizfciMf3izRcmr7iVJV85xP5KNSbjycvNkrqi0vRAfgwMDAwMDP7O4JeLM1E9G5WPmyI+k/4E/IHRai51DtSbTT7K1qsySpQ/sMlH38ZZAOclYs8FGLTmnLBYucNnEb5tVDzRP/0KhSQcKcjwnFeE/SpIWIYhBWkyjvAcRT3TP+MJh7PSU8oiseNFTGLnJwuCn6csxjOvvIssff+L8CDxcMrHH2mVyVj4Vxp8jyQNebJ4EKISSSuTtGJMKZiK+fbDKTwxiW8nrsLgt4arS28IHhlZEuffEwfIGH9jsIwPgojW+ztAIYJbKfhL9v6sLBEsefOTTGB9fplkU/GhWeBWMW6PW7J0CVatWo1HHnkEV1x+De686y6MnzgBmzZtwsuDX8YHH3yEdBEIrHAEJ73WYbOjfxqNXWl7UK9lJ2k0AYwbPwF70jPVlgtVLeFsUeCgEEPBxh0To25gUxWnBDiuNNKeXS4PXE6PujZ768bN+PHHEbjjjgdw3bXX4/HHn8D27Tsw+9df8eijj2LKlCnqpiNLkFVzf4nI7XaI0LNRnSNVq2Yt1G3SDvPmzsWMGQvUagJrS05Jw6ECDKhUiYe3SoeQ6DjZt7t4UxZ/5XdKefEGNie2bQPmL5yDDRtX47kXvsa9936L++4dg5kzFiIrMw8ffzQMr7/2M3buzNQCjs7YkUMCF3MnHThGBKRkkcmSY4GKUVKOHiBBKD5sWhQvglICyQHESdFGCw9RYqozZSQuqty4VktRKBeVo3PRrkEszu3XDJef0RandKuMWhXFUeASDuzypwVqbbKkFVnMKfDlYHQoFMcWJkKHY93wtiySvChrVZTKPqDanpNL7Yr963LWqzmk/qRdWML1nwndjjT9XlhNxSqJEpTkkWStRKRyWDV95le8lNfSqFiiErWEv3CAclL5K2Apkg5XoaRBXvXvN9qMzMPRki7TEhI7rlyhZkClY/krixJ1p2qjQqwDjkEc46rXSEVihQrYvGWLfNiDauWQUiZ5vdi/PxvJFZNRpWoVdWj1o888i379+qN+vUZo3rwFmjRpjAoydnOMrFmzJpKTK6pwGiX88DD+6TNmYN78Bbjgwotxw/WDlDLo66+HobAwTykYueJJjYtCPN/N5fagbt16iofMzAylcPEHiqR9+JCVlanaSO1adVGxQiXceOMtuHHQLWjVsi2aNWuBevXqI7VGTXhiY9X5SlzpRIVZqTqUAYEryNJl7P/22+HwuGNw990Pokvnbhj+7deYO2e24kuD5SuwXmXCFAp6ZD4k9qo6ZHQKxUh8Ceo7I6OXvPOMKxnPxGnShP14753h6Nq1OwYNOkkphwoKpOr8MkaLdy6I2rZ1l2TdASlOGe/ZB7TOsEpVGeOlnnkgOVenqgRLD2YHgCMxJ01EjMeBaImHY6kaV2Wc5Xle8slR2y75Cx3JKWVBUls0w1S8JVNRSJncZa7GZXl2ONiy/ywl/j8TqjlEkMF/AfwRgSvly/uiGRj8txE5FvITfCzGRYuHctPmZFPmFbwQSiYiYsEPmlBkoKMi+a+YwnZ/IOQTLCCvlF2d/IorGwt6/Y3Mm9RswCNmFAplnlIkzyEbpSX5Y37V2AV4Oa+xu8RvlLxLXOKHx6P4ZS4Du5BD5lABF/w840Qdl8I5vBNem/ix0Y+42zgXElPCBMVepFvxRb6Ev6BMOuhPKCBu6gdRIf7wyEURHD3zvMKrKx624qxYciUXfDCPPLZBz6jLwipiEuPitn7mKT/ggE/yEpB8+YIWP5KPoKRNfu1iJ/wE/DrWzKw8mWPmKVnk74oSXYDGoX4c/7tBt5yDgBmhjuX3ZIhCZ0x0NOrUqY1du3aqw6m5LYDXWLPYNm7apA6oTqlSBQ0bNsQTTzyJiy++RASaZujUtStatGyJpIoV4YmO0cJE9VQk8PqzcKFTocQK8MgMetvWLfj888/RuElTPPDwI6jbsDE+//IrbN66FS6Zaaur2FUonSeet0KhpHLlFGzevFldv82cUsGVnZ2DjH1ZkmZDxMdVUNfFP/Xsi2jfvhNqCA9t27RThwEnJCSKoFBB8V5V8sBfv8mPdGN1ngwnIryp7afRY7BgwWJcJELX1Vdfg02S3g8/fKe2n7CLWGeWEEpQF7N+gyrqfKd163ZxTIRbZvr0tn37LiQmRaN2nUTUbwjce99lOO/8E4XX6mjUqIESCKtUqSZCkxOpqalCNcCVXuX21MOFFByDc16lhgEqEuTduhiIbjYpX5v0VGUKcUmlXlaphV0l8ArpIYhDpYQJBeCgwCPPNSo5cM6AtrjktHYY0KMq6lcXSyk7O7WQyi//Dw+11jY48hXmQeO3MlnK80FBXxbp/yU/klC0x6ZIC25SAgEvEuKdIrQ6lfBFcomwyq1eHNB5iDkLTXHN9icUCR3zgaTTPXZgPrjqjXK3HuTDJcG2KXVPk1zSZF/StxeKjRA/YEq+l2frOBYK0lL14G5PFw8W+oPAZI6UyuLwFEphP8rQ/Fu5iFyldvSwYqMZfmYRq5aj7SwfByAU3mIozOl+JqEcHCtCqFa9Brp27YYly5Zj6vRpiI6Wj6sMJqNGj8KWzVuUMqmqjBXduvXENddcjzvvvBkPP3wHHnjgVgy64WbUq6vHk5tvuRmdOrVV2+A0bBKP9G9pICtXLceXaoVpQ1x2yRXo3/8U9OzZC2PHjsWUKb+otmQJZGoljjSGwiIfevU+HrVq1cbIkSOxc8cuVKwQL2PdGnz77bdqjO3UqRuq16iDSy+9GHfddSvuued2PPrIvfKNeBh9+/VXY+/As87CZZddqBRjllKT+efB0p4oB0aM+F54mIxzzz0P/U88BZdfcRXiYmPx3vvvqhtBo6N5oYJirRhsq+SZqzujmV2ZqLkcFcQuUdlxSza37lGhNHlCEINf/AbNm3XC7befJuMu3WVskPGB3yR2d7b5du1bYt++bIwZvQm5+/VqtKwMSN4ninsAzZrXh5dnWKnBzKKDgf1Rl6caXyJgvakVYeyb8lyadF/W/blsWpabBWlL/PsLlOH/JESW2O/FHxmXwdHCqoUDa4LjKX8AVTcGC3EFJe0MDAxK4A8E1Q/fRNljIP4qcK6pk47on+yrXKnikLkKl3+rH5LE7nf34bLhf298paG+1RKl5taGQplY5wb4Ew/hV6nlB23I8UJteMsR970+noVoQ4G875b/CuXZ63ChSOaHfpnQ5Mm8ZKf430c9E7e8iARWJPaFYr9V7DfmAuliOtWSab0KfV9hCNniU6Ys2FQoYaV8+VtnQGiPPO/Kl+ewcisgcWZJ3Fnil/qb7cLsHqEimTN5w8XjpLJLIlC6PQHzs1tonfC7mT/EKVvOLX1qdVN5pUo75jlD/ssWPqgf2ybPW4okHckPpa18v8zR7A7FyxaJlwujHC4qrYDLzumA+++6AvEx8iIoM4U6puC3paCgQMlUkThWfepocMDtb0HJTJ40rBmzF6rb3ypWiELAJ9XEmXbEdPO3QJ/aN2PVW8/mzp0rE+cAGjVpIRNpD2bPmoVRI0ehRYsWOPX001G7bg2ZnDcXIagdOndph7Zt26F12/bYuXMn0nan4ZZbbsMJfXqKwOCSRqmbG/kKUdMir68OGYxf58zGnXfdjf4nnwKXzObHjZuArMwsdOncFW63JRBRaLDD5/WiYsUk7E3fg/kLFqqzlxo1bqyuuP7ss6FYunQZLrzwMnTs2FWEn1T06NkW7dt3FP46oXuPDiJA1MLEyZPRpk1b3H7HXahdu6rkTxhhgxC+eI4TG8eqFcsxZMgraNyoEW699VZ0ESFvw6ZN+PobEUYk7y1bNkNhoU/yRTULhQH+yu4Q3lIwc8av2LZtt7rNTopMeCrExx9/hspV3Ljo0v6onmpDx86V0KZtdXToUBvdulZF61aJWLYsG2lpO3HjLeeh74lVpFE69dYSVSmHqscIt0htjdYugkW4csVaKW8/urZtqhZS8BdxHUqvyikhLeSVpUjwDBqm4pCBIC7OhZpVElG9gl0pbbjkkmdpKXFaynPEqDFIrlId7Tq2Qb4MZup2NcapYipBSYdkmyX4XkJlO+zBwMOlLQHMIc9c3fDGa6/ju+Hf4dfZM0U49WDypAn44fsfkVK5sjqXa+eObdIOX1HXpXMLpUMkTL/fJ23BrxRN3C4ZKbYdDBa3fyX4nSWfqg1KnwpYq1KEEW5dUodtSx6YH3Y4Kpc4+FPopKkOnJd2wr7Fpsz27/d5pa/qLZ68rY+KXDVBl3QYV+mqOMocW4V1OHS0kLBUCMZEObBq+UpsWL8KF55/TrgtWW3q9yRAlAlPDR3BRi51w+8Ky3XOkk1K0GndupFa3aJ8FRdkicl6oPK+evXqyMjYJ2PtSLWakkqcdes24KqrrsGJ/QfA7YqSuFmvIXjlw5xfEJQPWxDbtm/FpEmTpF1XQaeOXSRtj9QZxyi2FR5m7ZAxtBBfDPsCs2bPxk033SpjdnskJMSharUamDFzOrZs2YpOnbogXv0QQDapDGZ+QqhatSoSkypgzry5GP3TT5gydSrGjx8v42gdXHPtDTKOtROfMvEpCkl/DyIvz69W/fAg9oULF2GF1EPHjp1kbK4Hnt1lgZ8qFsfy5cvx7rvvoG69urj6qmtRIamSlEU1FPkKMW3aNFSoUFG+Pe01X2qo4IdbJlkyeZowbgHeefsnTJiwEcuXLcW+jB3YvmMTJv8yGzm5vHyhjnyTgE8+/gELF6xEfIId23ZslnzMwcQJC+S7M0fS3yhpN0XlFDvq1W0iMTvxyy+TMG3qEhnXN+O776Zgz55tuP6GC6UemioFF2S80+Mu69GqSw2OG1Sc8eKGZg2ro15qstjyV0i7UuIylDLV90Mr3TWsuCLbaVkitKqJhceev2lbhszyClCvZlV4+KPEvwjMpyqvsGlBlwS/SVptZ/mz/LCZ6LMnxKf8OzBsaTAOkkZJvPRr+Wcclj+SFWd58RkcDfQcQ5v8YVH/6ZK2asIiy1X1NgRlTOQY6pD5GM94dEg/ONz5g4HBvw3W2GT1HoK9wWH3yjenSPoGf3zlKMkV3KXHNMs/YbkdzJ6w7HWvLHGzni1Q1SJfbTgCmbBzHqDOylEfdIVQiNqGdGxcNR0VE2Ue4kygpZ4olAcGL6+Ll7KTbyXHgTCpMYHuFv1eWBkUk1Gv3VWIOx97GW1bt0RyfIxK4vWhYzF52iyc2LU1Jizag7eHTcLu/W58KHOSb378GXOXrkPl6jVRuVIsNmUBT736NYZ/Nw4Tx05Fevo+tG/TBOt3BfDa0In49JtJGDlhNn6eOBPumGTUr5OsFFSD3/8OExftxPgZa/D2B19j6q8r4U5pgBnLduHZFz/BhCm/YsfePDRrVQ9xwtSXE5bhfx+OxvqMAN796EsMH/ELFqzkDe/NkRINzF2+Gxu27sCA3m3VDpc1e4DHXx+BL36YglE/T8fqdVvQonlzxEZrBZAqzjLlSeUhq+69b2fg6zGzsX4v8OLrX2LkuHnYsm0vmjZtBJnSYsy8NDw75EuMnbwIY0aNR1JcHBqKjP7lD/Pw7Vffov8JXYqLWct5ZRL6C8EdAJxPc8561113qTk7dwcQ27dvl7n1TWjcuLE6G5QKpr/zN+gApRKZzZU+OGOWVipVSDo6pVIJOMG1iaCRgDgRLH7+eTzGjR2PMWN+xrTp09C+XXtceOGFSK1ZSwQkER4KikSg8SvBIb/Ai4L8fBHcJ2Pd+o3ofdzxIuBUV41KcSKTO2458ookNPvXWfjs88+Uwub0M85EdEysCA3JyMzIxHQRIFJrpKJ+vfpKsFWtVAQ25onCSI3qNbBl6xZ89fXXmDVrFr4ZPhxFUsmnnXYG+vYdAE9UrPplvbAwhLyCQuTlF6KgKIBtO3fgxxEjUaVqDaUAs3EJoUBVOMcsaSTZ+/erc6I2btyAq6++Ci1atRYPdiQkJWGmCGI7d+1G587d1a/uGtK4Jbg/4BD+IYJXQ0yaMBMzZ67ApIlLMH3GTNSqm4yLLzsZjZskKm1uTm5QXbEvrKGwwIacHGCqDDabt6xCh048pLaidFCfzrvCoeoxwk0JNyorEl6EFGGMCxVWrFitdNNd2jZVHZ9KJeVT3CkHq9UI8qw76aGJXZkm/3i9On/lV2+0DgvVHLyp1Ph+1E+olFIN7Tu1RX5eUDqh/nBpLjVUOAmvSDNT8q4obPWbkFjDSiWXCHK7dmzFS/97Xm297HNCH6UITJQPFFdCTJ06Ge3bt0fTJk1EiN6M999/R+qiAH369EFMbDT2pqfjrbfewNq1a9GoYUO1Mi+8zspiyXorRRqlchc2CSvnZYmI9GehPDfLTupXBiquvnC77dJmszDih+8w8sfv1SHPtWrX1LFLf6NCiWfofPTRR3jj9dcwftxY/Cj+Fi1aIB+DpkiumKRWaFEppVZrBb348svP8OEH72HMT6Mx/OthWL9utXxkmirFsjqQWLGk28DfFsIalUqxMQ6sXr5S8rASF5x/trQlyaMUjmrzfzT/VvWwjAT8JfAApZJI/6rcSiWtX9Q4JP8SZWzhVrbGjRorhQ1Xcvbp0w/duvdAYhIVE1QCOlUf00H1GBQTE41mMhno2KEjKlasJO3Drfucyq9Ow+f3I0kGqr59TkQbGQM9nhiGRqx8wNvJ2N6+fQckV6os/YBX8WuFkuZLBDaJKLVWLUmjGWrWqok6depImA44acApaqWq3c4z9ES8k3bHsZrfEWUKVUmpqhRKPDMvRsZ6rZBX0Sr+CIblh5i3glauVEUsqHwJqm13vXodh1q16iA+Lkn94KGHLJ0nrvDiDxeVKiWjbr1q6N6zJY7vw5Wpqahbvwrq109FpeQElU7tWlXlG9EZLVpWl3jFf93qqFWzquSlBurVTRUzRb5FLEugUeOaKmxqaopMGFLQtFkd9DuxE9q2qwVr8S1vnvttpdLyCKUSxV+2PQ1dtLon6dCl47DyeCC0vSo68aOVSpnyISpCvZpV/nVKJQsqvxHgeK9FF2kr6t0qGQ07fyPNz2DDF+EkSvmxdL8WrFcrJhLBsKzDsEqqmAjLn0Ws0ZJaNTh66FrgrUX8P6hMXcp8Y+VZ/Yddg74D/AvRHzdROFCY7se5p5+PgDeEVh1aKL+W0snA4N+MkvHRetIjpPXGz5WCbT9WzhyOKZPGyneyDWxqbNQra/TPlHo8ixzzGNRy5yePRH8B9kM6ikm/lorX8k+iP77zx0mHMJG2birGDn8dqZUrwVOhrvTVgFqtreKw+5CdvgQ/fj0EderWR2xSHYmf8xDtXhZKbOBDpFsZfxafkbzQSxlvfwwk0s37nfjy55nof0JPVIvX3+LRs7ciIysbp/Zujfk7gB8mL8aObRtx1snHoYvMb6bNX4Hlq9fjlN5tMGToL9iSnoe7b70WrepXR7QriCb1a2HFhp3YuHkXTh94Nrof1xVZBQFMmjkH3Xt3EDkFmDJnM2ZJPF07dsC5A0/F0rVbMPKXOcjO2osrLxyIJJlX/TB2OurVaYaGVaMxY20WRs5YhLgYFy4YOAD1mrbCjxNmIdYThy5Nq2Duih0yr9iJE09oJ3bAk4OHwplYDRddfLbI0F0xZ8EyLFu7GT07N9aLFWS+FlmqfOI82CdVN3tNJiZOmSpyWCzOOusskVPqKL1CfIXqqFM/GQ++8CXadeiMyy85CdUqVZS5uw11a6Rg+rI92L5tE07t11XFx3moNWc6VlA/BMq8lnqSH3/8Ub1369ZNufEs03nz5uHyyy9XOwUOPof7e6BcpVLOAUolZpgZOcLMiHdWFTsvhYxGDRtLnNL4GjRWNw/16NkTJ518snT0urCJUEB/VMRQ+KDpdLqEnOrg7u4iADVs2EQEUe4H1Zo6PcywUci78Nela1cMOOlktaWNyzGpxGoqAlQHEfjrSRyVknloLbfvUEhxKI06t77Qf/MWrdBM8ttQeGzVui1OPfV0HHd8X1SomACvTCZ4w5DDJUKRhOMyOvLIA8jbiuDUqVNnVK1aTXFjKW60MMR3CkAp6N//RLRr307liwfQ8mDwXr17o0WLlkrhxZvktGCqwVU4pLp148VPF9RvUFeEkrro3LUFTj2jJ5q1SJS8MB2/lJFNEc/AoGKAqzwp1HTv0QbNmqeKUENhjHXL+H+rDiPcZZRnnnQpa6USV0auWLFGKZU6c6WSdHAugNL+rBrRbeXwWotqIcqvmt6xw4QDMj6ev0KhmvbfjRiFyinV0bFTO6VUUh+NcsAoKBiqdiHv6gYu8Uo7VSlMgp5+C1QqSRxuKdBFC+biq2FDceYZZ+D662+Q9tJY2nS8tOlGOLFvX7SUeoyJjkXGvr0YO/YnJCcni8DYTymQ9u1LxwcffoA9e9JwwvEnIFYEbLYPskCBmcoKKkfD30BmV63yUekrNvkf25P+fOkVPnTTdiT6U7erKWh7K37rnVnnqzLlP0Xyp/qS+KW5ds0qvPXGaxj6yUfYsH4d2nfoIO1O6tnPVXcMH1QrXZYsXoKuXbpI32qHGtWrKcXS9GlT0KVTJ1SWDzsTycvNwUsvPo9pUyejX5++6CxulZIryiA5EctXLFMrSFhOwkHx398W4bzHxTiwfOlybPjLlEryX7heSyuVAmjdumFYqUTI/+qhNA+sY7fHheSKFdGkSUOlDOX1+nXq1JJxMLzfnVt2JRyTY2jWMxEVFS3jT02kVK4ibU46Pv0onjQYN5U5NWvWkDG8pjx7wu4cJ9ySRnXUqlVLxsk4nRXlEq7ncEJuGfe4PbdVq+Zo3765UnzFxlWQeErKs7h9FrdvGypWSJQxsSZiYuIPKHv6JR9JiXFo0LC2TDoqSf/SN3XSb3xCouQrFTVqVJF3p4wL4l/qlmXNsE6ZzVStGitjZ2UZeyuhQaNEiSdR+kFF+W5Vle9FgkqHiqKataJRr0GslGsyWraujJatUuS5qoSrJmVSWfMifjn+xMcDjRsnSF5TZPyojOYSf7Xqwr+d20mlX6vxTHwXZ6UkTwTj4Xdn7txlaNawxgFKJVVGQiwmki630nGUfS8LVU/iRyuVsmDzF/4rlUo2qXRbgLfJ8ucSMeV7Rjtd/vKtCxSKwFSk3Fka6hYZn0yMHIWY+fFgrFw4Bw0795JyZrsJl38EETI8iwtXuUofkzT4LeEWaoe0NZ6vpSDla1PpcBNBAE5F9E8cuq4Mfgtszawf1iHrgmuNZMzz8wxOl7xxy7rUkE/cpMD5beTYxFVJThkXuDZJBS+049dZc2Se1wl1m9Qqrhb6NTD4t4O9SM8P2OJljAzky1yTYyInHzKOcdy070dw/wYUFgZFoG8h46T0DfHnFH8uFEpPkzFOwjIG9hqOcHbah/LAG255BEaIqzXk3SljLHcGcAzkiKzDiB3ETeJxqvg0R4GAvFOmyl6L7D2r5VvcCo74mrD5smFzcdMTN2/tgbNgDdatmIEmzTohOqm+2LlKvoVWN2ZGbTwTl51eXuWbrJ7Vwda6FBAsFEP8CHN60xdN5kX7IP7QUUEXFrbmAD9PX4oTe7VHagK/FMCEhbtRIHPsk3q3xJq9bvwyZxmuvfAUXNarBupX8aCoQlOMHzsWJ53RG/OWbMeOtAwM6NMKPepXROP6tZDph8zdE9C/c0NUq+JArQrA5tw4TJu3SGTpzqgTB4yYuFStBL//Chn7KjmR50jBrMWr8MCtV+HkprGoUDcFP09bJ/UYwHFta2H6ij3YtDsDzz54EbrWSkCdWolYuTOANcuX4ox+7bB41S5s2LQVp5zaEas3FWH4yHE46bQz0ba1zAOrSE1lRGPJshU4pX87xDL/alBm6WqwOCjG0Wrs7M3wF2Tj6QcvQZtqbjSul4jl6zKwZsM29DquBcZNWoHEhHic1rsm2shcrEqNFFVuc9dkYvvm9RjYv6uucolUFzP/PzagQsnv9yulUXp6ulrccvzxx8scMwYPP/wwevXqhd69exevaPo7o6S2BAefcOoiPyLQu+plFERC8Pv8SqHSvVtnnHPOKTj/gtMx4KQ+qCBCpl8GJf56JMOK/ElAthgZrKznOnXqqUZeqZK0eokzJNIVlQwUELgFh4J7o8b10bVbV1SqnCJCgVsqJ0opeCqnVEFPqYwmTRtKlFS4OCUCRsLtO5KixOP1h6Rz1cIZZwzAOWefhgsvOE0EsCYixNmQX8Dlz/pXS5Hj1C/zequBHTFxCejeowtatWwuPPD2IuZVD0gsSz7HxkajfTtucWulhDfxpA7nJguNGzVBj+7d1SGz/uK9+qwStfdL/rj6yI9mLV049fQUnHJ6KvqcWAMi4yE3T/hgf1MnnjEMlT76bBUWX+OmSeh9XE0kJvGMJ/qjsu4I65CFHQGGVikxvvA7/7N8WW6amxI/hyLLn4Z+4v+MU8Vb4qjLR/6xSynlUxkoZyFutbI7RJh2y2cs6ENBQb46iJ3lwro8fLCN2ZCXn6vOvqokgjknn7t378TuXfskMSdatmiDrp17oEJSRSVEqA8d65JbH4WZgEj9RYUFiI+NUTcNFhUVqtuueL6X4sdph8ctH0VfIQoL8uAtKlDbMj0ehwwe8rGS9BkvG51T6o+KI56zxXi8IuRwab7bw/bELUv58Ik9G4ZL+hqFGXX+iwiEVIpGRYkZbReyaVPemTbzyEFt5sxpuPnmQVi2bDHatWuLuJhola6fKxWFWVuI8THPLXHrrbfhyiuvVKv5rrnqalxw7nlYv26dxDED3kKZSDjd2LRxE6ZNnSp9vgsuv/xSnH/eqSr+y6+4Ar/88gvmzpmrxgSl7Ius6L8pdJ8Ov/xtUZpB9hme6VbkDWJ/thf79hVgT3o+0vfmS9XKCCv1rlWL/LNCsy647z2ErMwC5OZ61VhZFrrdyFQvz4usrHyVlrWlkfPMrKwi7N9fpFZVWbDSUCT+eGh4bm4BMvblYvv2/di7l31ATyUPBY6LjJ/bKS2wbpQyOWxVVBQUPz4xqRDVfLGdUyGXne1DXq5WtLIfEnSjIp/ILwggI7MI+4Q41ubl+8WUcDkBNXEme1Ra5+V7xb4Imfu92LvPL2Xrw569QuleZGQUwB/QE1IqgPntyNzvkzgDyNofxN4Mr9RJoaqHYoWSyrdFR4ejD1kWv4+PvyNYwrqYi8TMksF8KbBjHpC2XN5FAJHscisvHNJmQ3vEfpG4LwQy10sDEff96xG1bw2i0sX/1pnAvq2lvnWlIQkFJMzeNdIY94sHCmASdygf/r3bAG+ufADkPX+7pCHp7BZivPvWSgPXZy0qfg2OAiw5i2jIPMnvQGGafDO5RUaqPn1FFnK25cHBI0SkS/P3QNZh2tpcbF2ehqAIcoRTpp0vv/oyjj+th3rX8zQDg/8O+EnVX+V86SeZQO4ihPZNB7KXSYeg4saHKi3bole/kzipFbsc2J0yhuXJ+Lp/NpDzqzzLOFu4Wvymy/gmZlDGuYCMd1kyjuYsgt0j/l0yFubMknglTGiTSEIyV6bSXUxgp4SXOPLFLX+ByBrb4eFNP8ECJNVtiuMuuBKu6nWkn8tcP1rmwb4VkqbEXbhI4tkHR9APp4O7SUr/gF8MNVxIXnIkXP428cMcS16xA6G8zQgU7JbvggwKjq2Sf+ZnhibmrWib+g78aeD4JDVgD59vyLT4g4b60UKeXUEvEtx+1E3hYd1ByJcFVStFI1bm+Lu25uKis3sizuPDfQ8PxrXPfYF524vURSEs1aGTd+Pup0fg3hd+wtgx41CRq7olUqYU8OYhkWfIyjNvlU10hxDvCgrJ50vseLlHXFy0kkUIh78QFWU8FTbg9/oUb41r11AyjdQIxQmE5BvIM7yXrNkMh8eDX6dNxqMPfo6nnv4WS+fPRPWKsQhKdPq7Wv5Yy3ijpJ1VinGjknjk7iry2LB2Kgpyc9Xz+acch2ULZuPqO97FkK9mIC2PrVRIysrPW+kE+pvNnIYnjccQSjch6Nu3r7qdePfu3diyZYvIrvlo06aNcvsnfHt+ux+oPBw4XToyaAUQfyn2inDDszH2yyScW9zUlghq3sS9JCkrPR2OAnihtGgeqErhwDo/QwsKuukV5HO7XJFEo7dVMIy6Vlui4tXO+QW8opoKIa4KYXimZgkgXBEjw0dmUIQNClLS8DivpGAuQgZ9sjMQPBNHRRqmfMkLBRwK9fqqdKtIKSjwnJIAckTo8vp1XsmbT61CsaktdvkFhYpPtRdYoSRuNvaoaMlLSASRrFwRXvKECoRnP9xupwj4KhorK5oUeNhXWGCRDsxyYnz6QOJiT2VQnj3DaVgcUWnkEFKKDgENVYR/QGO3Yigbk8WF4l+I2WE5a7OE2D5Y18OGfYb7778bU6ZOwDvvvIFBNw5Sh/3ed+89IuhlMCYpFz04HwpsJ2xPzz77DF555RWsW79e3f5399334Jvh30lbycNbb72NO+64Hdu28SMk7VHCqbYgz1QWjhs3DnffdRcWLFiAGTOm4+GHHlZXtvNsGwrghYX5mPPrLNxzz5245pqrcNlll+CGG67B0qVLJb96C1l+Xi4Gv/wSnnn6aUyaNFHieEhd+T5y5AhJy4+FC+aK3YO47tprcfXVV+Pdd9+WQYnH38nHJWc/0tPSsG9flgjsmUhLS8eu3XvE3CvmXqSn8yg7+bjIwLVq9SpUrlQJzz/3HNq2aa2UVMxLlEfKWvmyKeVSk8aNUCu1JgoLgsKbtG1vSB2inxAfh21bt0qaOfAWFUnce1T6TukHRRJXlgjokh2ZCLiVooEDpO6LOnaD8vDbZVO6v5T1L+Oh9BkSV356oqMRHRMjbTNajVdhLyUU8cI+5vFEw+Xir3oH/1TQXcdX4ofe3S6P+uWlOB1CoqYySaclhnjkqiaGj42JFzNGfVz1mHVw8BvAcJH++KjewwVCRY3b7RL+2I/D7uTL7RC+XOqMOR1G+2V71N8DngFoQ3Q0FbFO9axJ0hWTkzEqiZhdl8te4ubUt3ZyNacnSsLHOMWO5c/VsVRssQ7oT8YHB8dwbifmLZ5WuVk1KQxZBVSqdi27vwrWlK50C/vHg9kpyMOUT9/Fh089iE+evA/vPnwLJr7zrHxy98qEtQDYsw6/vv0c3r3/Nrz+4L3i73F4VyzCjNdexLZlc5GftgnvPHYPvvvsAxlmudKJ8aqfwUrAiaszgEmfvoHhzz0ggtIOaWgyzn79Ad5+9hFxlyn97vWYOPgJfPH43fjyifvw5WN34Z37BmHdHBHYJFa1UtfgqKFLT2pFOrlvlxfHtzsBT1/zP/TpcAq6tuuJ1o3b44f3R0g9AbnbvLj+rNtwfMfj0K9HP/To0kskKZkL7od885rim4+/D0elv/MGBv92sJ2T2I90X9qHjNU/4Ov3HsWXH72C9197CesXzBN7B7b++gs+ePNl+PNFgHJkY/XUL/CVjKlfvzcYIz96Ad+/fT8mf/ua+N2L8d+8gnnDX8LsL1/BZ68+gqGv3YMtcz7GhimfY/jb/8NHQx7A+C9lPPZugkspd/ZixeRP8NmQR/HZ68/gy3cex+SvXkAwc4UMkzbsXL0SQ18fgv3b1kpfLkIwbRHGfvwMvnr9CQx75TlMHTNK5p3ycVYroEvmI6VGV378Q/lYPWcchr79GIr2LhDLPdi2aCQ+fu8Z5HP89m3HjG9eFR4exncfPIPv3nsIbz9/DebPlDFEwKNZ/gxw3szfu3hOcL4wzWlKyBmFApF3+MwVZAGfDFbi0SOTHOawSD5jIRGK4qI9qJ8EvPD0lbjkiquxdZ8Pzwz+ALkSz9hpO/Hm0C/RoFkznH+ejImdO8i8Pl/9KMh6d9h4Fb8PUnJIkDHSzW9dYR6ipU64dt1awGzNFCjFMxxvog1KqCh5Dshc3+f1KT7tMgcNyXyQxRQdw61cIQwY0Bd33X4JLr9wIO69+XI8dNuFUDv8mBYjKwdMjaOwXa0oFb48WjVE5ZUz5AXP4L70+Fp44bk70b5bV0ya+SuGfTdO8VYo5cQ5H6G55v8WHVtwDlq7dm118dfo0aMVVaxYEV27dlXunGv/3WHNZg+EVZliHnFxK42DkKV5ULBi4ZYJp9r24JAGppeBkw1O8OVZSRylQaGEYSxFgBYkdFz6WQtAFDT4TkE40p0Cg/YnNuFJGt9JnNAHAjwrhtvIpDOKEEAZiAIDBRBVDhEsWeEscPWT+pVZWj8PMi4h7U6T7sV+JDJyQAUT7XhrFlebME7aR3BOX0Lizy7CoDtO+IsRftkRWWbiVzxSl6MEJoskiBZ4GM6h0w3HqImIfC9rb0EiipT+BOpNvFDFwD8LkTH8XpQXj2XHeqVSznq3OCjhhOABw5vw/Vef4bnnnlZbfwbdcD3OGjgQo0eNVAems4wUzyy8Q0Dd9CKFfM4556hbpuLiE9Ctey9ce+0g9OrVW8o7hLXrVmPazF+wd2+aajP6cHatCC0qKkL7Du2VoqdB/fpoWL8BrrzyKnXgPM+C4flEo0ePxJMisHDLGM/cuuGGa0WYdePhhx7A3Dm/grpGrkpau24thn42FJ9++ikaNWqM6yVP3bp2waaN6/HqkJfVAeGXXHKJOtCNtxhOnToFBQW56mBgKqwuveRCSftSXH7FxWJejKuuvhQXXng2hrz6MgoLC9Uyy1NOPg0vDx6CTp06qtV/HNCjPNaWJoKtk/xIf6HSVTLssGnBnuft+PxFiIuLVWcliXiOGjWqyoCYiJEjfsCihfMkv4VYsngpvh3+jVrt1KFDJyljKmPZRg0OAIul/EZeDNWOw6Q9lfaoxziH6jdKuSFjHdu0WqVpVaxVv5ZZCuVaHhSlxsYDqrVMeurBejmQ96OBNQ5GgtnkWFlM0oxpZ1EkWCaaSvuJJPKpV0paxAStyiqPiLJ2lv9IRL4zIZVYhFnWvwYnm1axl+/jSGClZcUV/p6p538+VD6k6IMcd6LicPXNd+GKx57D5ecNxNppI+FdNFkKNID5Y77F8kULcOWgO3DLSx+hZfdTsG7bXvS48jrUa9gIsZWq4YYnXsBZ51+sq1IQ2fY1OF4G0eeU/tizcg6yJn4BrJuLaT9/j/NP6SODawWM//R9+PL34+L77seFN9+BGJkXdW/XBg07deBsXMbG31+j/02w3PR8y2rJtiIHsvdkY+R3P+C222/B8jXLcOZpZ2PQdbcD24EZY6djzpRZmDtjJpYuXYj7HrhH/WLOs0XcQTec6rpqA4P/Fth7OMRx9QeCe7Dgl8/QrG41XHTrIzjrnGtQsXItcSiEO5QmfjLg5L6lrC2YP+Mn9OzeA+dfJYJ9h+4ynOWie5eWgD9LxrlCbFw9T91SfemtD6NR/eqYNPptbNy0Hude+QDOO/cipK3/FXvXzpbIbNg4ewIW/zoN/U86F5deK+kOPBsZ2+dj1gQZU+GHPZgh88s0uGx75H0fpv/yI/Jzc3DBxTfj7Avvgi8UD5+3SMYDrlDh7FTDGl3VOz+kIl816dwFMRLH8ukfAtnzMOnnYejYtiHiq1TFytmTsX3rGpx77vk4+4Kr1Ly9aeNUdOjSXiLgj8CM6I8Hdz9QMbNhe6Y6a2iuZHPVxl2ITqgArhHiCpxcnw1TF6wFF1gyX4uXrkKUfOOSklxYk0YVD3BWx0SRM65A+t48rF7rw/b0LPmWVcblZzVEj7qA0y5l6feCF1sTLp5tEi4tPnF1kEfmk24RTPgt5Q/5oaDM//lLm8DhjsXOjEJ8P10YlOGSt8pN+GUWGjRooBQ9hNMdLXkBOrWug8K8LOzYvRvtUoCu9R1oVgOIE5knhiIuLw2SCRfFUEVixZkITWoCQpLmuh2ZGL8oW+VtczYwZ94CtGnRUPnZJgVRvyJw67mt0LBZC2zexh/aJX35xloLUzSsStMpHEtQFuMPsf369cPs2bPV4oLOnTsrO87Z/wmyUikO2RAtk8oD9R42Lbffgg5rK6aSkDSZnHzopaGU9wtcyYSepIUe+SeCuhaCrLC0KyHaaeKp/0qfxNP/yxAbvjKLwzBFsRNQsaR/LS4TtxK8tBBWisQxkrTAJtFHEPnQFHaLjDd8W08xhd2VwiRsp/0Jn1Jm8hhu6sJvxFkjxAHzWL6LJc9+sqlrI8V/sR/l+BsUCf2uXWR6Jkyo5zI8ECwHy0b7L02Hg3L9qTR17glWsyqPsElYJpW4/kCROritYrXK6NWrBy44/3z07dsNZ5x+Gk479WQsmDdXHZrukkGFt5WFYyuHpORk8KRSjgcQ8yywpAoVUbtOfXTt2hNNmzRWqwxi46IRFx8r/EglFmdWykLqgGXCQ+B5WHF8QgKqVauK1q3boEf3Tup0/507d2DU6JGoW682bhh0Hc4c2F8+VgNw++03Y+++NPz44w/IL5RPhhR8PNMIBZCamqqURzzEjedsbdmyCatWLkfXbl1w0UWn4LjjeuC6a69Gz57dpB0F0KlTe9xz95147LFH8PAjD+GJJx7Hk08+CR6l9sL/XsCll15ChlU7Ik/VqtbAvr37pU3q1VY+Gf2p+FHnU4XzZpWPtdiLqw+nTpuKvLwC+Xg0RGxsvFKu1a1bRym5uBXw6aefwC03D8KVV1yKrKx9uPmmG9Wh0Txf7EBhzKC4M9AMF3lpZYmuA2UnfpQyhaYi6f+RJIIpV4RRgc32zHc+lyp3Hd3vwG9FwLQi0lMoz+5IcQSMlyqj8sgqM/4IoX/kOJB0gXOMpslIy/dnkRXXwfwxPcZVFrQUtzJ/B8PBXcStOF+H8lUCq0RpajqCMv6bQ5WADNX2+Bj0uuRSoFFTyMcCURWSUSPOBdu+beB2tCVzZqPHCSfB3elEoHITdDr7SjQ/+VwgtT7c8UkocCUAtdrCVq2eik8GvFJNUT3y+1soT43b4KwBx2Hp2M8x+/2X0KxpQ6R06SQeMhDyZqNVw1SgQROgeTPYnB74XSKVxSSbVUq/G1af0QOnjVdrSz3d9+C9OP3mAYiqAzzx+BOIRSLWLt2KJPlG79q/DQvm/wpPLSfOuPQ02OMkoEhsTp7BEowUREzdGPx3UNzybW7ExSUjPS2Dy9uR3KQZKtarJg77pY/kwhnihiovimQcddtyUaNhdSC5jpiNZYKeAE+FytRcIOAvQu269VCv75lAhXZo0LAZKsS40LvPQBlv+yGuQTskx9mRu2eNxLcdq5bOlbllE6S0PlXG6/bw1O2K7u2aYt+2lUDRJiTFyBwnmIcYVw5QsAJpuzajdcc+QM3j4alzIk7od6HMn7kamZPW8MQ1Akp3z+9jMAqIr4U+vdoga8s4TP3qVVRNSUHLDp3FQxHSd21C43qVENVA8lWlIWrWbKi2vCOmqsxzOe9X0f1+WPGISTVYahUX2jauhffeex+PvvMz3nz3W+zavkE+O/lKoVTo98ITF4vJs+bjoSHf4al3x+OXMSPQv1c3VPUAn3/6GR595lO88vViDPvoM9StVhFtGvO27XgU5OzGM2+NwiPvfIdpE35AvNSbvTBfKRH9eRmw+7mZTsul8OYgkL0XjoBPsUjlk12+YfYAN7fJUOn3wydyz+ffjsYT70zEU09/DlvRfpzZv6datRRlL0KwIBMhibJpReCkEzrhu+Gf49H3xuCNz8fj8WfexuD/vazzrxQ/lDuZsBAFUP2kajAgMm6R3YNhP47Do2/PwEsvfw2XzYfzTjsBO7bn4N4HH8VzH/6Epz75RdrPQrRr3lR9CaLswrvwyyT0bI5PpGMP7m4hunTpgqSkJOzatQunnHKKsvun/PheikuraCNJFbquy8OE/pCX/Gk7HRMVJHqBnCJppVY6hGo67N2KOAmX8GoybpnlEd30thxew++wcYWFCE9lSF0Jq4irgqwJfem4SjixIO/UXpQC7cSv0mpYxPCRgkI5JMOyDHthKvOs/Fh5kRQU8b8SnlQVyKuy+g0Ul28kSXzlkY4/kghVE+qp2EVelauYvMI6rLwOh7BS0bVshYmEZXcoIiJNkmotalAJw+KDj/JgEcHsqO1i+TnqQPduPXqiStUqyM7iGT8OtXImPz8Xabt36V/3i/kuoYjWqZROTLogvxBeL7dfBuETs7DAK4On5a61x2olnXgmLzaJXJ9fpVfBccUSVz15ZcDl9jxei87tX2lpaUopVCUlWfjKxtKlK7F69Ua1oqdy5WRs2bZFwhQp2cQndrVrp+LsswcqrXWuOpeJdSGtyOXG8qVLMefXZdi+bRsqV6qI6tWqygDlQY3UGujZqz1O7N8Nfft2Rb9+3dBPzD4ndBazC1q1pnJMr0bSCtEQXFxLKiUQ4M8QUg7WNiEqyTRoUlnKc72KMG3aBLUy6rjj+qJjx67gWVZ2YZrtul/fE3HjjTcjPX0vZs+eKWYa6tfnofON1FJOKq70ykKDA8AmpPpo+DkMNU5I+7LGAsuLqhXWUwRZ4XR7LA1tp+vSoqP/O3hoFTcNMqPMkveS3qatNB3J3+H5DwoFpP2S1I8A5ZJWnh4OsWyV+bv/yuaZYL2UkP7TbxraVyRYlXpM+32w+OFvMKwXiwfFm5TRPx2qfHhmki8HmWO/xPAH7sSo/72EscN/UD+MutipZKzmtzk+pY54jkOhzGBzJEhIDYdBdWaFzxktLzJuFol/m0soLHaFC1DXg9g5eH11HKqddArcyMeWTevQ89TTJSjDB1CzRiXMmzoGGPkeMO5bbE9PR0I93jAWI21Wx2Jw9NAlqP/32YMIOEOISuRZgWLhFfkxwYmKcUnYvnsrupzZEddccTVuvf1WdKvaHT++MlIHFb9FviL1I6GFf35PMDA4fCgZkOcX2qqg/XHXIuRMxPfvPotZ37wAZPGcpEIRg2SeyDFPBlKPzEE9zgA2zB0NbPgOk8b8CFtUDaV8gS+EIr8DroRq8uHirdduGQnj4Q/Ewe6mgkriCMZIfxO5TqlMcuRb60d0koRFoszFGcaJyhWqwivzYOTuV5cfOGRODrv4z92FrOwcRFeop/xLL4dN+OVlIzalGeEPAGV6MF9Jtjjp7B5UaNMSKYl+7N6xGZ0795XPQG1xtKNpg1rYuGIm9k3/Fr6VP8qceyHqNeknbokyJwhPyP4oWMO/8FUtBnj8znNw8vFdkblvHy4++yQ8csel6N25uXAl3y2HyC7BQlx20fmom1oduWlb8ODNl+Da87uooe7aKy9H7Ro1sWPDcvTp3ADPPXQNeN1I/y418egtFwN5exDjCuHB267BJaf2QJ0Kbilhce/ZCb06NZMnKXHhp3HtFFx9walITXapH5UT5NN37oCu6NaxpfLjkDE2JdGDu++4SvyHUDclDv+7/zoc10xfbtK2UQ1cfFovVJNX3sR5+xWn466brkJh3n7s2LULjZo0xlXXXCEykMzHJH6eY8xLt3i+J+28gRCbj16ZVVSIKtWq4OorzkWwYD+a1qqM/z16FxpUciC1Rjyuuu465OdmIz99J+689jJcdSZ/yAG6Nq+D0088Tj0TpWdYVqEfG3Bu7xe5q2bNmuomOF50Q9KLav4ZOKAXRBatnuoTzFC416nRpRwqZX9oaB86TOQfE1UCUthkH1XmMSIqBhUP5ZI0w2Iqz70syYBbTAwT+Xygf1Uz4k7Tsjuc0rX8HC5RmKKwUEKcypaIelIMyiNNjsO6bYsLX4oR+fzHQaWtTCt+bcO38oiLzVhOPDuLCjOn0yMfoICYvMJfBEoelBUIqNvcqMzgjWtUWJVHGpKe9ShQ1iJNUlliKUNYDpZSUJ4kfc0tBwftRv+ab78UHvniKw8UzpYPH5VLo38ag3vuuQ/33XM/brnpNjz+6JPIzNiPqtWqgQeLh2xcBupTe6Njo6Nk0PHB7faow5c7dOiMgWeejUULF+LySy7G008+hgUL5mL//iy4XU5s37YVM6cvwORJszFpwiyhOZg4Yb68LxJzIZYuWa+UXtaYxTxw26Q6hydcDmH2Bfq8MuaHB6DzEPgtW9fhlVdeUsqyc8+5EPHxFZCTw2tenUqR9LwIbJ8MHYbzzr8Y73/wMa646hr8Omc+Hn74UaxZu1Yp47RC1+CIwHYo1VNcNcRBxuby2ncxiY+y9PtQJm1F4bjFKjKdA/gvDnc0sMKWT5oPTeW5azp86Nvi/ngUl0u5JP8JOHnVT0TJ0x8FK0alYg93fmltyiw97v9zUMw1hQrOltcvwYQv30Hvdk1w2lWXYcD556HQ65WPiMySnW7k5+fB7te/ukehSB1MauNS2KBfbW32qHM+vFqXpCpNKALF6bG8OBbOnoc8RyxSUmthyYwp4sAx3S/y0D7UrFoBq+bNwNQJY3DZNdehfk8RYoJFSuleJlqDI4aUoFUZ8i0t5A8lVALyk8N2IG6FRVkiqEhde4BnPn4GEyZNxpmnnIWnH3oWG6dsoV4xDFMbBv9hUKvqd8Ndsy36XHYFzjjjOORkrsOEn4aKY77M5dxqXssx0r9nB+LjXCgqSMeIHz5FcqVKOPPsy6XPxYtfXnzkhMxi5Vn6InjQs9gFXPD6+S6QPspvNVcWUsnEy2lCajz2wRXkrW5OFBQUwuaMAqLiZG7vFxt2dOnU9hgZ5qmQ4sYw8RvKgM3jF7ZkvBYbzp34qwk/BRYp0DEo3wCPHd5Nm7Erw4vomESsWbVM5AZ9av+eXVvRoF41bNu8HJPGj0DP3iegQ7+zJZxL5s1/zjyWyhwqw5KlaG49vyfeeugS9GoWixNbV8TAPq3UUGYPipwTyEON5DjceU5XvPLotTihQ6oqXWarYWXgkStOwDsPXoIbxb1GglLdQabw6NuiGl6/52rce/U5aNcwBRec2BlVKziRJ+LSgBN7oEenpvBJ1bOY6qYm4pKBPVSaLDduUzu/X3O0a11DHcTtjnIp5VTLOsBT1/fDUzefiRa1o9UP4NT5NW1YDeed1BFxki7rl3Ge0DYVL95xIV6653JcfvYJqJ6ajELJdJa0pxyXG7lOB3KcdkW5NCVD/H1HneUpslHbusBLd54i/J+A2hWpiArI9xno1TIVg2+7EG/fczGOb5eKkDQHjyTYqXEVnDGgu84Q88X2oHJE89iCiw8or+7duxc8pJsrlvhOe+KfMP86oBeUsKyf+L/a2mO5HCxPxfZsKPwFtyzpP7pLd5b6s95KglJQZ7VaVavcyvj7q8j6n2bpPJTOj/6z7H6LIv0GwmZ54Uv/qV/EI4jldyhSPeVwSepW168VvqQENOSZEk3Yzl5Ov+Pw/UehbOqRUIobKiBUcgcyYn0cqPhQ53CpM7ts4Nk/aiWYuDOUCi5+dFnSzhKZDoRS+kU48p2eI+0Ips0Oz9V3hNX5eQMhPzZ8s7ZPqqDiXlhQIA82XHbZVXjl5Tcw5JW38PKLr+P1Ie9g6Cdf4P5771erjXhtakg+1HYJwxvdVD7E5CqomOg43DToFnzy8Sfo0rkjZkyfhnvvuxe//DJZPqJ+LJw/H2++8Toee/ghPPvU43jqiUeEHsYzTz+GRx66H9989SXy8/LITjE4xlqk8qtAU/Ih/qgIYzVs374LTz31JFYuW4b7738Qxx9/gvhxIOAPqEFw8qRJGDXqJ5x2xtm49vqb0KFTN9xy29246tpBmDx5Kr4Y9pX+FYJfnIPWgIGFyDriLxdSDVLOvFVMX0LAci+X5CNr6J9NfunLnGDzLDPdV/6K/hL+GkhS/CpZ+KcqlhS4/cEWQF7aVrh82Ujp3AZIbSQyUbYMXTYU8jbV2IqoU7sGFkz8FshcLPaZ2LVkAjbNGa/8JMYlIJC5XcJskvh481HJt0dBlZc24Zb0dq7CNyN+QvP+F+KE8y7F7PGjgIWzxT2I3du3IS6xApr2Owndj++nzu1Tt2Fw3JXvk8EfB8p80e5YvPfGJ9i/VOpF3j9+/1ME7flo1aYJ0lbtxp7l+5DSIRl333uX+qFly9atSu6NiY6Bhyfwh/FX9D4Dg78NOL5RC+Hbj32bFsi4ZoejaTfUrFMbO7dvEQder69/rKVeJzNzDwIhL2rWbYDefU9Dw4ZN9G4m/vLrcMLNea06P4E9KQCPy4nYuBh1iYaCjNEuLr218ySeCqhVsxbWL50mY+kU2KKygNy1mL94ESqn1pPxuhaKAiG4PDI/LZTOmtwGVapUFf/jJOx6iX4lFkz5WuL0SZ+WOKmwCndga9hWpspjjuRxDX4aNwW1Wp6N0y+4DisWT8bWOT+Joxe703Yg5PSgeeuO6Nr9BFSqUlkrnDhmh+WJiE/lHwP5uDil2Dzy7fLzJt8iIErGJm6U4p4CHmGVEBUldj61csgCS1KCsToUhUtW2ZHIK+PgqEYlDd315qvws8TFg7jpj+nTtLLmFjceo8R4GRfv21HxyGTBJwxavBE0eUscq9MjAfhVYzx2CU03rtlV5SagPd9H/bIVZ133Oi6790tceMdQXHD7J7jw9g9xwW0f4rxBb2D8opBSENkLMlUchV6tniQvvPmadnwWa7UDnW7RYsl8qcumxFSJCllp/x3AuR7x888/Y//+/epsJYLnonLeZS1Q+DuD5R4Gq1NDVbp0vIAUPW2lScsAwXOAbL9JgYOSFBhJ4gtINUa6sSvS5OrKSPtiUmH+aorkge9UA/GPi/a4jULspEw0Wf6s90iKtC/7zDhIVvjyKSjVpIjPZdzKo8j6OBjxV2iayj+fbUzDoclGsuyo/+fWLrGz+JXZ1oGrWP4YlBddWA0joIJHN1mmr68Pt0zxJyyFqKAQCkpj4llczJ9P/HBbpdPjlvxw4LOWUNrhl/gCEn1AMsL8Bqx8yzsVmkya29moyWFedX6Zf0lL/TLBkpQWE+JtZmKKP3Z+v3wwKYhJVWsFjXxwlD5KPqp+MQPyYpeRmaEhZZtSpQZSa6aiemod1KhVC02a1keVlCrqIx2pUOQNXuwnzC95cclENz4hEfXqN8RTzz6Pd957H9EyAR49+mfs2LkHfU88GU8+8zze//ATvP3u+3hX3N957z28+dZb+GTop7j51luQWKGCmnCz/HgOk97Wo3nlajqWMbPNAY0tJzbWg9ycTDz/3NNYu3YNHn38KfQRgcgvhaoUw+K5yFuEKdOmIUp4Ob5PX8TGJ6KgKIC4hCT06HEcGjZthl27dyEnR/8CZPAb0E0xDGnL7mhEx8uHMtEGT5xLSD7QQu7YIyWXoX8ARcW5ES31GyszSCe3eIdbwp8Bq52pPi/EsaAs/rGKJQ5Ownps87ZwVaiOb18agrHP3ocRP09EIKEadno5Ha2EUy++Wr4bdgx/4iGMeup2fPfpO8jOSBe3eKQ264gdu9Px/eP3Y9qwT1R86lNgQd7VpJUTxJAPE78chtjUxqh64sVAp37o2KUnvv/8UyBnL1o0a465KzdhxDej8c1PE/Dum69gzJDHgawdOiKD34mSMuQ3Oy4uCb7CAM4/52Jc1ON6PPX8U7jsxktQrX0tfP7FMPTt1x+X97kB/U49FRVrJqPbCd15lAr27t+H3KLccExEyWhsYPBvhxrv7U7k5+3H9KmTMP6zzzHxkw+xdOUu9Og9UHxUQ643QebNMTLu+VC5ViqKCrwyB1yCiVNX4IfvvsMPn72CtEWzpOtEI6fQhUI/1Qd6tVKez4V9ObwVLKy4tXmQ40tAfjBZXqqgw/EDkZBQFT98/iGmfvI0fvrkE+wrSkDbHkw7CbmBWGQURCM3lCLvtdGy3QlIS9uNCR/+D+M+ex0796Qh4EiWeT/Hd5mjynhNyUcTJT7JI2/rhB/Lp07A/qJENOp4tUTVU8br3pj6yzgZrzehVavmWLpiM36euBDTZq3E1zL+jxr2EnLTlkuEMiZQwPhDwHGLxIm+EMtf5DIq3agcKSoMYceuPKzbnIOlW7xw+opwxvHdkb93N+ZJnSxatgnzV23B/DXbMX/1TixetR0rVm4V2iZ1tgOL6UdoodgvXr0Fy1ZvxbJVO7Bo1U4sFP/zV+/G3NXpYu7BglW7JS6Jd3Wael6wapci+lko70uEli9Pw6z1eUiMjkL/Xt2xcW2BpJmOlavSJH6G24F5q7YJb1uFtmHOyu1CktaKnViybBeWCy1bStqDRWsLpX6icdzxA9C1a2/07t1PqC969+ojdAL6ntAPdm8hmqam4OwBJ6AwW8Z1aTYln2AlVUlLCiFKyi9ays9SOFEGs6tVxixbgTWMh1+PNXijMdG7d2+8/PLLqFKlino/nBuR/y6wyWARLk72BiUeY5d8O5996TOcfd7FaFBHhOBCZkrK/Q/IExNTCUbEZZWVyLIlCNtZq0sOhuL4jhCM87fiVebheDqUHwuRTP6W/6PJ0FEiUjaIZCsyayTWDXUrcfLNGP7VL/D7cnDzVaejQBqMR2bQaltU2K9WhBy9VpXnnlB9odIN+FX7sDmcuPjKQWjSshNuuf1K7EqTgUNGCav50jfT9RXsx1tvDMaYCZPw6FPPolPn7mq1UGFBDt575w2MHDkKTz79HLp2740ifwi87p6qMw27SpMIKTsqcSQvfi/GjPwRrw4ejKuvuB5nn30BPLEx2JOZhnffeBkL58zA08++gDbtumD5imW47fZb0bBxUzz3/P8QHx+HLVs247577kaUJwrPv/w6qtWqity8IPbJB+Dh++5DTkYWnnvhRXTs3ETdikDasnmrylu9BjXl47gdjz38MLZt2Y7BQ95FlRp11TlLdntA7LYqBVrz5o3hjgLWr92K2265GYlJlSWfz6tfUuiXt36xsrmCix9UVjBNtfJBZts8i0r92sDRV9zefOM1fPrxR3jiyWcx8OyTkStjQmEhf+nxwuEMYcgrgzFu7FhcesmVuOLyqxEdw0il7uS7XFTkl/zl4pHHHsXkyZPwyiuvoP+AE9USWI98ECdO+hX33nsf2nfsgEceeRSxMbHqIOnyWgtr12qLxxTCHM/QqpTkxPAvvsa4Md/ix++GqTZOBR/LVbf+PxBlMu6XvsZxeMhHE7Fpx14cf+LJyMvPA6+1j9xCeCT9rnj4N/hbQ42G0s5cNjdG//AdLjm3F3p3qa/6I8+K+KOgz4uyq+uGf5m5HcGidJzQvRkSotzqW1wW/5SJTin4i4RxmYnuWI2VM6eLoGFH6169sXdXOqKrNURsakPxJJOeLcuxYs5U5BUVoGW3voiu30asJZytCJnzZ2HD2jVo3KEP4lv21vEWf0csSIctysWKqRNRo34jJNVvLIO7hN+9ETmrFyG+WgX88NF76H38cah42tm6v69ciPf+9xwG3vQUKnc6W8ZMPTYbHC343ZOxUYowa2MIbRq3xbuvv4OqNapg+I9fov+Zx6PnaV112ct3d8SX4zB76hzUb1wPl1x5EaKrSFix/2boSLRt1xYN29XU0RoY/NfAyV1oD7yZa7Bq8VwEfX7Ua9IFibVbiXAQRNHuNdi5dSvqdmqP9ePeRcauBeh06V3ixj6TifUj3sD6tCgMuG4w1i6ah/g4D6o1bCdusfBnrMe2DUtRp/kJsMXUUOnsXPIz4pIbIaEmz8JJB/K3YOeKBdibvheJlVJRu0UXIIZxR6EgYx12bF6Eek27wx5Nu13I2zwDa9cvR1JyJdRt2RFbVm2VuXMLRFXk+M4Ob43XNDnG0szG7mW/wp1YGxVrtRZve2XM34TdK+ajatWKmDL+O9SvVwM1jztX/MpkLHsTfnx/MGq2PA/tT3wA3F3LOdrvBeUPkpJNOMEMSqQiA2XmBLBm/WZs2LoNu/akI7+gSCnvOI3j9zkUDMg8USb18uJXcfBnYLv6kcMR9qPzSoQQsAURpNJK/Gh7+qeLfuceC3v4R2bKwparikEsOH/kecb8TnGRgssTDbeQr6AAIW+R+JP4efaqpKF+YBcb/ukYROaQ6BwRQjaPEimSia47NhF2T4xKjWe6qjIIBdSCBtqxXGJEWKkYH4PkhDg0a9QQtWtWQ1JFcRQPSm6kQKN8E8yPQCVFLQcfwnaWlxI2jhmK5dnwvMq6De6fNM+KUCrREKFc/t8p8577H34Fbdv3QM1qVRAozINdaj+oWqRVA4cPNjoLnLRqqZYFGJTC0s/qLBppmLSzoLYs0dSv5UJxJB4094cPZuVw4tX/EcpGiA2Vo4aYKlF2YJYaX4iDxKqcI+JSHZlEO6t8wu4qXiu+Pxd6uxbTtTq6hvWkXKQMtGsI0SJcTJsyCXVqVcGt1w7USwvFk9RccZn+XqWSagHhuCKVShddcQOateqMm0splXR7YQm6ZRDJy8nCkFdexA8jRuDlV19F1x7HqZU9/qIcvPTC0/jm+x/xyuvvou/xfZTyRlWj1AV5Z2tjaZA4GDrE0u7gwWle/Dj8Kzz7xBO4/bZ7cMFFl6tVTxn79+LZxx/Cwjkz8eobb6Njt55YOH8BbrjuWjRs0hRvvvMeYmOi4S0swBuvvYYfhaczzr4AjVu0Rqu2rVGrVlV889kwfPHhR6jfpAm69OyFaLcT+dlZWLFyDXr07I2TT+yDrH17cPvdd2P9ps14792P5aPWWD4YfuHBjs8++QSL5i1ArxNOgN3lwvzZM7Fk4TxceuX1OOu8ixBQfYwDO+uDKw9ZN7rMmFPWFZeLspw3bdyA9evWwC8F89NPIzFxzBice/FlamVR1SpV0aRJYymPIIYO/RAv/u8F1KldF+eddzFSa9RRyzNZT06XE23atEZCYiIWLlqM5557BllZmbjxplsQF5+Iffv2YcqUKcjO2Y+rr7kWJ554opQvV3GVKPQiYdXHMYdkLihldCyVSlz4wCXHP01egZ8nTYcjOl59ZN0ubjnkSjkpRyoNWRGHieLh3+BvjHDflT4c7XDBn5eDyy4agJbNU8WNfdn6fvx+WN9nS6kUKkpH327NEBftlrYS9lQG/6QJj4ZkJFAknYmTS/5yzYzJu9pIwJFfSpQHQDhpz7JVmncWju7iPLFb9XeGzQW2bRNT7IrnARJGPk4h+bjYohKAijzwW+w52VfxSFquGGDlOLz69KPoL2N8kz59RUCKQdrU8RgxahSufuQNOOp1VxN1o1P6PWB96ALM2hJE84bN8earr+HMQXpbAcHV19wSoZpx2bJmY4i0V41DPxoY/OcQEOHQwbON+EPG/9n7DsC6iivtT6+p9y5L7r3JvRuMAdNLaCEEQkJCKmkQQrLJ7v6kLKm7CSSEEkINHdNMN+69F7kXSbZsy7J6f/0/35l3pSdZtmVjG5O8Tzrvzp07vZ5z7sxcjn9O6RPClFCeieIYyjHOjaUv3o+GivW49OZvSn9Jl+GxHB+/9iSiMyZi2ud/LW4oQ8mYyc6kSl/2U4LjKonhcHwWd/rVRWHWbQzf6s/cYOWQOVH4Ru2PdMtn3G0hY2awRZyZL5KZeNhxOb7XAc0V8DQ3Ku9L/l5fpMjYrEdV8MynJI7XqUKMR8L0V0qwkp6W3XjhwfsxeEA+Rs+4TNITj5o96zD7jedx2c3/jbxht6isQR3IJwX3xTDN+jIpyK1PUVi1bjfWbdqKhuYWZOVlIz0zDQP69UVKQjzslLfI45OXFy/6oQ2SCa5NNrOuCjFoLCF3bfZh0HFRrnzO8CzQ2FZlAmaZtcQXn+QpWa4cTy0vmqaQ2YKGQQoLR+/pVsIhT8u5jztAaK+pkIeqKrPx3KFqHDhQgYa6FpmCDyHa6cLwYX0wetQAxMayXbFNaojquw0qe3dhfw6Bx1uQuELps4ajlEpsZJUyZjz86EtobAwg2uES/qtFGgXVBp2bRfcRExujqyU8Ho90YjaOUIxa6e3orIzQqg+lkOAnsc3XqoJtYVnh0J57Eq1DrQgKu7TnYcTWfkV163LpoNIiHdRSaFlh+7w+eLiEQ9MhlRp0wOWKg9MRJ7xijBAZbK8Iw01odVeLYMeD48LLxqS//TwayVNbHkJ20rDZWVQgFYHBjIw6hIQg+Qp54qU9rHBozo1R0fk+HG0JEBg3Wg86UhzthykxqRFi/MyfpNflcqCpqQ7nTRuPay+dpEolHiRHR6qUsepPrizfU4GWpMbJKDsplUZMNCuVKjiAynMpQKqCHBKfQxw2tTRj9uzXsGn9Knznm19H/yHDUd/sRowIEO+9NRvvzluIO771PYwfPgZOaQ5uCbtZJix+9YfKMa6S8rIzy320dGiPxO/2tqJo/Vq8PftVTJl2AS646DLEx8fA3dqEx//2MEqLi/H9e+9FXs9eKN29B48+9Bf0EPOXv/o1xEa7dIUXt3o9+dQz2LJlu5RhDL579w8wZvxotNTVYdfmTXjqhedRcugAnDKaZiUn46rP3YjxU85DdlISvCJEPvrMs9hasg93f+cuDO7dG/WeVnhl9mqtr8e7b7yO9z6aC78IMg5pl1+44TrMuORKBKMTpE6CPJ9U9zr7VanUCVKn0U47GuobMfejj/Dmm69LX2nVwdwr/csuQqzX48cFMy7ALV+4BXHxLjz6+MOY9/FcJCYm6puZmNAbBZ/0u7j4eHznO9/BkKHDtB2Ule3Hr3/9SzTzKx2SPp7HxC+/3XzzzejXrx9i4uL1LYdRXBL8bU8lTUel+dOA5OVTVSqFgqYAxLOUuGWTCia38Frc965Dm6RD+8pJJINDQATnPsj4UYnOIyf07R7rOFTPnefMTwLrRU+DxEGlElqPYNbUYTJ/82svYinRdBXX6Yr/7EHyIh2XwoQmXZhUKnC0kMWCzDSdBEVKiKJAI3yEdjjtlNLR+FkaTszVpXjy/h/B31wl46zphNw+zWWjFQ1u9Bg5Hbd+7+cif4mwor5lluSAQcWSuxYHFr6FJXOeh7e5Qb9sk5DbF9Ou/gLypl4qc1usxvtZK9lzC6wvU4L1h3zo17svHnroT7j569fB0yp1JRVtd/DDG1LUdC1VI8O8tAOpKWFslO2SILzegFSFzegSI4jg3xmBVgSkP+gKWY6JFF1oze1j0nlsTuGZDy3Binn/wOGDZcKbOEXMiEG/gWMw8eIvAbF9pE/xJYkfUaEvDSsfQl5e+pgFPcpCOmCHuYWdk46jGKbcWyRW+oJc3Yd6vK5s8cg9X1pKx+V43bILC94Unn3vNpUBVaqV8ALwCm9lQ8DeAzd98cdISJU0OhIkTeJH8gu+PIhuxYEN72D5gpfR0tSoeYpOzMTAkdMwevrNcp8rcXT9cvTkQfmQc7FDFTWr1u7BvAVLkJuXgwsvOh8ZGSJPS/HESBVYagdJqVUVaiYRll14uqzn4e66guUn3C3tLOoMxmWFZ7m1/B0P4WHSbXsrOD70LCUnUHbIi8VLV2Dvnp2YNL4Q0yaP1m2CmsauBm19cG6iTSUj+OzxVZJmyUCH+pZ2qoolZoVmVWjIlY46OOwGtO+L52aRJ5cv34wePfIwbEi6hkONLlsOG0/I2CWsIuWVnYtYu7ZEl4WNHDkYySkmrHJpVJuLitC3b1+hZMMDittDFcCmjRsxdlwhRD5XUADbtKFUheaJE7kUUsYLaZiHDgO7du1Cfn4+evaOFUZCHyljsW0rULynEQ0NzWIvQrfNjb79szFiZBJ4tqaVNgvMN8dHMv/MLx+TYSE4GDB9rrBnHD85XpIfJV97LLQNmKeAruqvY+23w6p3gk5oVpK0haeBz5hc67lug6MDuZ4+pRIVSE5VKg3T7W93SF1xAjJvGag4iZH4Yrj0s6URqQmxcPnd8DTWIehwwRmXAIfcuxtq0CqTS1xqFnz1LfDUNiAuPRWOpDg01tSgqboaKZkZiE1KRH1VLdxNLUhMTYFLwmuuq0aUCCAuCYtfnGhqqNfBPD4+Ac0trWhobVHBLyc9A1G+oB6y5pAJMz4+Hu7GBrh9HjhjomWgi4O3sQX1Lc0STzxi+XU3aU9NXnkeHwcXFY3SYTxRLsQkpSFIs4QVZLwJiYiVOHw11QhEu+CPidGvPvjFjU8aaWyytHuJx93UAHtcEvwSV31zK9ys5LhEPYSWcqEBDVKuIdLJU9wZFW0QDhmInQ6nKmJ52LOw11IPLGkpb2m7vLIt8NwqroJqG0Zkpre+6MZ+Y5MfTo76RT62CTZusePh6YRP/GqbkQndUiuFQ1NztPWZRyg7bZC2TKV4Ror9U1UqRRCBgoNkiInWAbhze7Xuu2o3x3vGcKUpN8tctGDFIbhbDuPi84cjwSWjHRUpPG1V/IWzDZapbbzvnBYLfNz5Ge+tdHSVnjMERqvzTBgYPUc4A+nX8mvdWXNcW4J5IflqgCO7ZCBsEmud5eUqz1WIEa42NgtIzpcAXFpdPMOP4C7jKDIifOtfuVsKvM4kKKVAqJ8YGLiFcDNhFZR1PVfAdJ7DaZLiLi+rQGpasgiD0SJGcu6TuajdhULfhHewaccny114PX4a5XQu1k8EnyWwBVmt+FjTjgiVMgTKuIh9QO1BuYrLqFQZBweJWYQlvhGz5gp5FB4mbUmWXXhr7eBODNYzBmXZE+H+Cd7Tva52Ckh6WoplLmtsD4Dg6hXhQf1R2bAnDZR7nvfEkUHmPY7LOra3yrVegtkr43W1ug9G5yIqjp/cp1uO6qcHnF+9fKEh8+38BduwfuMGTJ02EYUj+uoRFVwNxfLnWMVVTRyxmCHNkkw05Nm5oEI3voUKQlchh2CVD7/uapUTbdrHPWNrPeNuDvL8jEPjkQfhxdcVjCxBHGs0bQ+feenshs9M6ky6LXnCgioKJX9kRfRcXLkr2lKOj+fOw+CBPXHpRdNMOTHwzmgLxkoB0TkFEZwK7P9PEDIrWKysKr6pM1Um5tD1ZIkrWKhUaaprxD0//BZ87npMnjBZhFVpJl4TB/uytddT5GltP1TGaDuQez6n8M6rnkQv14cf+l+889YrOH/aJGSkJiMoY8W6NUvxHz/5gfhpwfQpU/WNrtcNLFn4AR76828xafxoFORl6Mp1aqHefuMlPPn4XzB00BD06ZmrcT/39ON48bknMHb0UPTKz5GOKZ1aWmusJODJxz/G43/7Jw4f3I8j5buwv2QzYqPd4r8XkuMlMskQ14HwqDmHJNIljZ8rX/iekXnh0kSupImSxDrs4iZoR6OMTxvXl6C1yYPczHiTV3HMsuDKew5R6peKE7nXsCjBCjNKt6YncVUNzVJ+XLIvQn6QA4pYmfhEkA9I1wzlhWOj2cdqyt8m4ei1C9KBo4NZBh1K+Ixb0sQvkZEJ12WkTKcQYQkXp6pllagU6lsqRpVKIrS/9sZbyMzpgYmTxqCxiQqK0IAo6YoXs72pAfvWLkeWrwmuumrsXbYUDSUlyIqPQVTVYexePB+BqgqkxUUjuG83Gou3IcHdAHuME9Gle9G4fStSuVQ22oHg1iI07t6JNCncKE8LDixfiCNb1iNHGoOtoRoHVi6DZ18pkqOdsB05hL2rlyGqshxp0rib9+5EyeqVSGhpRIw0RO/uHdi5YhFSAy36KerqdatxZOtGZNv8Uv5uVG1cjX0b1qAHw25uQNmKpWjavw+pUom26sMoXrEYrYdKkZkgQsq+vZKvxYhrbUBcnB3N24uwbekiJPk9SIy248jGdShevQop0kbipcOUbNuKoNOJ2JRUtEo5cfWbEZe0EsVMYl1Z9Sb3cuWk5gt9R1S3qIqdedvDw9212akyl11WHihxNR236ah7DVkmNyq9Aj41qwKGHU38M3wu7zQTDyMJkfo0aWsjtT/LpIUSRvLDNMfF2LB18xbs2bUVN3/+es2TWLfl+YwhFDRTR1BAJUKpNUm2bk6ClM/owj5CZ4vkJ0QcX1UzzU7FeYrXtvqhG5k0+dwrRHv2u1C7UKg7Y2zzx+ddubHc8Zll5pX+OJ1J3KX7G9Eif2k9U3TbnUNX8ahL0+7lanm1ICOAsQzvDgyzcxrYgDWAkHs+D3dzJmDFIwYTHf+MmfOYyVEIki61lx9rNDMBEBqIufDz9MlUHOUJFQj1FLlJrqTEHkAsX6I5pAjaC0SKToOy0c4jhROfBqTmAyni3pUi9St2OuYyPqsirbgFatTIzaXtmQn/bCIsVWGxn+10hKeiK4TSI5eElHg4OL/rbUe+hbDsCf6GPws3d8SJ4j8ejh1qR1hxdNd9Z9B/eBjhaT7VMCP4dwRby3FbDOeGgEPcpJpVSTG9hGRs81OSE7LmrbCAwoxHXS2E2+sYGiLL3oJ1z6vKLubWICpe+HuOy71D6eKVxHT2gS1GxmFVKHGMCF91xJFCxvqAkDPH+JEwopyZuqAgyuYUt51TcuqgsschgvC6ogNYsmwNpk0bj4nj++liBOadpNv25GrNZoSOaDJ38CgQvsDVaSRE3JJmkT1EDqmL7pBTwnKKDKYvm9VsE/Pxie4Ndf2cFB4WXzSHk7GzCzmUbLqamKvOwkduQ8oeiSkrKwExcelYunQFouzR6NsrS1mmtvZCWFedWy2EO4jgk0D4WFbHsUCutjNOovAZtNRmdUUFbrzxRlx08cX40T33wBkTg4BuL2PDMLA5qEIx0GeCNjtltiUt0sAY3kfvvauH/37vu9/FpVddjYC7FQ8+9BB+/8c/Yvz4cfjTn/6E3n37o6G2Bn8Qu6amRvz0pz9FemYWglTI2B0oKy3BL3/xC228/yfu169fj5///Oe49JJL8P0f/ADOWBlY/F74/S4IP43f/nohthQdwn/9183oT8V0CFzxyc96R3MJSTgCHkmrdHoRAMwSz6Nx6ADwve//F665dhZuvXVayPYUwVrsnASR+m3UUrHvtBd1O3SJRchTV8tB1IoBW2TBcstrF/4+IbSrS3QMWbcn2LgqJhq3fPlOPVPpe9//Gg4d9ktzsIHb1Zi1WBlsolsaULt1PRr3bBMhyIWExBTYJY+NtdVaDmkZ6dIW6tHUUIe9JcXYtWePbu9MSUxGbXUNmhubdEtXglC13Hv9AeT37IkhQ4cgIyNF0uBHjbQpllVqSqa0nWhUVFXCGS1hJCfC3dKMisoaxMQmIFWXr/lQV9+A+CQJMyEadXVVqK9vREpKOpLiE1FTWYVmbzNSMpLhdNhRXVmpslZqagacTieqq6pEwLMjXtLDtlhz5LB+vSYxKRXu1mY0Sl5c8fFwCtXX14ldqzyXsFyx8DS3oqnVi5bUNGSNnwBHZg6aOLpKfbcfTC5lrLMSBdqja7LjJGmJXO3ilbUlVhVG+sT40TDbEHLdJiB1hHlq+Q75py0fiJV53n2Ex3wsdC88a9IyYCvjcuyzuv2NCJWDheOl/VRiV6VSBJ8epNK0a7Bmpd+wN3FLLr9WSbBV8RG3TPHEQ4/MV1Rk0J7fIXXIGO/il1rF2s35Ruz98hcjDDBbML9CKSyZMGhiL5Xt5meVJSQnXOC5bNQQc2Uh1b6q5NBwJSz5WbysDJWuapS592Db8pX4/d0/Q64j0bzkEeJBoDSZ9DP55l0mw+FWUZsMZjZne9h0xjT7JB8OSQHTwXD4PpV9nuGakM8AQmk0wXN1pKRFyOeT0Uf4ELIibZyQdQ2hq6mRbixrOuf7HeY93Cufs0TD3VkID5L2SmJJIYgvfAhWdTjYV/UlDomMNdsI3xLpGyY61tZyVsGxn8ltT2oo8W1XIjy3nxas9LCszFhNlpJX7WoWnRAMJzxv3UXnwI8VRlf24X7ZUEPGY6HLfDDfzDBbD19PMhDa0XGnhhZBBMcDm84x+gofWRSODq0s/OExwjkuOgdOHCucDnEZTpWtntb0wrmLV8uZBhMKy7gx3GnnSUDDCFkxXx2fnjrMy1YZ22WIKqt04/U35ohskYprr5yJxFim31qVRLTnhTBr/YVLEIt1G0pQUnoYcdwfF5SZXgY7y11ndMwax5comaNtcDhdIkO6ZXqROztfJjM2caEamq7y3B6D5cIjLIbNEa1jbJSu6AhPsQUrR4Yf4FPjQuY5MXDRREDSnxAfi4ljhyM5kfK08DrqyLg2vIfk3SechTAS7360Flu3bscN11+BPvkpyqPrgg16aYOl36CtRRF8Uhy1UqlrnGKhh5y3trrx0isv69a0qdOnw+5wKkOknywncyRMrdfjxrKlS1G2fz969e4lzx3YUrQJRZs2o1dBT0SJH35tgAeRuSW8OXPmIDU9DZOnTEVDQz2efe45PdOluqoaY0aPQb/+A1BZUYEnn3oSEyZMwHnnnS9tTxovOTVpoEkibHN6ff7550XIT8Gq1av1EOEf33efHjLMTsQ+5A/YVTu8ZEkZDpRX4bwLCiVenmXi1WeUJbli5qMPSvDx3I1Yv2436mtb0KdfrnCsEp/DhZI9fjz3/CIsXbEP5UdakJGVIWkG3nhzB+YtXIu6pgBqa6RT+Hn2UxwWLt4icaQiIc6uOw42ba7Blm2lyMrJwKFDwJqVlZJPO958Yx4Olldj8KAeqKwC3nm7CIsWbcPatXsQHZ2MnFweTAcU7wU+fH8zlizaijVrNsMV7UJmRqphSllJHCRCxg6k6OpB+DBqXU8fzIASCtlaqRTlMCuVsrlSaaxZqcQlbXQn6ecirYC0o7TUFHg8ftgz81EwdhoSM/PQJPeO3F7ImTQdsenZqlw56LNhZ4MHrS4po9gkVNldqI1NgC8hDf74NNRGx4tAFYuYvF7IGzISvcZMQELvfqihiJaei/xRExGV3RNVFI8ys5E/bhKScvJx2BOFtH7DkDdmEhxxyajw25HYbxAyCkfDFhOPIyJM5Y2ZiOR+Q+F2xKFe4smV9po6cIjkwQ5PcjZ6jD8PCdn5aBZJxZ2ajbyJ05GY1wN10u6je/ZD9tgpCCamok4aR3yfvsgbOw7+2Dg0iIDZY9Q4pA4phFvy5bHHIHXwUERlZYkwGTpPSX44keqNTB5ao5xV9KF5RqPFdHIaa/81JtorSQfR1Wtip6ssaOZjddOJQs/bbuViphdNgZABww85aaOTRXv+jibLeGKYNHVYgSTpj4uxn92VSp2C5O2x6FSgXT9CnyqZniCQJtRqC6A6yo+DcGNNbTGahPFJckpftnFprxNV8mxNSyk2VJWgJQbIdKTAJf6apNHv9tegwuZGiwiNWz37ccBXA6f4jZGxs1XGUbf4rRF2cbWnGDvrD8HttMPlSJDYbaiU+Lb6ylFUXYJquwd2ZzL2VdWh1FGJpdWbsKp0KwaMHQWHzMPptlgVyzsuupfRQdLQINfdDYfh8XuQIuNdPTxolvDL6st1hUiLxFYhNuvq9mJb0wFUuXyo8NFFEMmSPwMtlDMDCZqbefkmmMwx53ldgCllyOmEjCfn+3CiXTjRXfhz8gCWX55f1xV1ftYhrBBZdtxhqGGHPdPnah9Ks8zd5NF5tiNfupgyEwdnCdYYytFax3/e8KWFDrBmbtAbvSfRTHteTydZ4R+P5IdEyYJXgholSY+yQHRkudHbsPujyHrO68mSVT4WyY9Sp3IJzYxKoYuhkH9T2sdGmB8NUo0yd1MBqT2NRFtLrSuNK4IIuovjND/rkXVly9LVQuF+juP/jEISQd6QaWISSOHmDsQfgTW6dUg/Ebq3ek7nx6cKv1/6JAcliXDNxt0oP1yGqy6fgdTEaH1BztU6JlWM0/ReE3dARn+bqovrm4E//N8/cLjKDZ4TVXHkCCqqhDeorsMRoaqa+jaq5LW6Ix0Rqm7w4qOFq7Bv/wGRcKIkHZUiY9ajprYB1TWGamqb5NoYIsu+DjUSZo2YK4/USfgerFq3Axs3b0NsXDwOHT4icdRK3A1yJUl6lEzclW1XY1crVFfbiO279mPT1r2Ycd5UxOkaDY6RZlxjpWodyZ/P2yo8jVPkxFzs3luC5pYm9OxToC9oWE4sWo6Jpj45BhJWKaplBJ8QJ1ipdHpQWVmJG264ARddfBHu+/F9ugojPFo9c8Xnx8MPP4yXX34ZTzzxhDTAWNz7o3sxTgTmH37/h6oI4dktVOB43B786Ef3qL/7f3E/jkin+dnPfoYLZ87UL0tNnjwZP/jBD/Dhhx/ij3/8I37xi19i4pTJ8Hk8cLhc7LnkztDS1IRf//rXGt/UqVNx22234ZrPfQ4BnjrP0UImcY9PGG9pxP/zPyuweTM/6X4DcrNNuokWN/DPZ3fjpZdfxaDBA9Da3ILamgp8/WtXYNasQVi+vBiz31iGJk8sGluCKNu/ExddOBlXXjkDb729GU889RR69+mBsYV9cOmFk1Bb68OvfvUH/OZ338KlFw+G9Cn85aEPsLd4G37/+x9g1fI6fP2rP8HY8f3Rs3ccRo0pxGWXTcGTT3yE+fNWYNToMdi1ewdiYnxSJvegXx87fv/bxRJvCbKy4hEIHsENN12AkSMHQor0nIQOF+z4vIhwwhVCUSLI3PKVr2LoiEn43vfvlEFOBlHhwM0+YRn4yWSLMUGEpwTx7JHB1yN1GCOyWKI8aBapoVECjBZzDN+VSztoEvdcYJYgvDh3lHjJtLNpiD3vW+TKt8bciuj2ms9i2iV8Li1t9XE4k7YhglmUMKg824hfUWsVRj9ARZO0b7vYBR0O/ThG0ONDNOMR981sx+I/VqQRr8y4Lf5WxEuanV4vPK44eGRQjBU3Tm+LpNkhwp+LH11FIrwijtnR4LfB6fciTtJDYdEn5RBN/9Kuva5YNAXtiBYGn6Jfi8TZKOXAc4t0m6n+hYHdUJ7Rjoeeh0pdiMZ2BQ+hk511c7LgbB7muf2O8XVI0SeChnacNIbpz04AaU+dhsaAlG9migsv//NFfPDua3jjtX/K5CRtUIrtjK1U6hLdy0EE5zLYVqQetSp5lYFHxoIjYv/i9gV4/Pl/IsYZDWejB5dOnIYvXXcr9rcexOOvPI/N+/bIwOZAc109bp9yJW6f+TnYXfH45fwnUbStCHlZWSjasRnu1hZM7TsOP/3KD2VECqIK1fjDc49gzZ5tSI1JQXSLDT+4/esY1qc/fvPIn7C1cj9cqbHC+FXg8knXY2SfCXhpzetYdGAp0hKSEVcbxIToPDx976/12z9cqcRc2KRTkfV2B30y1jjwj/mv6lco7/vhD5AV2xv/lDCWvPk+fvOT/0JTTBC/e+ZhHK6vgk/6V01jC+w+G+6YdAnuvfSLUg7SmVRBe7rAAjb9ktsUZEiUURQ4UgXsLdmHxiY33G6/zPMesbXcWv1YK0fzdpRdSIls7gyoYO4K7bYdXHe4OxFMqoKIkUk7Iy0FvfIykZdhQvbJ/OGwU9g4e2MQ027Sb+YItoDTWWsRnBmYGZ51Zl4QsdasFYoRRHBG0IGPssxmRDt7CE9Dd+IV9+KMPcSMb2cntVw9Sza7TuTKl177EInxUbjpmovlgU/4d3kgMgZX+4anhv3YSCPcggdUNQF//NNzuO32WzEo3/R5guuE2NPDe3vnPNEt88v5/RePL8GQvrm48cJ+aJQoeaQM3VsUXqIWzKxoiDMqw3l9/mHs3bsNP/zqDLXjLEUKR1dhMQwrrTvKgMeeeB4//eEtyODZyHyjInMwV2Ub3yZWPSqGW9LF/Nbc1Sgt3Ysrr7gIPXPSlbXgSxs2RzNVWyVDWKmO4JPiU1UqWUwYv+LmEiH/8OHDuPfee9U+MzMTZWVl+MtDf0Faarq+VdSmQy/SMB7684NYsWI5uNCK7ma/Nhu3f/l2vPnmmyL8BfC9739PzcuXL8cDDzyAnLw8+EVot/OoeCLUDme/+iquv/FGXHHZZXj0kUfQI79Al9rZdEl5FFq9TsTEAPf/YjnmzFmD888vRHJKszxrwIwZ06WR5uB//ucfuOW2m/CFmxLEPfA/v9yC/fuX4E9/+gY2Fx1AXYMTV1yaxVjxn79cjbWrFuOvf7sbUcIHfvu7f8HV11yKb97aX59//LEbv/zlX3DfT6/HZZf0Rk098I+/r8HO3Vvwq1/djk3rgDu+fC++8rWLJe+z1M+rr9fgiSeewn/91w8xeYKUdw3ws5+9irS0BNz+pUvx7W/8L264/nJ8+67B6v5ch3Z1dnxejqlU8sPhkAFWRgpWJd++sW1otYmFrlySdhIt5JSRmlvZeOgdWzvP+fFwSag4tAdtShSPAmxj4taISOJfwnY6zXJKjufiTQQov7g3cfIVNRUYdM1VU/oVCb6tFRu+C+ReZMZHBSWvVIqK/ASfeOIn9MUoaeHbhygR+sQXlUJMh4TL4ZLKKk4VjIdxOqJ4b9OvBDFse5jSJ4pCqYTPL7x5xA3D10Xu4oYrvfSe5UPH9BN2pXJWzZzR2mDyIR41X0cLTJ3dhqOrZ+F2Bsams99Phu6EdnRKugJdCWmBkaQspX4yVKn0QkipxO1vn4ZSKYJ/GWhjDEqfboHNEYMParbg+39+ADPHTsXXLr8R1YfKsXrdKlx+9Q34v9cfxZ5N23D3N7+L6KwkbCregTefeAVfueZWXDThYvx0wYNY/sHHuHb6hTh/1kwUH9yPVx9/AbdccQMunnQpnljxFD74YC6+cfs3Mbhnf+xavwXxMl9NGT0Oi9euREHhIHjiXZi7YwUWzF6Ni8dejmCWH2v2Lcf+LXvw4y98G6PiczAxs5eOXeagY9NFOAZ6Zcyqk5vdwUrc+8DPkTuwF75ww+3479/cj2vHz8CPLrwdv33/75hbtBI/uuduJEbF44EnHoQjJg4PSNgTbFmqoDKT/GmCjIsc1/w2h47hFXXAlu1VOFxxWJ559Lw3rl3yUakk4xzHSY7e1nhn8qe/eh+qMIWuepZ7ZelDYyTp2CxVZ3srzO6BpR20cdsgz6kIIDczCSMG9UROmuFpzNeCmKYzD5NrkybmYk+5D2uLSqU8pQw5Fx2F8DI8eRy7TBlmV3k2qZNJMXS1YNkfKz2WPSncn4Wu/BwP4XF15fdY6esMy+/xwjrat7IjhNRJrCOIqaP7Ii/dJS2e22AdWnLkEyKI4MxBWqT2X6tl8so2d7rGKivc47Vjy004LPdd+RP3yvtxZmt/frwYTgesktlRWoO3352LKRNHYsqYQfD6vHDyxYE8DOiYQVck+tAZiLOCmIHqRuAPf3wMX7j5ixjQL16VKRwHeBaqbq8Ws+WT13BQBKBbp0vCeOgdDOydgRuvmoj6uhY4nDHgx5GO8hQG1ii36nMedbt9iE9yYPa7Rdi7eyu+++2brPUcZtFGN0FF0OZddXjqudn42Y++gvREsRT5jV9ZZb4JUwrc1s/EmcDXbNmPBQs+xoUXTMfoof30S9Vc7cum2D5NGv+nry1G0M3tb58Mzc3NugKJnxCfNm2aNChTgRbjxnsyDTzPpmfPnvjLX/6CPXv24O6778aIESNlPpRGKkK7xWuyk3BVxRuvv45evXphb3ExPG43Lp41Cy0tLVi6dCmGDhuKxYuXIDc3DzNmXAAnewkbE1sTwxGqPFyBN996C3W1tYiOjkFqaipGjBypwj+1xWyk/oANDunLixYdQFFRCXr3yZWwvLBL7+xZ0Ae7d1Xjow9X6/k2i5buxfvvl2HJ4pWori3HJZdegH4DkrBxcy3++ugSLFhapweIsddeMHOSKpXemjNXyqUHJo3JQ50MBnv2NOHjuWtx8SUT0LdPnL5dXbr4MA6VH8Tll4/WrXSLFq7Ct+66Ab17R+tSx3fmFGPFynU4cqQa8+aXyvNd0pnmycDgwPTp4xEXn4T58z/E/HlbUFnZqoqz+Lj27hQq1nMGHCAITZcwQ2b7mxOvvfk2MrPzMWnyWDQ12XRgMgO+YWzpzycGr9hToURZgPet8jQo7YfPuXrJQ7NUahRHKxmoA3qV8GTApLuA02wxcKi9DMZyUdFDwvLL4BOI4tsCXs3+ZX7Kn8ogfoGNdnTHt+FeMTMdvGc6+Nwj7uhHSZ5zGwYbto8k4XC5qp59Is9b9TlZPglH0uOWxHik7QSlDfMrQnQfZCFIWvzSmHwkccPnAYmLcaqQw9FU2jSVH/xstjloOwBfiNgOaMe0MP2qXAsRn6nCTa/txHJvJ1P27dTVs3C7cAr3dy6RFB5/pQy0fbExyRgVH2vHtqIt2L2T299uMOUr9tbKhQgiOHlEoUlGBp/NhdeL5mHzvt34xVfvxhhbFvokZWPIoKEoRyMeffsF3HzR1bhp0IVIi0pBXmpPLN2yGvurq1A45jwsLF4MZ4MX//mlH2CArTdikxOxoWgd7NFO9Bo4GH989WFMHjwG35l0C3KjEjAmbxB6yVzgckRjaMFQfbFTg2a0xtqwYUURCtJ7Iys/Ax5fI2q2leLu676MsfFZba1cR112lpCZXcUrI1CSpK05Pxovrp2Htbu3INEZh+/c8FWkIQ5vrp2Phuggbhh1I7KRig37NsDf1IIbxsxCvAxYPAi0LYLTAHM+hV3H210lHixavBH19U3o3TMPhSP6YJzMu8MH5wvT2Qujh/VC4dCeYi5QGhWiwqH5XdOQHkK85hu3lvmYRDfh1JWbronhjhTq3TcXWZk5iImJx7YdO1Cydx9SEjNkPo+W+dCMV6ySMz8SMQaOfTJFinHh6r1Ysnar8Fs9ZMrmbBieAuPWcs/x0ly7R1RUdWWvJJORMdNNJ+Jf231nd9b9sehYbiz/3SXLj1w1rZ2fC2k6O4dv3VsUELKekXjfTgxcX7B1JuFY+EGMQMCF1Wu3oCArBQW5SeJc7IVfMCrUCCI4E5CGa0HlLsp55MMt4lj16ZIZl+Q3fLiyoHY6s+kt+V4LXTk/HRBRV2XP3SXl2LVrLyZNHIu0pBh9aaEvPNoitvjN9pRYKw49InwsW7wMY0cNRXZmrH4wymnni+igXvkRKYo24duwLXI6vBKPV9w4sHLNNuRlxmFgf+ERaBdt1xfsTocJhx/O6kwOsafuy+YIwCm8QJTIWXt270ODyMNTJhWKG0mHuOMLcX7oiXOHId6HE+34nNJHFKpE0F23cSumTx6j29+CQZ/KJ+1lQJIalSZnvVhxRCfrWclpKcnoI/O9PBZ/+ihMqWSB/iM4HThrSqWXXnpJlUrnnXeeMj5GWCPTxwkvAH7+kNi6dStWrlwpTFMMBg4ciDGjRqs9OxTbA71xUqUC6MOPPoLP60dxcQnyCwpw8cWz4JUe9fIrrwrjlY01a9eK3cUYUTgy1OZEOJZeyzeXVFLNn7dAt8j9+Mc/hkf8zV+wAFOmTNWzmuiBX7KSpGknWbZ8PxqbW/HTn1+DGz43QPIxGD3y47BjWz1WLN2MgQP6Ij0tHtGuIPr3pyJrIoYNz8Ds2bvw7rtL0aNHP8QnJuPA/oOShiAuu3w8omOBOXMWit/emDQ2X5UAlRV2LFqwHrMumYBePV2a7rWrm3H48AFccmkh9pW4sXDBElw0qxA9eieo9nXJknLslgFo0KD+iBWBIC4uiEGDCzBr1jQMH56CkYVZko9YGWwcmLdgGbziZ7Aw0TFO08lCVXHOINTvTTcPUyrNfuttZGUXYNyEMWhoNKMvNet0r4NFyBwOK3+88hknBl6FLTMmaRO6fUPccDCnFVcksTVyMBa+TO8t/+aH9zIpUdEgHo1VGHNGt+qeARqzplOI73Cp2OGfjK/Gj1x1MGxPnD7Xz+zzXswahj4y8ZqQTZhtxLTSnRD9MQ+20AO1l7Sq0kvseR6KkgREBRRfH+jhwDKa61VIvLB4GL0Sy0zvQ88s+39Z0ov505qSTMdG2/Sctz27tkeUShGcNrRG+eCVNrRk92qUHdqPO6fegMRWrmKURif2Jb5KvL9oAa4aMxNjMwrQqCrmGGzdtwOlZftx3vQZWLd7DWyHm3DNxAulXwdQiwasXLoMyUlJKBwyHm+vfB8XDRiLWT1HwNbYpExki82HehkJnpn3Ap5943ms2rERm7duR7AW6J/VF9GpMahoqEBD8UFcN+kCpDhjJF7TzsNbu2XjlLTqQeGpefhw3zpsX1+Eb193Gyalj5CnQZT5a/HWqgVoSfaiyi95emU2Zg4di4sHToJLxi9+OKNDwN2EjkcdQBsz3jG8vaUBLF22FgmxDpw/dQT69oxHUpwwnuJKv1JLHzIwej0+nZ/J3HPup1JKx1WLxE0HantGPxJfuNvTTDr+SEJT4oGsjGhk5/REfW0TtmzajhRhnFOT46S9SBo056dUjCcNljKni807DyEpOQm3XTEIwwZkYET/DAxvo3SlEf3TMGJAOgqFRp4EFUp4x6SB8vxY1OYusxNldWFnUVjYp5W6SJ9FR7ntKl3h1Nl9hpRT+5U0InRP9yOEhg9MRVkFkJ+dhB5ZcTpncVxhG1EeJIIIThs4KoSTaWEcl2SIVB6SxHGDVw7RbIjW9UySxc+Gx9kWL8Hk6r38aPKNhbrhrbkoLC+nD5xDgjIHRuHA4TocOHgY06eP1ZU9LD1LqdSlGlgSxueE2wMsXrQCo0cVIj1dhEx5RhmKKmaVoyUQqw46E+Ohcppfs1u6Zjuy0pMwsF++FIPIYQ4RGNVNeCkcB+SLRXjevvsgauuqMHE85XANQNA5D5Y9rxYRbDU2HKltwbqN2zBt0hjEx4gVt79Z7tQp1ZQ0sq5s6ou74DaKH/I/A/pyB5JRtIcvUGnHURYRnCK6aJ1nBlQSRUfzbdrRUeoEJzhw4AAefPBBVTxdetmletbRrt27tZEo10eE6j4hOQGjCkdj8ZIl2LZ9O0aOGKlL8/r2648BAwbi2WefRUtzC4YOHWY8aBSmwdmddhTvLsZTTz+NfuL+kksuxfXX3aAHij/26GMIcO8UV4HwEorPYXcLNcDtbtFtUw2tjapxHTgoE0kpwBVXzMB//ucU3H//+fh//28avnrHYGUE333nA+kESXjg/lH47x/3w/ChAyUNXl39RMHfEWVHS4NwpwKXdILsHCdiYqOwYf12tdu7G3pOlMfdpMxtlM0NV0xAz1EgEoUx7ts3Famp0bjjKzPxP7+8EPf/9yX41f3X4HNX9UZaMpCaCHzl9kL84v6L0avXAKxbt1kPCjcwZX9uw1QCBQ7Wh1cGTb/fB7/PL4JAiDhgUHPCbW5yH6VXGdS4BIf1SWWi2vthI/HcLPFv41eKaO+T514ZcMS9S4YkBytP7OwSplMK3imDqkOI29CoqLHetdj0XkgkDBOvhClmdUepQ+4Zr677FOJhezxviVvyHEK2tvSG0kW/Ej/duIQcEg63wZnnJj12xi9X5tHky1yttPA547FruDL4yj3rmWUUCIjQJMTB1dQ9t26wPXmVuMxWyeuTeylj2vs8erX8tpkl/H9VCkregywnKXuWL7fE+qTNsFnwsFwqk8gAmLYZGiQiiOAUQYWyQ/5ieaaajEN1aIU7RuYGW1DPIeBXKl0yV9Q1NugqSLdO3TZUlR9CfmISUhAjY0IUHD47YoNOJMi9+QKcuBN7J6KBFqC5lWslpdfHOmCTMGPF5WtFH+Gl+e9g6mUX4o4vfxOfk7lQW7SORYBTmMlmvweBuNCn8dnsCbma85Tae4En4JW4XFi/dy3chxsxqPcAzJ3/MSpQJT6jsP/wIaT0yEJpZTne/fhj3HLdTbj9yuvEj4xjDEEjPjWY0cwio1yh0vxANb9kt1oY5GRcOWs0CrLtSHAFEOsIINrml7hlbBUm1Wn3Iy4mCjFSVHw55HJy+7OM+05fGPFe5geLHNZzCcchYci9k29p+TZXr6ePHHYp/SiJT9IbLZnMTbPh8ktGoEdBbyxYsgoHKqgeJBuu6n8xnXlYsegXgryNeh9scSPY2qpECScobQ5umYc8PjPPCpnlskKsJIvUcxcU7uaUSQLi4K3U2dyV+7NN4Wk6ddKtJ8oDhPgB7Y8sRGFn3M3CM1EYM/2WI8gn6G4RRNAFOAKxjQnfJHwnZxC33JWLvLF8cyXmzN+F52avxt+fX4zHX1iCR55ZgL88NQ9/fXo+/vbcQjxyhunR5xbh0WcX47Hnl+GZ2Wvx5sfbsXpbJQ5L+jzSGfQlK8clgpqHkLxKFpp95cz1F8YpfTjUV7k4oqmpCTwCmCmwZOSuUmAUKaEP8RA0iKDE0CwYK/GrJDfHJAkrlGe/CKhmJ4RAwjcOwsFQwykcQRG7TAp45dfnCLNdrSv3RHhCDNqyHbJj8vWqfAf/BOLG7CRgWkNpF7s4SXIwYENzk5GVAzLH60Lo9uAjOAMItZgzB3YGktvtxjPPPINvfetb+MY3voEf/ehH2L59uwiowoQ5nbpt7R//+IdUeJRue/viLV9EUlISHvnb31DB8w/CYARiYNz4caiqrER6WpqugiKSU5IwcsQIbNmyBYMGD0Z+fj78wqSHvOibPG+rV1dO8ZPtd955p6Zv7LixuOLyy7FixQosXLhQ3VJpYSEQqIfd1qzMJrurS648MG3EyGjc+qVZ+N8//Rp3fPVJ3PW9F/H9Hz6PF18pQmoqMOuiiThyaC++9fU38ON7P8Ku7asQH+eFR0ZaHvg9YsggvPfWPHzrrsexcnkZcnKAkaP64p//fBVfuPlv+OPvXxKG0iOCrDBp7DxRIhlENUuZiRAitccKvOqKfMy8oBA/ue//JJyX8K3vPIlvfOdBLFxWiu07Pfj1A2/gzq//Az/4wRuory3HVVfOQGaGyZcEFrqeq5Ac6mBBxZ6Nu9QQFwckJbiQmGAPIxsS4qKQGG9DoowmSXE2oSgkh8jc096O5Fg7UmKdQi4xO0P2fG788Jog4RgyYdJNivhLlmdWmIZ4b8JlvBZpPKGrZVaKtUk4Vpra00U/CfFyJem9lZ72cOg3OeS3PW5DdEs/VvrMPcNxCrnkXvIqZuaXeTf5lquQKYuOlCwCZLIInnSXHC9lHSPhdCAHEqQ8/tUoUShJr8yfCOdy5RfflKQMKXDaZLLlGGA+rRpOEURwanAJ8yPDGnr3GoAjMj+9uWMFKmTs29RyCK+tmwsHYmTMTsNbi9/HUncZqsXtvKa1MjcexNRBQ5Ao7c/jF2HS5ZA5wsxNPJnN6YyWeQyIlRBGDRiBOcsWYk7rDpTYPXinZDle2T8fO47sg1fa98jB45COXOyvqNATV3jqnCMqID59aHJ4UYZmHEADAvoVKUFoTtXWL3MT32a2yvi8D3V487XXMaPnCPzga99C0f5deHPxBxIOUFpRBqeMJ5OmTMGll16OAZL2Fi837dp0m7HFz58q6J3EFDJdVMCtXLtHyiGAyRMGSn+mvQjfZJjVLddPiUtlyq1XBbQz16PAjHagkD2hBUGivRTOUW5PH9nsfvBkHB6EOmHiADhjE7Bld5lumw5yOYDmwZTF2QC3KTi5vULMDqdDyAm70wWbw6HnWNocUsPcci5CigotHDv5hqitzBjKMaDPrNycLIUjPKITRXom0N30nQaikMUrL/KjFz9V0abv8p5cldpHEMFpA9uXR+YCGXmjHPpCZO3Werz90Tpsk/Gpxe1FjPBVWZkpQknIzU1DXl4G8npkIDsnDTm56WeUciWOPIkzKzMZsXE8PsSDjdv34a0PV2D99ip42CXtMkOETUSqohcBkvIX+8yZ6TdG2WJ4SiqAvTJvy3weehK+Er6rkSMcep6szBH+0DxtzlWlbzOzHQ+MgVMMQZWgmSUtWGZ1FSIi/D4snVZAEjnlegPakULMQ7dh/LEODIySy8TKfHWM2+SXCxFkzgnJj3YKjxGccZyVg7pbW1uxaNEilJaWSqMQhjcQEAEtDjNnzpQBJU9XLzU2NmLjxo36eX8qiOiOSqeqyiqMHTMOqakpVnsx7UvaR1VFle6Z5FlMw4YNQ0JigtqXlZZhc1GRDB65GDp0KOzCzFCZZPl3t7ixYcMG8FyZKVMmS3pMZz506BA2bdqE3r17Y9DQQTo+Mio20KItlaiqbsbIUT2RmqyhmM6OaLS0AO+8sxY1tY1wumJU6OzTJxNTp/ZDfS2wZuV+lBSXIjs7E4kpCRKsF8NH9IbcSh792LqlDHX1ZRg/YYDEnYWKI8CmDSWorWpCikTWq3cuPN5qXRVVXeUXPyUoHNUL2bn82KNRLu3fDyxbugnNLa2SLxnU0Yhx44dLWnOweeNuHKmolXKwo1evDBSO7IW0dNPBNH9qOnegw40kTNMldURhxeZw4o6vfwMfL1iG82bMQm1trbSrZm0nmgkBv07G1Uzdyo8yXQK9hALoBMv2bJXPmYmv69AY17FzTT8WmQmJYB8xe7uNRdf+P9uwcm3QPgXrsm3Je1J8DLZtWoteBbmY/doriI6O1fGsqxWYEUTQXZBp9QvjuAvN+N2cZ7F+81oMKihAdWk5chLScN/378PGg5vxj38+p29+s2RO2LlrB87PGYh7b/gy4pIKcO+cB1G3uQR//dF/i1Afh4OoxQN/+D1yMvPwk9t/gKLGUvz6sT+h3taKXmmZKN1YhOu+cBN6Du2PP//fg0hLSUdyVhZ2l+6Hsz4GF46Zib5DctFsq8Lj/3wWvXv2Qz8erv2V7yGBK5+kc3D4JQPLnkJFVI0wsn+d+xy2r9+G+757L+JjMvB/8x7Bkg8X4Q+/+D0+2rYSf3vrWfTLLEBSix0V+8owKL8XfvOd+9DLnoIkHgZqiuSkwH5qiH+m3zKcnWVeLFy6DlPGDUJhvxRh1D0yR8gTmzkX70QwDGtnMPRPG4YpDwQcaBb5bUdJPTZs2YEp44eib168rqJmui063bDKmwKMSyJ47b01aGpuxpeuP08FMg6HXZUcYc0n3QXbWASniKBP+CKHjhmPPb0YE0b2xsTRBcLbCnMbOnLi7MBqMRF8eujc8c7EyOCBL+CW/p+AJk8UVm0swdZdB5DXIw+DB/RBuohxqXHg7PGpgyNovc982Gjj5l04eKgMwwYWYHxhf35cVWcHSw9BHo/t13yQ5UyACiDhAWQ85/w0f/FWLFq6Cv/xky9LrDKSioxqF/6AY2fnXsRapB2vpMp64Pd/fBC3felmDO+XpbyFvkThQCphSC7EVdewgavxJa82Fx7426sY0b8AV188EQGfV18KmFLrqt1YsVvwiczqgUv4kNkyN5Ty62/fuU3sTTkat53S0dXwwDRLeWwtrsHfn34FP/3h15FJ+Zs7NDiPqyeWkHkJpKHKD0uTTx55dDYKeuTgmiunSFDcoSHPZTxsh/F/VFrOChjvySK8jM9NnBWl0vHg87Gig7payQLvSW2CmlG4GuVkeGo7ly+fdbajX9pZZPm33Fl9xLq3YNlb7sOSEgh6qcyWx1RgHHuQ4YpmbffHAKMIb8p800wbfrqxK/Axi8QKMty/XxhLe3sRHhe6aovpP07aPk0weSx3Jk+V3UG/LktdvX49tmzbJeVqk4FPZgMhdUP3vEqGaLaUHsdHuBurkv8Vcfx8avEaYwdYo4LxLX3xqDLtWtz6rENzJHnX1bTGqODh57zhJ0t5EO3QIQMxYcJYOB0uLav2NzERRNB9sH1xvOOQz22o9dKOquDFkl2rsX3vDozuOwSTBxRqb4tFHHZ7D2LF1o2oOFKBoX3746K+o5CJGNTK87XVexGsasT0AaNknopCg4iSRTu3IjE+AUN6DCK7j73+aizeuR71h8px/ojR6JWZDwdc2NdUjmXr1uqqknGjJ6CipAn1FW6RO5sxekJf7KupxKaduzA8uwcu6F+oq47MV9HI0Jl8+CUnLVEBrNy9HnnxaRiVO1jS0Ir9qMTKbduQVFCAx958HikFGfj2ebdKbvzY76/Bf/z6F7hj8qX46cW3wi5jfceJieYT9y0rDUwNxyV90SzePpi/GS0+G2ZOHYZMEWbIWHKrACGstl67QvditcDIzjasOG3wSgOqbQU+XrIXrqgmzDp/BGJC2ybC+YvTCau8OyqVWvCl66erUokveNph0vqvMkZ2l2X+NPPblsSQUokbQB59ZgkmjuiFSWddqcTECLFv0yRGUzbdK8cITgfMC0GOrabsKbuc/vbJ0ZdzD1f8rC86hC1bt2Nk4QgMH5whs5TIODJWuWRQYvPjy3wHjxIwXuU+ZDidkMDDWxnjUplCDeaFPI38ZP623TVYt34thgzuh5FD+iBe5CnKeRzKTJ+ncoYjKn2cbrBv8EwluyqVFizZhsVLV+Fn992u/AGPYbDJvNXVkEKrsCyhKqRUuvWUlEoyi0tF8Eyl3zzyuvAYebhm1kSRLz3KG7AMus6/FbsFv55T7HLF4LV312Bf8Q788DtfbEvnUeCDrkB7Se6W4lr8/emXVamUpUolH4Kq4DMejVLJhM36YiqZy4ceeQ0Fedm49upp8Prc8owfeHKGlSN9hSI5q7DiJfFiNX4mzEocn4XM2u7C0ZaBcw5nTanE7W+MKnyi5RlLhNfrVXvruUM1ohxkAroFzS6Nh4draTmGpZZn6LDh8tPyXIWjz6VuuKXOJ/7UnhMn7a1o2+rQrJjq8Fye8SBvpqEtnaELB0AecMZkcHMBB2im16FaT8bXIm782jZ4ELPD7oTT5ZK0CCtPjU+ogehBaTz7wsnzpRzw+OS51y2PTHodDqeEFdB8MW12CSeKn4kTv06JnIoqr/jhOReaTnmikDwzLk2X2PIZtepMI8/GcUhYOrhIj6Oyzmhrz3ZH6h5YUpJszVv4BBBBBOcK2MvY2c8ckxHBvwPISpDIHrEVeXw+/UqkX8ZunkxBe56hwzWpVNo0BIW5i4pFvNwLW4WApwlJrnh5xiOTAnCJD7J+DMucbCHMqNzxcG2uzK2z+cQmWt8Uc/sUT2wKeMW3zEc8eYlgejhjLVy+H+7GckybMhgx8XEaChVV1e4qPb+QYzSVzfzTYVrmPZ75lhvN77wFEUelkzznl+28YrMZlbjrgZ8id1ABvnfdHepm4db1eObll3H/zV/HrYPPk1CYk3B0r38xfnPl7Cxlw+4p3ma/tRQZ2Xk4f2IfFWr0wNGw8yc03caoCL8/caznAgKaZm5sWrCyFof2b8PNn5ssd+RNjFCkBXGaM8M4Se1KpbVobG7B7ddPEx5KouMB8xopr4ThlzheWrxVZ34wHDr/d/GI9icPerLSw3CPFecpBX5MHCueswHNipK0d+H9qFR65JmlmDiyJyaPKhBrY3+2QCUvhT3i0yuVf19wTCdML+AIaf5OH0zIHL057xQf8mLu/GUYMrAXJo3tjWiJSrfEyRzET+OzfVKWoWzXBgZBOo3QIMOySSNfDOr2ZEkLhXW+n/ZTHpL/pevKsGHLVlwyczL65iXKROiX9FL+pG+WoobAm9MMlly7Umne4q1YsmwV/vM+rlSSpyejVKoDfv+/D+G2227GsP6ZOq51VCodO/084toolRz47SNvYEjvbFxz6WThETywqVLpWBVkhWldw5RK763Dvr3b8cPv3BJ61gWOEWwoySiylEp3fx3ZSWLPPf1hbYd5ssqA4wzbICXcBx95VVcqfe6qaZKeVpWpP12lEuuB7YicikmxTeX7E4Ouibakn6M4qyuVrKg6T7am0Z+4qI7lrrv+Tx2m8sOhWn+BmShNI7FgHjFNbKgWM2X8G7PFKJMxp2CqjwTHGrQsu872Aita1b7QP2G5s6581p6+9rC6CO8cgpajkBaXQIUovuIQmNSbPKk5lL1zO0fnJsJbRmccuzz/tUs61PQ6MCQE+y7taa1fqooggk8Aa+Zge1IKdUYyHF5yu2JLJjw0qagjnwiKfCnCz++bFYQkOqGwQEi7NAaxDKhbS4D0y72XgqaY+aU2/WJMqJHzZQzj5TJ3bgtYsOIQ/C2VmDFpENISXWgVxrLc6cFdD/0/lB45CKfLCAd6fBD7RasPA1Py8F9f/T4Gp/eAzedR5lS4ONT5PWi02/DunmV4dt7rqK+rRbQvCqkxKbhg7DTcOf06xPtaEc28dpjLrbmye6CKhaXglXSx9F546SMMHDgE54/JD4XCEv9X6rdeEYq4PTwGK3cAK5Z+gK/ffomUozySyjH8SXgLOz1giKR2pdJ6NDY34/brp4YplViVIsJSeAuZyf8QfLHl8Xh0hXpn3o1u/LpqWwQDviwMgwo8ndwfC1YYXZ2l0VUYVtrCwT5BML3djdfCybo/7ZDsqxJV+n6L3D7yzDJVKk0Zla9CGb/MdDbAUnVLWrhNk2niSnw2CRY3nx1d6hEcD+HNikZLWXc88MvSHA+5EjTeESV1wFcNpxOUc6ReJXEtcl20Yi8OVVRj5rTRyE+3m5WtOvYy1tMb86nBanlCnP947o7876sG5i3bhIxkB2ZMHCLjaFDnSeh4RjpT6TdKpYCfCqyQUmnFGvz83i9prFywcHIrlahU+gKG9c/QeqE/VWaE+NdjwSiVZN4Q3uK3f3sDQ/pk4epLpyDgdcPm5Al+x/NNUCqjujIAt/AL0c5uKpVOgKKSGjwe2v6W0w2lEocatjkqlXqGKZW4aIMvldrLkb5IZ4snYD2bRSnsDX7uupGUatVImjgu8lsKzANZttD6Gt2l5JR7ppL1w/M4+NJIM9yWl3MDn/r2t39dWI31eLV+rKK33Hf1vFNYlhO1Dncf7u5Y9p8ddCwJM2wdha6KK4IITgVddhOK3O0PPps9KYJzCdaQZV2VtSG3QdCSjcwi3ltEdPWM5hPB8h+OcDtJRIukYe7yw/A2H8YFEwciNSlG0hVEpd2Ddc1lqPU2wSFcDpmjKD0YWhgg4ZcyA7EYmpqPxCgnzHqgdmatVdw2C+e0DzUoaTwg3FMABbEZGBKdp2uk9D0oFWMd8mBlsHtgD6XKjEwlFUtPPfMOxoweg2kjc8nKSWra0/OvAa8w/F5h+OOwagewdOE7+PpXrtCtGwpqeDTL/Ol+OZ4IrFlSu1JpQ0ipJAIIoxRhzIrPYjGpZOH5mnxbTGUS7blKnYobrk7nc7fHrauwXfzskYDPqUjiPd3pyvLjgGGEx2ehM5vblcLnRG46Pz8RuorjrILjCKUVu02VSn97ZjkmjCzAtLOoVLI+kX5QBN1HnnoTlRXlKqjr15tsXHnPHtt1uZ9sef87gSVjtS6+iOCZsSpsdoLhk0WAddjR4m1BVlI0vn7bjSjISQ31U+Puk6NdqcQXEm+9uxLZOT0wSdpaUmgr7rFxMvXc3T7FMCnAU9lgVudYPjnHGEWcuNE2xhuhKBv4Ie41W5twcN9WzJo+Apmc9+jGettjuT3tYFpl7vJF6a4bbn9buHw1/vPeL+lTKpU6KkPaQauwXLRtf7vtti9iWP90k3x5oP1JDFZOuoJRKrE92fDbv72OQb2zcO1lU+HztMDh4vpmK6ZjgavVWNZ+eGTsjnHG4JX312H/nu24+zhKpWOlieODXdK8OaRU+o+QUonHn1jb2AnWr5WycKXSXx6bjZ552bjmSsmDn+cpcp4Jb430RTrTfIGVQx2UhfglXamrJi8qjlRjz55ilJUdQHV1DZqbZbQO2hCfkISEhHikpSajcNQIZGSkIsblQFIs14yLEwmA+e2QnXMAEaXSGQWL9ngdsDvoXD2fNLwIIoggggjOWRxvyO/OM8su3G1XdhYsO16DlDSEuQ5E4ePl+xFwV2LGxIFIS4xXJ25hFvlNGuosLPbIIvI2hs3z64tdXQXVab5qFmbQZwuIf1foCZVSwoYKE8UVJe0+GGJHv91BuFKJCo+//+MtTJgwEVNHZJNdlvDPMQ7sVMCisRDlhV+Yd7szDkuLfFi9/EPc+aXLEW+dhHvWlEpcqcTtb0crlQiymVQW/PGPf9Qv8/7nf/6nfpn35ZdfxhtvvIGqqio9IqFPnz74/Oc/jyuvvBL79+/Hgw8+qB9z+c53vtOmaDoWGAcVT9b5nPz4C5VSycnJKiQRFrt7PKWSpeQiGhoaVKkVGxt7wvjPOTA7lBBDSqWHQ0ql6VQqqfL2TPYFU/98w86FYjsPA/f/4TFMHD8OPTKTRRCyyv9opZLVVqz6iOD46OoMUVP6hrhS1R4dh4rKKiyf/y5+9sNvoF/PVASk89ocR/s9NQSlqUms0s/KaoC335mLqVOmYkCvWMRI/atap4t0niqYv/DWER6y5jnII1U4Q7GNWxp2zlnGJ920qVesgGQO8kq73HYQWDj3Qz1LqGcOD/CxZjrjq2NspwtGqRTwRUmd2LFwyTYsWrEG//Gj2zQHuv3tGBpAzW/oSmo7U+m2WzD8uCuVLFN7fqhUMopgO37z8GwM6pONz102FV5Pix7ncmyY2FmyzAlXKrV6WhHvisNL7xml0o/uuqUtRjaV7jQHljxzTaXSE1ypdPfXkZPIYY1Ktvbxi/EybN3uLeD8z1p/6NHZ6JWXjauvMkolHksTnl9TBqT2sE4/JHxLAyS5cUsB1Tf5sHV7MZavWqX2mVnpSE1NVSWS3c7D2h3weHwyJ3pQW1uHgwfLtf/079cH48aMRHaGU1NsNigFJF9nMv0nh4hSKYIIIoggggj+XWFxACFeq1WYnlbhURatqoa/9QimjO2L5ASuPAqx58rI0NAFNAxqFSwmJ5yBE1h+w/ljueeHGLjgib66Zp27B0upxK0eXKn093+8jQkTJnxGlUqdWbNQWXaw9gm/GkCU3YUVW4NYunAOvv3VqxBr8f+q4RF/usVRKBTEJwWTQDrW9rfO8g8VM1TsrFu3DrfffjumT5+On//856q8Wb58Ob797W/rKqRnn31Wv9hLBc7999+PFStW4Le//a2694U+6kJ3XQmolh0VSVRSfeUrX1E/zz33HLKzs9VMv7zSraU4YpjWNjfaMa10wy8W/+1vf0NBQQF++tOfahjW9ruu4j/nwAqS9LIvtkhyH342pFQqPPtKpd1VwG8e+iduv/WL6JFtXHRuIxFJ5Ng4VmvTUpaHXZUduz39UZ51yHhw4CDw7ON/w/e/8UX075kEvycAO0/NPi0wSiWuPttfA7z48hu44bprkZ8p6WD8p7mpMbumhVmQSPgrlsGgjP8ymXAhntsLEc6B2GjoF920PNQt1RDtvrWQ5N8rnvbXAy8/9zpuveES5Gfx6w4ym2h/D6fTDaZJZqiQUmnR0u2Yv2yVbn9jbCe7UukPulLpFgztn2GC5luekNKPbg3aTRaoDOJ7JW6Z/d3Dr2EgVypdPh1edxOcXa5Usu4NyaiiFBXlg1sKPo5KpXfWYP/e7fjRd2817VScdrev8+MlPGaiqMScqfSTH34dubpS6cRKJY7uf310Nnr3yMGVV04RPz7Jvhnz20FfpDM5FjK/bHVRqG30oLSsAsuWr0J9fSMKRxWid5+eSE1JQnKyHebVnUkR80BqagRq69zYu6cERZs3Sx8LYsLEcRg4qA+SxYPNb85P7N4Hqs48zmxJRhBBBBFEEEEE5y5CPKFHmMl6YcCrmrksG6hujBJyokaoWhjVukYf/NQikCPUg5RCRIaVAiKJYam0aN5aHgXlneWHXBN/lNEVozhVq9OOLtLwmQBLg+UjZUVieYasOkAZa5NHboE5+h0hC7bdzacFSwlDhRGVNGvXrkVTUxOysrIwdepUDBw4EP3798d5552HzMxMHDp0SN3k5uZizJgx6pcKH65CslYddQUqfZ5++mnccccdqqzauXOnrlgiWDZMB8OwFEqEpWCy7BjGr3/9a9x9991YvHgxiouLddueCgby7DOhUOomjmoupw0dy4hHY9lF0GxuqkVriwhKDUEhXo25sd4v10CEjkPN9V2QPguiuTGIlk5kyljKVcbtRinn5iYZ2GUA5kd72nAG6p9DEs8z44oXtoIz0V0YpBnVGAdfI1Ap7Id+pVfGwWYZMreV8sVIJV55cw227ahUP8xw+8zEEEKkFqYwOLxwVY5ZaSsInoEMnABMCcmM/AbdLkfxaJPJWBdqKcSiLUDJextJmBwTqWAOkUZIdwIuNrVZA4TYc8UbnZirReH3eiPhSF3IvRU/F8O1h0N7eeCXOlOzuT8WqXvjU/Lf+SykE+NTHauZRBKzIbmoFp5qbVEx3n5/AbJzc3DbFz+Hi2YUYkivVGQk2eEUd3wRxi8kyr+2TNqlJwD9ekRj+sRB+MIN12Lk0GFYuGg5lq/ajFqZ2jz8CsI5NCeFek0EEUQQQQQRRPDvgRC3I1fyey1eEQJE1liwqhR/eWopfvvXZXhv4UbMl/v/fex9/OnRN7F09Q408BRWMtl8e2sLUTv3KubQNRyMikTQq3CZXDUkMSNIRUj7owjaIGUkDHVAGGl+Otnj8euXcI8GSy285PiWOGRUnL1S7fDmvxPCmfvExMSQyYDKJSpsqLipq6tTO5rLy8uRkpKiW8+I2tpateMB353B8KnwoRLpnXfewfjx4/HNb35TlVa0t9wwrgMHDqCyslLt+Izb7o4cOdIW95IlS7BgwQJ84xvfwFVXXYXmZgrjlINOfKbTuQr2Meafwt/ZRSg+qQJ7lHmjzoO6nfYoRDt4NatY+GVj2nUmPovQ8UnLlSRl3Zl4rp2SdD9ukTEH35s6CdNHnzaYdiZ9Rftcu0LgtIMRhSgQtMMNJxoCThxpAVbt8OOld/fh4ecW4uV312Lx6t3YsbNMpyy65+H1R6Nd1cT5kOMCV8kouOTrLCH8pUD4mNmm4DoGwlPI6dkbcMAem2YsdMmaEJcM0hxODJdnE1kkc02UthGq6GJhcyapGc54eew8DjmUuEWPW+fsNidcMXHq1eZIQJQzQc38aiy1dlyNRbMh2zHJ+lBDbGySjL0SjxYDyyhUmWEIKy4Fn5oz2z4FMNJQerxeoF7a5bsfr8Sb7y7AqHFTMGvWFORnJsIe4Opbo8BjTql8s8tgSWUfzU5WmdhHSZONcwI9sh2YOnkoJk8+H/MWrMTs1z9AC49gEjd+Hl5OfCoZbodWUQQRRBBBBBFE8O8Cch4hxl+YH5dwL2RqErN6od6XgtIjXtR4olHRHIPSKhcO1DiFr+yBAF/j0qHd7K9iKGTbzFfXOvIzbTweDdaNeCezTCZZftsekRHhOpEIQ9JeglQmNXiAWjeL264Ho3co4C7RVurnJGJiYoQhnozDhw/r9jIiIyND2wQFKiqRiGXLlqmiZ+LEiXpPcBvbRRddhPnz56v7cNAvVzDxnCZuWeN2Op5RQVgrkHhtEQ78Zz/7Ge666y5VLNHPypUrceedd+Ldd99Vd4WFhXjqqaf0HCc+1/Yq12Ntuzvn0UWbOVv5sFTGjC3gl5GCJAMF760rlZHt1/Y/SlvG/rNAXf115e7U6Hj9Xt3I885+DPHPGlWj4PNSoWLdM9DjBHyK8HHPjsBBiVjAdJwxSDvml+0O1AErtvvw7FvFeOLlVfhw2W4UH25EvcePmIQ4/VKpn8tAxG3X2z6tEtMgpa36pfmFlEpnDdLew6ojXMHUXWiNSvqbfHZs3nMY2w8BG/c0YUtxE7aXtmJbSSu27G0xVNys9uG0dU8DinbVo6gUOFwbwK6yOhSX+8R9DbaI3yL6D9HWUncY8b4FW/c1C0k4pRL23mZsk/h37qtCRUMARfs82LS3XtJTg/W7qrFhd/0JaePOGklzI3bsLEVrq1tqiO1XJsUoS6l07DLS2mRdnoE23i2EdJdsdstW78TSlRvQ3OqTMZDb8OVx0CvXgCp8Lb0fx2XTPpl6zolsB+YZs0Ezt3XabE491H3d2i1YuHAlmpsCxo1yYQJx92khcqZSBBFEEEEEEfxbwJrug1xZLhyADa3Ch1Q2ABX1HmwTRnPlhnLsPFCDZmFaXFFOxAZ9yEnx4bzxvdAnJx4DClKRkkRFFIMhU2TOadDgQvRpgQqujmcqzcGECeM/Q2cqmVJk+htEOHt33hbU1DfjgonDMbhHrKZemUcaQgVufclr1XZg0bw5uOvOKxGjh18JWMmG2zQ4TZXDqElcee+UME90plI4qMzhKqDt27fj4YcfluRFqZKHK4GoONq1axceeOABXW30y1/+UrfDUanz2GOP6da2X/3qV7jggguOErrCFSU+nw8PPfQQnnnmGT0IvFevXroiiVvf5syZg3vuuUeVRpdccgl+8pOfqALqD3/4gyq4wvHVr35VVzY98cQTemD4Z0qpxOLhihHpn83SXh55bgXGDeuB80YXhB4aoeVMZokrPlh3pTxT6cGncd21V6N3j1RNFhd9Mf6udhdRuLbq16S0Hcb2XER4ys5OO7FiOVZsVOpxCLC5bCiv8OCFpx/Hj77zFfTJj0NA+ghXjJyetMroSnlW6rqkEvjnC6/iS7fegPxUqWe1V0efAB3LlmMMz+CrbgW2lwWwdM1ObNi6D00iXNtsLunnQaQkO9A7LxVTRg/E8J4xyOZiGQfDYYKY5/BEmbOEfHYbDjQCLz4zG7dcdxF68lNj6p7+6Mei0w3GIWXoYV05sGj5DsxfukoP6jYqcZOCrvpr+C3dcOv6T/77ETS4A+iRk46Au1aC9oNnE9G1+UqgRQZGmRGlCg4fty7aUlFysBaxjlYU5MbKeCrps1mTCtPR7teA91Y58UWVTaKkwi8O5UfqhE1oQe8CSYtfKkzSwnOvoqIcupLoeLALf+FyOFHX5IVXGtjvfnUXMmJbxR9nea6EMvWh6mf5t2rUI8Fy25319bdrr5R56WyeqcR8sYFK91q1sRLvzZ2PEWNGy7xox9LFCzFj2ihceN4oaY7cBihtVuZvbpHrCnr+nVx9PuFtouxYu/Eg3vtgrm4LT0tKxtJF83DxhRMxZlR/uLgMNHxA7TrIM4qIUimCCCKIIIII/i1gTfeG2zgiDOj24hrs3LsX9S2tSEwRwdmRhgVr9mB/pQcJwmWmu3yYOr4/0pL9OHxwvy7J7tczE8MGFiAtxan3nwLv0iU+q0olw4WRGY8S5hmocUu97A/ihTc/Rln5EQzJicW15w/D+MIB4MIbfZlJiPQd5PkUbUqlt3HXnVcdW6lEhN8y3lOoPHojWUqlV1Wp1ITbr5+mwtnxlEpU+PDLbq+88grWrFmDmpoabNy4UZU+U6ZM0UO6uSLppptu6rDaiFvX6Jermci2WoKQZbZAN6Q//elP+nW5119/XZVK3DZHBQcP8v7d736ncffr1w87duzQg7h5nhNBRQjdclXV1772NRw8eBCPP/64nu9kxfmZACuIkn5IqfS3sIO6rYpnuzvt2TFBK7gNisJsSTXw2z8/heuuvQa9Qkol6jOMYtu4DYeu2JDE6YX3IbLu2246obM405266srPyYtFdB/ux0rxJ4NJv5SDCorGLKUmREhblN/jH9BLv+ImTKl0z3e+gr6qVPLDxv1zpyGdTJP5+ptdlUrPhymVeFC3RvGJogkFosvb7FyrgiP1wILVlVi4eisOltdKvw4gJTEaPbITMaR/NsaM6IOcTAcSY4F4yaZ+kFIhBk1LeII+baUSw7eUSvZTVioRLJff/N8/cMkVV2PksAwEubCHD8QvV8Tw8HwLVMfwl/omzinsd6zGoMwfDz3yAfoUpOCGqyeCO4B52Dvjt+hE4Lav2ERg9pvrUXVkP752x9VobnLrNkyb1CEVT1ZaumrC2m6F+DHP7Xuq8OKrs/Gf992BnAS/tDV+3Y/boo3HrpRKVJD99THz9bdrTqhUYjgmrNMBhsisVdcBr8xeIHNHOiZPGQGXJHnewi1YtXopLjh/Es6fNBLRUcKX6JhjaiMctOE2zCjpV24JcMXq7Xj3/YU4f6r4nVIIp2RnxYqdKNq8Bjdcd7nEk2KUxbpN25TJJ8ZRjc4qr65h1UEEEUQQQQQRRPAvCYtdITNgGILDwvAsXbED69ZvQVpKOmbNmIrLzu+DK2ckY1JhH6REAy5fDUb0TcS0saqtwwcAAP/0SURBVNm45Lw8XHPVRAwcPBC7iw9gweL1KN7frF+La+dTO7NFEXQHZquFKUWvVE+5CAYfLN2F4sN+uU/Bwcom7Cs7DL4w5tEX7XxdZ+aODGDIqOiiPmhlEdGFkxPBiqItCCq3VBNwYlBgp5Lnu9/9rn7t7cEHH8SAAQP0oG6uCOJqJa4i4tfWqGAiUbjm2UrJycmqMApXFnRWHFiHblv24WcqEQzniiuu0AO4ufppxowZuiXPUkZR8cQ4Ca5s4rY3rqJiOCevbDg3cNZS3dYgOlzC0NGGNXIsshBuboME05Xbsw/mJ0Rs/xaF2x9F3YFxy3GhvcmdjP+uwdPsSAafLKyOoPjbsdY6DAefuJIkMCkLP+xoEuP2MuDFd/bivfmbUHaoXhUIw/pm4aqZw/Dl68fj+gsHoLCXAz3igQSRctsOilZ8Sq2mq+KmnY79NISlqyu33YAVgj3Qipy0GGTEAlnJQLZQToq55qUCuSHKTo1CDq9in5UIZCYJ0W0cEBftR1JclPIBaWKfLHZpCUCG5e44lCWURncyjKYmyoTlrUdWDNAjPRrZKU7kJdv0K275kqYeQjmMsxPlMr2StkyJMzMjWcZijumc/KgYCilNTgGfeAjXOjPGjmh/wN9mL7B+805UV1Vi1PABWm4x0hYvmD4MkyZOwfxFazB/6QY0ugOQGa3L9z/MI88Ma/UBK9ftxsLFSzF5YiGmTx6BWEdQXx6NGTNQ3NhQtLWY55+j7fytUyueNihPwiWBbe3T5O1EAUeUShFEEEEEEUTwLw2+9TdMAVmE/RXA+x+uRGN9I2adPwUXTumN3hnCOAq/Rh5wyshU9EiNRaytGWNGFihjyg8K5wqTPm5EKq67Zjrik1Ixb8lqbNxeqV8sIbgVK4Luw2LTeCJVQKQwHkdS1wqs2lSN3WUNwqHFI+D1oWePPIweOxp6ZjU9dcXXHYvXU0FXKqgzaUvoTFaKThbtiWpbRdUFqJSxDrumkic6Oho5OTmqvCFxixkP8uZKIZIemCtEt1QUUeFDdwynszIpHJZSie5pJhiOFTe32DEMxrdq1Sr9QpzljghXRFGhxGf0a9l/VnFGD+oODzqsamjd/ujo+C09TDhZYDAWEZaZTSz8Gel04aQVh50T3ZYa2nWmk4HlnuHRfHT/PFGoHcvF9HFLqdSuyA4nE5oVrmVzYjJKJZoNjEmfadm0Pzkl8AuWkhiutNldDsz+YAPWbN6H+oZW5GUkYOakQbj12omYNbknBudHIy1W+mxARlO/G7agR/qxeGZhdCyQswcr+2HFoMa2cVju1MIaPE9ONA8LVrMYDEieg61qDnA7m8zLPp8XPhnLdHubXGlH8irxmUfuZdx1cxYCnHZpK1zmJGhprNMVMFzdxjOBwqcRQ1L7SnwmFgE/bNzqJnBA6kJnNoHPjaCvRdJrTjriSsaA7mXsTMJHyJVnW0lokiEvXC6nnjXOsjFfgjOrRo81D5xcCYaBY2TbOMkrU2BRWEm3GS03vJqVgTQ1NAPbtm7FqJEDkZsVgyiWm5RhgjBSM6YNx8QJk/Hhx4uxYNk6XVXNVb+E5iZozvRie2d4K1cX4505izB00BBcfP54xDl5NlOLFlWc8ATjJ0xE0bZi1NaJhUzA+iW+LsAoSO2p7UhWLv0SKf+0lo43oXeBUy73CCKIIIIIIojgs4AoZSap8imr4gqlDcr8TZ1QiH4FNiSJPB0v8ja3CfCkgh6pwIC8JPTvkYj87FikxQMu8U2RPEEYnUxxdN70Aejdtw+Wrl6HbcLpt7q5dt8I7Z82yCB9VkAGznBiDjQIT7hqqxsLV+9FpTCINmHIs5OicMGUkRjUSyqBGbN4aM0kf8JzG24mLDbRchdGljDcJvSRTg7hPo5evH80LEWPRQSVRPzaW7hSh2aS5Z7gyiIe7l1VVdVmdzxwtRG3sJGse4bHrXfPP/88LrvsMt0Gx7OdXn31VXVjpcG6UulFMxVdVlo+q6uVzjxYLtLW+Kkiabc0m5UxrHe5k3Iz9W7dywM+C6POYFn7RRALJ5WyOoHuqPBrE1I/AVjPncmEz9VqFoWtWuOVRm5fkUwxjXSjSpvwPtbWz7oDyz3BkuG9idPPw871EX/ELI8tl51hXLTDqH44HhDyhMInqYsQLBsrjHYKvwtHWA0yUacDbVFwS7MdOyuBdxbtxIbtB+Hx+NAnPwVXXTgC1186CCP72XW1jcvG/V4UriUNVmMLxydJWnjWT4bCofdGaNc2pJUppP3GqptTB7Nnk7ajX1YUs8vOLyna4HRE6ZZThy3YBQWU7KF7IhjwajhETLQDsU4HoiUMhmtXt+EUFKJ9VIiolAoVtOTPHip0h9SFy27uSMYPyfLfkbg7U/61ClURFiqerg9bb4cWq1xDKVCwH5urXoyDrojPVZsj1w4hhEArJXVAgxDNrD+pU0kjFURHDteipbkJQwb3QoyL+Qkg2i7lLM/S5H7G1CGYOH4ilixfj4VLi9AizZb+GJJZkWXTLW/LVu/Gx/MWYvLEsbj0wilIjGEZBmQ+s0syvVofAwf2Ac/g31d2UAvM5JGFZbUpQ9Yc3UWuFG1ZE5LRGgGbAwEJzCv92WuNOxYpOtwojl8zEUQQQQQRRBDBZxTWhC+MnjBzDa3A2o374PX6cNnFk9GnhwjvIRdEFDki8ZIgTE+f3AT0LUhFWpIzjFHgJ3CD8HiDuqpp+uSeGDioP1at24iyilphYSh0k4HpyGicLXw6sX4S8AwoMn48qBPYKzzhvBW7UHqoQRk4V7AZF04aiHHD0tX10WCOj5Vr61m4m2OxkxbCwwo3d0RbiG3Btdl0G2TyuWLoySefxJYtW1S5889//hPbtm1rW1FEWKuDuC1u1qxZ+Pjjj/W+M+iO5zO99tpreOSRR7BgwQLs3r1bDwPn2UpUJtXW1uK3v/2tuvvmN7+Ja6+9Ftdccw0effRRzJs3T8PZuXOnun/hhRewbt06TRfPVHrppZdQXl6u6W5TKETQDpVGpFxE+IOuWOQZZqbuVEgJiJhCgVJuTlR8dM9VETx/JS3dicxMJzLkmpriRLQz9NVIIznplUJmfIIdSUkOxLQdKMZ4wiJSTx2pcz1aYVrgc7ar2Fg7UlOdSM9wanqSZfDj1xhNMDzgmKsD/HCJ4J2SHIO42GjYVTHZMbyj77sLmxQpV/k5kJDgkHjskjYREkPCL3NxIrJg5dmM053BZ8cfv1n6mgseQhTUjTtKHf2caj67AIOW4Pjhgjc/2oJFq/cgEHSgb14ybrpyIi6ckq7bpcw8xrGUY4cQFQ9c4RQ0AvqpQ/KlZRZORGe77pAFliHbraRND8A27Ycb/IjubiU+NqTA2toyr8y/ofZVZbQ36eDVutc2LyaaLcVv25aqkJujic/D79nPzRge5IHVWieEQ+KhmXZEe7q6Iio2CPZBVeR21WTDoKUsbqQoQ+Z2D537tnFBWPbqgw7NbZtzGsKJYLjhiTFtjGlkthn//tIDyM7MQA73FhISrp6d5POq8iheqv3yWRNw0UzOacuwdMUW1cVyizufM/SlK7ZjzgcfYejQPrjikkLdgqj1ZY+W6KTFB7kCLIA4sc/Pz8PuPXt1nNCXe1ztpe0pnNhfaW+uFgHekJknUgpPQuW4mMqqPFi5vRKHaqXsZSxmCWnCtO9zFRvDpK0+UZgaiyCCCCKIIIII/iVBJoXYtacOFRWHMXH8CKSFeB2bMBM8xJLL5Mkx6NfExH2My4u4GHlOBoIgc6jcjh9OG90FdUvc+DF9kZKWho3bS+ERp34RBs88LEbGpNliaiy2j/RZABk4MuxM/aFmYMn6g9i1vwGu6Di40Ix+uS5MKcxDKre9EcyYyWoIRjywoGcbhcyKtoKggeyedT0eWeiqFBk6y9tiJi3oe/eQ+fiwhFq+eaYCafXq1bpqiF90oyKorKzMCDYhgcBalTRixAh88YtfREEBv152NOiOSqP58+fj3Xff1ZVJEydORFFRET788ENp9xX65TmuXPrWt76F3r17q59bb71V3TFeYt++ffjoo4/0gG+e61RYWIilS5eqMovhE1YePjNgctsEY8KUrZGfLPtTp2BojPAHRJix87W8jAx+rjQzCh4ekmzauvzSSxjCQyKoJ+G2l7hYB6qrqvHii+/iscdexqOPPI833/gIRyqqpA5F4KUAJ+GZrT1ufPD+fLw++z0cOVINJxVPmjlGbELmRY1hdLSgSUifkkSQGHZMjB27dpVIOubgsUdf1HR88MFieNxuOBxUsQTh83rhsNslvVWY/dpbWLlqFZoaGyUoyTMFPI2vq7iI8ESFQd2blV0st7gYF8r2AW/O3obt249I0CZ/9tCKEN52ReHoGAsdyB3dqLTemSzXHGMoYpLME7dXyj/KIeGbr1ax7xvlkgnu9MGk1i20dqcb20uq4ZW4MxOduHz6UIzsa4fdK/Wg4xFhhPu2a2jFxwlTpcVg4joafGjK4agGdNLEdJq08oMMxeVurN9dj8MNrOQYmYmNasxHhUCo3Z4qjJLIxGr9Mpfhn6zvSMae/ngnDkNuaWQ5qukYFIZQVJZCiEqkdjOvJp520GzZWRR+T4Su1u1xwCR39BUqAR2jzGq/DuA9279FqpGy7GgOexaUeiHBK6EGcaiqCWuKDqP4UAtagnb4bU5dXcRVQ+SzsjLTjD9CExYFh3RoG3koSVy0WI0f3QdTJk/GkmWrMX/JTt0Kx4PGNxQdwAcfzcXokYNx2aypuo2TB5QzDHbsgIy1vqBLWDKb8l1ZeQU4VFmHI/VusWcapFcE5HnAKe3JKe3NCY+QW9LpEeLVIk/QoVcfzb4otHpt2uc27anC028uwisfrsO6na2obpHikaZAd3xl0BW6to0ggggiiCCCCD7zUB5K+JCKemD33r3Iy0lA357RwuvwgTxX1ktI/vmlETItqj+CR/ggYZ3kXl2SmVEJhwKbEdrIamaK/Dh06BAcqWlG8b5KsRdbVQiQjKqhK/pkYAhWHCYeguwwmZp2fpx5O3dBwdDns6FBzMs2NWLhqh1wC88a5wrqgapXzByN/vkJ4pCMrOSzM0OsMHlkSVuChAHNLA2LeH8iOjHInPP8DbOZ0kJYurpKYhgsQZ5by6666io8/fTTujKIX4PjiqCLL77YtC0R0sMFAK4q4kHePFTbUjh1Rp8+ffCXv/wFb731lq4somKI4f7973/HuHHj9DDwP/zhD6qcsra4DR06FH/9619x22236T2/PMd0ME1Wurj6iYd60y1hKbo+M5Ai71DDltBEAeoTQdqchMP64vaIQxVurFxfjT37ZPRg1YXqmvWlrVDujZJErbWpdFaA+H0BJMTbsXHDJvz617/SrYnLly/HihUrdUVbbV1dWLL5Vt2LN9+cjZ/edy/+4z/uw5q1a+AVqc5ml3FLBTr2CqYzCK/HA7+Xb+VNWXAlA+8tBZUOHEJGAKVCKArvvPsBfvHLX8j1HaxesxpLly3Fjh3b4G5tlnTwYPcouGJcqKurxQsvvoDvfeMb+J9f/QrlBw/oMwPrKqFKOnheGBVWmraQ8srjdYfSS9C96bO0am4EFi9043f/8xJ++L0/4L13luuqJXNejpai/ndJIdDIId+ofqScaZZx3JQOIQK3kPnlWGJ+aW8UIT7xzxUMwLqi/TJW7UPpES8avGZ7THiftEL8xJA64WKjWimq1TsPoLyqFoky30wb0xfjhsSrOcZBxWVI6cFotTGZ2+5DPYZKxtxpXsXg9/o6km7D9Iau3SNf6Br0eUTa90r9A/VNwNK1+/D0qyvxyrsbsXjDYdR7TAr4+fyTzsJxYSnpTT84EZgKu42rjUx6bNyLdsr45Dlhmtk32s+Es2qqIyxbjjE007U/NFj4pI/5A+110V43XrVTe7/MbWpv6perJc1ZUtIvqAWktkjqzy9XKm4OVnnwzqLtePK15Xh73h5s3SfPJG5SdW0VkpMTEUPNEROiSZdUkX8Soi44RpptUgxw8YUjMHX6FHw0fxk+XLALy9Ycwpz352Pc6EJce9l5iJd27rK7xKvT5IkhiV8eXs5wkmKFD8vvgSafE1GxMXCIHRXr4dsI+ZVel1C01KlLiNfORH8umRajJU3RNCfnorI1Fh+v3ofHXl6KJ1/dgmUbPTgiDEsUlcqqBBWHYZAoIogggggiiCCCf1WQEdld2oTW1iaMGtZTmCcyihanYzEFwriJMSgMj56LKsIV2VDrLSWFkc7voqOCwnDJX6/8BGRm5WLb9j2wk4NRPyZ8/hp2tp0+GRiCpIGBksjGqIAmmRJhkHLhucnYHJ1zMu38LPC2UuC9JVtR2eAXxtkHu7cSowckY0ifFMlP6IwQ9d5e9hZYT4TZMhEujLDsrUI6ER2dtg5WNAtxMRvfdjrtscJUO5XHVoTaizrTJHYRXidYAguZeH7m3+12q+BjCfgkKm8sIYj2dMt7y284aM/nljsjuPs1bJqNYBLUePg8HHxugW7ox0qL5Z/mzyq0XkRIDEa5jIUIBHxzTjurXx+PuEal44YJi2zwSV/3yNUrVF5nwxsfF+GFd9bjgxU12FshZcv4RKKhWon1pooNrQuWdShtIWK1chtQVWUdHnvsYZSW7sWvfvlLPP7Y/+HPD/4Z99zzA/Tv31fGMb/0G2438WHH9q2Y8/brGDN2BDLSU81KJ6krKqcIswWGZ8zYkJYajbhYlwqKDnEY7bQjJZl2DskN25VJA93zPJnikr146KE/IyMjDb954Fd4+K9/xN8e/gu+/e2vq8Do9XlUGcQ+NOedt7Fm9WpMu/BCbUMOHmCj+ZT42Te1fxpFVXJKDGIlHVR8+SWMmBgXUlLi9J5l5OTWOlXcS//wAh99tBV//cs/0NhgQ0baAHg9PB+MgmP7Vr+uoFkRBMXAFwUeKXzWGeG3xcAbdAjZhaQvw6Xkg1Pqm2t/7EJcx2pXOx+fS0DccLO5uA4vfbgJr87disUbj+CQ1LvPTjcSpwRvtv6dHjC+Jhlnyiqb0NLSjNRYH0YP6YEYRsGilTSyiJW0iOUnnKxCOC7UozEK7FRU2aNVYLc7Y4RiQ1exc7pOmhyha5SEA1cM+HFJZ6LEmNAb5a1J+HjtYTzz1kb8853NWLsfqGmRiEMKhNMJtstj49jPuhpvj4k2p+HhWebTnaOuwd3TbOW+KGmTjiS1czhipe+xHpzaPvUq5HBFt5HWVehKsilFCzlhc0mbkGdwsS3EwSljqC05FUf8KVi+sw6vLdiDZ95eizcXV2DrPj+qm1rhjJE2w/LQMpEf5Yt4NYXEXzZj2k6eNBCFYyfgw4Wr8NLr76N3v6G4dNZ0JMTadUWTBQ5r7MvFB1rx0eK9eHfhfry1oAILFhdh36EaLFy6C28vKsY7i/ZizsI9eFvonUV7MGfRbqW3F8tVSK9LxD6M3pHw5ojfOQv2YfbCCqzZtA8t/gS4bRk41BCNj1fvwVOvfYxX5qzE4rV7VbFmctEO+/8ThMwRRBBBBBFEEMG/CoSJJENYK3LPuqJixLoCmFjYW4Rtrwo95o0y3RiBSnkEETQpCJaU1cPnbkHfnnnijy7FDZ8LDE8k9zaqlAKIE7aoye9CWUkx8rNzEc8DAyjMiYRBodSwkuaXXtvCCV1PDLo0aVX4RTj1i9DF13CSGH7VhgouCjQqLAvXFRDz2vU70aNHD/TMThCfTH/3Yzy9sNLOVDAdAXN2gqS9pAp49aOdWLezHLExCbD7mjFucAaunjkMvbOkHFk3TDcZUlPw7YjiKRwi+gnzvL8qiNLi7Rg/dpDI8HQXEGGSon973McmCzRLwjQ+hiH3Kq2JuChhclVV0a5y7N5/RHjrZMTERYmoCWzcVQa314NRQ/qoH42eYZwAbJtckUSyDubuLMBY97xSydSVGyL8Oa8MzwqbZPmjvbXSiEIW7aznRPi9ZQ5//pmCKjRs4AKI5RsOol+fXihIbxf4maPuEEvLos73bSQ/h1vtWLqxGpt3H0bR3nIUH2xCbUsC6lvsKNpShMKRQ1Spo8K+hmTanlW2Qa5SinNgzttvY8GCubjvvp9g5owRENlO6gBobJK2LhHRO7d91dbW4A9/+A3y83MxakwhNm7chMkTp2LggIHSBk2YdrnSXF1TjZdemo3yQ+Xo06sXHDLOHTx4EC+/PBtejw99+/ZAU3OLFBcPNJYy83h05dGhQ4fwmwcewOCBmRoe093Y0CjpYK8MSn7isH3Hdjz66CMYM3o0cnKy9RyuWZdcgrSMdG1jZjWX9HcZp4pLSvD22+/K8BhEckqirrTatWsn5rzzHtLTM5CWmiL9jGUiAqfkmd8/qDhcjd69e2LK5BnYu7cMOXmxmDy1fyhstmGTrs6gDUs46JA0twJbijZLGJOQnsCx06xg4OoEVZ6Iu2OT9AOSuKMaa+XeKCzbchC7D9Rjd8kRHDzcBLc7GtEJMRpp0eadGDZ0UOgMGJOXrtLXHVBvfaQZWLTqABqqK9EvLwkXTBmA1ER5oIFb4dMsuQ3Zqb0ZiE4MfsJMytEvbaJBynvd2q3g18a27K3C2u2V2LCzAut3HJLrYaEjen/ydASbdwjtrMLqHQ3YtDeA1dsPoLiiAT5bPJqk7+wsLce23ftw4MBBxMc4MG3SkNCGOKu/yG+nLFm3vJJaZK5fumyF9ofMFLNvWmdvbSeWq84I9UP544sDjnfL1u5EanIshg4oALe00+5kwPZtl360dddh1FZXYMqkkSxiTX93x1LNtTg9UufF2g1FUh6jkcglNGHlQWjqGa7emRmsog5YvXEvSiuaUO2NwcqiPdiwpxzrdpRj426pwx2sy8Nar+tl7iVt2MW6NfW7UcybdlVi005SVegqdnLdKPbr9tRh3e4GbCmrRoPPhdZAHA5WN2Lztt0oO3gIRyoOYcKo4cIPUXsoCWpProF1L8/4OCjFe+iIG5u27pRxIoCRw4ZgcL9UXWFkGBtxQ7fMp1BVVSsOHaxCfZ0bjS0+1DU2o/LIYWRRsS4h1st452lpRauMaY2NTTK2NaG5qbmNWsQ+/F7tmhrR3NwsbbEVdS0eHKn1ofwIv9bHL66yj3CVpwcuhx+ZaYno0zNDxw8DY4golSKIIIIIIojgXxLChQgHUlHrx86SA+jfOwcF/EQOFREUwOW5WYtgsQR0zzfTVCrVwe9uRr+CHMS0MXIk/opPsdI7+eFqBdiicbi8UvgfB/JykoRPpyKC7A1ZVQMTn3VnxXkyMMx/UDiwcmGqNu2qwMEaPzJy4uHigad6MCuVAdxCQKXSdvTIzz8HlEoGTIMpRWHehVFslDR+tLwRq0RA80bFIuhpQH5KEJefNxhDeifqUnSTZop0XaRdhCgq9WxRDuyvAkpL92DC+MF6XoM5JpkrMMzhqMcnU0+GLLNGIGUp9wGJXwS0Fknv3CWlWLhiG+qa7WhyJyItx44dxU3gZ6nHDC4QH1LtmtQu0nuOobvCzWcWKsXZ0CrZXL35MEqL96KhoRWbtxZjuwhYO0sqsWV3BbbuPoyte46mLZ3MSnstc7nQAUPSDzdsr8PGHY3Yvr8BrcEYuBGNypom7C8rR0VlhQg2VRhdOASxMdLeVMA1CkCi7arLmKIwb95HKCsrpQ3mvLsIH89dhoWLliEnJwuZGem6uoe9aP78uVi5cgVuvfUWXZ20bOkKTJkyDQMGDNAwrdqlQNTa2oJXX3kFixctxIhhQ5GXm4MXX3gBL4vd6FGj0Kdv/9AWNOkRDruuUONXAhPi43CgbD/ef28ePpq7AFu2bEXfPr2RkBBv3NqjdHtkSXEJfnTPPbpa6dChclxx5ZXiJqFNscH0cPtOXV0dnnrySWwuKpK0ThY3cfj9781XCKdNnY7klDR43NxWZwRJyvIDB2VgzOhMiJyI1au2IyPLhSnTjFKJMMVn5bYdtKGLgKSx0Q2sWrUC2ZnpKBZBuGjbfuwuqZa+W4Xte49g254KuR6W6yGhcqGObWHrnkps3l2PLfslnG0HUd7shCM2HfWNHhw+VIHyQ4dQW9MKe1Q0Skv2YNJEqWsqA0N121X6ugOeMXO4Hlgj7be5rhq9ZCyfOq4PeB57eIjWixGt9xB1G3p2joylMndRqbRh/TZkZaSiucWLeukvLGcqBHX6kTo8eTJR8D0Lt4l6ZZ5qkunxcH0Lqps9cLu9etaO3R5EtEsy7GlCcpwD57UplQiTn87Zsm55JRml0kqMGj2qG0ol034MTH/pUqnk94lde0q6g09TqcT7VinfNRt2otnt13GjtbVRxwhdwSg8gs/nl3yZbYFU4oSTsePzgPlqrphJen5bm32U1F0QB6pa0Oq1w+mMkUx7ECdtPjHGBofPjZGD+qBnbpK+k9FFSuHQRAsk0ZIirFhdjA8/+ggTxo1Gz7xcbF6/Tub/GPTplW7yJY5CuiU1Z6a5MHhAJkYOzcKooelISs9DWcku3HrzhZg4LBOjhuXLsx4oFKJ59NCCDjRqaH4XZOxHDMnD6CFZ8LkyUVRUDF9rA+IcHvQvSMbEUX1w/sRhGD8yD7HKn1gwpohSKYIIIoggggj+BcGtH9y/f+BII3YVl2GoMDmpiVS+UBER4lCE01N38qdCith7hOkqO1gvPFIL+hbkIFYYOW5ZISfES0CeC1+lzDIVObznaoL9BxrQ0NKCfn2yxN6nzKPwlhquntARMocTBclu8pjimdvDhBwOHBABa87CLViwugQHD4swCBsy0+P07b6GJ9lbuXorCnr2RH5WPD1rHj8NMGaWnjGbrUBU3K3fAbwzfyeO1HOblQfJziZcNKEnLpgkQqsIF9yiw+0dmm4rgHCItY11YLOjuCKAAwcPYfKYPrqagLVLPpY5/iREWE3FLQFu3unAuqIy7BSBtPRAIypqkrCnuBSpqYkYMzBb0mlWhkRwDoAdTirPLdWxZmM5HFF+pCdGw9ParH0zKH3X45N+GHLaFZn+a66Wua3/wnxe325ni4tGVX0QByua4BWHAen/QV+rtEURmKO8cLfUYezoYUig1CV+re1dhKZF/NhlrPK63Zg79wMsXLgAeXk9EBcfL898WLx4PlatXIahwwYhMzMdu3Zv17OwZs68EBdddDH2le7HkiXLMG3aeejXr19oRZMOUDJWBZCeloQeeflYvmQJ9u7eDXdrK16bPRs33HgDrrn2alUiObnFRdLE/uoTP08+8QSOHD6EnOwc6WJ23X7Fg+DL9pdJXsaoYumdOXPwyssv4/Yv3Y5RhYVYvmy5Hvp+xRVXICnFfA1BD+uWMJnH3Jwc6StpmP3abMTFxWDP3j344IP3cdddd2HEiJEi7LI8zao9gn3P2p15pAJYtqRIlUpTpw9Qu3YB3bq2gzZSXbocqb7Jj7WrV2JA31465rY0SxvgWCRFZM53krqU8mKJqU+JWM8UkrrSehe3XLHg8Tuxv7IZRxo84IHqjqCUW7AZcXYvstOTdSVaRcUBjBo5RM+CidK6DoXZbTDVZsyk3xrJ/+LVZaivqUJ+ZhImjOL4GHJmnIZ+TiaOEOifuWZ7tjlQL3EVbd6BGdPG4fzRBRg3LA9jhuRg7JBcvZ4aZStRUB8zNAuFQ9IxaEgS6ppjZcwuh7+lBsmuVowalIXLLxiN9Hg76qvKMWPycB3HdW5mMmnulEXr1sq9USqtCimVYkLPQnOterZ8WCESxp5//PLX0UolrlT67CiVeGX7WLNhB4b074mbZw3C2EE9lMYNkevgXLnmCYWuQ8OJdoZYd2NDdchrOI0bkglXYjpKShukrioRa3OjT3YMZk4aiJkTR6K1tgLJMXb065mtu43DkqvguMlxhhW8an0x3vvwY4ySse2qSyZhfGGujBWxmDd/Edx+F/J6ZIFDE8Exja+B9K0eu61ceFD3nj17UXVkL4YLjxcfF63nf+kYLfXAYZD9PBAI8W0MR0jtxGARk0i3HpKka39ZPYr3FmNgrwxcPGUwLps2BOeNSUdBukv6u7hvy1ObIaJUiiCCswr2ZF6kD3JZL9HeHSOIIIIITgc40FCI8YtsYMe+imahJowb1xOJ5FLFjoI/BTu+QuPqIrojU0177tnfW84DZf0YOCBd9/QrI0j3FNb49l2ITKOeCyLW3Eqxt9yHwzW1GClMm13DMqsRDInbLojhycNukfkEs/nWT7UIxBv2RGFzSRO27j2EPfsOo7qObxGF4UmOhkMYuVXrdiD/nFmpxLilbFm48l98CHhvUamkvVaFObu/FhOGpOGq8wYjL80pZcMsh9IbmjeOArd7CAPIMiyrs4ngvRSHpZ43bCnBpi3FWLtpt5rXFxUrrSuiuVSI166Iz/aFrhbtw9rN+3QLwMr1UtZ7qlHXKgJ2IBqNbjv2lpSjtqYS8DaioEceclIo7UVwTkClOLP9bUPRQUwZOwwXTsjHsEEFGDKghwhcORg6MAcjB+RgeDdoRAfKxcj+PeSaj+H9cjBYxonY5DTsLa1EU8MREbKaMaxvGi6YNAxjCgdhx/YtKBwxGCmJ5iMBOvaEoO2cSeWNSDqLFy9CxZHDuPuee/DlL9+CmRecjx55OXjxxeeRnp6GEYXD8deH/6qrBn7ww7uRmZmGXbv2YMXyFbjk0ksxYGAf3dJmxcHweSh+WloKfF435s/7WAS2jzF46GB8/Rt3IiYuFjz0lsonHn7NLZIejxuzX3sNWZmZuP/+/4errroM559/gW4TefmllzB+3HjpdlF46sl/YPjw4bj1li/CJf5WrVyJsrIDuPLqq5GWmqbxU3hj7pgOKrvS09Olnx5WhdSSJYtwx5e/gquuvFLdmTPszCG76svGzh+EyxWFchkzli0tQla2C9OoVGL/V0dtPx1AG7qIckShocGDXVs34+pLLsS0kbnSBvIxlPXfPwtDpT5pHtI/V67yjPb9ss1VaLhSljyXsu8fj/1HgMOHDsHpr0dGvBejB2Zh1vRRmDyhH7KzErFrhwiiA/ohLd6kwAxjR6fv+DDumf5qKkrWHkRjXQ16ZCZh7PBeeki3tm9KwRwsTzr8cDAcqSeZAxu80lfWFaFwSF+kSiRRlMI1/NMHNgfW9Z7dpag8VIrCAZmYOXkALpw8CFP6u9DiDqBk716cP2VkWymoAkJgTQkWrFteSe0rlbj9LVypxC2YbFThAdBs9UMzO3atVKKik+2y+2Af5wHf26hUqj2CKRNHGoWlRNI2rx0T2mrNrzg9le1vzNXqtVuQEuvAkMG91P5kwfDCyYDchymzpgZg9/adKMiIw/njBuAiqcPzxqagR4YN5Qeq0VBXhT59+iI6RnxrItvhk/HIK9ZrNhXjzTnvYuTIYbj+6umQ0REOyXRej3TAHo+FS1eLvGhDVk6G1CG3uku5ctkbt2zyxDEZc9ytfqzbsF5fGI4c0hMup/BWNp+Uv7i1BYR4NWTnVeJVkmyEE0s8SsLl+XPMISld2sDUsf0xpTAZPZKhh33bGbee8yiZChvHiYhSKYIIzjQ6DSYE5QpraOrYJY+D8HCUmbAsJLAIIoggAh0T2scFvg3jW/Ky6iDeXbABRyq92LB1D1ZtKMHqLQewZst+rNos5qJSMe/D6s2lWLm5DKu21ol9MfaWHML+skZs2nsYK4r2YKW4W76xBCs37sOqjfuFITqEdZsOi/kw1m2vwdrNm5CYnIiC3nlYsGgDFq3aihWbxG1RmfiX62bGx6uh1WK/ukjC2cLr8Wi/0D6sKSoRfyVYvqUGm3a2oqi4GjWtDrgSs1DbEsSOPaXYuXs3GpoDiI7PwF5hzPN75KBndqKUyqenVFJmLRQ3+TBusfho8REpx1K0+u0I+GrQt4cTn7uoEAN7JIAf6ra2v7RVpwUGYxEfksGUOj7Ir/vt3ClCQG+kJMUhKS4GiQmxSEyMR1JCnJh5jZd7MYtdYkKC2im12ZGM2/bniUJJSEpMh9+ehIo6H6obmvTMKr/E73LZEeWtR15qNMaP6I/UpJMTPiI4g2DzEOmBwss66fMZiVHok58q7c2rSmTCL3KJJeOpjB5GFFvk0nY9isQf33BTQOHZP3UNAWzeUoTcNCcumT4UF00aiGmjk5AQZ8fCRav1nJDU5BgEuAQmXLBkYLzwS03SnhctXIDKykpcdvnl0i5TUFtXg7jYaLFfhOzsHGRlZeOJfzyJktIybN26A6/PfhPz589DSXExSktL0Cjts1//foiLixWBmIJSlFy9cIiw1drajPfffxfFW9dgxsWXYuZFM8WuVbqQlAczqgkJ6pt+fj0wJycXUyZPkTzalVerqanBsqVcETUNhw4ewOOPPYbm5iYsXLAA77/7jm7Ho1Jpx46dcDpdGDp0sK4+YoflVjjTr4OorjyCNyX8erl++Wt36DlQrS0eicdJl0yFCngUHrnOk2fglR+kUmmTCJjRmHbeQHFFZQELj+7DyjME2vCpzRGFpiYvtm1cg0mjhyEjJQbNLX54fVzFZYNPysgQt/WYq9a5eOZ2IZ+P2374TMrAIePMtmJUHywFV+9cNGUgZk0dilED4qW8ZWxrAoo2bUHhsMFIUaUSlRldp+/4MO6ZjiMS5sqN5Wiqr0FeejzGjeyNRNWXhBpOaKwM3bVdiRPGqg4kFta59IlGnzkTasTgPkij5op1wDGWyiU2dhI9sXC6TeJFSX5YFnLhS5jEmFj0yU3BeRMHY8zgVCRLeXHr8t59h7F//wFMmzxS2hw90ovJSXi3IaxbXkltZyqpUqnz9jdp4+y0bWEw9NBKWAF/w5VKKUmxGDrQrFTSM8TUWZtnkycLmj/5F9J3HVJeNsnk1p2HUF1TgalUKvG5lLXmRQIzbbed+MerxhAqK8ZZUeeV8av7SiV2N/pbvXqLzn1DBvcWW0pcAo0z5NJEdxxqTxNJRhFmzNhLv+FK4qzUOEwc2QcTRiShR5oNcdI/ePaYIzoJ69auwgCZj5OlsZrV4AIKf1IN/DrmirW78c4HczGicAguuWgaosVjtDSAoJQ3V3/nF2TA7XNi+cqVcLqiUZCfq+clmq/xMTQhKkJbgI8XLpd89kMfroxiPEFJCA9q0iMBQteQwrrNb2dioYUpiVISHRjcKwXpydLvpV8Yn5JwKnLVreW3He2+I4gggtMOHYqO7newy+jqdLfCrsuOjw+G0YZQWPwaC7+2wmtndHAfQQQR/Bui4yjAiT45Ph7pKcnITE3TczVys7OQnZWFnOxsPVw2OycLuTl56JHXU+zy0Kugt7jLQWpKmlAKMjLSRaDLQo8eecLc9EDvnvlCPdCnV74wPzko6JWH1LQkEYrMm7CszAz0yM1BT3HfqyBfrkLir4Arh4R4ZVh5ebnIFXcdKKcTqX22Et3nSXqTkxIQy4M1gvx6mAfO6FjESB4TJY+OaBfiE21hzNenDZ0JhDkHWoU27gAWr9mLOpFgnPAgM8GHmeP7iGCRhBinlB+5UgvhyQ+Zuxrj3R4P0tMScPkFg3DZeYNxyYzhuPSCQlw6Y6SYR8p1hNBwXHY+aRgumzG0nXjfwW6I0OAQDZQw++PS6Tm4/JIU9O2dhlhnI2JtNcjPjMI1l47DiEE9RAjrp4ox8txnCxRKqDil0KtL/UP3Rlgx6Hz/7whl9KWfxLhMA7LZRShQcZ0fZqPAKE1LHvEaTmyGKiBJn3aIcN2Z+H0wbqlji+Sutrx04KqZQ/CVG6bgmgt6YWQvFyjWqkAiYahAQnlEYz4aXLEXGx+DTBmT6LqmplbPPuHWm6rqWgnEgbi4ZKSmZuEHP7gHd9zxNQwfPgKFhYXo07sPEuMTZMzJQ3JyClz8LrZEREFa24WEzc/+c4VSbl4OLr3+FhHWlmM9zy5xSruVhkuiOS4mWtPYq2dPNDTw8NoWOCQNbrcHTY1NSExMlPKxYciQIfj5z3+OKy6/AsOGDsXYsWORmZmJuNhYFMiYly5jpjQ/ARNi2iDbKs8fmvfxx7joogsxYepUvPTCi3omk0sER8ZrkWRYyCF9ygEeI2XC4rY+ufcKH8gloiowGtedYbV6Ru0UYTHG4RBimND64va02OigEK+2EInZFRQB1wunULQrIGOSX/x5RGB2Q24xbnAavnLtRNx6xThcOkHG9DRJlTQD6nk45Orh6BoLwVRYKTl5MBy2RS2TkMDLtqplwX7daaWEFdPJxSiuJSyr3Lllrw1atIxHiBMbiXaWuVtE9yESsE9xN1O/vDjMGFOA3ukOOANeOEwF69cJ2WbFWQgnlxu6V4WkwIRh+Wc+QkaBFmHoasA745Yr5Mz2UbFRK3oM80zweZsb469LqCIuzA2v8k9lVpS0XRYtrzY1SxzqTK4hf51iPSFU39FmsHybqxW0gtfjkdQdFaIWaVvjVl+58gwvHhY/fmQGBvZyIEGso6Ur2qh8lEhychPhlbLZvqcEbukbfvljeXK0bJG+vHbDAXzw0XwMGz4EV1w2AwmxNrj0i7xcXe5DNPuchHnhjGGYPu08LFi0GguWbJCwbPD6GJGMATI2cKvaruL9elZXQc/e0lfYsrjfjlcqkYwiiaudTgb0xe8Pcqsd9XjREpy+h9ByYPhWIXXEycUSQQQRdBPUb/NtDwcRYXrFhgpq7YMcg7mMkT2VA78MNGoVonB0uBfnZsgxQWiYQuFuLHPncCKIIIJ/R5hJ3+ZzY1BBOq66oADXXzQIN8waiutm9sf1QjfMHIgbLhiE62cMwnUX9Md1Mwrw+RnpGDUgD2MG98DVM3vLs964ccZg3HT+IHz+/AG4aUY/XH9+b1xzfj4uPy8bn7sgF1dPSsGEwv5IjIlCrkiSE0bk48rzh+JqcX/1tN647rze+FyIrg0zX3d+H3xO6NpwmtGJzu8r1F/cDRIaKOnJw6ypmeiZ4YLDUwWn+xB6JjfjuguH48s3zsAVFw5EbopknF8raWMqP0XIGK8MtTBlZZXAmq37UdUkwhq33QSa0D83CSP75ygbGOCLhs4MOrMQlo12I7cqmjsyrL7WRrS2mje1bo9Xt/NwixDNbo8fHm+gjbwykXi8QSFeDbk9wS4IaHWLOwmzpU7YVX85suIbcfnUfrj92gm45gI7BvVJEsG70hzxcBaLm3VL4T78y3G8D6/zzvefRRxXYDsBVGCTq4ahb6p50y7hhouuxwbddCYrjHYxIikOmDImH4PyY2H3+uB3u0NPJB71ZtyaLV5WOO3QOhQng4cOhUcE66XLlmtXSE1LxYKFi9HU5MaI4aORl5uHS2Zdgbu+/Q3ce8+3cN+938Hnb7gJKckpuOnGm/CFL1wn4Ti1HzAK9oHExFisXLkSixYu1EO07/re97RMXn7pFTRweY2UiaW04GoNh92OiRMn4tChg1i/fr2eU+KTTjP3o49VqcRzm/r07ovbbv0SfvD97+DeH/8YP/uPuzBt2vnIlvR981vfwvgJE9DCDkTFgoBnEDmdTrw9Zw4OHjqEW754C74l7tauW4+5c+fpuU5UKAcCXEmmXrR0HWIXE43QuSrcNpwQdk9Y5XjsdsKVVqyENhe6hca6s/zzKu7otq2OJAVcnsQzdWhl82JAv0xMHNcT2el2XclEJQjRIfbQjdSoMXwCmBD4yz5OpZpahJJn8mTRKUPKwsRAhIckNtRqWZot1qVxdAqgRxM2TVQu8ctqfq8bduYjlDFew6PoXh8NB1fSUFIwZr0Pmcy6N14lPgk2IPnWq9qJG97LVVqhpIM2Yi8WJKaLilfaqxKW4TJpQlHMDIuIDVabDBUPtOeXPdlwoNuq+NVFnp2mxUi/NGj58mqRuW8/5J6BnjxM/kwYEqCQ5EoTrMYT01EIPaB2hdpTKt74pogFRmjZ0I55BYYNH4ltO0vR1BqQPuzUlXDsSqvX7cXHcxdh3OjRuOry81RxQ09emfv9EobOYxINv6zGowdmTBuIieMny9i1BouXboM7xCI4xIFHzOvXb0C/3vlIT081Y57m9XSBmdOWoXftZWPKszNOZ8wRRBCBwgzaHNLtYnIEqE/m0azSNTkacHwt3onlP74b2FYk/dIG4dl1OaRfiAfi8qBLYUXUTnh9kDUTWcEw7TLoyPCEWCGnmBkP3ZD43CL6t6aVY4HpDPcTTvQbGkYiiCCCzyCsA5OTEkTIC7hRVyGjCAcZj1zJ+VjEL7UJQxMMCQccSwItNbB5ahHk4MTBQNwEgz4Zn8JGBtpJWIylTjw1VVciMyHOsBqeBnEmI5f40beZFmdqEd/oWSTxRh2XRMjiq3pfM6K8Tap8iZFkZDhrMX14Gr76ubH42vXjcfWMXAwvcIBnkTMNQe7t+VRHMcYtRKZYqEaK48MVxVi6cQ+aJdvulmr0znZi1rRh6JsXZ2Q2Ed5ORoigW42FTL7fo9sqSNFOnp8gTLww9dEuUpQIoRbZlOk1ZiOckujmaJKyFgHWGRVAZhJw0aQ++NYXL8SNlwzBpCF2pEvcMXavtg0jRgjOcJGTcfdJu+Bn33m1VitZZAlnRGNjY8hkYAQjKfzPCKy0WiuuLDpZmHZitSu2NAPDmXQH9BtOhDFb4cZKw4vjGR5i45S2xa+oEezubP+80Ky3VhBhoPDY0uLF9PPOww033IiFCxfhzju/gS/ecjvWrduAu+76PkaNGme2bok01dISQFWVG7U1PjQ2NUucLrS2uNHQQMHMHELN7Vxc6bRzx1688PwLGDBgEK648moMHjQUt932ZWzYsBlvvTVH/TIvPD+m1S39SO4vuvhiTJkyBU899TS+9OWv4Z5775XhKoDvfe/7KOhZoOYmfrK7yYuGxhYcKPeKwCc8nysGdQ1NoDJXy4d1JmlhmlatXoW5H32Ez137OT2XafLkyZg1a5YeGl5UJPyglI5Pxq2AjK1O6VBsvu++sxo/+OEj+N3vH0Tpvo1YvnwRvnHnn/H4Y+9Rjm0vyy7K1ALTQGUZ00yQz9RDfFkfQgzHmFk7bBPszQyQ7nllXfIaJWUjF47tMjHYpc5VgdAp7rZbBndSaPdghcGDyr3UgouNFKHml1eVvEM46Wg6gL6PjteAd1SxGLLuT5VMGbcrbNhHHE4WqDzXTBGST3FHH+au+7kzOeEcYs62Y5r9XNkW5JH5Nvik8PhheKVgGPGZuAtGmdVyXl+UbnfU8KJcuo3WL3557hS/XOqP4pVrFbljIsQihBFlF6LVy01jJi3N0h1ahB3gCwpr6mdzJFE305l4ALVC4jPKRHF4EuC4pC/zQ7DGwO6XJmHqrSO1Q5VpTBcDlfKgEo39NlaqtHDECCk7p36Fll9fbJJ2PHfpDrz/4Vw9yP6KWeN0u1yMQ8ZKKVvdgivlyy2JBJs3Vz/FyO35k4Zg+pSpmDdvGZat2AIZJvVrrOs2lcg42ITxY4bp6sNAkOOs1Y7CcXK5Nug6z8dD5EylCCI4rdAhWJUyNNl1sJH7PXvBs02iONpwAt68Dsv//Ef0GTEKzqEjdAA2B6BxIKGWmhNY6F6uVnhcXqzLWmuOAPv3AnHxCDhj2p5bXV/YavmTcOTXsHJE+8BAG4s4bjOucCLo2qIIIojgs4RQz5Xxh19/a/E7UHKgVlhNH3rmp0gnl17ON88yzhjnHGWEcaNZ3HM82neoBX5vMwry0hAXx4MbTZjtqwzo3fgj91NRC5TsOYC+PfORmxmncev5IW3uOxHjDhHD6Ui0I/Gxdc+waMH4HIiW5KcmxWHUkF4YPSQJeRl2Yb443lHxJXGK0zXrtocO6uaZSrQSyzMOE1MbOAdIGXCMXr7Ng3eX7kW91wmfz43U6BZcdcFQTB2TA6eknQo+q3yZ1e6AQiAPPC894sW+4p2YMm6EKoyo/GO5MT3tW8BMoO1hG4M+OiaUNVc//Ox1epJDD4Als+sVxpYvbbftqpL8BFA4pAedm/Db4jj9YL64qmPVqlX47//+bzz++ON6Dkh1dTV+97vfabsbOHAgDhw4gPvvvx/Nzc16b61aMuXy2YCVXovM+SYmHycEK1bciXyI1RtKUZCTip45yW32xo0Y2Y0/ATqmxArXKCw4/tS1AIuWr8fIEUORnMTzRdqdhcMkScRhp0tXAg0cMAh95crzYS666CJMnjQFTpc5fJjKDAleWqaI0MJTJSUlYWThKN0O54yO1vbAeLiigspVCqS9+/TRg7yzsnL0WW5OPoYNHy5tY5BumSOPxjCZOI438XFx6N+/P/qIv35yHTZsGK68+iqJp1BXmLDggpJojjqqDJb7lLQMTJg0Cb1791VFlaknq/5MeoYNHaZnMsXzy3ZSSGybA/oPkLgGiF2Cpl3HTvFH4drpjEZGRhoGDe6N6eePwcSJw8XcR9wXIDs7ic7CcHTBcvVTS0sQRRvXYeLYEUhLZh1IO7KzHXG8EV8hb0wny8rcMw2sLFMqvOeB5/pMf8xYpWBdi5F1vbVoB0YMHYSkBLFgQavb7jQyKx6BxMOgfWJVXi9j54ZyNDfUIDctGuNG9kGSHhdE9wy7a/DJsZ+GQwqZ7dXmRKOMaZs2bMOwweagbgOTLsm5ZKV7IR4Lph0wjFCYYubWTK4QYl1QkbDvQLWeqXTelJHqhuAoTHSOnrfhVs1u6WtLpa+NGo/MVJnxpfj5Hkmv8twrZt6rXYise/ZXfiqfIsr85XuRmZGB4QOz0cg31FJ9bAlU0vDKsOhe/iX9R4fnlQmP4s7mPU2orKrCpImDVAnCs/i4UJJXdS/+mSZeOxPt2Twra71YvXYDpk8erZ/rN7G255p3vLVsmD6W48q12/QcwWGD2g/qZpr5rN33qcPMqRKW9lUBL6GAeYmNs+sZVytWrENsbCbKj7Tgo3kLMWLYAMy6cCLipHnxnRvdWnIfpTa1YEVL+NJDTS+TqHr3zJTySMCHHy8UWTIJTW4HPvjwI4yU8EaNGKArGum5cxvR8Hg56kF3YMJsC+QEiJJCMaUSQQQRnAawO1GpJENDwCskI0ZDPR6/+krc8MUvIvWb3zVuPn4XG7//bRT+/BfAzV+VEVRmMnJ21FTLYy6p1P6v873+GNRVAskZwJvP4fmf/wdueeE1YPh4GX35Fl/iiuVMa3V+seOrAHuMTlr6paUQOOiy69v59l/fksgzSghc0kmBU98wSjg0U2qIIIIIPgMw448h6b9kVuFAo3TjjxYfRHPNQdx0xTjYhZOx68tDuqEQQQqqIoJvIluE61uy+jDcDRWYPm4wMtJkjOC4FAqZTJkFLwcTGTbWbvdi+6a1uPzCSchKl6HHL+OfCr92MyLRXbdhxRQOhiJ25K6U8ZI0S5gc1pSpDbTq8noKRM2+aAQcUXj8iTdFABuPqSPyNDSKfwahRH9iMBwrTF4tYlqtQnIqg7y9DHh6zkas3d2kgmU06nDJhHx8+epRSIsTB1InQXLsofG2e/wfFUY+KWcnFmxtwuK5b+NH37wZsXxjqfYiJEtyuPqCbo9WRnSMxCrPztAzRtRerpwTSNJmPJI3rlqY/f4ONDY14vbrx2qRdBWGBYvl1PbWpuzi1GcJ0scH3TMP/Gz7T3/6Uw3jxhtvVMF///79qmT62te+ptuKdu3apc9uvvlm/PjHP9bwW1paVDETExOjcVrlYYVrpYfozISHP/PJfGulmWYr7fTT2d8nAeN0u93YsGED/vCHP2D06NH40Y9+hOjo6LY0dwkmlfUkldEiSfvrU4sweVQfTB1VYOxD6eUKlTMxxTNtXA1DhU5JNfDrPz6BW75wAwpyk7koUtJNN+pS3RPsn6SgtFduE3NJOyZLQwGVflpaeH4anzl0rGoXtKMQGxNq6+KO4wHhpUZGBqvw7TZUBrHNuKThsl+4uL9E0NzKryUZRRWhK3qEnA6blLVDi0v9S5DNzR4Ng3WuftgdpD/QjyvaqSwVd/7xsOKOoALMJm0vCi1Nfl2RxLwwHOaBX9vUT7HrPdNiRiypahXQGRyTxVzTjltdubvOgC5JpkwMjGLP7rKhqsqPl577O+762hfQryAJAeH9bLrkKNy9gVkRYrUtktVPWVYkPrPuDbQM5La0CnjlxTdxyw1XIz9b/GoDYxjtbtvBMLoArUkSf4OEu2IP8LcXVqO1qhTTR2Tha184DxnxfKyO2px3hpX6EyIohSjp9NtjcagZePap2fj8tRehb14SHwox/3TIvt1VPj4ZyJ+ToqIc+iJ54fJdWLJsJf7jnltDuWMKxCRGrZIwhN/SZXUD8LP/flDqPFbm4QTYA83SbritSvIg7YrhWDDti4oMhiPtjqoiKe/YpDysXr8TCTHQ8/KqaitprX2y/SWP+JIEqV+WibR/3pjX2Vw1Kz6c6Sg+UCMiUAXGFPZFQ2O1pt9pl3D44kfANIePq+HmKKkXnptY2xRAXYMHv/6v7yEnkTEyNe31oP1drC0bKqO4deyhx2YjNycTN149PfRExm3xSjGHoZxpUGlWWe/DypXbsGzZJj33aPyE0bh45jBtv9w6SiWSNim+VGoDzaZ22io9YJN88QUhMG9JMT78eIHYtWJc4UBcdvFk5KbHqS+WBfN2dP4kvM6N5wwgslIpgghOI6wBmgOBjYoifmr5vTcQnPsu+sXKINraBKSlAYcPoOqV55E1aZKMOhWof3M2ooPivqAXA0FUQMxecbt4Lopffgae3duRkJQAZGeIdLIJePM1RK9bjXR+srauHqrydkrMq5ai5rXn0bJhpTnENjMLfp4tIOnhglgdnCSFOiSLOYpKr/17sXfuXKQyXfQjnFxw8zpU79iKuLx8uqRj5iqCCCL4TIDshUC6LXkSl3CqbiRi965ipKdlCbmUYTOSFlcsGecUArkKSEYf7D/UBL+nBb17ZCEu1rC2oVAV9MpxhLwkt76t31yGGIcfhcNyjANyShxvhMgw6/lxFALCSM9MYNxHEZ+H38tPG7VzhHTGBPBQUR3PyPCKlTcgQqc440olHirOlUrqXlMsXJleLWguuknh/sOJdhZZ9wJltO2okaJ+a/5OrNteAbffCbuvHsN7JeLKGcPQN0ckZxEulbkMrRpgJpjVbkGFETtKjnixf88uTB0/XN8JhCsceLHuOzKWHSPho65If5h9gmatN4oOhiHetrtSVw6NGprX5uRYsNJAojBNxQzJQsf0HQ1rpc727dt1hdKdd96JG264ATl6oHsurrnmGowbN06VRnV1dXjrrbcwdOhQXRlCPPnkk3jhhRdw4YUXqpBEWIJMeNq6Skf4M0shRb+W2aLTAStNzMP//d//4YEHHsDChQt1VQ6VZLwSx42PYcjz461UUqPU4emGVTbslzVcqbRiPUYMH4ok/RJSW/QhMK9SdqFfvvmnEOx2+1Df6IG7lVsd/frM4SQnw7ZMxyxvth2jkKF7ZoZxMl8Mw8ob26fPZ7ZK2m12HetIHvHjFQGYyiH2XKaEV6af7YzCcavbi5ZWj5BX46E9A+YqJV3hIfEzDRx/vL5QOliumshwyAgkUl+r5IdeWIdMp0fS5vX6JEi2I6bNpINu+NwrUnJLq1/S4dNznahka2kVexFKNS3GtaBzfAZcqdTUHMCWjeswYcwwXanEs9vCP2TAeKzkMt00mzGDbowigVcDmo0bC6xTjrlcqbRlyw6MGDZIv2amSVN3IcdtSRWDZbagAdIPn0lg8t8gNvNW12L99lJEoxnTC3tj+IBMmdOMc5Z952AshELrBmS8ljjDVyoN72KlEkM7uk5PDxguFZMcWov3V2Nf2SFMnzKCMfJpewo6RR9+SzMPgV68bD0mTpmKSZPGYeCAXhgwoJ+uguOKPK7+GzRgoFB/MdOuPwYN7Cf3hvr364v+g4aj7GAFhgzshQtnTkJ+fh6GjRyBQYMGY7DQoEGDJEz6HYgBQiacARKOmAf1x2AJp1/f3rpaqsXNWcKN6669ROx6YsjgARgqYQwZPETCGoghQoMHDdCr0mBJm9zrMwlz2NAhiE9MQ+n+A1IeY5B0EiuVVq3dpl8wDV+pxL5lsR1nGsGgH9x6np2djZKSgzhQVoYpkyeiT694Fdf4RT0mnspR1ivT1E7MFQdKuagjGdfEvVvumzwxWL12HfKyU3DjNRcjLzMOAR0L6NiMRl3hTLXdcFgjRAQRRHDawIlBupYjFqisQumTTyDB3YR969fgpT/9LzybN+uoliScf/k//o51v3sA2997Cy9/62tomv0y9FVFczUO/r978cx3vgpbyS5sefpxvH7DVcCGNcDatdg2by5y7AGsevk5PPPYX4DaSmz5/f/gr9/4Gio3rMe+N1/HK1+4id+fBdcJOPkqMmxAoUnvQqPr+3/9M5b8509lPBJOZdMy/PabX0XZjh2qYOJbDh20I4gggs8QTK9lt6eKo1cPIK9HD6zbsgdNwjgHKIypkxBDQ25ABRQB70PjhREqrNAMqJwhw0Q7MnB7ShpQeeQQRo8aaoaUkH8rDC7t54GgJBOSRfTdFXV21xkmXI1Mk8d7CpfME69yESulkFsTCp9RkcBlWhTKec9rd8nyaxGFDm7H4QpRLjeKD1GC2gWiZPwU05ptAazcchjugEvGYh9yU4GrZw7HkD4JIltRWCZMuhVdZfkY0K/lGJP5a/Nr2UuJiiDdGaZ+eA1ZnBB0qI3EpE8odJFyturt+GA6uFKI5xxRWXLkyBElminwn4jptVaHUNjds2ePhlVVVYXa2loNkwcop6SkdFAW8XPxVERRqXDw4EGZPtdiyZIl2LZtm362nucyWW4bGhpQXl6u7g4fPtxWbnzG1UJ8zjjpj6uiGDbTzPjpj37q6+vV/ScFw2U43OK3fPly3Hrrrbj++uuRkJCgeSFORzxnC1Zb6RJt1U6DIY47dodDWBCXnm9kd7hkjDJ1z3DMiguSCZWr8pziloIVbXwBs9qbxJWBPK+EZ9dQoWSBZcwzbbRNhezCr7otSZ7xzCA70yBEMw//pULJwEqHuTfnmJmD47uClS/mxSiPhF8U9/awVUNtfils2jg+B+S5OafK4eTKKYmDZ6bJkMRxuD3VxwdXIB2rzVAp1PGRqYN292a8UBwVhFgwrTQelW1ahHnUsYJKnNCYwfC1IEy9aW6kbLxSTWWNwMcrvVi9cYcE70ZmigtDBuTrF+rUO92ay2nGUZk445DSbcuMvtwRnGzerFQ7pK0UjhiIiUOTMW54HsaP7IlJo3thUmE+JhfmhSgfU4SmjpTryAK574mJhb0xeUxfTBiSgILcTPTrlYdRg3P0PJ+pEsaUET0waXguJg7L0atFE0fkYoLQ+OE5mDAsT+KU8Eb3w6h+0RjUJw8F2cmYMDgbU0b1x7QR/cR/AcYPzWkj+gmnScMZTw9MHNkLowblYcSI4fqS4Fh96twEVxxKXUT5kJEE3PKFS3HppdNEJJuHZcu3o7oxqG1dp33yMVp7HPPFpxLn2nZ+gxvhGmSqWrl6D+a89RqmThiBr37pBuRlxapPbgcmTAmdbMs5fTCpiCCCCE4rdL4j39e7P3r96c84FBOPnld8Dp9/9S24zpspPc+p86iz/0CMeeIpTHjscYzNzsLcJx4FmmsBGXh2vPw0vvTbX6PXw49g5qsv45K8DGz/zQPArV/GkK99FXu8LZjwXz/Dl558AhjUHz0nTsB3XnwZAx75B0Y99g9MSU7F2uf/qalRlqltnLHuJZXCIKPXIHxbwtv2krh98lG4//IHpMvEX3jblyQPbmGk6PrTG6QiiCCCk0U7k0I+jCuruYNt0IBeOFxdgx0llbqCMQC+KTd9mwybWe0T4nEEvLfM4aAPj998HvdQHbBdBPQ+BenIz3VKeIbbZzid0a7wOJNoZ2sYHUUdXpmqqiZJb4NQPXBAhtlPSgeFyiX/h+VKOiLmCiHalUs8B+RadAB4++NNKK8OwOsLIj7aj1FDczF2RBoSRCjUlRZRRglCsNi6KLpjoN01txNIbR3TLwVniynvzJzz1qJugYpGEi9qwdI9duWGmpgqZriF65e//CUeeeQRfPWrX8VVV12Fr3/967qdjTieosRSKr3++uv4/e9/r4qcxx57DNdddx02bdqEnTt36iqel19+Wd2blSBmJRGVT//7v/+Ld955B/v27cM3v/lN3H333eqPiqWtW7fq1rmbbroJt9xyC770pS/hvffe03BYXlu2bNFtdQ899BDuueceNVPhU1paivvuu09XS33+85/HX//61zZFVTiogKICjWnmlempqKhQopKKZdMZjHf8+PEa5h133KGrsYjjldHJgtV4pmA1p/DrUU2ss6MOMD5MH+6KCP7KnZQV+RQqsP3SHmmO4tY0KSuuDqIbHkzd3vaN3fHI+j3WH2FScrIw+WojSwPeBUx6zXOj4LditKh7aFvJ2ZZ/ot2sXbpDcO3hh7c3ujnarVVmFtrN7co3saMCzO9F0OdBkH2Ee5FUeBYSIxdwVbbKGCq885pdwCsfHcSbH69F+aEKpMUEMHHUAOTmJOkIb9otw7biDqfPNthOTwbhrlkitkCrFLNMPgKKIXp2kZQtt26GE4vfK2Oql1v/5MrxldtHCR7f4Wk2HzlQPWAn0KqN+NMhydI7eLSGwN9SA2dQ5AxBlNS98dENSHhWkJ5Wblk+tkL03AVXTfIzTdCPXFx22RhMmFSItes347kX38XS1aXKMzRz5WFoyuArJr/0CZ7P5vZHoVH6Q41Uw7qig/jnC+9h7ap1GDtsAK6YOR4FGXzR1RU6dM6zCu2W/4owE0nXjZfPPnuNM4LPAqyuzCXR5qW4CAvZOSh3xaMlOUvMvYDoRBlXo9AiwkT6ZVcCvYcCOXnoN20K3Af3C+fdBPeH76AfRba169D0m98BzzyL6oYGlAgzqrFkZOIghZG8nkAqt8xFIfHyy4CsXODdD4F3PkQPRzTq9+wW96GBXCW6Tu0+Nl5mFmFmZ12CO6+9CtUP/RmVwijf+eP7gJgkNAlDYA79jvSXCCL47IAjUTtjwa9QUtfTr2cUBvbvjaKi7dhbUi223I5Bwcu45Zs1KpEoB1hX6w00VycZ4ijCz7g79XDu5Su36MHQhUN6qvJKhRd1H0YUiDSOU6WucCz7ECQtxrdJD5mzZ19diZ/9/j384uGl+J9Hlyn96uHF7fS3E5C6W9KBfvnXxfgl7eX6i7+I+S9L8OuHl8l1uVzX4M9Pb8Dug274ouKEOW9F39xoTB7dGwlS1l4KWN3kscPRYTQO1Z3mMmQ+IzCFaYgICYsq4Kmp/XosUKAtKSnBnDlz9FDtn//853qQ9u7du/H3v/+9zc2xYG35mjlzpp6ZlJeXp4ocKqiGDBmiq4SonOKVYFjWyqa0tDRVzFxwwQXo1asXfvGLX+g5S/THs5eo7OIqoCeeeEK31dHdgw8+iBUrVmhYXKW0efNmfU7FFZVLPASe2+m4sonb06iU4kopKrfCeUyaqTz605/+pGkg3X777br66LbbblMFFbfzEeF8K9Ofmpqq50UxH0wDV12dLKyUdGg3ZwNdRMjaDa9hsiUWdY12HxyJ2lcotYfS1mbkwlUeLG9uraVtQJgxrhwPP1PSwArDjBA6RnX6C3dzLDJjG03WOMnr8UjcaH4tv4wp/C/MbdtzjSnExhnFsV7lGZ8YOt0wFcKyJZ2szNTumu2Zd9wu64DfHo2AMxYeVywag040SHPmVzH3iXC9YnsQr887iIeeLcJjLy3EvOWbUVlZhfT4KFw0bgAuO38okuIAj0dagWQ5lMIuqB10czzqCieZ1dOHUNLNNqbOOekeTAn4Za4xSmp+m80mMgBPwONHLPQZe1EUr/rNt3YKKf0MTBsk/Nxv2alQbOxjtPNLWJzEOG4pSRgBT3s4YnaEtFJ2PUia4Ygb+qHxWEQYb6pAZJkYpeonhRX4mYapCc7JPBTfI/XB2WvyxCG48abPoaBXHyxdsQZPPPsi3nx3EdZs3IEN2w9iz75a7C2rw+Yd5Vi7oRjzFq7DP56ZjffmLkZycio+d+VluPayicjhW0KB9RKP+NTabRhORw2dM+CgxwlZJxQZcTgJ+3wiEodK2npuDZIRRHCmwLk+QKUSB09pc35ntB6Wi8YmbqCXsSYKyvaKvaK5RUZcDvXiKFYm3aZWxMKJ2g2bsHLNWsxfshx7kjOQPXmqOJYwfUF4o2LEyKWRAkfM/2fvKgCjOrb2l6xkYyQkuLtDkZYCLVSpu1JvX93tr9vrq/fVXbAapUKN0iIVWqC4OxR3CBDiWUn+853ZyW6WBCvWvvvByb137sgZvXPOzpxB6Xvvov+ZZ2DUZ19i/Y8jsC4rC1VSuQ1D/Ktiif0gPNCROEC7ZGAKyX1KGnDUMcjekoPqmXVEQjxUQpWiWARHrmty4MDB3wHs2+yvvBLhq0wgS1Gkvzh2bV8PmalV8Osv4/Hn0my1g8FPZFDGpWCABmjFr/gzWyVk7LA/U3KSKG7hnQrIkSFr/IQ52LBuPbp0bINq6QnhAwZMmvwboci/8m/I664Q/e4YVihVOUugsUvGGJrgL4GL1xTizywPFm9OwPxNLszbGI8Fm9yYtyEO8+V+/oYd0wLxs3BjHBZJ2EWb5F5ogdD8jaVCIXmGXOMwd10p5qwJYs6qfCzfVAT40mS4daFu9WQc36MVWjdNlym88MgfBsIIs28QzgPdSKwBex9N24Nzn/BtFDgX2qsIp6GKR3O7ExhuOQdLSkpCkyZNdCVQ165dVUHUq1cv3ZJmlUEVwc7juPWLipt27dppXHpKWIsW6kalExVDdvubbYsMy21UrVq1UoUS/TJtxsETuH7//XdVGHXp0kUm7mmqyOncuTPWrVuHkSNHangqcxgHlVgnnXSSpkmlVn5+vvJEe05URFFJ1KhRI02XsHzzPQ1sv/vuu7ryiNf+/fsr8Zl2n+g3mmfCKpmYN76z7juFREOf5ShcWfZqsIvx7QOQDVWeyNUooyPcMq+xJH9UWcSGZ6/SuMNXU98UPPnPLX2LShe39DuSuso7s1pne+I7+nILuexzJRQv8ZIiSp3yeamIzKrP3aPosiFx6x6vHBDoTmi57AKMsi2y2mPn7Wj7eCsPI36jGlW0L27vpQt/aOWpolwlOm1ZKUbP8WPYxBwM+S0b7wxZjpc+mIm+X/yBH35fiAkzV2Llhmz59PjRtHYizj6uM848tgUapMtQKpI5jadHg2xVRMZuFr9ZvPI5muhGvuQhzLH5a8q74tzsH5iVdX8VJgdl+QhXkSHzMzFbl/lC0k4ZVR6052VCUCywhi/oZJS5EegKNJL2P3Y+xhP+gao0XlfbEEHea9yESYP+jP+dIJyk6bfl068IOy81k+v9Bc6jCK4i5j/asE2SbNer4cYJx7dBnz5noWevI1DkD+KPSdPx5bej8Ob7g/Hf1wfgoy+G4fc/pmCbfBM7dW6Hc889Baed0g2tGqfIeGbiJaKV5Tsqol0dJ/4qdqFW/17g5InHx/KXIv76ZT/EBK/cd8+99Fu3blW3Xf5AO3CwG9Chi82Omnl5SJKOX53GSFNSAa9MeINBFPNoXCp1CK8Mtq5SBNVwokyC0jLhqVod6a+8imOHfIljvhyCo777GZ2efEbei59QCRI5OPtox0OwcQN+ffctXCgDVO83XkWtvu+j9iEdkVvEXytMN+dvFPy9gh8Hqph0lSt/gUjwAhs2YvqAD9C465GYu3oTNgz5hkMgXH7+usHw+2dAcuDAwb6ATB/jebpLCZJk2Oh+aAc0qt8QkybPxORpq7CZK+XdtBniUwGMcyGeVMIJIWTc0rmRO0HicOtS7SWrghg+apZ+T4/p1RV1a6TIKFGCBNonkaEidv5ihKLtBbl9CbKgI1f4G0++dMIc75U5L8+5MUKFiFksHTNJlvkDba/EUpy9SjiSToiVRPiQMTskglNxyI+iUDECpX6ZkEusMvZz63AoVIitG5fCG8pC+yZp6Nq2KhLJnKTNMlDuyKgQi1vn4nwfhp2h6DclTIS9Wr+c3+jqjKiwFWGvTS4lmmieWIplPEXdVQTax0jUk0qBvNxcVKtWTX8A5DYwC9ZNNCzf1qg3FVDcMma3jdktZ/aHQwvO8axSjSt9qASigkjvC+Re/NMmErexvfXWW7j0sstUccStcgkJPtStW1fjYJyMh0fL857p0YYPt+/xnsokbqdbLvHwZLZoHnhPYprkmzakuFKL6fKeV+YjNkw0ovNh38X6qRBhL9GluUvh9gaikuGtUWqYZ4L3JDsWaH8Iu9m5OVktI/HGq+qQlEy5WkWB+heKKAX4ngoi6d/ynn4rIzNGhUnCmWvkX9mqISGOZdHENHZGhjPDFfNWOUXKhf6tW3RYKh14JTRqrd3tKRxC/xI2TASRZ8nuDmHLqWLQPfKOsfIgSwN5kv7GqXBWNvDl9zPw9ocj8NHX4/H5iCn49pdpGDPjT8xZsQHr5EPEGWrNjGS0bVoTp/RqgyvP7o4jO9bREzK5hYvZDXeDslTJVkVk6pN1xCufoylS9+pZQL5ZRGoXyyYSxo7zf5CBvFv+JUPkuiyfbDBh4o8aZcSSDbsRukOBBSXQViK3nAdoGfHZXsVd3Xild0mXM41SmSsQ3GJvFUwRmHgNY5WTTWdXEN20qcxhFBVjd2L9a9BiFkZI8VKubFM8lZXG/1nKNau50LlDfZxx6rG4qE8fXH3DFeh50rmo16IzTjqrDy654nyccvLR6Na1hczXUmV+ZeItq4jIpQy2ncbS/kJsTf+tYQuOe9X5cefE4KefftJJBgdT7mPnXv5LLrkEo0aNUr/bD7IOHPx1sFWFuEKIA3tCEpLlo1o0dZKeBIdlC4GkRORz0A1PkOlbZisIiOCGQDw8Z56HmVu3ofTtN4H5M4GVy4AvPsGqz78UvxImpQpSuNdk3K/A7CnAmqVILfGLwCjx8NS4r77A/NlzJO1k83UvdaFYRtqAcOaXEalYrgGmWZwnSRdjymuvYm5OAeJefAWdLuyDQf36AfNmIo3bDfSX0v03KDlw4OCvgv2Vn3fbb2WyCBqpjYNPhphqGUDPI9uhSZNGmDFrAX4ZOwMzFuVhQy6QLbI5j+TloffFIS+KZJjIlcn86q3AgnXAb5NWYdRvExHnjpc4uqBN41QkeaDH+RNM8cCMFjZVuQr/unJJZ7kGPGa/SZ1ktGuUhDZ13Whb14W29YT0Gq/XdtuRW8iD9kK8tqtnScLLldSmjgsdJc6OjZPQroEbbRrEo1X9OCGXkPhrkIBOzVLQs2NNHH1YI7Vt5SkNwkUBVfgii9GT9VjaMaJ9cPIoAlQls7p9MbFUQUKvMseyS8V2wDl54JyLVxpNJnyJ5mj/oHwjjfBdcWgbq31HA8u852lghI2bCiM7r7OrEagQJLiyicosNdgsblz5QQGysKgIrdu0wYMPPoiBAwegb7++ePvtt/HDD8Nw+eVXaByusPFlruTjM1ctMeyRPXvio48+UhtNI0aMwE033YQxY8eqsioaa9as0S1zfH/77bfjjjvuwC233IJbb70VDz30EBbyYAxBRXNSKq1oIDwYXnlvFWgV+d0RrP/dDfdXoU2jhIZrKcCaerEsUOSlQojuJPMs9SjlF5IXQSq3wxQKyjVM0ffc4kYqc5d7KsUZnmTvo+OKJfqxxGfGQx6pwDErR9h/KifyvWtE7xKmHEm7r4BsmMh9+bDa5pW3yiCh6Hc/Q0/7tNBBgiT/xdnvdyE3N4A8HrMmz+74EKqmu1GnlhcdWmXgxCOaoM9J7XH7pd3Q5+Sm6NAsEbXke5XAcdMK1WEw58w+66kiYvxcaGtIyqKMwm70ox7D5ck7+UOFU7RB978TmB2rRCOYK6M4sspNA81rDPGPK9xeSko5HrNsBFJxDEmK9m/dmBaDlRFtmZkYBbzae4OyYt9j7DjwjuMuz8s+B8tDCsn0Q/ON5jZAKlm9QjzmI0XmJrUzpS/IQ1ZBCEvWbUZ2QTGqVgGqpsh3S8J7ZEbmtvVRlgU+m5/FDhawPfzjwOP7uDyZBhG5352/DLFCf/31V3zxxRdo1qyZLlN24GBfgR1LP1E8iahKNfQ6+zxMmDEDrzz4AFbMmw2kpWN1cjrykrg9Tb5uXLWUVgNbU2VkCUrozt1wxF33YdDk6fjwnvvx+X0P4plXX8fSrM3iX76sXbqiybG9MejjD/H+Q/8nUYRw2L+ux0cjf8YX116DkV99hdz6jZCXki6McPLuQrIMZlzXpIOYpJnIgSglEZg8Hr/NmY2T778faNoMuOJyVGncCCMHD5aMyOS7VAQVCePAgYO/K9iDSTLVozJakCxdv1vXhjjttN5ITE7G+InTMPTHCfjxp9kYM2kbZi9ahzlC0+ZsxthJ6/Dzb9Pw869jdbVFl85tcXSvdmhQS8YHRrbdnGY/T3JikjPTN8LmW8Y9GTYvPedQ3Hud0DXt8eD1h+GhG7ri4ZsOxyM3d9crn+keoUOFupSjB8Jknvm+K+6/7nAJfyQeveVoPHLTUXhU7k2c3fHQzT3w6K29cM35h6BlfbOy1BXvNuVWCZidXStBTieNTwoO/FV+R9jbAqbl0Vx3PrUNymyfq2T9cuUJWkSJy6OrZv2hkPl1nG4keR8K39ur3ofDqaUQERADdCRcbpSIIFgs8fBKcFUuT5JiXEyDfkqFcvLz4UlM0hVTRI3atbF+Uxay8/JRp3YdNG7UWO0Y5RUWIbewQOKLQ1EoIFcRCLwJIiNzPQVQ4Pdj9tx5upqJNpIGff458iXM8FGjND8Et9dQicN56QPyjeUc9LPPPlOy9wP6D0CHDh3Uv12NZBU/fKYCi1vtuAKKSrHMTJknhN/tKjS+CipofygdQlJYQf7hrEiS431Qiod1FyyVshQ3brdREj8h6R2GpN7kvXFjmRslCyn6PproTrJh9oTK4pDyir63xJxsR8L7jijIcBW4a9uuwD2aNGwl/rh9iWROkxM+xWN5opKMbUXGHF0ZL4HKIBHvRTA2NsnEpETkFRTojxO6Gl/6HHlJTQYOadUQXds1wnGHNcfpR7fHhacehmsvPAp3XnU0bru8Gy44oTGO7piBhhkyPY0vgbukmD1duK6EV9UOSQbLrixR45e6rPKguyXxKpcyL1I+HCOyt8q3MSlZT/D7O0JzJpmy3dqOI7af82qUThGS/2UFofeCaFs9trwi111BOKIoMMZdi6G8LyqZiZ2NVTrERbN9wEG+LfGv8C/faOaCI430Cp2duOQ1r0tWAlPnLceqTYWYOH0Rlm8w7+XrKH5LzMYXW4g7LooDhl3/Iv2NwA/vGWecoXvmf/jhB3z77be6FY572HnkLH8h4p56rmDanY+yAwe7Cn6O3Nrr5a7UjcTb78HR7/TDHX37o+FxxwM16+KaT79ASq+jxI+MEl752p5zOe7q/4l80VLFzQX3TXfgkkFf4/J7H8MFEv6B74biqFtuk/GlCKhWG7WfeRkXv/QqruWJcB26ALfcj8s/GYLz77oPJ/T7AF3f74/THns8PADp0MUbIXtPkg9+h/a4+/XXkNmnD1CYD9Svh6v798MJV1wpacnHfCcDuQMHDg5W2P5O2NkIycy8+LZmdeDons1xxqm90LJFcxEEvJizaA3mLc3CgmWbMHn6AqxYsRp1amaid69DcULPNmjXLB3VUmTYYhwSlZLGaHHgxwxyIFNm+Wvyzwln9TSgThXJc1LFVEOG4V2lmlGkbolALaE6Ek9dofpyX0+udKtNkvtkK6dIeVHgiYi/rJM9QaQubY73J2xqO0/V5C8oc6784mIUCgWCQeU8X74xhf6gCKJJ+p5u+ttr2b0h1p+5N6XF8AGRVHl6EaEKBXlBRVBQbujK9wVFxfAHS9SNxl6bNG2myqgBH32EcVOm6hbxXkcdgxatWuPd997Dt8N+xNiJk/HJF19i4EcfYtmyZaqsyy8qQn5hIQIBni0meRHamp2Njz/5CO8OGIjfJ03Cb2PGiQAfQrPmLRDv4W/L5NvUi0/mpRmZmahRowaqV6+uW/7stWpG1TIj5Bb87gYljzTwPWbMGJ3Hrlq1Sumrr77CzJkzddvc/l51tDtQIUpAHZ/PlyhERR6Qlubi72pIlb6YKOOIT/pPNNGNxN/caO4xWfyRknaDbJg9oYriI1m+YvlVkv69I2Je9D4mnMYX47eMwvFq2JhwSjKuJMk1Ufy4ZSrnS4pDSmp8GSWnupCc4tJy9spgzaZi7ECZvrQ3wSkmWyLTYRtfv2GD9G3zjkpY9gWuFj2ycxVcc357XHlmQ5x9VHWceFg6ujaLQ5taMmYKn5kJ0i6E3NyuLUQZzSgLjcI5mgiK6MZiTXz4Kv8kPQrgulrHfgL4QHlPiffG3cxvOU/nFdi8JU/7qc9HBZyFTe3ghOG8fLnYebtRDvGeP3PrT91K28G+CL/kuLL93L/CkJUgUmbRY5TyKH+2i3q3EInv4IbN5PblaMdG5oXK9S3FwOwFa7B63TYkJNfCstU5mP/nav0Rxp5mWQa2XYWt0YMHcVLZf5fa2S3w+NbffvtNTwihIcajjz5afxHi0bX//ve/dYk0Bytr0NGBg30GjunSHuGVkcAtX9WQjB7sddzqVioTapkUJ7rEned7us0vrPqzjr9QrvIpTpBZGN15UpD4KU1INGNKMQ3A0r/4CcmVVhD5seTcVNOTOLnFbsEC5CyYhyRXvEzEA8KOfHBLQ/INLUWOBKvWpjVcLTtI+jJ8STr+ogIJKrMV+TibyMwkfic/gjtw4OCgBQchEmEnNLSCZCAyvQi1IuCLQ748/zwRGDpyJorzNuO4bi1x+vF10VCEOx2i5H14p5sBIzkYxoYwH5zRFHEmJoy+03cYDu/WHT06ZOivncFgoX73KaLYiWnslMy4Wti3vEbe8KlsJTrHXAokelUXIfuSV/VtKM5jfmnkY5gHTtxNfYTHWb7aCSKx8vS4kPDgw9j5wLifv8P/3XgGuNvL/GgmcYpnKyBsLyTsKQwHtGbEGdQXI2chP68AV57TjZNKSYfvKQwaxAmPKswJ3n3hReRs2Yw7br0Fntp1UVpYhJ+H/4C5M6billtuhYurcHSlUVSjshkmaFhFGuDK6TPxymuv4sKL+uDwE0+SF6XYuHARnnzqKZx+2qnofcGFKFy7Fvc/+ADOO/989Dz1NPWzbekyfPXtt/jl99/QoklT3Hz99cho1AjL5s/Dpx98hNytW+H2+bA5JxtXXXEFDjuht4SLx5KZ0/DeG2/h3DPOQtfTJS79XrqxYtIkvDdwAJavWQuffG/PO/MsnHzhhaZD8VhEgstbRMoNhIIq8EYEPlMv3OqlqwZittzQzhJPn+PJeDQGzlX3vHKFFY2M8xS55s2bV/oDaSnnEeJeIMm9MeA3dO/YGL06NZB0ZRawHz7oVOpxW+yKrcA9Dz+Po3r2RM3MdKkF6YMuj8xH/JJ3EZlUMWjLhPfyJPzZU7AONCoynFx+JceuI7bcdy0eloNtN8JLePDhGnK2GyofPR6Z78UiTuaL0sZc7kTk5uRh9PCv8eRDt6NRg3T4/cW6As7E/dfBcYYrzXL8wITJi7F1yzac2PtQZMj0lSuWVHkeLBU+3TIF5jbOkEyBZTy0Z9hr/uTCdqw3FryvjMft6yUCvttR2PKgeVGeQjfit3nISHbhGPnuJckU3Y7Tkbh2Lb7dgRXDQ/IdoRHmn8YsxIRJU/Hg3ReXjYLKBcsxJvlYbrJygP++9Couu6wP2jetiWDIL9N6jtLGp81JpWB1yND11NvfoUWD6jj/1O7wF/vhpe3V3YBfJhVerxtfDpuJVcvn486b+2ja0SW5M7DbcQiYsyIPfT/4DPfd8S/UrsKQhkk7ftJfWbxy45fCov2h1977CrVrSR7O6ClvCJkDiGduW96V9Pc2yKMlgibMKWdR9zp9KdDvi3FYvZUqJK98V/3o3NyDS09vjyY1UsQXreK65Hsv/SRqCOFPL+Ki/w4G/GOVSgSX6T/99NNqfJHGu4877jj9OPMYWH6YHYWSg/0C28M4eWB3C0tkXJZsDeFxiKMr3exEisF4epEqljhg8GNLIUHfmgGUk0adwMtklB+deI6uJQGEZEJbGChGiscH/3df4isef5ySjECRH9wK4BZeQhLdcvmCtbvgPHS95CqNkZM9TZmDtdwhjiKk4deBAwd/V3DU4AhhINOq8uMIhxC52SbXtfnAB0NWY/zU5fC5S1E7LYQbL+uFw5vEo1iEQK/LqxNbhtcx4iCBnWDyGqB0I0PXW/1+QOeuh6Nn+0ydePJ4Y04oTQChmAzQiRRBxTmMuJoQOxfQbaxUGtjQtj74XHE6OweVSiKgxSdizBw/Jo8diduvOU11GbRrsq+VSkXyl6JGZUolfrkIFxVB2dtQsmUL4mtUF5nAj6LZM+Ctko749u1lsrYNmyaMQ/UmTYGmLdQvaGOoUUOgXl1g1WqULluOuFatgKrpwNy5KMzORiKfq2WieOIkVU4kderEzGLrxImoUqUKXG3bAvn52DhzBmrUrAm0ked167FlwXxk1JLnps2BFSuwZfUqZLSTd9XFbdYc5G7aiNTOHYFk+WZOn672CFMOked4mTNOmYZSEYbjOnbQH2+C06bDnZ4GNJO4hO/iRYuRULcB0ESet2wVYT4Hqa2aqBjEcuMX1cCUoYFtH9u3BSoMWH92vspn2oPalbo80EolI8DFYWMuMHDQN9iwfhO8XMGlDcPwX+4X+IMc3GK2M3CFXTSiRSztgzFxxPqvGKasqECi/jq61PjIra8hqevoMZCgX/rk4QtBfxFqZSTi6kvPQfXMJFWU7W2lHbfpsVmu2hTC0GG/4tBObdCxXR2zakjGKlWoagbEI4uBbLIdRpWRkZjDfgi+Y6Qx/SKC6PKz/hiW7jZeupl46VIWE+PW/6wXYOzMLIybMh1nn3QUmtfx6pTd6HnLhdrrsPVllUo/j1uE8ROm7BWlEg1DR5TVMfmvCHtZqfTF9zNUqXTXLRdp2jb9XSlNfrPZRPdEqcSzj14/SJVKZeDJiNJ318mc67tfV+KHX2YgGFdF+pFH8uZHUulqXHpGJ5x2TDskCcM2v9FwlEr7AcwSiYqj9957T40g0rDhmWeeiddee033tldUOQ4c7CtwCORHgR8IDu92cGELJPHevrfP1i3anxVJ6G4pFvTPH+r5a3wyp/X58pUplOk/R14NIKmw29O2ikdiS+ZKKKE4+Wjox8dsHTDpUtnFFAl7deDAwd8L7M2Rq1EeG3CVhD3pJltoxKQgvhg2GVvyXPorcnpCMXp3rYZLTpOJjZvGIt06AefiC44Ie1ku2WPYbzqvIRobkaHstb7D0KV7d/Rsm6FDHqXZeJeMaEYyU9iSIYwQtutQvzKL5dk5Oy6GyIhqiPckO+LvKbh6NQC/OwnjZhVg+vhfcPNVp8EnQ/n+X6mUjyvP6c5JpaRj8sbvHoVaD426yDdo8bBhqCHl73PHYdWaFSgWQbhJ8+bIy8nGpvXr2BjRqEFDTJsyFb+NHo22Hdqj2xHdMWniJIwfO05tYXbr1g05ublqs6Vu3TqSArBh0yYU+YvRQMJSYODWG65Wb9i4ka72Wb16tSozGtVvgML8AqyTtFJSU+V9Y2zNysLylStRrXp11K9bD1vWr8e6DetRv0ljJCenYPnyFcjOyUVT4TPZ7UHW2vW6iqlxyxYozM3TlU2SKOrUrwe/5HH9mnVISkhE3UZNsTwnD/6MDLQ44Tg9HIO17anwq23xV9tDeVCpRJtShRKlKpU6NUavjvtPqcRWwNyadiBXaQacYmgO6fA3AbvNviytHbUIi+j0WXSWAqqgM+BYHK2zsn7USRLR+aMM3F7O+/YJQigOBFESn4BZ8zZjxvSp6N61E9q2qq5p85tBOZqrlMiZ6RERXnSMEieWt45bwjOvdthi/nhr3+u9EPNIioVVqpn39ClXebBlRBcZilT5vWBxAf6Qcadl65bo1LYGUjmwsWKiynNfgeMzwe8WNyX8PGYhxv+llUqvhJVKtSRMSMLYWHZHqTQULRpUCyuViuFN4LKtnYYuw95UKs1elou+H32O+6OUSqW0VyvQb37Yr8YrV66M88rrg3WlkoWpGxcWrPVj6C9zsGzVNuk/Hvkuyjcy0YvkuGwc1joTxx/RFnUyvdJ3pBVTQxsF07qZ9wORo+2xH7rL/oedPC1evFgNITZo0ADdZWI5duxYfP3112FfDhzsP7CjcQjkVQe+mPvYZ97bMJbse8L6se6WbHj+ppBAF37FuWm/anWhWkBmbSG5Vgtfq3CrgXws4qlUkq9o+Dxrs3LKDlPRw6ADBw7+frAjgxkp7JNOScITfGKLyMdz5i3DZp48WeoXATAOhcUlmDFjETaszYPHZRRKhMZmIjkoQTaTk5JQVFSoQgMn45x4bgdbGPs0LzZyMmBpTxEdVuoy3qgpgsEgklOSynZQ7w9wAq9FF6Wki4YpVvlLo7epKWjerRs2bt2CJRs2oNnpp6Ptscdg7epVMokG2px5Htr07IWJs2dh0cb1qNKkMbb4i/HH5EnYmJeDas2bYn1+HsZNn4bMhvXR6tyzkSN5Xsm4evRAuwsuwLqcbfhz3Vo0PfVktD3lJL3f5vfjkDNOR+vOnTFlwXwUiqDT9uKL0bBZM8xeuACezAx0uuJyVKtTG2NnTkdCw7poe+lFKCwJYsbiRWjaozu6nH8eNufmYt7KFah97FFod/ppWLNpE7ZI+o17H4/Gh3XBkuVLkVsaRPM+56Fuh9aYtXgOfJkpaNHjUC0Lnvb3V0UZCp/RxJPodgSrJDUtJvygiG5D+w7MLfsh5yPx0ki5W5/3XK1F47RuIc/fhMjvnhDzHU0V+XGL+84oOqwtN7onSgEnSbnG8kvyhknvpTKoUIo9QW1vwysDEBU1LZtkolHDRpgxeylG/boUS1eVoqBIeJb0PR6XboPzeuJVwWWJvHGlDuVmXvnslWkpryRu61WlpLzTqxAnwbzyOZa4KcAtHymPEK1PkBLEnTo1Uo7ws2hVAKP/WIHxk6agQZ2aaNeshrZRhfjfPxBmhPiX4KpEbme1hxBU+N2qBPQaffrenv+QwMxHh7VM8BpL28MqyirCzjmKCVsWwLqbH0l2BP6wzjK0p4xa7Hl57AsYXupU8+K4Hm1x6TnH4NhuLdC+SRpOPLINzjv1KHRq0woJbvnGS9atYjQaVql0sOAfu1IpKytLVygNHz4cTz31FBo2bKhHvvJI2XfeeQddunTRxkW/B1cjc7AzcAVaKBSUejN1HTtERRr0wd+0oznfMbf0GfHNO+s/OhwNIvLZJeVCCsrXuUhm/iXy5Y38KmT8yKdHJhxBJMiTKyTT3VL5ascFUSJkBiqbSnSY6JQrAt/vCDbszvztS0Tzv2M+tn9rXPix8nK2c0Dz4cDBX0MpQrpSicpkHrs+aW4+fpq0DGuzi7Elt1B/0aua6EY1Tx6O6dIIh3dpooZ2OWfdDwsddgv2W85rKCQCvAxnoyeswrotW3F09w6oWxUIBoIi1AjjqgQxfTd6NLBC+K7CxsBtKTuGjbWisWdnYSsC4yFJXqQuVmcDY6ctQXpiCEcf1kJXKkWXh8Xem+tInFJYnLhTOPt85Fzk5uXiKt3+xlUw9GNsdjF1kePMTTAIbN4MZTC9CiBhkJ8nUnGqeJLxNOQHiuQ5hZaJpaHlyT2Pz0+VZ0qVOfJcVCz+E410yntpoyKFmWLk0U20XJwiVCzvcnKAZAnLX9lpZ5BpMW7an6GEG5Ic8BhENha/3PMQDPLG93wuZtrCJ/dr5QivVYRPpsV85BWYePkdKCqUZ0krI0Oexa0gn/YXgMxq4kfipy2tcD0bk8WVwX6jKwZXGFn7S7Yuy684snVt3lHpVCoSN1cqvTlgLLp3bBDe/sb5k+R5v4P8sVXYlkE+LVneD2ZEl3VFYL5iENX/FBX1wVg/FaFcuHCZMZy6S6vSObGMe9SmbAeOA7zua3nH5j/enO4naS78Mx9z5i7WVylVfMKBv+zbYQVl8mz54nhlxy6uKt0hxA/nvBGEy1HH92gVLt0tSfeVsgoJg6FQKYqL/Lo1sE3LpujcoY6OZ/y+cXjZX7DVz2GFw8u02RswavQYXHjOCWhUt4opE+ZV/JXLriD6kfebZdh57r8v4fIrLkG7pjXFheON9RUTeLtnQXil0tNvDUWLhtVw3qndESgugkdXKlWGcDzhfBDcHcQtc0O+n46Vy+bhzlsvCb+hp+h0K+gzYfA0Q451c5bloN+HX+L+O69CTa5UKpWxmWNquJ0wRk2a5SNE0x7rNpXgq6+/wSHt28j3vxVnOpIq0z1wp1mX8RmGLQUqD9kn+D2dOS8fS5etRMeOrVFXPh883IM/FDGcHtwbXXQCZ/vbPoRtYMTHH3+MRx99FIcddhhefvllPfXtueeeU5tKPPr1wQcfRFpaWrkwDhw4cLDriEygHDj4O4LqZp2UlLp11dGqjaXYlFuKLUVxmLVgCdxxAbRtWgfpCaXITHGjbq0Ule0PdqVSCbe/yf9FK/wYM2EqOrdvjC7taqEkEICL0gIzoOC3337/w5NT+2gRniFRd1EhYmdQ282odmWKFZtoBBravpYHcyv8l8rs3+WV/AJT5mdh5oKlOKpbBzSo7tM62reryJg+raTIhFfS+WLUPOTk5uBf53STV2bbXVl50rtAi4/yDZVE0fY5+MIaY9G9MUGUhHjqqDixMvRIcvHEOqOSJCDCMzPI466YedoNsrCZpjtX8TBxSmmsPCqGGA+VqJTedDlD2D9BCZcSCf0yHK3Sc2kEvTA++uWSCPLIFcBknO/koiAf5E/8xenSAnkpcYWE4qi0UtBd2qn8JW2Pyt9YRE/Zt5+72nfGnfZU2FELhd4YMC6sVKovcbB8pVwOCFhfpHAZ7iS/Bxd2xmukbsohqs60Ycci+n1l2C6cPEufYEhuoWFdU8G4P7Y17hjkSLmSbh2nAnNuHrBiZQ6ytmzFpi1ZKCwqlq7hgj8YMt1O8mbbMrftso3zhzurVCoVT7bd26uO9QxSQXmqs5aPeTYIP4hziYwxSYle1KieiappKWhYpwaqpcfplil2Y+3qMljx1Mf9JawzW1apNHvhZnz/48844ZjD0OWQxvJOykR4oZ/Y7PKROeOVtFWVSi/j0ssuQbvmNcSFWiJiF/LBiDi2yTfymbe+QfOG1XHeqUeguLBIT1WvFOE6MeB9qdn+lujDV99NxgoqlW6/ouxdGbcci/U5BjxOVhCSb4xL2sm8ZTn44MMhuPf2q5CZLi84tos7D9/QdqC+JZh+1yVecZu9eIsuKjm6V3d0lTIMShi2KdbnLpTEPoHNvUW4FBT8PPGspVnzN0lfWYMO7duhUR23rq5jm+Ri34p6tqNU2g+YN28eLrjgAt1L379/f/Ts2VMHqqVLl+Kuu+7SbXC0rXTppZdKJ+Yvl/aD7+BgBZspBw/+uvD1N99g/MQJqgXn9CwY4L5U06H4kYk06IOjk+0dVN5NmUvOhQn9yAqo0Y6XB8pWJLPyyMbB4UdKjmUKWgORoUr8mrD8ZTM80KtDmMKTb8agLhzIJTwH9fK/0ts0doRwnEr7G9HlYLE9zzafhClbwy8nGdwu1O3wzjjzjFPkI8VfS6Q8D/hEzoGD3UdkXIi0X/b+PHEaM2kj/IVZOLpbG1TxGR/aC7Q/8CZ8PahA5sKGO4WKZKI2bsJKrF+/EqefeiSqJslrvuReElVgmH4dAe8lp7xoPsPvor0Q9pl+mFCZkMwXlvRlmIjYSIjodxW9t+Oy3KlXeQg/+4sKZdKeiE3bgB9G/Y6atWvguCNa6dYi8qTfxB0l/ZcgEQtjVCqZlUrzkZufj3+dfSiox1AdkPGo/PO+jJUwL9aNxLZlW6DUirqJfBcJEyY+s6Tts4VtmzYsofHJg03Pilb2Pa82Dvrls3Uj6b384aeP94zbgu8tvzZcRXwxD9HPFhW5KRjRX0FsxCGjVCoQYeqNgePR7ZD66NWpnjSPA6lUImypxZaYg/0D29D2VdmzN1DhxRXyEaG/IuzsneWwIn90q8h9d1qVTYPjpn435Bqvgy0537/Cuuq9ZdDIzge+HTYW6ckunHlKd4RkPKfBe+p7yk23o2DzvC0PePn1frjsiqvR1Jic2yO8OPBnNG1YC2cd0zbssmcY9ftyLFo0Gzdfc3rYZfexNht48/WPcO/tlyGtijiElUosFyv7ETy0ooSF5PFgxC+zsG4Nv/vHo0aGT8Y8U6euAzhXNxxEYOuszFEeps/Pwp9LVuDQzh3RoI5LehCVrMKzvNNmGcmuwlEq7UPYE93mzp2Lb7/9Fk2bNsXJJ5+sp4AQhYWFmDZtGn755Re1sXT88cdrQyvXKKOKI9rdwYFFSahEf7Vg9Zx/wUVYvzELnTofii3Z2/QXD9PTuETU9k8+/5Pqj7navqtqLsPOpgRMviM5V/VR+D46PF35bPxbGCFze2hfiHjbHjYqvbFxRAco82CuVlKKdqsk7b0DG78QC0yTErfw5MGQ5WV70BsV01VSkzF9+lRUE+n0yy8/gdeTKO78Va0y8cGBg4MfZb0g3A3yRBYdM2kNgkWbcOThLWVym6h9wPyC+/cA55ZUqGdtAYb+OA4Z1arj6J4tkJ4keZBJqUsVS/Qknq0GQnMXNenUOYClWNC/Be+jn/cWotPfnofcImD4LzOwdfM6nHD8EWhUu4rRmdFrNDvbB/3rkPi5wIi7Cb8ctUiEmQL86+yOujMhnkUYlaZlpRxL8l6f5Wq/YQRvd8QuPx3R/i0YJtbZxmPdyz47laAiPkgs03LNIiah6Hjtu+jwBwzUhAnf+cLEGwO5/a2RKpVKSgL6g4gDB/sGbP2RHmCVNYS+CT9YtwMFchf5ppkfSA1PdtZs/u4vsFyoWOI6hxG/LsKSxfPQ5/zTkZrqQpx8r7gdvbIyI6ckrlS6/5HnUbNeczRpUg9FhVvlRYnEa1aAMQ2dz0vGGRftL/HHYQ7IHLfpJ96dhgmTZst8NwHt2jRBCQ11c6kM/Qk0Hg0bKzHwiRQvMls8fL4qmDN3IfJys9GtWxcEud1Y3kfkbMrfhu/oH6et7K36Ia8PK5evxvpVq/DC03chLYXpSyFxdZ7EEy2nB4NBKSM38v3AJ58NQ83q6TjjlCNU0eR1sR3G/gi+f2FLx4KcKDc6FZG8CI/T52/GwsXLpLwORf0a/GGCgzjlCwEDx7DvKJX2EZiNkPTGio5a1coSN3utCBUVQ2V+Hex/sHpYHQERdi659EqcftZ5uKjPadgoAgPNH/CjZavL1uQ/omFHwTbR6FZZYQulP/tiZ4VQUQRRYaKV+hV51dWrsaiQqSgcTBWzM17DoKDA72HNTODzL3/Al59/IPSJvjNtc18plQ6mwnJw4BDdDtjO9m5b49SQKZhvZDzyZR7z+8Q1KPFvxhFdm6FqEpf47JsWvi9gcmO2XnBKtnI9MOrXSUhOjEPPHu1Rv5ZPf5m2+TF5NxQL+13ZH9MB5SNMhL0yaY5BHI5pxJZYvT6IsROnihCRi2OP7IKWjaqaPFDJrQEs4+ay1yFpcdLPVUlDRi1GQTFw2WnNwy8dHExgO3rp4wk4rH0D9Dqkjv5Awq0g+xfkYl81RgcHL1jv0RSLitz2NWw71IHS3JZrm/u7nbIMjIxaEorTrU7rN3Gu+RXq1a+LU085HEF/AIk+TznObMlF54Dj8O9/zMaGrAKUxoUkTr98CkzZ8/tAO0Uq25YplcyOA97zYA76c7sS4Yn3IRjywx8oAPczuGVeQH8Et+PplTyH75TC6aCUcrhH8sKVVy4da/z+YsmXS/MYCvL0Ns41xLuE4UgUrRSxih/Gz/lIKOBHzWppOOHYLkj0kl/JV1jLz90DBGVA8QZfAjD6j7kYO2Eizjv7FDRvXEsi4gqlSPwHCuHSKYNmX0jLRD6mtPc4bcEWzF+4FEcccSjqV6M6iWtsOVuhR6GYbDhKpX0M01APjsJ1sPdA45TU0vOUmAv7XIGTTjkTF/Q5B5uy/EjweXVAiW7IvP9HNWwBx06O2bvduisqiH3YRXY6ojAP0fPZvVRRuzqS2bR37j8ylnA7YSgQRLVMNwZ/+hmGffcZvvv6c31nVipFi6h7A2QuisGw7YRYaIo7zYeDvzXKmhUrOvywl5WYEaWSxCptvkDmjL9NWGuUSoc2RUaKUSr9XWDyQ6sYpsw4BV60MoRJk6dJXy1Fg7p1UL92TWRmekB9Gb8fkV+sdwzGSNCvlpk+GVQWfldrysYXTQSHLN7n0f5znggc67Iwd848JCd70PXQdmhaP1WnnZzrq8LARdsqDLmvIAmJcKKGVIW5735ZionTFqF188YoLc4xSq0w9/pXnqPzY1mzQkrFoK8dvd99VFYksXwRsSnv6jsi+v3O0twbYBoqz1nIg9Y/t78JggkpmLV4Cc4/pSe6t62h7aTcN9iBg30G2zAra/F7syfsKqJ7ZWX3BwYcEtk/ufj9t/ELMXrcJN3CdUjr2mYVk/Rb9m0r67L0yPWB53zfQ5VJcfyZiAUgBaRlwIFMykHKjFsHlywrxDdDh6B12yY47tge8l00CqUDvUqJYF1Ft/boemO9kz1HqeTAwX6AVSrxNIlzz78CJ516Fi648GxkbTEnDFAoKJt583Jw9K+9CuaR2So3edyP2NWRwvjjHxuAXEffy/C3j+pnV3i0afPXFqM02p6ZWOU070qDQWRWdeOzTz/F998Mxg/y4eKbfbP9Tb6QWmb8dcgIxZW16QPVHhzsP9iqt1cjtO89WCUM+w+bfb5cfxu/FqX+LejRpQkyU/9uSqUIWFSF4sBVNbkFwOy5a5C1KQsBf7Ha6AvSOmq5ENHg1gD2PoPY6ZKWmabAMY3lV1k8uwaGZj+3sfBqq5q/yFJ5zefkpCQ0a9wQrVpURWqC+BEWaTBb62+/KAvs+MRxD/hzdQCz5q1QY66eeG6zoBLclAyh+Qnny5ly7l3Y8d+WtYGWNAtbhC0hmSMFEcKh7ZqhdlqsXwcOHBxMKJWPFb8nuX5g1G+TsWzpEhx39BHo2Lq+jrwqC0gntv2YVx0Hwg5cCUQFSuSbJGMAx2T5uBgboIYIft/sfJcKGl7juQWBCmn+YiBuOvcUd7uiySIylot/tcVKIoyiJ/Kd4L24mYjC/wjDm0RkbreDfPPiuLopKEFDcHk9+kMRVymVlhh+bez8/i1YnI1hw0agXv1MnHxqLyT5PDBfTCZh8nggEc5tGchNLEdUKi1YuBQ9ypRKVKKZ72xZZqPgKJUcONgDxCqVTj7tTJzf5xxkbS7WiWyQE6eyPmVvxE3cD46u9tfAXMTtqiS5D3q0DhN7U3sR/rjsf+xiPsoaE69a+iiRD3U1VSoNwvfffoYfvhsirvFRSqW9CfMxls+oflIs8cwkKwKTM/vJdvDPhO0lOkWTiuYQwK7IlXOesvNlo1sAn3cfnKaxlWs3lyjypLH9PnEtSoo348jDmiEjJTHs8+8FWzK82ilvkfzhae9r16xHXm6e9Gsql+P1G0PbCywDMwFnj5MwYaUSvyUWdizWr4tOVGnE34wBFU1cOZxEQu8ayvvnr6xAUlISEn0JqFktA41rcYJtoCkr3+RNnfYx7Mizt8c9B/sKbCtW1HPgwMFBDCp12FNl0M/aFsAfE6dg5szZaNGyJXr06I761bwokImgV5enyn/p3Pw+8BPFb432cX4LeFVwrCYiLhbRb3jPKylePial8i2jm6Xo4JHPnI3BXi3owX4nbKw2UHkVSPgTWwZ+xyyYjn6TeS8DGL/HcSIL8kQ02q/2CW3KAaZMnIZ5c+eiWdNG6NG9k3wjU0wEBxGYh6islSsRC0ep5MDBfkB5pdLlOOnUM3B+n/OQtaUA3oRE1aBH/6JMaBcT/wdHV/trMKoxDvC7kJsyLzvq2rHxVOaX/uw7XncU5+5A4rWKm1hW9iJUqRgWAA0ieYgWErcHw8RHwgqvPOa6WlUPPhv0Kb7/drAqleJVqSQ++YvOXkUJgvLVdLvcGD93HUb88psxPByUDwzXQIehudmH5efgwIKKJFZvXJw7rPAogddTiovPPQEtG9WSN1QxRgv2e9YYKlIq/TZhDUqKs9CzawtUTUnk27Bv4u/T6Mg1ueWVpcV+xF81ifCi8r8d+KULysfQ4wlPJW0m9xuYoE2U7aYUQSrl+B2OYsS8FRKv1tUq2HY8/jrYIViY4TK15RoNLd+oF+y7/JS51ebo3v5WOXDgYO9CerAOj1wJD/iFfvtjGmbOWQCPNwH169dH9cwMNGpQDzWq+eCVKYAdTbXvm1tFRePDzhAdxsZFN353OHrsSZyVIZrvysD0YvnYtNmPFatWy3ULli1djpA/iLatm+KwLu2QkuyF1y3z973K6V8H8xCdT3IXy+G0+VuxYBGVSl3+SUqlCpwc/I/i4Gio2yuVuFLpXGzKKkCCL1EntaYp/1Pbrq0HXiN1YnNMFy53ZTkFS0Jwu90yeeRkn8MvUUE9SkDb/StdFkpn8cKLESotVYzIGxsfA0vdCBtMS5fWysSWp/ntazAtlyteT72wz5Ytu1hp++GPz8ypoWiEQlypRKXSYAxTpdIX8oGVvEj0e1WpFGbJHwjBK7OFD3+cjl9Gj0Pv3icgb1sOEtReCk9CNKqAsgD7FaZF/O9h/5a3LeGSeJlaSLLcCvn76J9x+YW9cWL39sJJQPxUphrZ9foxLYnjhYSSYLErlYxSKbrP/r3qP7rGmAvLPfMbPp24DDG/TezSyh/9hTh8XxF29G53QMWANdRdVvo28jKHA4FIDmPzekDZ+p9FbKlH14pTIw4cHPQom5tKf5X//EFk7aZizF+0VI+cz8nJ1dVEJcEAgoGAGsTmXJSwinsGjJ3H7gkYQ8WxMMEoPrdD7Ncg4rc8X2ZOu6ugXBMvH0NfohfJST40bFgXTRrVR/261ZAg0yH7o9HBBuY+ukQqKtdp87OxYNGSf5JSKebRIrYkYlFRsAOZx0qyoTgYyv5g568cYpm1DO4/Rq1SiUcYn6NKpbN0+9umrEIk+HxGwI5tymWwfO6o0P9OiJQ7c8QPiCpJmH+RCLk0lIKhVeREELm3BlI9Hv5yKR8sjls7Alf8lIWPjrM8IpxZmI8OPxhcecNrSYhKL3tKI+PaPtTOseMw/OiwzRBsN7b9ME0asqWkaNI3Mdl7Cy77pRBf9mu6vA7q9jcPPh/0Gb7/9lP8+N2X+2alUjhJfwDweoFPRszGvIVLcNMNZ6G4QD6YkhS5rbwWHPxTYOuZR+NzUsnm+P673+LYI1vipO6txCUkfipre+Xb9I4QrVRiMHP621oEi7LQq2vzsFIpepBgmrse/8GAcNb+xmAOLDEn4XrnI3FAM2eZ2B38vWvDgQMHDvYZdEg14yq/zUGZZ3IewC1fWZtLkZtXiPzcXBTm5+l818Aqa8xs3WxfM/e7M9pGj+Y2nP0htjw0lRg5Y0cQf4yIlyiOzI+kvO4alzQ3kZjoRUqSDxnpKaie6VZJg8o1rlAyJ8LtTo73D1hKJAtyGMvltPnbMH/Rnzjin6FUCnOsP7sJxVZwBRnaDrviZ3+AfFQGh7/dABm1FL5QgNa2sf8YjVYqcaXSidsplYyxOTOAmu5luIsrU6DQDwct9aH8h/NUISrPm56uw/ClXHVDQ8rhFxqfpVhUHl9FsL4tl9pNY/ujQN+JM8dpvg0EA7oyh3Z+vJ4EVd4YqE9zK/D7/fK3FIVFxYhzuZCSkiLRm9Uv0f4sJzJQyF20e8Wgb8tlKBRCcrIXq1evwTvvvCe8eHHXXXfB6/VKWvwQhcopY1iuIeGbW77Kw8RqP5ysO/JJfu1HiM92RRL9paZ6sWTJSnz44Qdo2rQpzjvvvHD+pIwCQa03cVD/jMMeS2ryzjUZkgbTiVSurlTKDCuVzEolq1SiTaVIPvYKJFmrVBo8bDpmzp2Ha665BAUi7bt0qQLzaicSBwKmTv73wPYQaRP7DdK8/NJu3e4kDBgwBMf0bI1TerZhK91BLex6/VSmVCq/UunvrVTaKWy12ipm9uz1YMiq+eUgzKdlKIqxA86jMrYbOBgK1YEDBw4OQpQNp7yRsVL+czrKJ7ta1YGAZSJTYc5g4rVgbMEdfIVEzix3BDmM5XLagq1YuHgZunfvvItKpYrjOVCIkYTCbOkaa3nFazSxwmLdYmlX/OwPIh+VUUX+9zdVxJelivwfMGI7kAbNI9NJFPgpnB+gJhzplJK+3lg+eDVU9o9KB3FhkSYmxMPrjkNJsFiyxHdUNpUPV54sbIomVSojkpI8SEhwSzxUZBlFlUFsHNG0O6DCBHo6UVFhoYQujTqhqDw/BN+TDyrdxo4Zgxuvvx7vvP0W8vJylDejjDH+Lb9BKYfPv/gUj//nUfy5eKGuHqIChdvSeKpChCRMlGJld6DKN2k+CxcuwLfffgOvx1OmMCIfJSVBbN26GTk527BtWzaKigp1KSvrh6dXBENCejpTiV6pDOKqIFumRUVFyM3NRXZ2toTfRkaR4HWrMqu4uBS+hASsWbMa33wzBGvXrinLu0t44C8dllTZRJ6UWJoGO8/37tbrbiKcPLnj7zBcoRTv4nHh+5Zc7tJdIDMU/G9RReWwf8gtY403vlRtJ8SXyvhF0iaysza6azA9yiByjW3f1les+98cpuMb2GukEAysn8pof4C/HvBn6jKFXlQ9RN0eOFiedpUcOHDgwEGFKBsq+Uc+MqW0iybzAT7K3LRU5uqhQEDmygGZq5L8Mj+WZ5lXh0pC+kM8ibbu9j/JvF34iBCfSxCIcieflAFKZZ6/6yT51KvkT+SBUr/IRSIrxPEHav3RhbAF9/cEJZBSKSvKXhHsr0nGX0e5lUq8EVkMW/K4MsSQfct2rVVln4XKAh6E2FGTOhj4/jvwRz643JLEg4ZcQhRsExOAFN/+3bfKAckdHw+ur9GVSiefhT4X8/S3IDxUJMh7goIQVxFZhYBHmORgs3r1Cnz+2SBMnjod1994M7r36IniALdheSQElTJGTUYFA6HCmoQr0cFK3siE3hXvQkgGteUrlmHIF4OxaOFC/Ovq63BEz6NV8cHUmWpELREDic+8FzB6XmTkMF3QKLqYVIkMvFQoffH55xg7dixuv/12tG3XHn75eESUMhJCeNUjPqksETef14vhw0fghRdewOHduuGOO+9EWlqayRvLRK5U9NDe0raczXjllRcwcuTP4v9l9Owp5VFs8kCicskYqSZvZiUOn+zzjmBtOzG9ULAYL77wnOTjD7z++pto0aKVKoPWr18jaQ8XGqGrpLZmZ6Ne3fq46KKL0L17dwnPNF1MmSUTjlniFj4KCwsxZswYfDnkC+TnF+izS3g94/TTcdqppyK9alUE5GObkODFV199gZdffhE33XQLrrjiChRJHhm3qWdTHwSvkVT4HP1ksP1KJRrqlrJSXk272WsQhoLS2N3S1z4bNh2z5s3FNdddKvnl3nmmxTrfcT3sKdhWdg7ysCv+/klgeVvav9Axioa64xPwzrtf4JTenXBC92aQkQKu7WwqkT/Wze7XD8cT1j9tKo2ZsB6h4iwc2bWprlQysHH/A1FRtf6vNXEHDhw4cHAQoqIPFN2s+4H4Nlc2z4jma1/Apiskc5Yy7NLc9cAhtlRsLqIxfd4mzFu0DD16dEX9GiID6Eol+pI5NwPHBIhIbQcHtrOptDEPeOnNIVi5Zg0SExNEAKMh0BKZbFoNk4h4/MVMtUvlgoYh7/hesyjvK/Xn4O8AU3usSzfiS+PhL8rDcb264co+vcIL8uiD7/ctrFKpWO5VqXTSmbjo4nORtSUIt8etwhDJJYOKK8wPlTMoDWDa1Ino1/dt/P7br4gTKf2Rx55En0suR1FxSLd+UUansiwUZJgSVRBQ018qbZcKqxJ5EfQHdTvZtOlT8Pjjj2Lu7OmqnHn22Rdw1tkXqqKC26UUFTX3mH7Ax1JJg4oPiUaNwRYVUukT1HsqlV5+8UV88cXneP/993HU0T2Ql89VO8JzPBVcbl25QyVTQgJXHnE/cVDiKMKmTZuQnJKC1LQqqjRjObCbMy2yKFnG+vXr8dprL+L338fh6aefR/duR4o/Kv2pRIuHL9Hkhd2eymW/X4RXYdQowbjKiJr0iFLGgvac6O6ROnG5XVi5fAnuuvM2VK2aiZdffk148EnYUgwf/gNGj/4F55x7DjIzMrFGxpt+/fthg/D18isv49BDD0exnyuLpDDCoN6GyrsVK1dKXC+he/duaN+uHQoLC/DzT6Pw5Ref4aqrrsLNN9+s+UhKTMKkyRNw7333oEf3I6SuntMtZQHmMawEKqsVZjc2MzE4UEqlT4fNwGxVKl2C/IKQKtCoZOCWxH2B8qflVQbxo+P8PxG2XGPzF24kcfyMx8L63VGdhMPvAfR4XwlaIv3+7Xe+xBkndsFxhzeWvunXsWB7MK1Y/isBWQp75ThhlUq/T9iAkuJNqlRKL1MqOXDgwIEDBw4OLOxcorI5xZ7NNXYPdt5r5zbRc5zY9O37vQEbz96Kb/+AJRBdKuQ+NgdUKs1ftAzdj+iK+tWjlEq6StncRoOz0YriOVAoUyrZ6t6UCzzzwpdoe0gHNGpaV4TJAploBkTQlOYjFL1qoHzxWFSUtYr8Ofh7gDUeL/KjBwm+FIz5bTRSEuJx+9XHh9+zSe9lgboCRCuVzjnvMlUqXXzpedi8JQS3x6VKHSqVuEqGiiW2Qq8H+PGHYXj0kfvRoX0rNUo9acoM3PfAv3HeBX1Q5Bf/rjhs25aD4sIiJPoSkJqaqukVB/zI1i1ZBahRozo8Li9++Xk0Xn/9ZWnNQRzSoS3+GPcH7rvvIZx08hnitpN1IxUolSglUgGUk5OjCpjkpERUr15N01y+fCn69+2LyZMn4qGHHkLLVm1F2PegQcMGul2sIL8Q6WnpqljauCkLCZLZOrVrqbJn69atSEmpogocbtdjFw8GA9iavRVZmzfrNrSUFB8++rA/Ro36Gf95/Cn06NFTGIqXd3EoKCjE6tWrUVxcrMqhKlWqILVKmlEqSXXTJpLXa7YPcuFUuXzLAxVcZpVjCL+N/gl333UHLrzwYtx26x3w+ZJU4cPtboy/YcP6ZT8u9Ov3Pp548j+4+eZbcOutd0lUHhaRKpOsHypwaA9q48aNWlYsM9bzwkWL8a9/Xa68vv32O6hZozZcLg9WrFgq5feAlKlflVoNGjaSe6MgI7Qa9G7nOFBKpUE/zMDsufNw7XUXS71zixrbd0lYqUSqaMzdXUg84WioVKgYdLfpCf0jlUqRctCsliG6fvdEqRR+HzMORMDyDF/LvTfP8fxhR/p2SbwX77w/BKf37ozjD28sfZDf5vB++3JguHCaOwOTC3vV6YDUv9pUcpRKDhw4cODAwUGKiuYS+xsVzTP2B1+7OL85iMBSiS6ZimZpVCrNXbhEZLJuqF8TIgXR9In4KokShCzobC7bxXOgULFS6b9f4uRTT0KLVinglkXm42Bi2sH+A7e9sf6LRcioUhX45uvpyM5aj/tvPDns48AplS657DxkbQ6pQka3W8k7KpVIVPH4EuIwaNCnGDlyGB575EF8P/Rb9O33AR54+HGce/6FKPaXqnLkp59G47VXX8GhXTrhhhtuQGZmNXlXjNfeeAOjRo3CSy+9iEPad8CHH3yC6TOm4qorL8PM6dPw1ltv4oEHH8PpZ5ypp6dtv24nCmFhkqt8uLqosKAAc+fMwdtvv42VK1ciOSUZ7du1xTXXXI38gjy8/NJ/MWnieN3a1bx5SwnvweHdjsAzzzyOb775Dq++8iou7nOx5H8rfhw+Ar2POw5XXnk5li5dgjeE7+7de+CG629UBQGVN+MlrjeFXyqcatWqhS6dD8Hy5UuwcMEiPPLov9HzyKPMaiThc8iXn+GDDz5QxVRuTg5at2mDf119DZo0bSZl7UFA/FFB5Zcy0pVJ4ZGBOeS7pKQU1KxVQ4TgAD4c2BeDPvkIDz/yGE7ofYoqiQLcdihl4HLHIxigDZ944bMEI0f9gPvuuwennnKalOu/keBLFr+lcLulPiWJ8FClefJ4qORhekF4JPy69Stx//3/p8omKo9atmitikYqwp999il8991Quf4Xp5zaG7l5kXoytbJr2N9KpVAAcHljlUpGEWqUSvwFYxewKwN3lIKIdUpwxVlkC2QsWCG7EvHuIJxOdLQxabANVK702huwccu4pn1WoL8QRafJd7zyvS0bexW/5fyLu8bDcdL6J/F9DO2gPI1SKYRQvBfv9/sap/XuhOMOayQxBSVkRW3PxrsLsOzw1lEqOXDgwIEDBw4c7FXY2Z9F9CwtPPXCtLkbw9vfDt9eqcSrDUDQ2VzKOR9IbDcb5Xw4UFoowmw2ivJFsBHBm7uIgiLc+f0lIqDSCK5Dfw8KRlFF7y1V/r7IHxAKiSBejOxtXMFTiJIKt3/sa0R3RUK6kDrFhZUNRtjUO31VikLJ14mnnIqnnn0BdRs0FmFcJHRp8rSNRPCX/6AI7m1bt0LjRg0w6NNPMG7s7/B64jFx/Hj88P336NjhENStWw80mXT6mWfg4YceRsvmreAvDog/ryoUdFWOxrhzBINB0E7TihXLdAtX1Yx0vPraK3j+uefQqnVrrFmzVtKri/vvvw+nn34qMjMycMstt6Ffv4G49robNNuFBYVYPH+eKrWYB67Mueyyy1Eto5q8jsP6deuQtWmD8FigJ4WN+mmkxt+saVO8/trreOSRR7Bq1Wr8MOxHFBYVqRIhngqekB/vv/8Ovvv2a9xy08144/XX8Z8nntBVPc89+xwWzF+IBK8X06dPx4svvoAHH3wQD9x/P+695/9w37334IEH7hO3B5Sv3FxjJHzlqlWq9EtJTlE7R9b2lN8fRFERB0szBHm98fJchIL8AqSnp+tqKI47as9KIMWMkNQzjXczz0WFxoA3yyPBJ3UqaWzZvFm3vGVUzUBAKqWwyI/ERB/q1KqNvJxt2Lp5k279Y12RC9NqDlJIvsJZ13Ik6UpRvQ9fpd6o9DHXyonQrYphsuBpedHPmihc4sZWFK8rAPWDUGqv8j6aYlGBU2Vgn7XbMs0z65JKLH0yz6wdq9gRMK9u6Zsua8yNl1jaC2D5sl2asjFlXw76aHjkarzS0qCQDCQIhcPGMsJ46Dcg5A9f2faj8rlT7IofBw4cOHDgwIEDB39fxM4hZQYoTjTJsrfmufsKRuKIQUkcj9wOwRNfCsoVehCcCKfcSmOu+4IYd2VUkf+DmET4Uaro3S7TX80/w7miqLJ4rL/Y9+Y5Tq6laqVb2kDY9g/zdqARsbUTw4s8qvFqXkVoTUpOQVpGdXgTEuHxJIoQR09mBQsFukDQjzp1auHGG29As2ZN8OGHA/H7b6Px1puvqy2lSy+9BNWqZYjfUqRWSUWVKukSXsqG6YvQqUqPCnvR9lCL/iqIlmDJkiVYtnwZ2rVti66HdUC7dm1wxhlnoFOnTpJGGpo0aYyq6WlISUlFvboN0bJlPWRkVlclmOa9oACNxc+ZZ54p75qiZo1aajPJI3XJFSxuySBXsxTk52LEiOEI+P24+qp/4TBJq62keestt6J5s+YoKipWBU5CQjzmzpmFr4Z8iSOP6IHzzzsHrVo2xBmn95Q0zsCChQsw/o/xSE1xoWOnzvi//7tXDYK/9OKLePXll/DKyy8rvfbaq7jl5puQmZkhaedjw4YNugKKz0zH7XZJPXiUvB5uQTPCcm5uAaZOnaLP5M/DPW0sWml3FhTueXKbFjnbp+SRCrrC4gDmzZuH+QsWStj2qF69ptQdVw/xdDdo2jxFb+PG9RoP7WUxkoNdTA/rW/4SeIoe22pKihepqYZSkj26XdLjZlmyI9Cn9HnxZ5Q8vJdLiRn76YVu5Wl7ROl/dglMi8rEpKQ46acuJCa69Jk1w77Cq/2GaoriRn6UJ7rxXQztGRiYSi0qeEy5S9eXGykfKpfKxSsPpfEIBVzSxzxISkwQ8iHRlyTl6ZNwVHJbRRGJJxkyT171k5SYItcUuF1J+kNNnG5dq7g8Y8HyIi92DKkY5ZjdDZhwexragQMHDhw4cODAwb7B32F+JtNzg/LTWrIuE14l88a4lH+zdyk2jWiqyP/BRRSBwmKQcCxXFVr/CsXmP/p5Z+6WouOzZN1j/VX0HM4TJXuRzqmoUcHeSJkHBaxwRUWLbtUJZ4KrDOLj3Wq/h1uygkG+iNNtV8q9PKrgLOHz8/PRpEkjnHLSiVi5fDme/M/j2LBhHS67/FI0bNRAw4ZCpSgqDID2fAgVYvVOSonJmocdgqtGmD4psxrtASVh+I/D8c1XP2Dx4j/1pLZEcWNeigqL4S/26/auvNwCbNlaqvngti8a+EZKCo479lg0b94C27ILdftfsfgvoRJBJM848cNa3Lp1C7I2bVQlFU9Zy8mReCXOapL+4V27IkXS48qtQHEQixcuRNBfjKKCQnz33Tf49NPPMfizoVi4cK5wX4JNEs+2bSUi+Ceidev66NSpETq0byjUWK+dOtRHq5YN0KhRfVRJ4cqnAPLy8lSRVLVqhrYdlhcVPVQIUTfGeGne6JdfRmLkyB9xwgm9VbEWknqj99imRk19CQs/XvIo5PW6sXLFCnz4wYeoX78BTjrpZInbpWVoaygxMQnJyUlqu0qKybxjcygDHyz9M8Cy5pa81NQE5OXk4vffxmPkiNEYNfI3/PLTGCxauAjBALc7ShlJe3HppQQeV7yu6Jo+bRaWLlkpbSUc4U7AkrZUKcJaHypHPJ54qRcPlixZgZ9+Gqd8jRo5GpMmTkXuthxdEWeOzTereWicnAbZp06ZjgXzFuo9V6xFp7vz9MPXaGhHJl8Sl16FN2mPvgRg0wZg+dIC5GwLmXbDZiNeSNKVsGYVMOKHdfj1py0Y+9tmLJxfIC+lj7tlrARXJAVVAZbgiZNxJST+NuCnEesw+pc1kofNEkeCsGS1pkx7RzDMM+2K/Ua77SyuyhAJt6cxOHDgwIEDBw4cOPjfg4p1sahsQkn3iMJhb9OO/lXk/+CiilCRv12n6H98ZrnHUuw7CjPR76Pjs2TdY/3FPkeIu0Di4t2qDCCMcuDAwW6JsjCrK8IoeyX5IN/yj4ap1citkjhSQNR3IkyLsMotYrwec/RRaNG8KRZOn4CaNWui55FHomp6hgjfQd0qxNPeuFImUjImOaVoHqLeK8LCNEHFF1dSdejQHuecey4CAT9uu/VW3Hn7HRg9erQayfa4PRInV0OxzIVcLriFR4/bq4qwEhoTkjhoiJv2hmjniIoSs62Pq6ckHS2jUuTn5YpQnK1bynxJSfB4EzROFkOCz6fKKJYD7S7lid+szVswYtRP+OTTz9Bv4Id44823Rej/BfXq1UfjJk111dHWLVvEbSIGfzocnw4ehs8++wGDB/+AQYOG49uvR+D30WOQl08hPQ5FRYWq5NHtbJKWWW0hiceZ1RYlCGDS5D/w5luvoUqVFFxy6SWoXaeO+t2+mZly5SqWklBABfb169ZgwMD+mDV7Fi695DJ07nyoqXcpD6NYogIrXvNrbB+pk6mTsnrRGgzTwQfTI03u7V9bFtuD5WsUrSynmTPm4Z133sIzTz2Ft954U21xvffu+5g6ZZq2ay0r+aer+hJdmDVrKm666VpccNKxeOONV7B58yatB/ozCN9I2amNnxDjMG3Igu7cphgLKonon6vMNm3ajFE/jcbTzzyDF158Ee+9/z5ef+MNDPrkE6xfv8EofBUckUqkbW7DO2+/hfPPOxdXXHE5Zs2coX2W/aI8TP6ZjtleF1Y6013Kw/K7PWTsLKHCV1IT1kf/sg133Poq7r7zWcyYvhg0Pm/iph0vYPwfG6QsB+D99z7Ap58Mwasvf4hHHnxLwv2J3BzxVJogcXmEgHFjs/HvR1/Fa6+8j4EDvsRLL/TH/fe+iD/GZOkWT6NY2nHbY+kqMWryzwcBxwl7F7nSbcfxbQ/6tz8h2dAmkXBSDhw4cODAgQMHDvYR/u7zLTsjrQS7OzH9q2BxxtLfAywpncrvVZajy8FM+suTRfRz7Lto2HfRFA37bNOMQI8xl9ciVulqkYMRVhAtp2QSqBKmRITTuHgRKo1gSDAb1qh3cqIPq1Ysx7p1a5GQXh1ZIkzzZDYalaaBNF3hJH6NQMoysCUkfynjRUVKP4FgQFfqmC01fGfeqx0b8cuj/q+/7jp8MHAgLrr4YuTm5eDOO2/H559/jpycPBQWFIuQS2UXlVgCjaJUt78xflUaMV0h3lNx4nKFVz3IPbctUnlFcNUWlSqBYInwJFcagaJyLN6l7ob3Uj3xrnqtWrjvoUfw5tt98fEnX+KTT79C/4Gf4IOPPsUFF16kdnbWrFmFL7/4HIM+HYRPBw8Wf5/gE9Igcx0xcgQ2rN8geXQpT4yf2+xM+zIKjOLiQnEPYvmyxXjiiX9rnPfccw+6deuuK7Lc3JKpzBs7VNymqPnWGLhyLIjCogIM/GCApPkxzjvvXFx99b+QmJgo/nlCmikLY8ybK778SEpKNm1Y+OHWRr+/SHmxfEXoIEE522XsefJX+54li+h7eWKjKA1h0cIF+M/jj2HqtCn4zxP/kbL6AP37D8Rbb72Lc885H8nJKeKb/Tpeyzg/Pw9ffDEIMyaPhTsjReosT9z9Uoc2XkmHBahFVIqkZJ4M6IE7XFF8xavPZ9yNkW8D7WUS3CvtvkTi/Pbbr/H000+hSdOm0tbewvt9+6Jv3/fx9DPPolWr1qpsYVymLxVjztzZ0jcGw5eYoHXP/qLtQdI27TcCnvKYluZBovBh+zfJ64pDWooHvgSXPkcgfJZKX5A0160BPvloMe656yVpm/nIyY6Hx52u/YxbCbWviffFixeiTdsmeOfd+/Hfl67FY4/didTk+njlpY8xc/pq9VMiYebMAp5/+kNJMw0vv/qwlP+teP65R8RvXTz5eF/MnLFVy8UqQJnnCsFxRS5lb8vyzDKOJv0KCQlsgJ0REb43q8PCMUgbKpGMR3tz4MCBAwcOHDhwsPdhF4f8XWFnsuVgtqaYVxRI7fxVJ5s6qa6cKoKd1JupqbmPUDjeSmhvoqL4Le0cEf6j80GUhTePZYhNY3cpAkYcJWCWpcM6ihZG6CeGiTJQSvNLxBTuuaclKr5yKM+B5YMyT5nSptI09j8oULJNqpJFHSI8E7paIUSD3CIgUcEggiGVLfRjSALIfyqQvvzyS1XO3HjzjRJvCfoP6IeNG9brCiD6jQixIQRCAQQlwlAJVzH5RfA0K54YGbe/pKcliNDu1fjZL3jlSglzD6RVSZS0XLpy6JFHH8XAgQORmpqCUSNHiHBfoDagaIeaahTmjdv4eNoadUE0Sm0EacYUzgPjFze1J6VPXBEl6VStioSEBKxds1rLgouZNB8S5+q1a8riprKteo1a8Mv9hk1ZSExOFb8JEpNb8paA9PQ0JCT6hF83OnY+BE8/+zTeeeddvN+3H/oL7/0G9Ee/fv3RV57/7//uQZ06tckEqmVmijAe0K1nLFumQ/J6PVizZiWefOo/mDltKm6//XacfPKpwhtXs0CVUMKarvRISnIjOYn2mLiaJAivh/URwgcfML33cNxxx+DKK66UcnGjsJCKIhacKQ/GkZOXq4oq2qoKBE3+vQkeVE1PUgVIrFLigMNUIKSYwo9yE28Mwkf6OOuefZ9X2w5M3pjn4uIiDP3uG+Tl5+C2W29GixbNTL6lvSVI26ItHxYTr8x+gs+DiZPGY8q0iTj/0j44rGtneRnUlXDcAscyZdvVbaVypaJ26tRpGP7jSGzcuE7eB1T54w8Uqfuvv4xTm1psc1a5VCoZkiaEZUsWYvgPQ9G8WWNcc/WVyKiarvVJA/n0GpA2SMWnnt4nfSonJxvffvsNGjRoqMrDtLQq6o/9we/nNkkTv7Z9yeP6DRvw44+/YPq0GSgsyGPCUpgBrJf29vOoX7Fi2Qrly7QPtikTXqLDsO/HSl/8FL16HY9TTj5TyipF2q++1jAhybfHC5x/QS9cdsVRSEqBPjdrDvTseTw2ZxXjz8XrIcUv+QGmTvlT4k3Eccf2Ro2apvbq1wd69z4TebluzJ29TONnfnbUDk1/tu/5FLnX29igsc+7CaqyuTVSxyuScXbgwIEDBw4cOHDgYDtYjUQ5cKLt4moHCg8ykdWFHiqnRQTXyigWnPxaodfeb0/0x380aBpLe2c6a9KogIQ1e185DP/RZHm3OsXY8NZtz4hp8I5LBHgl6KZSpYFlpQxSSXHmBKIKIQKiUSiJtKPXsKRUISwn5VEuuShYzixLu0PR4f4KrEBmOTfclyIlOQHVqvuQXpWKkQw1lpuaSoPbIkgn8DQ4gXj++ptvMHvOXFzQpw9uuPEmHHX0URg79nf8OvoXs6hH/CT64pGZ4UVGtRSkZ1RFUmoyUtKSUVXcfD621FJ43S5sXL8eX3z+FWZOn66KJArgpp1RRWSE8nFjJ2Hu3HkSNgXVa3jg9nhUmVu9ejW4uK9L+l9SappZVSTumdVckkZCWACNgzchQZVLJq8mXhGT5YErK2h4OxHxbo/aMup6eFcsX74U8+fNhrCMlBQPRo74AaN//UUVTtzWl5CYhC6HdUWt2nUwdOhQrFu7BrVqSLpV3ToWTJwwCcskDqbhl/zES6G4RZp2uci32abHtJmPVOGbhrJpF6d582a6Ymvt2rU6hng8bilHD7Zu3Yb33nsPM2fMxLP/fQE333QLqqR6kFbFJ2WQhOSkRLURlZdfgJ9++hU//jgc27ZulTi5dS+In3/5ScK/o4bKX375ZbRs1UjCeFCrVqqk79Nq5egRlPJbtXqllGUqatWpqwoSKT6sWLFc6nwoZs+eo4qIv4a/2nqjEI6KLAVKeJC89Oh4F0JsQNIsqMRkjeuDnshGkranJK5y5RqvTRs2YOy436X8m6LHEd1Rs1YVqVtpa9UT4Es0ylWuwqNCke1tzZrVuhIoo2pVnHbqaVomVJ7GS6RS5OZ7IKm65VoiZUoj68uXLsHNN9+IF1/8L3Jzt+kKoSV/LsIjDz2A9959RxWA0eCqF8YxacI4rFm1DKefeiLatqqOGtWkzjOTkZGeLO9D0n5dQlwd6NEtemN+G43ZM2fhgvMvQLWMTAT8xbqSjUpEuxKOxVb2vZK8vf7aa7jl5hswb84s+ITXosI8fPbpINz7f3dhwfx5Gt7We5lSSh7r1s/Abbdfgnvv64nEJG6XzZdmHclHXJy4SWJULhuS8V+u/EZ6E+KRnOwLK5+4ws6MMTz1cP6C+SgsYDkC0qSxcOFCGYNS0b59W+kzLBuJJ8xH5Yi8L7FlywGBCcm1VK4lwYBc5TvAVZK8lqOwX6nzCEmmaW9OifHxWeIXohJQ2FVy4MCBAwcOHDhw4KAy7HC+KPLDboO/aNPIrv4KLFN9S8Z4sEzIZXLLST+pVIVtceckXcncUwi3ftSfnfzvgMpDIlEyKPNjnYV0S5BMoHVVgzxbP6qcEGKaIZmYcxVKMFisgoJRCNBfJF80jEyDt8bujsm3Iiode78rxPyroKjcEPwlXYTKIIU53rOMw68I8U+3UNAtcoRX/fGZfOrrsF8ThwjkISomxG/Y367A8GQ5ovLE8mbA1/a6u0TYq0H0WzJY/i2xvUvFoLJk/oI/0bfvZ3j77Q8xfPgIbFq3Hj/88CNee/1D/PDjcLVhNHvWbHz88SC0btsBJ550GrzeZFx44UUq8FFxMWP6dKnfYsyaMVOeP8Tb7/TFj8N/xNJlyyTOH/Huu/3x9Vffqa0hlvuiRQvw5BP/Qd/330NxUaEI4mb/kF3xRKF50aLF+PDDj/D6633x6msfq12ZmjVq4KSTTlLD0rTd1KZNW92yNWjQILzzzqeYMP4PEVK5CqUY/uxtKCwq0nhtbVAoLfb7kZOTi4LCYnHwiqCbjDPOOAvt2rXHxx99iJdefBN9331fBfWmjRujUCRcGiAvLYlHjRq1ccnFl8Iv8T7/7DN48/WP8c5bA/HqK69g1E8jkb0tWwRoEfulAQakrVPhZa723hzjH5C+wJVBPmGWeWKX2LYtR8pQhFi5Ly4uwdDvhuKTvv1Rs2YdKbdteP99bsuSfL79CQYO+BrLV6yGz+dVQ9+vv/4ann76aTUU7vW6sGD+fH3euiUbPB3viy+G4G3hs3//T/Haa/1VYaf2pSThwoIC5OXno2pGBtLSquqYxtUvM2ZOx7///Ri+/uZr0Pg6t3ipva1dgBmP2P955Qoeupr7PScpG1551LzElytVO2dpNhZsATYXu+Ev9SmPcaVu8WYUSAZM3LYAuZNb8rd+/Vq1Z9WwQQP8KO39vfc+QL9+gzDwg88wY8ZsaWPmFD2OcSyqSRMnYtasOTjzzLPRuHETbWNGgRUe83RMNPc05s30jz3mWPTo0UMVfLPnzJT3QUlrqJ6y1+fCC5BRNU38S4CocqUOZM3qlaialixZLUL/foPxzpvv46MPPsTXQz6Ttpcv/UPaiLQj5mNz1iZ8P3QomjRqjB7deqiig2MueeGWVFP2BnFSr2ybTZvW1dML10o6P37/LUL+QiyYO1f6/TAcceQR6Natm4Y3q5TCYSUerjo6vncb9LmkKRKTAX9gm5QNV0IJSbsxW9QYjmVMEl5KAtpupBmiID9P+l8e0qv6QIP61M8c1rUB6tRNw8gRv2Hot3MxcTww7LvV+PXXn9H50Cbo0JGrAU2dGURlKApUGuq3QP6GSl2I91ZRd7i81NTKYOdBnBAVybyqporu5UgKVkkqvIwkTx6JW0ni4zO9CFtuGTtK4GILMGk5cODAgQMHDhw4cFABXP8WhO8V+QHg9z9momWzpqieUUUmxiJMcBZd8Vy3DFTO8FfvJJ8bSYkyCZVJMCfKVLyoMWSdiYd0JUKVKsbgcYn+WMoTcvgruFHk8BfYlGQvqqRyZYYLtMtSWmpWLNlfcvm3jGSWra7mlSAiwBBlKpAoZwoDtHnDlSE8PYpbPEQu5gv1S/ekpHikViEPbiQm0dBzHIJ6+pZHyoRbqfhTLlA1PQEJIugmJZlf1wsL/OLOX/iZo2jwiQJJGaOVIPxeLvxVmz8ws5wSfXEqQDEWlW3C3iiLUE5IESHIl8D8mBcBCUchlP4YziWBaLDaJ/lNSuSR7vHqhxHujCWWIEuGCo0/F64RIa0YPTo3U17CHOndXwFjiMRiyioa/CWfR56zmj7/4ms0a9YK7Tu0Rn4B7ecYoccYwdZbLWduR5s3b4EawObR9lTQHNK5k7yLx6rVa3SVTquWLbF23VoUFhWrzaDDunZCXp4f1aplokbNGrpaommzFqheIxNLlizC9OlTsWH9OrVHc8ghh2g9r161Wtszj7OvWjUJc+bMw/Dhw9GlSxccffSxKuhy65epe+FR6qx169aq/Jk2bSq2bNkiQn4Crrj8chx2WFcki4RKY921a9VG/Xr11D7RiuXLUS2zmqTRRreGpVTNEL+Ho269BlJU0jakDLgdiDWVnJyMth06oWHjFuLuQo3qNdC0SRPk5OZg1YqVqki7UIT+E044AbVq1UX79h2Rll5V+oEHHdq1Q+MGDbBsyRKsX7dOym2j9pczzzoLnaTsWE7aX8OkjUdIn6VctTXIM1e5cKUK+8qw738QnqpIWRynfYtb1FavXo3qtWsL/3XVaPP69Ruxds16NRS+WahBg/rCW00sXboUI0aM0BVcJ518kgjsVbFy5SpJJw7t2h+C4uIgNm3cLJQl5bRReN6g29xol4erWFasXIaPP/oAmZnV0efCi+H1JYm87cbEiRPw+++jceKJp0g9HSZ9QcTncDuqGMxTiYxvLsyeORNLFs/DeeeeobaadIuw5JMrUqKV4btHJmxJwC/9PQ5bilwYMe5PocVYvHqLpJuCts0awxvFozanMEzLMo2fio558+drG6SSsbCoUFeKLVu2BL/8Mgq//PqTlG0t1KtbV/qAR9rWUvTr3w/NmzfHZZdepu2LSkSOF8ce01vLU1jTumMq7Is02E7j67Vq18LkyRNVqUQ7ZIMHf4pePXvhX1dfI2OMV/Jixjz7ryA/B0OHfo2FC+bryrs1a00b+3PxAgwe9DHWr12Ptq3bIjUlSeq2AJ9/NhjTp9J4+M1oLXU6/o8/sHjRYhx91LFo1LCx9iuWP9Ng32c/4HhZv24d5GZvxsgff0CwuFAVyVu35eKuu+9BsxbNUBygoogDpAHHDp7+Vgoa+HZJvQITx6/CqlVL0OvoLqhXL03SYpmH27mUAccobtfkuLRiGTBwwI/yrQjhgj7HSbn4tDaSEoHGjTugMN+Dfu9/hxE/TsaUqXPR44hDcNudpyA9g8onjmpUKlXe/ljyVFLJlwUzZq2Q8Vy+jZ4UrM0qxMqNBVi1qRCr5d7SGnkmrQ6/o781mwrC7sVCRWHifTFWh6/rNsp1fTFWbAAWr1gl3wugUf3qSPRa3rSHm1sHDhw4cODAgQMHuw0zo46Ac/q1Mk/L2pyNBvXrIi1FZHedG0Z8GjkyDLm1M7Io1wOKOJkck6cybMwHnnjhA5x24vFo3bQuioMlKOHEXZkv57UMzKTbbZQXM2fMEUF+HjqJwN2iZQtVvjCz3DaxRgTJcX+Mw9bsrYgTga9unTo45pjjVAimDRBun+DKhHHjxslkfpWu/PElJqFb9yNEmG6pW1fIbWRFAUVLU6j6Q6480cW6WSHL/Kpvw0AVKgUFBZgwYbyk68ehh3bVFQ9UDFBJkJgUJ3xOUQO33GpD5URXEeDbtm6nwgTzy9UmW7dsxc8/j8bmrC3qzmPae/c+DtWqZ4ggF1AhxwghylxZWJK9Lw/DteWcQgRlSH8hRBBcJuUUh8O7N0KCj+9K4JaXebkQoWs9li9bp+m5XEF07tISbdpW0bJiEhSGlvwZwqwZi5C9LUdiLkF6eiJ6HtVRhG3oDoiKwdI0PIWkgHmM9vdDJ6IobyvuvuYk40Xi2lu/ZMeWhilAuUoFMr80Wi1NAOeefwVOOOksXHzJ2diYFRThir+mU6DkSgUK+FRAmXbA/LP+aN+EgiKVn1QesGzYvsx7F/yBgAjgrGuPKhq5ZSs+nluDuPqLdSUUL/FKI+cKKIK2gaiQZFy07UJlAOP77wvPY8SI4Xj++Wf1NLKghNdVSnwpnOrqOLlyqxh5tYpA8hCSyoiLc4N2oAj6TU7iVjejKCRou4b+XG6vhGe/M0qlYDCABMkoV5mUxos0SEFZ/AclX1Q0JNImkicOwUCJKqC4fY5lSoUBDXtrmdAwswTyJdAelGk7kk3k5BUgXvLtkfipPDFCeHS9i29pIyZFthuu7Avpipk7br9dd9q88sobaNyogaTB9mvKjisAPV6WDdOWcSIs59P2EZUsX341BB8P+gQXXHA+zjrzDKSkVkFRkYwVXJEh6dPOEsMyVW0EvMg1EODpeHEYM2Ys7r3vbrVpc//9D8EjnUdqCvfddxcWLlqA/z7/Mtqpos60FYNwRDGggeiMdA8++ehTjBoxDMO/+jj8Zu9jk7DQ98v1+Hn8LJRIG6yb7sNhLeqiUb1MNG2cpO05JHm0PLOfKkkbpTJm5MjhuhKrWbPmeP65/6JBwwbSPkswbfpkPPjg/ahevZa0z5dQu1YttR321VdfSfncj6OPPgqLFy/CAw/ci/Sq6XjkoSfRsGEzbTPsXxasN/abLVs2YuAH/fDJxwOlPcWL38b4v/+7Dx3ad4LPZwyBW6KCKWfbRjz3zOP4bug3anvrX1dfL/WfiJyczfjvc0/hqy+H4Oknn8EZZ5yBBYsW4pFHH5Oxvx3uvecBicOFfv3I6xA88NDD6HXUMVLH7J8yBkl71F4l/ZTfobhgIaZOGIf/PvuUfnc8wsslV16DC/pcjKSUKuLBKIcMpLDjqNghsa8mYmsW8PYbE+Q7MFLSuhpdu9WV/PO9eFV7VExNwsulSMbnjz6YhA8GfoHrbjgTF1x0JJKS1Sukq2Ls74X4Y+wcLF60ElWrVseiRXNRv2Eyzjq3O845rzmKijm+SYPnKrRKwLql4jMANwZ+/DNSfaVo17wmAlxJywbPTAvYciMlTl45Ptl2Yt5GlGKECWfB7ZPMU2EghNyCfLRtXhvdOzWT9Kw/m4IDBw4cOHDgwIGDXQFnT3bmRXAmVTazkhecp02Zm4X5i5bhiB6HoX5NLiCXuaH44uIahqW8VxaJ3HImGh3PgUalK5VaNGuySyuVODmlcEgFy9cimDz15JP45uOP0KJdO3Ro114n3/SzZs1aFQgWLljA+TzmzJmNL778XITiErRp3RqJIhzk5eXgk08+EqHhC131w5UOXMnx008/o1WrdqhZs7rww0Q1ZeGJ9p64FULEROGTNpgo2AZVwC9RJZUK8vQvFwpCXPm0YtkyvPXWayJQPq3bYA4//HBUq1ZdKiteBHwXpk+fi48++hjr1q5TpdgEEU7G/j4GiT4fmjVtKvG69Zf/t995C1MmT9E0crZtw7gxv2HZ0j9FkGuiKz9U7pCE+Z6/qFMIoUDOe683Xt9TsUHoqi564YlPZFnywR+wp08NYWC/SXjt1fexdt0anHRSD7WJwlVhVI79MW4JBn86TOKrInWQj99HT8aE8bPRtFlL1KrlU6XDsiUiIL01GAsXLofPm4JNm7bgu29HYsP6XDRr3lIEHRrjDYZ5rAhkKA6+BG7tWi3lW4AenZuH37HcjSrhr5JF0C8lpausxJVCjtQvQWFIqhmff/6dlHFLdNCVSiGjEJH3VPgwvwoJawUqtrEAbYYIuDIuGC5zrhCgsWxeqVDiEf0qbIrwTHdu42KdUYjUFRAShV+ELfYJrpDRbV7Szlh2fEa8G7/8+is+HfwZLrjwQpx51hnqzhUbLCFVdAnRyDfzy22e5EXj4pI0ZZGnuBlbMVxlRJtAPLWtSP0EZQDhCW5BEeA9Rimmyh2Gk/xI5mknh3yybXH1EKuUNUQFFvtOMETFGwci8SQBg+KRyuJ4XRFIN8mnxMUwfvGYXxSAXxVYbo1PE1N/vA0nrOC9JfkrfDFPySkpyJa+MWHiJHTq2AlNmjZGUZFaf9I2TAapMPSzLKVv8OQ2rvZj3AsXLcTLr7yCww47FJdffrnWD1dT0bBycTE1bObELr8I28FAqeRNhOEiaTysQ4mXbA4fMRyLFi/GZZdfgeYtWkg5xEn9fI5ffvkFN1x/HXp0P1LakDltLlwBlYJ9lOPDmjVbMGXGAqTVaYWJc1Zj1tKtmPHnZkxbsAHTF236a7RwI6Yv3orpC/yYv2wTcgpZR17k5xRhw9qNMu6sx+bNuWo4PTWVijXhmX0kXO6sQ9pBWr16uY5bJ554EnoeeZS8cUkevaCh9YUL52H27Nk45phjsGVrloyFb+Css87CJZdcguRkt4zDVEqNQGqVVJx1Jg1j+1BQSIWrGR+YBuuHz2zbMvzj559HYfPypWjfpQv69LkYKalpwpEdTwx/rA8qR0eP/gVZ8r24/Mqr0bR5M2yTvFFhSePt06ZOle4eQof2bWRc+xS5uTl44MEH0aRJbWm0CZg7d66eBHfSyaegbZtG0mYk6nARaO1pMZRKbkOoWiUJi+bPw/ixvyJR+LnymuvQsk0r7evmdEBTZnoNn7THDzd/MAgUQ8bRdVgl5diz16GoWy9F/FCZyvI13xWGph3wET+sFl4H44iebXHZFachMYl+DENjftuMl1/6QHzm44abz8J5FzSVb0M1jP9jIn4bPQkNGzZHnXpVysau8n0qAnWVTPJbPHXaQhzasTmOOqIVGjesgyYNa6GRzD4aNaiFxlHUpEFtNK4fvm8o93xWMs8VkrxrIHE1a1YHLaTMm9SrhhSf9CfJjOGtYv4cOHDgwIEDBw4c7BpiZ1ScYv3dVypVpkXYJVC44FaYokI/Ph00CJ8NHowaNauhqhQGVzpQ6UFBgkI5qU2bdnj4kUfwxiuP47lnn0GrVi3VOOzKlcuR6PPqL8qDPvkEXTp3wn+ffw5PP/Vv3HLzjXqCz08itLAs1UaRgEIrVzJQ+ZCW7gNPhOIWO7fkKDXFhfQ0rvag4C6TYZ2wl+g2tvXr1uKFF56XCf3PaN26mVSEWYkUqRoKqX6ccvKpeP7Z/wofT+I/j/8H27Kz8f3Q77Bta7YIHV5MnDBB7elcdHEfPPPMk3jhv0/jyssvwa8//4S5c+YKP6ZoVfgQojzOX6+rVPGqQokCMPniyVaJSVQgUOhi4zFEYWnO7Cy8/fYA/PnnKrRocYiUUYYKHixTKhaKRfBh2HPPOxUPP3wUnnjiOFx+2bVYvHALRgz/Q1d2UXb6/beFmDd3OS684BI89tgxeOrJM0XYPAO//DwBWZtyRJAkL6USrzCl5bAjkL8oPzvzvjsI121OIfDrhDX4fdo2bOHqong3AnFC8pp5N6c1xdG0jHBDpac+bge+YxkTrAPGrlte2JBYL7zneyoh+F4Kl8Id2aBfj9enSg/2EmVN2rCbxkaEFxqp5sltNFDNFUNceUchOy0tXerjfD3JrKjQGLS28ZF0K5ykR6UViSuYuKWSK4ZMP6GykSsXShEUcsk7CtwkbttSg77iV5iQ9KSNyz/mkwolw6LEqbyZVQ9BVpe0LVNrNm/SHt0ezRv9G1s0ISlHecnyELeApBOSMnFJP44XYV/9qaKG6bO8TPsuj3AuJR7yWSIVk5KahCOOPBLcajh02PfSZkOSD6YpwrvwaFaNMYykRcWVpEMj5MwrnXv37o0+fS5ClVTa53GpXSam7fMlqoKY9yxDPRFP8sUtWVS2sdpWrFyF8RMmonHjpmjTtr0q3OSVjA8puPDCPujVk8oWya62kTDvOwHLj+3B5XVhW14uioMB5BcWoqCwSE/Os7al9pxKlWgTS/MqheBhnUr5UAFJJT1tuNGeFllhOVsw/wTbctWMquLfj6ysjerGE/y4Ao6KJbY7W07jx4/HgmnTMHbsODzwwIO4996H8corr2DJkiUy/szBf574D0aNGmfqKAr22S+D0E+jfsLmrM2o1awFVqxYhTlz5igPpGhwzKpalYbpa6DYH9BVk5JlVfBwm6nbQ6WuW+o/EatXr8WokSNl7PsTr732Ou6++1E88vDD+PHHHyStLPTt21fGxo+wZfPWcOwRUDnOFa4zZ87GxMmTUbtBY21f06ZO1lWlbIv2O1Iewm/0aqFSGR/Uvl3YbxxXEUqfFGcqM7m46LfRG/D66/3QvEV93Hzr+ahWg0mFJA3p6/L+269/RnFRHK674RJ0O8Kntpou6NMYt9xyMwLFafjh+7E6nvE7alARX8qZEr9vKClGpnzzalUBaqcBddPjUTfDjToxVDvDpVSHV/FjqY5QrbS4MKEc1UwH6mTGiT+gQXUv0pPj4dZVXBXz5cCBAwcOHDhw4MCBncnuMSg3lIgw1ahRQ9x55524/rrrkJGeBhqJFXlYp6LcJtSoYT1cfvkFqFGjFpavykNKciratWmLYhHGtmzeIgIiUFRQpIJURtVMcS9G9uY8EajcuqWHCiSVY8Kza65ESkxKwI/Dh+Oll17Dhg3rjX5AXn/4wWAM6D8Y+SL00Y0rIEwYEQYloQ4dDsGzzz2Ds84+U5z5goIlBVSu2ClBly6dcOopx+jKpKxN+WhQr6Hat1mzao3wF1T7puTPK4J5gmSSpxEVFuQLn/GqHGJiXORCgdcI4XHYsHEDBn3yOT76+DMR9Lapsmvbtmx8MugzNTRMI680PGuFNZZdUrIPJ5/cE3ffc77w3FRcecw246WNJXPCVfcejXDCyQ2QVwjkFQD1G6RIGdfFxg1bVenECsjLzdOtTyyv7G1UmkFP19JTlkR45/YnXSlF1isRHqi4CQlR8VDOhwTi818l/uVKMio/tvlFWJuxGn2/nYoPf1yJUbO2YZvwTFuyfM8yKJF0qVRShVIkknJQRZFc6ccS60JXKciV9xTK6c6VOlSu8Oh2KkXsv0j+zF8+mXIyMMIzdJUF1Ts9enTBzTddiZo1a2k6Zau/5MJ0qFQyChkqsfjCXKlQMt3RRG5Si5BJhysGKICaVUU2bl1JyHteheifa4G0rsJ5YbTh10omVgt1ENBN+BPiahcS70mm5EnR4aLBNEgRP9wmWFxciqZNmokQfSt6dO8efkflneGNiga6aT/kX+bRFa8Klrbt2uK222/RsYXKFFtuBiYNOqmzwKz24MpJKqtYJ16cfvoZ+Ne/rkb16tVVWZefX4RTTz0VV1xxhfSvFFXURFbo2bgrB/vl5s0rRdDOwSWndsZVZx2Kq87ujOvP7ogbzuqA685s/5fo2rN4bYWLzmqMZvVrIS6Yj1L/FlRLi0P3Ls1wbK+OOKZXZ9Sl1K+wvBuYthSvW3F5yiFtVwWCNHptDhGgLmXz5mz4fMnSRmujU8cuuP2Bh3DIIR2lvBJkTPCooo82k2z7NFu9DOz4xPLnSrMpkyfpGHzscb2lru7E2nUb8MEHH8l4ViDxsG1b/waslxpSF/ky3mVnb9GT5eJLgzIeBlRhz1VqGZk1UbNWPdwq8Z133vlISkpSpUtikk/bLrc/Emw7sYorgm7r1st4O/hzXWl359334dAuh6H/+30xf84cGTv5TWK7iwbL0fwIoiRZViV/eFucLQseQsHxsmoaMHUS8MxTr6Fa9RTcePOlqF3XK/644tEopvjZWbZ8hZS1F/XqcdyRmEq52glo1DhFEvAgN7c4HPfOwL5BRbLcShwokUFSQUalDQu5oojPcULUfHHFbzTRbmGsmyX9JYbfAg0rvEp+OH5UVM4OHDhw4MCBAwcOHBDlJZKdgNPKaOISfwpxSYmJOPus03DaaceGJ58yDQ2vnNBVGUIULikLUBCh0MMTl5YuWaKCDwWgwoIS1K/fAGeIEPjJR4MwoO8AzJk5G6+8+DKSfD6cevJJ4bCStk78JQ2ZT/NX+48+/BDDvh+KwsJ83Vrx/vvvIGfbFl39RJitCGbLTGZGNdx00404+uijRUAoFSFRJAx5x5Uilu+APwg/D8+SYLQFtX7tWuTn5aFBgwZIlLzy9KpDu3RB2zZt8MHA/vjhh+/x008jdNXV8ccdp0aCtRgELA/eJ4kkk71tK95663UM/f5rpKXHYfjwYSKA9ddJPpUSFMKMcoH8AId0TMEFF7ZE85YURnKFNwo4BlxoEhdvypjCFYVFKuays4tEUMlG7do1hFfmCDju+C66YuSdt/th3NgQPv9sNYb98CPOOvsUEXaSsW2bRhlGmPEw+ERS5Ytc/SVxKAqJ8CT3mra8pXgmYo5e95ziEJAMMB6/5K3QUwOLNgTx3ZhFGPj1RHz09Wz8Nmsr8kWWCpZyQaBRnuwK6I/HmVueKyJVBkpF6bPcRkhcVLkSKRkqQPgv4sI2xlV7wptkhso8u0IqWmCkctWEobBNF3MfUZZYCqMCJwPjYNMoQ9hvWdrlckjFAMneKwMxiPZfGe0I5f0xXxTCE5OScf755+DSS88LK3B0bZXUCUnuxTvJrN4yigiuouFqLa4uUltn+s4ofu0YY/IRAZ2t0Xa/v1QNfZ933pno0eNw4YOKLLMqjIq9UMgoqSztHOEylS4Yz1YaYKeRii4thlviYwxap7Zo95Cok+Ntgly9pZvRqJYHTesmoFpqEXof3QyHtM1A9UyoAWWOf6TyoKI0HvXqNpCx6AS1TTdhwh8yznqlXRao0fPFi5fimGN6o07tBujZ60g8cP89eOzRB/HUk4/hCaHrr79R7Rh17NhJVy8dd1xPVepo7OHyp+Jp82baUxqIjMwM3HzzrTjl1DP19Ljx47mKc7iUtxQHl4aFQaU5+8bh3bqhRYsWusVuzeq1SK+SJGPsaoyQMDQc373H0WhKo+GXX4oHH3oITzzxJJ597t94SO5PPuVk1G/QEFdeeRWuv+4q+Xaka3uxKCwo1G/CN99+iynTZ6DPxVfgwouukHbQB0kJifho4AeSZpZ+t8opvLgiqZSHR/B7ZcbShIRkJPCUtdJkrX2O4T4aepchevJE4NVXPkWNGg3w2GN345BDfGqLLNHnVntXrBfJrri3QGERbe/N0W9KcqJHeATGjJkj9ZyHjp1amXazExgv1qNETgWQQty0TjgGxYWJ94bYHcqIY9SOSPwYZbJRKnMFX6S/OXDgwIEDBw4cOHBQMXbZphKnlRWRBe3K0FAxTxgaO3aMCCSd0fGQjiJkm185deuM+KOgwV9zZ8+ZhS+++BxHHnEETj35VHlDw7oJ6HpYV6xauQID+w/AH+PGYcuWzbjtttv0KGjas1HhRiLiag0eF96kcUNkbdqAX3/9FTVFiPzyyy/QvEUz3HTzTRKfT/gPmV/fJRy3z1CQKCr2C19BzJg5A3PnLMDxx5+AmjVrapyciNMPf5yn4ERj2Dwm+/cxY3BRnz447LDDRDDyIzOzKho1rK9bPT4ZNEi3vVXLzMTd/3cPatSso1uXuL2KAj5XWXGrTuvWrTB//hxMnTZBhLw0fPXVl2jVqpUKcUzP8qkGuSSPJKukGD9hvto6Ob53F2NTSYQ1+g2V+FUA97g82JLF7RYTsG7DGhGkeotglqJh69aFCJCHYuyYGfjhh9+lfiaLUNcYd9x5CtKqMg0RIHRfRWzNWmWKeXZ747Bk+TbMXbQG67cKT5MXYsqs1Zg8cy2mzFzzl2jizBWYPHs1Js3bikmzsrB07VbkFJciKSUN+fl+aRPrsXzpKt2u98uvI9G166Fo3aY5CgtZDlTEsW1ZZY3wXE4YMpJ3tHBk782WN6NYsIqkaIhsFc49y4J39snCBuDbyPsyZ4EmJSywXamCMwrRPG2H6DhI8sesKGNdsV/RzpNELO7mnXFjnIY/DaVk/xkwAH3YXES575R2hO39MU0qFtimqYw1/Mt7+a/lIf/IMxVHBN0I1om+134brYSLRvm0YsF+QRtNJOVEy0UikrybdBjWtvudgcqaUiQnxmPh3HlY+ud8XHLhefDEJaCUigj1sfdIt3oKn507tYG/MBuFORvQs0cbNc7N8uCqS80KyzIa8kylGZXUtEHHUw8HDx6McX+Mx/fff6/b3Ppc2AeXXnoleCIftyPSXlJhkSF/cRAbN22UMe9HXfF15BG94POlqRLGruhimjT8PmjQR/j8889wzbXX4ehjj4PXk4CaNWpJGmMxa9ZsGcu7IbVKFalboyjnWMhxNy09Fenp6TJm/4JhwhMPTPjmm29A+0xXXXUtOnXuKnmIl/GuGEU8va6wQFf9bNuWgylTp2Hm7Nk44ogjUat2PYnX8MR8s344Xi+cP09t+zVs0BC333G35DMNtWrW1i3M3343VL4TddBCxl3Dl8kPbdjR4PbIEdMwsN8YfP/dQkycOAOrVq3Fpk1ZGP3beKzfsFnG0sbIlrFvwIChGPn1T6iSUVW+ecswatQcjBgxGaNGTpD8zFJ/teskyrWVHhAwdOhQjBs3B7+NXiBxT8LkyZNx0cWn45TTD0VKKpkwbdTQ9jA9WkjqYPKUOWjZrA6a1M8wLxXR4aLjsfeRMUHHD7abWIryGyGL2GcHDhw4cODAgQMHe4LtZlny8He3qbTrhrorQzg3VMZwQr98+VIRKn5XhVLHjh1FsON7E17t1YgwsmnDerzzztsqYNxwww1o1LCRCoBcDfTH+HFYu2aNhO2Atm3bariVq1YhvWqGCgOUBY1QTWVIQFcjNWhQFz8O/xE//TQKVVJTccUVV6JZs2a6TYKCihG2I3ngHZU8M6bPwBwREI87vrcIYDXE1Uy7+TOz2muKd2HOnBm6uqhL5y646KKLRMDywZeQIAJIPr7+egg2b9mKU089A23btMW8eXN020Uruc/IrKplZ+I06aenJyHB5xEBbzQ++eRDtGvXVrfm1KlTVwQPGhGnXR3lQK5sSMxjHIqLgEkTF4iQVSi8doYvSWIs5dYP2lpxCy+0zROHkcM3ieA4FKed3hPHHi9Ck8jplAMXLSzBtKmztewOPbQz6tWro4q4detz0Kp1I1RJixNh0m4DipQToSUtAhdzQaXSn0s3YWt2Prp0bIfMKklqMJhGyXndM6qiV9qA4TH9GdVqwe1JQnZOMXLziyRfwlFJsZ4+VL9mOhrUy8TUSWNwiLSPNm1b7KJSiSj/rIqKqHsL3lVM9M87g+3fm5o2d/avAfsGhXL1tx1fBhW6xV7DN9avKl7Cz5q2/CGf9nm78OGrouyhnOteB2O39RNRiNE1XA7CKJW9BLc/WneuvuPKFq4gM6c9RurWwPJdOf9a4kxDiL5MubCQ9CmGdg7yn+xzYYGMGX8unIeL+5wvId26KoV1vFch8dWokYIW1eKwaMV6bMlahy6dOiAUoA04Ka9wNjQ/SoTJC/PJvpBWJQ0tW7ZUhXlV6aNcCXpC7xPU5leN6mnSd7jezyj07EowtimWe526dXH44d3UIL6u4mQZarmx3fFaguLiQnTv3gMnn3waUiWtBK8bVatm6tjbRsbAxo2bICUlWcJFxhVdjSmPjRs3RvPmLaTPJ6Nu3Xq6uvPcc89Ht25dUVJqVqS5JT7dQkoS3txur441bdq1k7GzPTIy0qE288QvlcHknfc5OTmS1/o486yz0aJlawRLeKKnD40aSZotW6Flq1aoXr2Gxqu2uNg3JRzHmoJ8iavELX7ro2vX9jjqqMPRvEUDVKuejAYNa6KhEPOSlpaBHkcdgXbtG6F23XTUqlVNxtW64i8dtWtnSroNpEw8kg6kPBqgXoPGWh/cclhPJgvHHd8Vp53RWr4TkO9EMFw8powqgpY4V9cJz6pUahqtVOLbioiIPDOPpGi33ScHDhw4cODAgQMHfwWxsypOz/7uSqW4Urs0IIyN+cATL3yA0048Hq2b1kVxsAQlFF6V43JeyyEOISS44/DLT6PUCPdlV1yFK668EgXF3OLCJfn8ld+FdavX48n/PI4lS5fg1ttvw9FHHaPRUk4Z8/tovPraKyKodMddd96hK5dGjBiJ/v0HoGGT5rjnvgdlMl8VNADOFTx+fxESRMjbujULt956KyaM+AFHnnKWHkPdSoSpnJx83a5AhZWpiDD/JeZkuAED+2HwZ5/jqaef0ZOpjN0WCq8loCHmWTNn4vnnn4HXHY9777kXLVu00hVXXCH00Ucf4J133sGNN96Kiy++XASaED75ZCBef+NNXH7lv3D9jTfpaiUmqb/yS7w0TDx33nQ8+uh9mPbLKJx/7c244/Z7RBCrJeFpjNkK38qkkOTTD+TnAi+99DXWrduCZ/97NdIzuZKKJ2QlaLlRJvljbCFe/G9fdOrcGNffdBqq8yhCD5C7DXjvndGYNGk8+lx8Nk48sRXy84BPPpqE4T/+imuuPw1nntNWyyiyWikCVVsIQyG5S0oFvvluggiTftx3Ra+wj70HZptqhfUFwMAvlmLs1IW6Kqt+rUQc1bU12jSujoZ14nHhBdfi+BNOxkWXn4NNmwLwcK+KgAIrt5hFKxG32yIWBS07LWuD6L4aDesc5TXSienIlS/hWwsR30wV8p63klA0X7xnOyOskpQoN2Bsh5i8SbjoOHgvbw0fsdFEM1cGcdQVS/sOjL6yHHGVFcvJ5MeQ5YZXEy6av8pi2nWY2MiUjVfiNIPbTiB9LhRE9TQvhgz+DMO+/wzffv2phE4AzfPIkGC4Z1TRLO8BqMQPST0Xydib6HVh0LDpmD9/Pq675mJVBHH8I4yR7kg+wk3BIE7aQgkVxXFITvJIHzHOXLmYl18sbd8okhiFniBXBo6BtEdl3hX72SPDykshe6W/RBl7CSp2rSvdvTTALmMPDwrgtkPtC2Ugk/JNkLGWK0m5RZf9kHbSCvLNSYpq+F7cIp8m26pLVQFGZTkPSzTKRgPlSwJRMclDG2hPv1C3W5foeM2DGqh4T0iQmMSzDGFaxpEcsR1yy5vkXXgnWK9Mgsom6kVpJ49b2AgOOfRv3/HegtEy7UCAK/PiNXbm02t2YytYNgWFvCvR8IqYdhjJP7lj+xO/Mqi/+fZgnH5CF/TuzhM4WZ4MF8mHAwcOHDhw4MCBg4MHnKVFZnXlZ2yc7nEeOWVuFuYvWoYjehyG+pTj1UAM561mHq6LIGwkcmtngDaeA42INLsLsAVSEVkwwzypiKcWsZAo+MS7qQQKISenAC+88F9Mnz4dt912u56wZraImVOt/ly6RCbbfpx55hlI8PnA486PPuYYtGjVGmvWrNP4WHRUKFGANtvT3Bg5chQKCvJx6c23Y/OWzRj9y2jk5xWqf9p0MQzyjxFObAVQ2CG/JLNKwgjsFHjmz5uL1157Re1F3XXXXWjatJn40806ugJqwoQJaNKkCU466WSNhzj2uGPRsFFDLF+2TIQPkT4o5UmyDEcBgUa+yZsr3ovzr74JCxcsxpjfxyI9LUHTpADGX96phDI2PpQlFVziSqlA4qlF4lbCFEVCkXva8Zg8IYS33/gQhx3aGVdfcxqqV2OaElTCbs4CZs/8U3htjiOPaKXutaSh9u7dFSnJmViyZJXaujLKFybIBKKggo4V6XgXRFwwl2+kcCmZFUk6NOr71wilfoQCxmhtaYEIYSVZ6NK8Ki47/XBcf9HROOmImmhWJx4eee91UfAlN38N0QolZt/kdHuyiLiJsKgSZ0jupc1IPHTnUegU5K0/VRxxdYHcR4PCoRUYjUKF97uSHwq+7LImBRNH7H0YNkpLFcKE3RnIL4mwIaKJ29tiieA7C6sIYzu3xMpWRZgQ31s/4SanV9tjlazbdiTxlFFF7yNkwJuyh12CCUEueI1+knjZZ3hrq4bXv0B6wpiQVzo+9Q1cyUUlkEktXld/mrbLOqmscoVLGVdLS+JlLAwhO9tQYWF4BRi1YPRlIo2C5EsKqqgopFvj9Jl+hMpd5YbKJBLbpK0/3lMxVJAf1C265WF55UoqtyqstmYHsUX42pYT0lPveMohy7O8DbR4cWGvi9MT9gqLSlRhz9xbItgHmH5xoAS5eeFtj9KxGZNR1AH5hSUokPBGIUdoZgRsi6Wan225ASE/8gr94jeA3Hx5zpE8FYQkDhmnhXRbnozx9JOTG9T3Gk6ufGbeeaJmvEuurqD4Ne9M3AF9jhf3eJfwwQI1hboDhPkVbxyrbV8x7rYdWHLgwIEDBw4cOHDgYP/BSBZ7AZzM06huYaH+/AoaxOUvycGgMSJdIO5PPfk0hg8fgVtuvQW9evVCXl4+eNqbv9ivQkbt2nV1O9m4cX/IBDxXj+meNWcepkyZjlq16yApKUUn/vbkHk6sFy1ajKFDv8ehh3bFTTfdjEM6dMSQL4dg8cLF8PFIePHPlSw8oU7kNJXGikUYID+BgEz+hfxFxbr1jltuaGj1z0V/4qUXXkJeTh6uvfY63cZBhQ9X6DBPFMq4ZWPp0mWYPWuWxOGX8LmYOnUKNm3ciAYNGopgLUKKyFTGUHmclIcbkydPws+//IaePY/HIw8/gfp1G+Pzz77E3LlLlEeKCSqqqoLH/FLOO9rk8Pulqko8qsdhPgJFcXpy0pwZwDNPvoXMzOqS/yOQnAgUSxX4i4DCPKBGNaB+vdpYNH8p/lxYqELqtq3cTrdYhJ9NujUjKYmpWYHEUjREMBMnfSPlGRCBSn1wG05YwPmrJH8Q54lX2SotDTj52A646PQuOOawDDStKUlJvkU+U/mJJ1NFEMtrFLTC9x4YnVYNlSBMV67BoB/+QLHwFVIFn5dLGKSw2LHUjxDbuBF4jQKTKzx48h77jHW3gnl57CH/jCY2qmjs6F0FSEzywOfzaP654oPX6HtuQU1O9Oo1NcWrpzWynak/+acrYthv5JqU6IHb7UGiXBMSvLryZDuGJFy5qwWfKyQJX0YVvY8ii2j/u4Ey73oj4cuBz3+VwtA2YZ7jhE/+iwbLvpz/7SDvGE7bVXmKhIstFILvIuFMPPoi5hrtJxrW3aQRXSUmbnOlQk796TIfiSNM1i/fR+75z4Qx/qLfbU+mP4WJDmHoLfkKh98ekoJGH8mDEse4MFnYvJs8yLOOg7ynP3Egr0oGZfFoGF7t+4ifncJ0KOHSKpHCkHFIPkw67ljiuOLAgQMHDhw4cODAwf7ArttUqmDuy9U93Ea2des2fD54MF5/7TX8/NNPWLduHVasXIWvv/0WLm8CGjdpitkzZ+LDDwbqSqItW7Zg+IgRGDbsR3w/dBgCwSDad2iPevXrqTLqm6+/wYhRozBi5Ch8L36aNGuOW2+9Xe0q0Z4Ip8sUM6jc+GTQx9i0aROuueZaY6ejaQuM/vU3LPlzGbp0ORTp6anUK+n2ripVvFi+YjWefOpJDPnqK4wdM0Z42YrZs2djwoSJSElJRYf2TfHlF0Px4YcfqLHbWbNnYej3w1QZ9r1ceXoclUy1a9XGRkl39G+/Y9gPw/D1N19hwfz5OPrY43HueX3UtohIDvqLtdvjVjtRAwYM0O14V111DerUroWqaZmYPGUKtmzdqqct8WQ5nojFovb74zBt6iK8//53+O7bCVi08E9s2LBGbUBNnzYT9eo1gMedjK+/+hU/jxqLpKRSTJsxCyPlfuTIPzB16lTUql0dDepXRZMmLTB33kL8NOpXjBmzSPLxB6ZNm4BrrrsQJ5zYClJFkib/qdgWvue/SLVTn0N/CxeuQqi4CD0PbSWVIAVLolRV5nvPyKhpSPHwipxZLd2NamkuJHGbSagEHvHmcrM8gS+GfIsmzVui/SFtkF8QRKU2lcr+hVORP3qlH94oTAAj5G0P69UQTw3jKow8DPniC7z66iv4dPCnmDd/LtKqVMFzzzyLP/74A7TZUrVqFfw+ejSeeOIJJCUmoX375rp9prioGIUFRVLPpfAlUvG6fdpW0VS5ztdytD00nC0DLdGIb0NR5aHvmZY8xICrh1ie3AZVkF+o5PV44Zb+x36v9mvkH22TFUl+8vMLNG/FRX7pl8Xi7tZ6YX3wpDWWG7cnbsvOUSUcjS4zDOPhikNtRtKOwqzvJ9iS2Dnoi6tnkn1uzJszF4sXz0MftakUr3XIsqqkCe0mLE9mZQ0VlbMXb8KmrCx07txWV2nadCLphcNUUHjhN1HY3mVPsONYwm/0YnyW92+eTOuMRXmf5VGZ+96CjT/MQ/S4Ru2YvS+j8Hvtc9Huu0o2/p1D11txXHC5MSlsU6lpPfnGqLtR7rI8zbhhypvNIXZsceDAgQMHDhw4cHBgYWZrEXC69j9lU4mKnGgwKIVCrvzZsHYN1gvRdhLzTGUUtyrUqdcADRs3wdbNWVizaqXMgUMqdPK92+WBS4TPqunpaNCgvgjZXhE2t2HZ0qXIzc3Vd5zY165TV9430pVQVGKpcVaZjwcCfvz55yLwGPEmjRrpCiJO1FcsX4WcnFw1/pqUxKO0A1oRvkQ3srfmikC4CIVFhapoot0m8u/1elG3Xj00FD5WrliFVcIr0+BWHoZVu0jyr1nzZqiWWU3zv37Deqxds1biKpJyKJW0ElGnbgNUzagpPIlQWBJQ5QEVYUWFhVi3dq2kl4hMCU87HxQEFi5aAF+SD82atZAYJR0ubxKEQi7kbAth7dptKCjgEd4J2mgCwRzJRwkaN64Dn08a4JpSbJJKo42lYIkI6drgSpGYVCrlXhNpVbwscikTP7ZsKdAVV8FQAOlVE9G0WRXhM2wfRPLKH7wrA0+jSq4CfPfNGBTkbMEDN5xpAuhyLKPU2TOYLsG/VCzxnlBeuB1GhHX5r3XlYt2L89nn/wvHnXQqLrrsXGzcVKz2rxiB2lSiEpR1JRnS2OQPiSvMzD3L2KTK7VLhu3C5kSzMPd+aN7RpEtT6mThpotoN69yxI47seaS0m/q6Qu+Wm27RtvrkE0+hXds2+Oyzwbj/vgfwyKP/xo03XSVtugRz58zBgP790LnLoTjn/PPV8DuTJk/SJEw+VXFDXpUF7WeWd9qMKjeoKIwbt5TRrypepQD1ZDiBUe6Ye5sbkzOSgT6Fo2VZkBeWz8IFCzBwwEB43V5cftkVehS8n0vnBFxltHz5Mrz99tuYP2++9qVgoAidunTEtddej4YNG6KgMKSKqNRkYNbM+XjxpRexYeNG7dubN2/F0UcfjTvvvFP6TqrmmRmNHWcOBpCrkPSb6mkJGDL4cwz7/nN88/VgGRHc0NMTpe1tVy1/ASyBgJSHV+ph0LA5mLdgPq6++nxpZ6xP44Pbq4xPU6dlVRwFW9t7CptCRdhRvFqH2r/EV7hhRfuvLE4HEUR/mqlU0i3angS8+fYgnHnCYejdjTaVZEwSd65m4xeKillb0iz27ccKBw4cOHDgwIEDB/sTnNFFz305O7MzNE73OF37u9tU+ktKJQtmMsEjAlDYwKnGKP6Z9+KAMUpKQYiGSplxIxSZ9/TL97S5RIGak2ButwnbrBbBGCgqlniKI6ce2bj54BWpi3EE/AEzsZb7hAS3+GUYKhOMP/0rL7kqgsafTXiTvr2nEVbaA2F4t+SF7yhc8z29kHjsdEB4ZVxcjcE8USlDcBUBDbTS/AzLKi4+IuWxjHzCq2RR4ghqWNqdinfHqeFZ8mlsRRmlEu2oMA80ts3DsShPKB/CD/miHSRemTZ5JOjfgjzwGG4Tp6kbks0ry5WGYpmPHQkefCNeVamUokql31GwbSvuv3FvKZUMhAv5a1PjXYQn8q+KIhHcpXpw9nmX4qTTz8FFl56DjZv8UlceDUXBnvkyf0wMmmcpH7+/FD6fuMgrlgnrMCTd0aySKZEyoBIqXJAKk76JScozGNDyLS4uwvvvvYdvvvkKTz/1JE486RhNbtPGbdiwbj08bi+SklNQo1omPhv8KR586BHce/9DuOGGqyVsKcb+Phr3/N/dOPf8C3D7XXdL/Xm0/siTrQYa9WU74TO3QHJ1FsE+wdVO5MO0a2NYmPcsI1PXJp/6HDC2Y4zCjPEwIt6TmDOSgT6pN+O3JBSQPA5B/359sWTRYhzSoRMeefjfOLTroWpPxraZZ599TviPR88jjkRKUhLmzZ+JV197CYd07ILHHn9aT7uiInjxgnm4967b9ZSw62+6GUkpKZgxYybeefcd9D6+N2655Q7UqFFTy9IoJCTyCHsHDJHhsRQl0gaqp/uMoe6hn+Gbbz+DS4Z8Kru5YmsH3Wi3wVSjlUpzqVS65nwUFcgYRi0rVbDaXOnTJFxOqRQuP17+CluMXUsgHF8ZdhqpDSkeTcMy93oJRxQdn4PtEGl7LLkSqV/pz64EvP3epzjrhMNw3OHN5I0M8lzSJiinVGKx825vNkoHDhw4cODAgQMHuw3OyaKnvZyd2Rkap3ucrv1PGequCJoRKQ0KzHl5JYbyzZUrM/zizvdcYcGTi7hyITc/qJSTx/sQikVS1pN4VHkVJ374zlCevNcTfChJ24JklGFBmsZkqQhSw9Y6qXapkoq/6FvB24ITbK5Y4SlD+cIfydyHhIIqHNIP48sX/vKFD8Mnja/SgGuJUbKxgmXyHghJ2MJScYdSPtMkj1IoZjJvq1kEUmE4vzCAouKAbofjc4juwiNPMrIKAROGDYhlBhQUQcpArsUSf/g+v8AojZgWs17E/BZJ+cs7S8w/4zTCZwkCwVLlL0/CkgqEb31nWTxgIB821ySrTjLuBHksjTOVyb+UmyiXGv9mRZJVnFh3Xd0UDGHjpq3IzpYCkfiWL1+NJUtWYP26ddIuC/VUv1Ienacw4SsD64O2nNauXYe1Er6goAAbN2zEnDmLsWbNJsTL++oZGaiSmgKfj0bV4xAKmK1gJZIGc5OdvVloE7we9o0siWclVq5eJW2nSN+bOg9i1apN+PPP5Vi6bBWyNm/Vds7sUaFEBVh2dra0gXxpr0EsW7YOq1dvkPhomL5U369fv1l4Wo/NW7J0qxmVcZTruZ3T53MjMdElxKuxbaRERa7bI2XrUntmAwYOxKOPPoI6tWqhc6eOTBi0C0YlJhVVxjZMPK699lrcdNNN6N27lwyCh6LPBefj2KN6YfrUKZg3b674Yc5KMOa3n6XcV8n7C3DcMcfg0M6H4V9XX4NTTjkFPw4fjvnzF6iClnk1VcFM8/q/CS21cP7NuCBXafz2nq9UGar3RiVrGn+YtPwM/ZV/FcVX9rxTIuSq/qPvwxQdn0PlyPy4wNHOEOuYMD9yRH226awDIvtj+Q7jKJQcOHDgwIEDBw4c7A9EzU4rhhFaDOx9LIXnu3Kx4k0U8V0ZxbwrQ6x7DDFcOI1y2C4+ZofXnSE6jEXsfXmisqukjOLLyOQ5nL0wlSGGPxpw5ZahEH9xpnAocfGEO92yFRYWrV8j0olAERcU4najMOkz3cOkWky6k4qFAkL0w6Uu9COvyZW68b0lPpfjdqcwviVCjXMvocK6NWUQ/cIKSFzV5dJlbFKeMeGouCSCgYAqPwoK8/DU00/g3vvuxk8/jcATT/wHDz/8AK644lK88MJzyNlGhQ1X8phuwNCsF14tEdad2xffeOMNjPn9d2xavwGvvPoqHnvs3xg7diw2bNiA+++9V20o5eXlSaASVTRRuUTei4oC+PTTT/Heu+9g69YsjBw5HPfccw8eeeQRrF69GtzKmJWVhc8//wwPPnCfuD+AO+64GbfccgMWLZrHpqIrlJYt+1Pe3Ydnn3kCv/zyE+677148/fRTmD59Ggry8zFkyJe4//77cPf/3Y1bb70V/fr103i53XLFitWYN28R5s6N0OzZCyTsXN2atnrValWcxbs8yM8vwgXn9cFTTzyFxg0bsQB0eykVG9GoU6cmUlKSkb21ANu2FWrZt2ndCom+BGRv2axKMir3eKojNag8pXFbdp4q5YoK86WcSpGclIwEb4KuxiO0XoV2s3n+YyFFpG1UFwSG26oqr6UP2DG3sqKiO5VTe0p7XgUSuIzsbfjewc7BshIy9gwjdcwfCrjNtexkPS5jrahc97ziHDhw4MCBAwcOHDjYLexUqURwykrzHbzG0m5PXlWJEBtL2K0y2hGYvvrZpaxUAIbdNdK/khaFXUs7RRl/hqhQ0mAiCFjFknqpiFRYYL4oTVricyS+Hb63Ee3M318C05G49pSUD1JFfBg3swKnFMGSEAIBnrgWKtcsmEUtS96Xhg3XyvvCwlxs2LAaI4Z+g88/H4xTTzkFzz//PE46+QR8MLA/Ph00CAlh49Os3YhirzyMzBaHmjVr4frrrkWvXkeiZq1auOH6G9VmUo8eR2rYNWvWYuXKlSL8x+sWJa6W4pXvaNfonLPOwRWXX4nU1HT07n0SHn7oUTzwwENo0KABtmwtxMAPBuCjDz/ESSeeIO8ewG233IicbVl49NH7sWjRfGGBq6XysG7dSgwe9BFGjRiO6665GnffeSe6dO6EyZMn6Ha1Rg0b4IH77sP99z+g/KwQ4uq7IV99jQcffBj33ne/vrv//gdxn1zvufc+PPTgQxj+w3DwpLr0tBRcc811uPvue1E1PVMVSRRkFVHlTgT8IVV40CYZtyFyK1x29lZwK2tGRgZo/4wrpA7v1gN5BZLHgQOxYME85OVmY+SIHzHix+HodWQvtG7VWiuSLZNJ2BYRLvrt0v1fgB1fvJ4EJCT4zBZWbrcV8iZyG69LKB4JPt6b5wTf9uT7C1RRfHtG5DMufK3ovUOWTL264dVVhebqS/LIuwSpEyA5KQk+aQ8ElbbaTLR/VDx+OXDgwIEDBw4cOHCwL7FTm0r+oAjp3JYm78wajoMMnEwLW1QKVC537j7fNgSv5eMt/7TjmLd/y+Lm0dK0ERR9RHVF2J3tC4xvz7ATHoQYszXUPTRsqPv+MkPdQvFu9btHYOS7kM2QGpWKhz8Uh/P6XIYTTz4Hl1x6NjZsCsLF4+IIlq1EyGP+kxITsGHDWtx9151YuXw5HnnkcfTseRTS0pIxY+YMPPzwQ8jMzMTjjz+FmrXqSag4cGNjBGTKMMZqoE0lGqEP+ovw+uuvYtiwH/D8f19A18O7qUJr9fJl+L8770BicjJeevU11KtRHZ9+9CEeeOQx/N8DD+PGG69DoKgEf4wbjQceuAdnnnMBrr/pdnhFOGT8o0f/hpdefB7nnXsObrj+al2VxML58cdhuP/++3Gh5PnWW+/A4sXz8fRTj2PevMW47bb/w/XXXalbT5OT4vDscy+jb9++ePmVV3DmWb11m+TatevBExWrVElHdnYOcnPzTBuURO2Vq6m4HZOn1KVnVlOFnYcrvXKLECjMwzNPPo7Ffy7B0888jw6d2iG3oFhX3NkSUgWrXGk7KWvTOtx807VYtXYDBgz8BA0bNwO3nLoQxBeffYy33npL2ks8qlZNx6LFi3HKKWfg9tvvRoP6DaG21yTdiAF11qaBve5vRIbH/W9TyS9NPkHawaCh0zHmjwk4+9xz9VAAgmnRhhiVeBYxQ/lBCPK3FwvpH4zYuoyjBbiQtDNvMoZ8+RUuOqc3jj2cJ0r6pa96JEB47LI/YOzk2+LAgQMHDhw4cOBg/4CzuuiZXXi2puCUj/P6f7yh7u2USuS8XAjB7uQmNuyuYGfxh9k6EIVqymXXYRVKFrHPsdiZ4sliz5VKsSifHp8Yc4VKJb6hMMMtGPsQbKJ6kllcPAIlVCpdjhNOOhsXh5VKbo+kX6aIKFUFUKLPg6yN63D7rbfCX+TH22+/j6oZ1ZGQ4MHq1Svw78cfwZYtm/H8cy+hSdNWug2Roakg0rYkHZfp2ivtInlEiM/Py8Xbb72J73/4AU889TS69ThCBHs31qxYirtuuxkJicl49fU30ahubXzywcAypdItN1+HnOxiTBj/Ox577CGcctrZuOGmO+BLSlQ7Ke+++zbeF7rlllvQvXsPSSdbBo8Q1qxZhaeffho9jjgazzz7AlavWo577rkTmZm18ORTz6NWTRl1SkPCWzz69n0fTz3zFC686CKcfc45qF+/IWrXqomCwiJdKUXbSRyPuNqFBuC5g4a9X0nyTCPz+QVBeBOMktBfGEJxYS7+8+iD+HPJMjz9zHPo0KlDmVKJBcVid0mkvObn52JA//fQf0BfXH/jLbjyX9dKvPFqvDzoL8SyJQvx5Zdf4Nuh3+pWLr+/GFdeeR36XHg5qmXWVEWaGrmPUipZWJf9jcjwuP+VSrTZ5pV6/XXiYnw+ZBjcvhRpn+EVjgekNBwcKJSWBpHgdenYVhosxr8uOw9d2jQIv+VKQmMPsJy9JQcOHDhw4MCBAwcHHLEzd5U1za3KYZQh/qFKpYE47cTeqlTiKVklIgGWtzRzsLAfgRR5+K4i7Bm/lYeKpGVLpGKUj6EyBdHOFEK7oljac6VSbDi78ag8/OKNp78N/W4MCnO24d7rThNXcTwASqXz+1yO3iedjYsuPRsbyymV2L1KEQwFkZTgxuaN63DrTbcgb1se3nzrPdSqUx/JyQlYuXI5Hnn0AeTn5+CF/76Khg2b6UlbVCvFdIcylJYE4HG7kJeTjbffegtDf/gB/3nqGXQ9vAdomHv5ksW4+7YbkZyahtfeeBv1a9XARwP6q1LpngcfwU03XSd8FGHChN/w8EP347Qzzsdtt98HtwiKXFn13ntvSbyvo2WL1kiROERyFEHRj/yCPEnXjRNOPBVXXnktVq5YgvvuuRsZ1WriuedeQmpqim6xc0mVrV61Eu++/y5+/X00tm3bhpNPPgUXXtgH7du3h8eTgJkzZ2Lt2g2qBKNwSptbOj6VhnTrWoNGjVCvfgN4vDQ07qaGDYV52Xji3w9j0aI/8cxzL6BDx7BSSXjSkhI/CXIfDPilbXyLRx55CF26dMYTTz2LuvUbqaHwhAQvZk6fKvH8G35J9+qrr0a9erV0S+Lw4T/hiCOOxoMPPIb69esedEolC44voVAA1dMS8OWn+16pxNyaPMfpiiUa6g9K2dBs2N5Nx8HfAdobZGim/W6vdM0kL+CTYY/fZ47YPMWSSiUHDhw4cODAgQMHBxdi5RjO2Oys7Z+iVNrBz5pmxQZBgSpCsc8HBxk+K6OKw+yMIk0gliKITkdRdkNUFHb3iUdJ75RE2oimiuKpmMJQQZ6Idrf3Uh5hZYsRXOz7gwTlyjyMsBsvLpHGvB6vbgOj7i0QCEgW9ABu40lAZVJlCiVC823j1DIwZAcC88q6x+vqo9g4VSgsLdHT2HgqWiBIg+niW56pfKGC6IEHHkC/fv3x2htv4a1338eHH3+Kd/oOwPl9LobXl4AQT0KMd8nAEq/KM+YnJJGE4lyoVqMWHnjoETz//Es47rjjMWbsb3jwoQcwefIUFBf7Mf6PCfhg4EAM6N8XAwb2R//+/dC373t497235f59zJgxVfkij7TVwtUPXKHFFUV0K4eoovImAOMnTsAzzz2DevXr49HHHkfdeg0kjhKkJHMb4hrJ03vYvHUz7r3nfpx88hlo364THnzgIVzc50K1eTVs2LdIkHhou4lNcUebWf83EC4B6cve+BCqJgEZyUD1FEPV5N6h/yGSOmcbqJ4KZCZKn3MZJSMN8DsKJQcOHDhw4MCBAwcHEtsplWiSQcRWBELmF3LasPEH40QAjhcS97LrwUf+vUq032Ns+ETIugnxfdivph0KU/R9LGmYCqgiv7tN7hgy7oGSXSQJY+7JT1Tdh6koCBTz5KFSrgoy26NUI3IQwC5sMWK4/FWFB20kibDl9irxPiSNm+3bbOc0CiGu8AoKqc0mcdX3UdlSfyKwcdsR47SnANJdn9WN/jS0/guVGutMIUmAW5WoWDIyn3kmURDkAjSejFbsDyAxKRlxLhe2bMuGNyFBbTOlVElHWtVMNGhQC2lpGRLaQKPiVfy7uZct3o1gaTx8VZLhS0pFpy6H4qlnnsY9992Lrdlb8fuY36WNhnDVv67BgIEfCA3EBwM/xCcfD8LHQoM++RT9BwzEOeecC7fbjXiuTBQeg8GgKoYosPKZyjgaSi8RN2sM3eN1Y/KUWbj77rv0+amnn0bTZi3AU+SKi4tVkZaXl4MxY39HzVo1cdzxx4g/D4oKg6hXty4OP/xwuBLc2LBhndYH82bz58DYu2I7iSsNgmvDSC5pr24pLIf+h0gGFOnp+sEOhvuJWx64StFRKDlw4MCBAwcOHDg4kNheqSQUF++FL6UqElOBpNR4IV6BZKW48PXgI8vnX6FIPHFITImDT/LvSY6HVyiRbuUIZZSUEomjMkoUPxVScuVUUTyxpP6E13Jk31WU3k6I4Ww5aP7SeDVxJiRWQXx8gmksxAEWaJg6iauOeDJfvBD/cR1SkG9oxNbrRVD4pN0ktngqmXhsvh6RL2GpUCpFZLWXUfyIXyEqT1QxJHGVlFBRJXFSIUQjyZp1KpGMQomrk+LEvTRenuS+NN6l28TUX9gPt5aVlMSjuMiPlKREpKe51EB2t25HIC09A0O+/gqr169BSqoPqcluBMTf2N+mYuXyFQgGglDjzBIfT5ijESKmEwiWgLbPfhs7BctXr5F4fMioloYq6elMVhVWVBRRMZaY6FMbR4m+JHHzyn0ifL4qenW5EhAKxel2Lp/Pi4wM4a9qVfiSkiRcEqpKfBlVpR8I34yXfMyZMxv/eeJxZGZm4NXXXkPPXodLunFCCahSxdiL8njcqF69OrKyNmPp0tVISXaheo2qwg+wZOkyLd9atWpDisrBdpACBLeXsnDYkITY58pR5JVD/0yKkzHFPrLf2XsHDhw4cODAgQMHDg40KrSpdO9jb6JO7Tpo0rC+bkcxNnMo3PwPTWPj4lFUXKyKieS0NJQECvUkrISEBJTq0pTKp/XbbRXaCWKqoBz236/QTId8mFU1fFLlityQgqFSJHi9mDdrJhrWzMAdN5wGl+RT93fu43bB8qnMUDdtKvHUsQhKEQwEkJScgNWrV+OOO+9EdnY2+vUbiGqZ1eFL8GDD+rV44L57sCVrE9548y3Ua9hY6roQHnnHNEJs82V5iqNuSeuUtpsK8nLx5huvYciQIXjhxZfR48ieqiha/uci3H7LDUhKrYIXXn4ZjRo2wsD+A/DYfffjoUcexW133YKNWTnI3ZaNN19/A/PmLcRRRx2DuvXq44iePZGWloLPP/8UQ74egtZtW6Nl0+bwSL/bnLVZaAvOv6gPWrZtgyWLF+C+u+9CtZq18eKrbyItPR1+fykKi4rx9ttvI2vzBrRv1xohfwHG/varroJ6/Imn0F7CFuSHJHuSvxCN+rLMwqtgpGvbMo5zxaO4uAhz587FnFmzUFSQh2HDvlMezjrrHNSpWw/NmrfAIZ07SpkV4cEH7seoLwah5ylnoueRR2oLcnu8ujKqerXq6N37WIk7hEkTJ+K9d99XpRVPfGOdrV27CtNnTEGbNq1xxRXXoHGjRpoX26Sie4VpmQcOVFPuX5tKUdhZxs3SPAf/RLBqY9qVqW2qzh04cODAgQMHDhwc7ODcLXq2HhZ1FFQDUIaYMncz5i9a+s8w1M2b/ADwyecjsWLlKqSmpiIowiEVSsbXwcL2vgeF7uJAKfxSpVk5+UjxlSI1QQRvESxdLq9WrG4Lol8TRK87UhBVhr1x+tvehrHTFFEqxcWL0Cy5DRbm49gjDseJRx8ivtg2iGilzt6HVXhQ+xGtVLok2lB3FKhUSvV5VYFDu0GF/iLceNPN8CX44JK4ivLzMOTrb7B+4yZcddWVqFWrptR1EeLctFUkrd3FdKTuQyHxD3gl7/7SEELysqSoCGN+/gXjJozH+X0uQuuWrZDg9mBT1mZJayC8XjeuuPIyVK1WHWPG/YEhgwbhgjPPwrEnn4iN27YhyevDij+X4sOPBmHdhk2oVbMGrv3XVWjYqD62bduCKdOn4Pth38GfX4x4GUvYBy+94nK0PqQDikJBVTINljhTUsT9ksvgS5Y+KkUT8AewccMGfPn1EMycNR3Jrjj4JK9XXnctOh7eDSG/5EXyUSz1ylVbJTJA8R9blyuslGA5x0ses6Xchg//AaNGjoQvMUHi9qtizes2dqmOPuYYnHzqqWoj6aOPPsSKZcskrGkvNPhN5OXlo0mTJrj5phv1hDpumRs7diw++vAT7VvxUtY0Qt6t2+E477zzkCz5oDHxWCWq7Rm736v2Lg6oUsmBAwV7gdPIHDhw4MCBAwcO/k7gDC5aluFszs7oRHxSGWLK3C1hpdKhf2+lUmxGCbqR4f9FMO+sSm466f/1PDRtmInjOtdEbghIcBn3aPyVSo0u+1gcqIZCnmz980o+7Fq1CE+mse9vpRJPf9OVSpecjY1ZsUqlOMSFQkgJ+JEu3EsIXWhHwd/j8aI0GITX5UKA2+TcXgSDxSgqyNXM8Xh/rysO+Xm5CEpaCckp8IRKEcwvkJcJKJF0aN8knicueT3I9weQEO9CsLAIbl8i3Ak++IsKJI0APEnJWjo+RlxcjIJQECGPG6V+4S0hUdPm9rVAcRHiSujTbL9DfInaKYoLlCLOk6hhud0uKO/9QlQg+XxJCPmL4S8oMGmGSlSxxXyFpDqosPGwXti1A8XIo2FySa9QXuZ7PCjQk9uoJIzTv8bClIVZKeT2UJFslEx81sPi5C133XG7XZw7XsvVX0Qz4SW6zc/NrXniRsUc9aQMQ2USlXwMS2Wdi1sOJd6QeEjwucBFYVIlar/JvosGn3RRIFH+1X5FxUqlwVJ+XrUz5WZ5WD4dOHDgwIEDBw4cOHDgQKDyjLlVUGQoE2/khVEqbQ0rlbr8LZVKrn8LeGOZIqmQJ8I0t3lRlv9fJNYUZf2gFMiMaYtRNcWFJg0ypWxEQJZyKRGhmCs/tCc3AAAW+klEQVSMeNV7llfUs7pJxVcUdyyVhMNGkxpD5nuJQ9/vYlx7k7S16j3zQ6PSpYjjTSm3UbGlbK9m2leQEpBk2LHi8MX/t3evT25U6RnA377oNld7PLYxxjbGmIWqxRiMA8uSTXaz2eJjbhviopL8bbukKhiSUFvZSm3l0ybsEuMYc8nagA0YY66+jeeukdRS3uccnVGPpjXTQqORNHp+u2dafTl9us/pbuu8dLdee10efvgxefzEY7K4hF9Tw3Zgtt2OrG5P9MXnEn36kUxmfYmufyrX3jon2fkFGZveI+WPr8r7//VbmYxKMjqSk8qnV+X2hx/I3kxogiWlS+/L3Y8+kn0TkxKUK7L89kUpf/GFTEztkfDuHbn2xm/l7tUrcv++/RJ+/bVcf+u8+PduyVghlPLVj+Szc+dkbGlZRgsFmXvvXbnx9ttyXzYjuTCQe+++K9cvXJA9WrHh0oLcOP+WzGiefbsnJCwvy2e/f0Pu6fZNFUaleu26XP7dGxJ9+41M7p8W79on8qHOz8zNyq7RvJQ+viKfXzwv+7xItGgt66J89tabsq8aib+8JLfe/J3MfHhZpndNSLYcydfXb4jkC+KPjYt5WbgmXKB8VK3WL375zbVkpMvjLsWV4oqUViom6IPH5vACbvuOKfz6nA0GVerL4vgorWgeTRjiMULPQ7DFni946fdKqSRlHWK8VKqaYB/WixeEb/ioZ/cPsQ2heNyNNZoP5fIfLsnVK5fk7878jdYCAmON4BsREREREVEr6DLEuw3oQ3x1qyi378zI4UP3y+QYbtlAR7yx5Jp+kn7U7tu69fTSuncqrbfJ7J0KsRPtKKI5f3n2TTl2ZEp+9Oyj2qEu6xQE27TDHKsa06hoYK1O0+jt9DA3aoJ21rPV8LIdFG+iTC6ApJ+x4+adPDaY022oU3enUqXqyd+++A/y5y/8pZzB42/1O5VQgwiQaP9ewkpF9szNyLf/89+yePsbmRgflUKuIPMLS7JcLEo2n5fRsVGZn5/XdUdy/vw5+f0bb8ipk0/KAwcPyP+9/555qfTTp07LxMioXDh33rzk+6cvvCBHHz6qZ7lnfs5/fn5RAj+UqSmEiCrm8bURXXchW5DZuXndFs+8hHt8fExmZu6ZPKNj4+KHGbk3M2NeEI7xTDYrcwtz2tQ1KeSz5s6hhblFyWZyMjm5yzx+dvfOLSmM5GR89y65OzcnK8vLul9junzO3llVLks+X5CCrnvu7qwJ6OBF3QhkYb/nMwXxDx6RPU88KcWJCfNycd/84h1+hQ5tiRpEslDnPt6yreyvvdUk0HXheMS6Uc/20oH3MrmgnhkkQKA0MueMH9h12EPeZohfJO06GzC2dkpvIOjGx9+IiIiIiKgdzf0ZdBlctwFdH/Qh7DuVrg3s42+rdyqtFd/t4YQawM/Hw/sffCG7d4/IkYPT9QZsdIrRoTZ37eD/uFvBfLbj6ZP+aZmSlu9yMj9jph/wGTVhgksYjyUTUDILbAt3pxICNa/+y+tyLOFOJW2MeruITE2MydiuSfm2WJSxQ4fl0MlTkpmaks/nZmX/9x6Rw088ITIxofNLUhoZk/H7H5DRA/fJ8sioBPvuk+njxyXYvUsqk5MSHjggu44dk/z++6Rw5JAceuop2avjd3TdI4cOyYOnT0t1YlJuFssydey4HDx1SrLT0zIbRbL30Udk+sT3ZVaPnKVMKA88fkL2njghs9VIivmcHHnypEw+9JDcqlTMOo7puicPH5abpZKEe/fK0dNPi7drl3xTXJb9jzwiB544Ib5u0+2oIruPHtP9ekoWtB3uapsdPHlS9j/6mAQjI7JQKMh+XXbqkUfl1vySlCd3y/Rjj0ltfFyKWpcI5HhaWbiTKJHOR1Xixd4YuvoH3KmETxh1ASG7DC5w9WXMXzvN/MWyWJe5BQ5TzBrMfKwDwSS77FpJ03oBW4ttH6nfqXTlymU5c+bnCMkJfszA3qlk952IiIiIiCiJ7QU1oAvx9a1Fc6fSoUMHd+qdSsPGNhHu5EBT4iXVL589J8ce3CM/fua4VHS+uUNptWPtmhId9PrHHcnsrSaz85paBCO6AIdo/E6ln7/4j/KzF/5i3Z1KCCoh4IHHuXLVihRMC9pgRS2qSqjzEeWNdB7u/sFLpfFLZVjv2EjGPPJVxukQhOY9R7iTB3ereWFo9ram8xc1H44BvFspq8MV3a6Szsv6WbwOyRwv5ahk7hAayWWlWCnLUmlFMloGXouNdyKJH0o2E+rCkRTLZZ2m68rmdIZOquh2aZmjowXzaBl+1Q31nvF9nY5fJMQLxfGz/iOyUqpItVyRvOZdqWHbdR9LZSnoLkRa/lK1KnkPb/0JpKhrWcK7mbTsaj2Q5A5XXUzZMQROEGhyQwRJzSOZ9XHHhoPsJzdWM4eHHXdic+vJwtnjgrYbamTZZq5gu43YB9ypND2Zk9f++az8x69fk1+9flYCrd+ytuGmj+8REREREdHQWdsLcv0jC11PdCEuXvpWLl+5Ls8990cDeafS9kUGBhD6xzYskRH8WpZl70hAB9s+HtQYbzTtTk2AYT8cNu5el7VwwuF8K/mBzGqH/27Vl4UgK0u5gtzT4VyYk4WwIMXChMwHeZnVtp3zQrlZErmty96raZ5yTW5XPLlVDeSmfv5qcVm+XCzKN+VI5v2sLHo5XS6Uu56uz8/IsqYFPzSfF4KcLOn672jeG8tlmZFASvkxWcgUZDYYMWXP63IzWtaMlr2UGZFSbkzmRPNrWtT5mP7VUsVsw0Imb7Z5xs/JbcnKQm5ct3tUbpV8mZecLGfHZFbn4fNiDdtTkLvhqMxrWsmMankjsjgyJkvZgpQ8HMdaY3pQ1zThETYETys6Uo4qOowk0tqLdIHVoc7DEMGyqleLJXtds0n/ZyOt2iCNqfU5q2NoLRNMMgkT9e9maTX3diXQoTm4MHTTGswx1xQ8IyIiIiIi+m4Gu1/BoFILLhhoE+6ESa4qLNfgOpo7MfWPRmhCP9c3LX6XCO6uKXu+lIJQKtmsLOvnJV266AeyWPN0PDDzVoKMnafTZssicxWRhUjnVzXVAp0eSlEyUvJ0HWY8kKKmlZovKwgu+RlZ8XJaVtZML+p6izoP4+UgL6WwIMuieauh5kVZunygyyPwpMtjvBJmJQozEun6Kl4oZT8nlaCgy+V1fs7kL6J8XbaoyxQlZ1MNZWZkSde9UNHtqWak6uUlyozIkuZd0PGVWk4WdfvvlkSX8yXSMqsm2ccII00Vk0Qi1B/u0NJtQfIzWTMMzMvLM1LTfcNv6a1JWndVzYdkQy+mReqNYoe4G8nOR5TdJuSrabKXn35L2HY3tOe/2Q+3b8ruK9jxxpCIiIiIiGi4oPdELeBuDhNUwodYV5J6x3bt8dLnEp4ek2plRaJKyTyaVI0i81LpqP5reTpqkzYfHjtDwmfkq1Ts0CV7Y0zNvB/HvIgaQ82M/NUIL2HOasl4obWnJw3GbYBEJBSvlhG/ptNqjSAD/let6PoqurWRr+vQcS3clmG3r1LGY3j2V9OQE4+3mdCGV7/zzaRAfD+QQOeh9FAnZXThsJ6CesrodIzj0T+zDiyMd2LrCG6owzpxZx3ea+ThZdm6gIeFYglBJhNoitUXkqkj3eaoKeGxPZdQr6j31VQfxy8XIr9rA1f/blrfJrMf2E4M7TGBoa0T/aP1iDYEtDX+EhERERERDRv0P6kFczNFAtOFZB+yR7RDrymXCyWfE02BjOYzMpINZUQ/57O+Jk8KGZHRrE0j9eFq0nzrkpnnr0ljur6xnA7zvq4P6/RlRIf5UMsNPRnRhHIaCeN2GpYb123EevDZra8Q6HzNh8/j2O5MIDmdpkWIbrYZ5gM71KLN55xONwnTdKirMgmBpPhnLUayWF6TCTLFppthfRrea67Fms/Ii/c/ZX3fBquk1pQQrKrperVedTmXkMclzMusSZ5Zvx26z4OWsB9BfejpPmrSdsvpcZLRBWygTytM2ZAgERERERHR8OGLutdBdXgmdFHSP1XtdP/T2XfkoSOT8tNnH5JIp+skc5dCvU9JXYZD1BymniflKJIzL/29/PgnP5O/+usXZW5uQQI8tmWifLiHyXXycSdRcgOZqbaZY+xpgJdSr+cWXDsPNyY17k5Kygfu0TD9u6Y8K+GVPYaZHI9cmuyYmrCSOsxxq4uvtpEjNlULtm870qmo38T91loMcJcVXtLtifllwybxfHYu/iYsVx/C+rn9yx5WeiRpHVUqJZneMyWvvfqK/Odvfi2/+je8qFuvE5WqhFpPvB4QEREREVEc+kHNfSHXbah3ceXipZty+cpnA/uibgaV1kF14DEgkYq2EoIUCCode3CX/NkzRxlU6hH7s+2+duArcuall+R/335Hjh9/VJaXlrW18LiYbQwTIFk9xeyDSXEbH+w4cZuXiI8nNXin81tz4Sho3qrvzm0DLkU1CQM8Brd2u9a8nwqP+ZnHP9d+BjeOOmvkwdnR3n72G7c/GOIRSNSV2SPd13yhIB9/8rGcePz78q+vnTV3Na1UInNXE68HREREREQUh35cc4/QdRvQ9UQ3ikGlHQfV0TqohOZ13eZ+acSdznXyXWDpDx9clhtffClBGJp3Dbl3FaE9zHD1iE7TQra9LS0j5ekQX/NGOdJuQbOkfOm2zNps+2zAqiZzc7NaZ1UJM6Gpu+Y7ltydShtxlxD7FyW7lFTyoPAko3UyPj6u+x9JRVPg2/dQLa8sy/79B+T00yfNXqJ6tJrMZyIiIiIiIsf2uhpcTwnQjbJBpdty+co1ee650wwq7QyoDgaV+okJFOFEom3QfDlAvceuYIkw35431s5vK1wf8OgbLujmHwMd8k4lIiIiIiKKcz0lB10G121wQaW3L92WDxhU2klQHfadSuX62MuvvmveqeQef3MN2C+NOExwt1IVj1yhZXxtH9Or17bQE809smS5YVqD/9hWe1A/NfOyad8L6lNQme1bfwkZ/HpcffytGtX3zz1iiek6qHmSxZvPFW7uYkCJiIiIiIia2V5Xg+1RWOhXoItxoR5U+iGDSjsFqmNtUOmXTe9Ucg3YL404nBBWsm0VbwkezNRtzee++8eAiIiIiIgoDv3TeB813pfYKUEl+5/aKbX4AUG9ZF7PXf9f46TCAc3E1M3UfPFmQImIiIiIiIYV+khEA4q9eSIiIiIiIqJeYVCJiIiIiIiIiIjaxqBSm6pNP7lORERERERERDSMGFRKofld5u6hK77inIiIiIiIiIiGFYNKKeCnxM0b15uYn7MnIiIiIiIiIhpCDCoREREREREREVHbGFRqIf5oW/Pjb0REREREREREw45BpZSqDCwREREREREREa1iUImIiIiIiIiIiNrGoBIREREREREREbWNQSUiIiIiIiIiImobg0pERERERERERNQ2BpWIiIiIiIiIiKhtDCoREREREREREVHbGFQiIiIiIiIiIqK2MahERERERERERNQT1fpwMDGoRERERERERETUM4MbWGJQqVO1lIlo0CUd1y4REQ2zpOuiS0RE3ZR03XGJiPrbmvN0cE9aBpW2Cy/stJPx+CaiYbXZ9Y/XRyLqFl5/iHYGD3/0hDXDwcOg0nbihZ12Mh7fRDSM0nwB5PWRiLZamuvKgHZQiXYynLrx0xefq/q3Vj9f7WCwvjgwqLSB5OvwYDUw0bbi6UFEwybtdY/XRyLaKrzuEO0YNuaA9ynZE9b+xVQ7Jzkm0V8YVNpI7ELsGjPeqGb2ILQyERERbT122Iio3/E6RdRTCBfEEwIwLoTg1T9gaD+7E9bO8OLnr8vUhxhUagHth1vQXDv69Q+BTkF7ejr0EVGMN/SmdOEaMiASycQ0CCmyqYbPOHa/a0orKW+nKa2kvJ2ktJLydprSSsrbaUorKW+nKa2kvJ2ktJLydprSSsrbaUorKW+nKa2kvJ2kJqtfADtJaSXl7TSllZS3k5RWUt5OU1pJeTtNaSXl7TSllZS3k5RWUt5OU1pJeTtNaSXl7UIy/Y/mlFZS3k5TWkl5O0lpJeXtNKWVlLfTlFZS3k5TWkl5O0lpJeXtNK1n4wet40KeVxXfJBtriC/dKk8/8Wqq/pkMVIcnFR1UtAUx9vIrF+V7h3fLnzx3VKKVFQmyvtQi7WRXPfH8tHE5XdOaUCPRIMAxGztu8THpytZqOngpzhETtOqCXpeNdSdtg5ve6/3G5d/9J5Kt0Ov63kw3y3Zt2sxN7/V+s623hmvL+DZUMV7/nITXx/WS6tFx03u93zxntoZry6RtcNN7vd+D3NYbXV8A86F5me3cxma9LhvrTtoGN73X+81rz9ZwbZm0DW76du53vEnN9wZMqJlTtOrn5cLl63L16nV5/gfPygP7shKa/7jvmcMBPHdM1M95O9emfsCg0jq2pcr6t1If+8Ur78jjDx+S55+e1jEiIiIiIiIios4g3nDhk1n58PJlef6ZU3JkX9Y+EVUPKmG+z6DSYCpri1W0mfDwzy/Ovif3TU/LHz9zUBaXRIKsTkRLas3hRqV2ahCLuje7Ew2KQI9Z3GjnLmzNcEi76au/XNDmcb6VV6JBKXsY9xnY1p1hfaezXWVjFq+P6bRT9jDuM7CtOzMs9Y1rjl8vr5qwHsxyk+P9Dh6Pm+Px2Dm29VooJl4UFsXyCCcg1uAFIpcu35Fvv/xU/vSHT8qD+0IJYkGl1buUACuq5zXrwbQ+wKBSC2go3K1U0vTvv/lIvvnqpuydmpKVctHeLVermkfg/CDh9rYNmIPKw9qJBoFezPTbCr644D1iOO69pFs66+LvIYM1F8EWunUJSls2Uppl29GrstOuqxt1nnafu6FX9Q29KjvturpR52n3uRt6Vd+QtD6Ug/96aB6JVxuVuf76uPn3B1xzu6Hf6rHBzjPfsba47DT1Dd2o87T13Q3929ZWN8pOu65u1Hnafe6Y+W5my9rou1nzdQe2bRsT9OqYgF6VnXZd3ajztPvcDb2qb2i9vsb07fx3BjVsg7u2rk2dY9laoGOB5gtlYX5e9u7Oy49+cEIOTgcSri7btD+YrKN2bnyPeotBpQ1EWjN4BO7G1yVZWlyRQBvfC7XxtWGr1cgGlVK/U8lKurgT9TvTadKLb1TFC+T0+DcHcf1gxtWsPsTAHd+4ANpl3ZT13PytvgwNY9lpyoVeld2NcoFt3Vqvyu5GudCPZWMakhYokflOoMsk3Tag4v/+b+++IH9jHabsDbYT3Pyu1GPLsvGPSaNetvu4hY3LxrT2t6l/69vaaWWnKRd6VfZWlYtjNdQ+CNbT+G4WX6c9nzBlzVRs47pl19r4PPjuhrHsNOVCr8ruRrnAtrZwFmKs8e+//Q/1EQLB+sGr+eJVEUvA56rkwqrsnx6VyVHdRpdDB1j3KkyOjfYLBpU2UtV203ZGcMm8Y1sTxtGQri3bbdP6aogGTprj1i2DIc6NtOdHN86JNGX3qlxg2VuHbd0a23prJJWL+1nqXwlSlemWwRB5WI+tseytw7ZubRDLRj5XBq4/m63HzY/n6/f66VW5wLK3Dtu6AWXFy3PjOIeRDJ1QrehAh7ks1oVvGfiP+vqXQaUdJNaA8Qozk9LUoC7IiiYiIiIiIiIaDs0xAIwjIY7ggkouTlSzsSSxcSS3VEzCpH7AoFJqrvlbNO5m+rDxiTbnjneXnDQHPRHRMHHfEfrRIHwJGYR/V/hljnqt1feyZvyeRrReP/w7HT9v3bZgWj285E7xVjab3yMMKqXCKiIiIiIiIiKirRSLEjGoREREREREREREw2L13VBERERERERERERpMahERERERERERERtY1CJiIiIiIiIiIjaJPL/QQNsW/9LYL0AAAAASUVORK5CYIJuHnRxbuQ9PwZxTuTJe1T5AvPeOzzWW+Ox3htZ+eL5mc5Xglx5unnQxTIsx60x773DY721ccwby7k8cP3ZaT1uenq5/V4+o8oXmPfe4bHuQl7p/NwwzmEkQ0ckkXa0WypiXfiWgYcB9JPBKEof+HThmVF5SlNnZKETERERERERTYbeGACGkRBHcMEoF19q2xiU2PiTmyslY9S4YTDqtrhqs0Wl2MmYVxqaVK6+u+TkqfRERJPEfUfYj8bhS8g4/F3hlzkata2+l/Xi9zSizfbD3+n0eeu2BeM6YSl3im9lp+ljgMGoXWNxEREREREREdFeSkWXGIwiIiIiIiIiIiLaO+vtZBEREREREREREQ0ag1FERERERERERDQ0DEYREREREREREdHQMBhFRERERERERERDw2AUERERERERERENDYNRREREREREREQ0JCL/D7N/tS9PCnwSAAAAAElFTkSuQmCC)"
      ],
      "metadata": {
        "id": "HRZFOYs7Ndgk"
      }
    },
    {
      "cell_type": "code",
      "source": [
        "class ATT_Block(nn.Module):\n",
        "  def __init__(self, x_features, g_features, mid_features):\n",
        "    super(ATT_Block, self).__init__()\n",
        "    self.phi_g = nn.Sequential(\n",
        "      nn.Conv2d(g_features, mid_features, kernel_size=1, stride=1, padding=0, bias=True),\n",
        "      nn.BatchNorm2d(mid_features)\n",
        "    )\n",
        "    self.theta_x = nn.Sequential(\n",
        "      nn.Conv2d(x_features, mid_features, kernel_size=1, stride=2, padding=0, bias=True),\n",
        "      nn.BatchNorm2d(mid_features)\n",
        "    )\n",
        "    self.psi = nn.Sequential(\n",
        "        nn.Conv2d(mid_features, 1, kernel_size=1, stride=1, padding=0, bias=True),\n",
        "        nn.BatchNorm2d(1),\n",
        "        nn.Sigmoid()\n",
        "    )\n",
        "    self.relu = nn.ReLU(inplace=True)\n",
        "    self.upsample = nn.Upsample(scale_factor=2, mode=\"bilinear\", align_corners=True)\n",
        "\n",
        "    # Adding the Final 1x1 Convolution -\n",
        "    self.final_conv = nn.Sequential(\n",
        "        nn.Conv2d(x_features, x_features, kernel_size=1, stride=1, padding='same', bias=True),\n",
        "        nn.BatchNorm2d(x_features)\n",
        "    )\n",
        "\n",
        "  def forward(self, x, g):\n",
        "    g_1 = self.phi_g(g)\n",
        "    print(f'g: {g_1.size()}')\n",
        "    x_1 = self.theta_x(x)\n",
        "    print(f'x: {x_1.size()}')\n",
        "    concat_xg = self.relu(g_1 + x_1)\n",
        "    print(f'concat_xg: {concat_xg.size()}')\n",
        "    psi = self.psi(concat_xg)\n",
        "    print(f'psi: {psi.size()}')\n",
        "    upsample_psi = self.upsample(psi)\n",
        "    print(f'Attention weights: {upsample_psi.size()}')\n",
        "    mult = torch.mul(x, upsample_psi)\n",
        "    print(f'mult: {mult.size()}')\n",
        "\n",
        "    return self.final_conv(mult)"
      ],
      "metadata": {
        "id": "_xEVSPITScgK"
      },
      "execution_count": null,
      "outputs": []
    },
    {
      "cell_type": "code",
      "source": [
        "# Testing - Attention Gate\n",
        "x = torch.randn(1, 128, 128, 128)\n",
        "g = torch.randn(1, 64, 64, 64)\n",
        "attention_test = ATT_Block(128, 64, 128)\n",
        "\n",
        "var = attention_test(x, g)\n",
        "print(f'Final Shape: {var.shape}')"
      ],
      "metadata": {
        "colab": {
          "base_uri": "https://localhost:8080/"
        },
        "id": "kogG-pBihTZv",
        "outputId": "9f220697-7944-4cf2-dd9f-7b758ac3a216"
      },
      "execution_count": null,
      "outputs": [
        {
          "output_type": "stream",
          "name": "stdout",
          "text": [
            "g: torch.Size([1, 128, 64, 64])\n",
            "x: torch.Size([1, 128, 64, 64])\n",
            "concat_xg: torch.Size([1, 128, 64, 64])\n",
            "psi: torch.Size([1, 1, 64, 64])\n",
            "Attention weights: torch.Size([1, 1, 128, 128])\n",
            "mult: torch.Size([1, 128, 128, 128])\n",
            "Final Shape: torch.Size([1, 128, 128, 128])\n"
          ]
        }
      ]
    },
    {
      "cell_type": "code",
      "source": [],
      "metadata": {
        "id": "SgzRJxEgOOxu"
      },
      "execution_count": null,
      "outputs": []
    }
  ]
}